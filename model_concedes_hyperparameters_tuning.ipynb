{
 "cells": [
  {
   "cell_type": "code",
   "execution_count": 1,
   "metadata": {},
   "outputs": [],
   "source": [
    "from compute_epv import *\n",
    "from xgboost import plot_importance\n",
    "from sklearn.calibration import CalibratedClassifierCV, calibration_curve"
   ]
  },
  {
   "cell_type": "code",
   "execution_count": 19,
   "metadata": {},
   "outputs": [],
   "source": [
    "X = pd.read_parquet('X_epv.parquet')\n",
    "Y = pd.read_parquet('Y_epv.parquet')\n",
    "Y_pred = pd.DataFrame()\n",
    "\n",
    "X_train, X_test, y_train, y_test = train_test_split(X.values, Y['concedes'].values, test_size=0.2, stratify=Y['concedes'].values, random_state=42)\n",
    "cv = StratifiedKFold(n_splits=5, shuffle=True, random_state=42)"
   ]
  },
  {
   "cell_type": "code",
   "execution_count": 20,
   "metadata": {},
   "outputs": [
    {
     "data": {
      "text/plain": [
       "0.001744333097848365"
      ]
     },
     "execution_count": 20,
     "metadata": {},
     "output_type": "execute_result"
    }
   ],
   "source": [
    "brier_score_loss(y_test, [0] * len(y_test))"
   ]
  },
  {
   "cell_type": "code",
   "execution_count": 9,
   "metadata": {
    "scrolled": true
   },
   "outputs": [
    {
     "name": "stdout",
     "output_type": "stream",
     "text": [
      "[0]\tvalidation_0-brier-error:0.12635\tvalidation_1-brier-error:0.12637\n",
      "[1]\tvalidation_0-brier-error:0.06691\tvalidation_1-brier-error:0.06694\n",
      "[2]\tvalidation_0-brier-error:0.03640\tvalidation_1-brier-error:0.03644\n",
      "[3]\tvalidation_0-brier-error:0.02031\tvalidation_1-brier-error:0.02037\n",
      "[4]\tvalidation_0-brier-error:0.01171\tvalidation_1-brier-error:0.01178\n",
      "[5]\tvalidation_0-brier-error:0.00707\tvalidation_1-brier-error:0.00715\n",
      "[6]\tvalidation_0-brier-error:0.00456\tvalidation_1-brier-error:0.00464\n",
      "[7]\tvalidation_0-brier-error:0.00318\tvalidation_1-brier-error:0.00328\n",
      "[8]\tvalidation_0-brier-error:0.00243\tvalidation_1-brier-error:0.00253\n",
      "[9]\tvalidation_0-brier-error:0.00202\tvalidation_1-brier-error:0.00213\n",
      "[10]\tvalidation_0-brier-error:0.00180\tvalidation_1-brier-error:0.00191\n",
      "[11]\tvalidation_0-brier-error:0.00167\tvalidation_1-brier-error:0.00179\n",
      "[12]\tvalidation_0-brier-error:0.00160\tvalidation_1-brier-error:0.00173\n",
      "[13]\tvalidation_0-brier-error:0.00155\tvalidation_1-brier-error:0.00169\n",
      "[14]\tvalidation_0-brier-error:0.00153\tvalidation_1-brier-error:0.00168\n",
      "[15]\tvalidation_0-brier-error:0.00151\tvalidation_1-brier-error:0.00166\n",
      "[16]\tvalidation_0-brier-error:0.00150\tvalidation_1-brier-error:0.00166\n",
      "[17]\tvalidation_0-brier-error:0.00149\tvalidation_1-brier-error:0.00165\n",
      "[18]\tvalidation_0-brier-error:0.00148\tvalidation_1-brier-error:0.00165\n",
      "[19]\tvalidation_0-brier-error:0.00147\tvalidation_1-brier-error:0.00165\n",
      "[20]\tvalidation_0-brier-error:0.00146\tvalidation_1-brier-error:0.00165\n",
      "[21]\tvalidation_0-brier-error:0.00146\tvalidation_1-brier-error:0.00165\n",
      "[22]\tvalidation_0-brier-error:0.00145\tvalidation_1-brier-error:0.00165\n",
      "[23]\tvalidation_0-brier-error:0.00144\tvalidation_1-brier-error:0.00165\n",
      "[24]\tvalidation_0-brier-error:0.00143\tvalidation_1-brier-error:0.00165\n",
      "[25]\tvalidation_0-brier-error:0.00143\tvalidation_1-brier-error:0.00165\n",
      "[26]\tvalidation_0-brier-error:0.00142\tvalidation_1-brier-error:0.00165\n",
      "[27]\tvalidation_0-brier-error:0.00141\tvalidation_1-brier-error:0.00165\n",
      "[28]\tvalidation_0-brier-error:0.00139\tvalidation_1-brier-error:0.00165\n",
      "[29]\tvalidation_0-brier-error:0.00138\tvalidation_1-brier-error:0.00165\n",
      "[30]\tvalidation_0-brier-error:0.00138\tvalidation_1-brier-error:0.00165\n",
      "[31]\tvalidation_0-brier-error:0.00137\tvalidation_1-brier-error:0.00165\n",
      "[32]\tvalidation_0-brier-error:0.00136\tvalidation_1-brier-error:0.00166\n",
      "[33]\tvalidation_0-brier-error:0.00134\tvalidation_1-brier-error:0.00165\n",
      "[34]\tvalidation_0-brier-error:0.00134\tvalidation_1-brier-error:0.00166\n",
      "[35]\tvalidation_0-brier-error:0.00132\tvalidation_1-brier-error:0.00166\n",
      "[36]\tvalidation_0-brier-error:0.00131\tvalidation_1-brier-error:0.00166\n",
      "[37]\tvalidation_0-brier-error:0.00131\tvalidation_1-brier-error:0.00166\n",
      "[38]\tvalidation_0-brier-error:0.00129\tvalidation_1-brier-error:0.00166\n",
      "[39]\tvalidation_0-brier-error:0.00129\tvalidation_1-brier-error:0.00166\n",
      "[40]\tvalidation_0-brier-error:0.00127\tvalidation_1-brier-error:0.00166\n",
      "[41]\tvalidation_0-brier-error:0.00126\tvalidation_1-brier-error:0.00166\n",
      "[42]\tvalidation_0-brier-error:0.00124\tvalidation_1-brier-error:0.00166\n",
      "[43]\tvalidation_0-brier-error:0.00124\tvalidation_1-brier-error:0.00166\n",
      "[44]\tvalidation_0-brier-error:0.00123\tvalidation_1-brier-error:0.00166\n",
      "[45]\tvalidation_0-brier-error:0.00122\tvalidation_1-brier-error:0.00166\n",
      "[46]\tvalidation_0-brier-error:0.00121\tvalidation_1-brier-error:0.00166\n",
      "[47]\tvalidation_0-brier-error:0.00120\tvalidation_1-brier-error:0.00166\n",
      "[48]\tvalidation_0-brier-error:0.00118\tvalidation_1-brier-error:0.00166\n",
      "[49]\tvalidation_0-brier-error:0.00118\tvalidation_1-brier-error:0.00166\n",
      "[50]\tvalidation_0-brier-error:0.00117\tvalidation_1-brier-error:0.00166\n",
      "[51]\tvalidation_0-brier-error:0.00115\tvalidation_1-brier-error:0.00166\n",
      "[52]\tvalidation_0-brier-error:0.00115\tvalidation_1-brier-error:0.00166\n",
      "[53]\tvalidation_0-brier-error:0.00114\tvalidation_1-brier-error:0.00166\n",
      "[54]\tvalidation_0-brier-error:0.00113\tvalidation_1-brier-error:0.00166\n",
      "[55]\tvalidation_0-brier-error:0.00112\tvalidation_1-brier-error:0.00166\n",
      "[56]\tvalidation_0-brier-error:0.00111\tvalidation_1-brier-error:0.00166\n",
      "[57]\tvalidation_0-brier-error:0.00110\tvalidation_1-brier-error:0.00167\n",
      "[58]\tvalidation_0-brier-error:0.00110\tvalidation_1-brier-error:0.00167\n",
      "[59]\tvalidation_0-brier-error:0.00109\tvalidation_1-brier-error:0.00167\n",
      "[60]\tvalidation_0-brier-error:0.00108\tvalidation_1-brier-error:0.00167\n",
      "[61]\tvalidation_0-brier-error:0.00106\tvalidation_1-brier-error:0.00167\n",
      "[62]\tvalidation_0-brier-error:0.00104\tvalidation_1-brier-error:0.00167\n",
      "[63]\tvalidation_0-brier-error:0.00103\tvalidation_1-brier-error:0.00167\n",
      "[64]\tvalidation_0-brier-error:0.00103\tvalidation_1-brier-error:0.00167\n",
      "[65]\tvalidation_0-brier-error:0.00102\tvalidation_1-brier-error:0.00167\n",
      "[66]\tvalidation_0-brier-error:0.00101\tvalidation_1-brier-error:0.00167\n",
      "[67]\tvalidation_0-brier-error:0.00100\tvalidation_1-brier-error:0.00167\n",
      "[68]\tvalidation_0-brier-error:0.00098\tvalidation_1-brier-error:0.00167\n",
      "[69]\tvalidation_0-brier-error:0.00097\tvalidation_1-brier-error:0.00167\n",
      "[70]\tvalidation_0-brier-error:0.00097\tvalidation_1-brier-error:0.00167\n",
      "[71]\tvalidation_0-brier-error:0.00096\tvalidation_1-brier-error:0.00167\n",
      "[72]\tvalidation_0-brier-error:0.00094\tvalidation_1-brier-error:0.00167\n",
      "[73]\tvalidation_0-brier-error:0.00093\tvalidation_1-brier-error:0.00167\n",
      "[74]\tvalidation_0-brier-error:0.00092\tvalidation_1-brier-error:0.00167\n",
      "[75]\tvalidation_0-brier-error:0.00089\tvalidation_1-brier-error:0.00167\n",
      "[76]\tvalidation_0-brier-error:0.00089\tvalidation_1-brier-error:0.00167\n",
      "[77]\tvalidation_0-brier-error:0.00086\tvalidation_1-brier-error:0.00167\n",
      "[78]\tvalidation_0-brier-error:0.00085\tvalidation_1-brier-error:0.00167\n",
      "[79]\tvalidation_0-brier-error:0.00085\tvalidation_1-brier-error:0.00167\n",
      "[80]\tvalidation_0-brier-error:0.00085\tvalidation_1-brier-error:0.00167\n",
      "[81]\tvalidation_0-brier-error:0.00084\tvalidation_1-brier-error:0.00167\n",
      "[82]\tvalidation_0-brier-error:0.00083\tvalidation_1-brier-error:0.00167\n",
      "[83]\tvalidation_0-brier-error:0.00081\tvalidation_1-brier-error:0.00167\n",
      "[84]\tvalidation_0-brier-error:0.00079\tvalidation_1-brier-error:0.00167\n",
      "[85]\tvalidation_0-brier-error:0.00078\tvalidation_1-brier-error:0.00167\n",
      "[86]\tvalidation_0-brier-error:0.00077\tvalidation_1-brier-error:0.00167\n",
      "[87]\tvalidation_0-brier-error:0.00077\tvalidation_1-brier-error:0.00167\n",
      "[88]\tvalidation_0-brier-error:0.00076\tvalidation_1-brier-error:0.00167\n",
      "[89]\tvalidation_0-brier-error:0.00076\tvalidation_1-brier-error:0.00167\n",
      "[90]\tvalidation_0-brier-error:0.00075\tvalidation_1-brier-error:0.00167\n",
      "[91]\tvalidation_0-brier-error:0.00074\tvalidation_1-brier-error:0.00167\n",
      "[92]\tvalidation_0-brier-error:0.00073\tvalidation_1-brier-error:0.00166\n",
      "[93]\tvalidation_0-brier-error:0.00071\tvalidation_1-brier-error:0.00167\n",
      "[94]\tvalidation_0-brier-error:0.00069\tvalidation_1-brier-error:0.00167\n",
      "[95]\tvalidation_0-brier-error:0.00069\tvalidation_1-brier-error:0.00167\n",
      "[96]\tvalidation_0-brier-error:0.00068\tvalidation_1-brier-error:0.00167\n",
      "[97]\tvalidation_0-brier-error:0.00067\tvalidation_1-brier-error:0.00167\n",
      "[98]\tvalidation_0-brier-error:0.00067\tvalidation_1-brier-error:0.00167\n",
      "[99]\tvalidation_0-brier-error:0.00065\tvalidation_1-brier-error:0.00167\n"
     ]
    },
    {
     "data": {
      "text/plain": [
       "XGBClassifier(base_score=0.5, booster=None, colsample_bylevel=1,\n",
       "              colsample_bynode=1, colsample_bytree=1,\n",
       "              disable_default_eval_metric=1, gamma=0, gpu_id=-1,\n",
       "              importance_type='gain', interaction_constraints=None,\n",
       "              learning_rate=0.300000012, max_delta_step=0, max_depth=6,\n",
       "              min_child_weight=1, missing=nan, monotone_constraints=None,\n",
       "              n_estimators=100, n_jobs=0, num_parallel_tree=1,\n",
       "              obj=<function brier_obj_sklearn at 0x0000020C95949280>,\n",
       "              objective='binary:logistic', random_state=0, reg_alpha=0,\n",
       "              reg_lambda=1, scale_pos_weight=1, subsample=1, tree_method=None,\n",
       "              validate_parameters=False, verbosity=1)"
      ]
     },
     "execution_count": 9,
     "metadata": {},
     "output_type": "execute_result"
    }
   ],
   "source": [
    "model_concedes = XGBClassifier(obj=brier_obj_sklearn, verbosity=1, disable_default_eval_metric=1)\n",
    "model_concedes.fit(X_train, y_train,\n",
    "                 eval_metric=brier_score_sklearn,\n",
    "                 eval_set=[(X_train, y_train), (X_test, y_test)],\n",
    "                 verbose=True)"
   ]
  },
  {
   "cell_type": "code",
   "execution_count": 11,
   "metadata": {},
   "outputs": [
    {
     "name": "stderr",
     "output_type": "stream",
     "text": [
      "<ipython-input-11-594fe0bcb82b>:8: UserWarning: Matplotlib is currently using module://ipykernel.pylab.backend_inline, which is a non-GUI backend, so cannot show the figure.\n",
      "  fig.show()\n"
     ]
    },
    {
     "data": {
      "image/png": "[encoded data removed]",
      "text/plain": [
       "<Figure size 432x288 with 1 Axes>"
      ]
     },
     "metadata": {
      "needs_background": "light"
     },
     "output_type": "display_data"
    }
   ],
   "source": [
    "results = model_concedes.evals_result()\n",
    "epochs = len(results['validation_0']['brier-error'])\n",
    "fig, ax = plt.subplots()\n",
    "ax.plot(range(0, epochs), results['validation_0']['brier-error'], label='Train score')\n",
    "ax.plot(range(0, epochs), results['validation_1']['brier-error'], label='Test score')\n",
    "ax.set_ylim(0, 0.003)\n",
    "ax.legend()\n",
    "fig.show()"
   ]
  },
  {
   "cell_type": "code",
   "execution_count": 12,
   "metadata": {},
   "outputs": [
    {
     "name": "stdout",
     "output_type": "stream",
     "text": [
      "  Brier score: 0.001667\n",
      "  ROC AUC: 0.8368\n"
     ]
    }
   ],
   "source": [
    "Y_pred['concedes'] = model_concedes.predict_proba(X_test)[:, 1]\n",
    "print(f\"  Brier score: %.6f\" % brier_score_loss(y_test, Y_pred['concedes']))\n",
    "print(f\"  ROC AUC: %.4f\" % roc_auc_score(y_test, Y_pred['concedes']))"
   ]
  },
  {
   "cell_type": "code",
   "execution_count": 14,
   "metadata": {
    "scrolled": true
   },
   "outputs": [
    {
     "name": "stdout",
     "output_type": "stream",
     "text": [
      "Fitting 5 folds for each of 5 candidates, totalling 25 fits\n",
      "[CV] n_estimators=50 .................................................\n"
     ]
    },
    {
     "name": "stderr",
     "output_type": "stream",
     "text": [
      "[Parallel(n_jobs=1)]: Using backend SequentialBackend with 1 concurrent workers.\n"
     ]
    },
    {
     "name": "stdout",
     "output_type": "stream",
     "text": [
      "[CV]  n_estimators=50, score=(train=-0.002, test=-0.002), total= 1.7min\n"
     ]
    },
    {
     "name": "stderr",
     "output_type": "stream",
     "text": [
      "[Parallel(n_jobs=1)]: Done   1 out of   1 | elapsed:  1.8min remaining:    0.0s\n"
     ]
    },
    {
     "name": "stdout",
     "output_type": "stream",
     "text": [
      "[CV] n_estimators=50 .................................................\n",
      "[CV]  n_estimators=50, score=(train=-0.002, test=-0.002), total= 1.8min\n"
     ]
    },
    {
     "name": "stderr",
     "output_type": "stream",
     "text": [
      "[Parallel(n_jobs=1)]: Done   2 out of   2 | elapsed:  3.6min remaining:    0.0s\n"
     ]
    },
    {
     "name": "stdout",
     "output_type": "stream",
     "text": [
      "[CV] n_estimators=50 .................................................\n",
      "[CV]  n_estimators=50, score=(train=-0.002, test=-0.002), total= 1.8min\n"
     ]
    },
    {
     "name": "stderr",
     "output_type": "stream",
     "text": [
      "[Parallel(n_jobs=1)]: Done   3 out of   3 | elapsed:  5.5min remaining:    0.0s\n"
     ]
    },
    {
     "name": "stdout",
     "output_type": "stream",
     "text": [
      "[CV] n_estimators=50 .................................................\n",
      "[CV]  n_estimators=50, score=(train=-0.002, test=-0.002), total= 1.8min\n"
     ]
    },
    {
     "name": "stderr",
     "output_type": "stream",
     "text": [
      "[Parallel(n_jobs=1)]: Done   4 out of   4 | elapsed:  7.4min remaining:    0.0s\n"
     ]
    },
    {
     "name": "stdout",
     "output_type": "stream",
     "text": [
      "[CV] n_estimators=50 .................................................\n",
      "[CV]  n_estimators=50, score=(train=-0.002, test=-0.002), total= 1.8min\n"
     ]
    },
    {
     "name": "stderr",
     "output_type": "stream",
     "text": [
      "[Parallel(n_jobs=1)]: Done   5 out of   5 | elapsed:  9.2min remaining:    0.0s\n"
     ]
    },
    {
     "name": "stdout",
     "output_type": "stream",
     "text": [
      "[CV] n_estimators=100 ................................................\n",
      "[CV]  n_estimators=100, score=(train=-0.001, test=-0.002), total= 3.6min\n"
     ]
    },
    {
     "name": "stderr",
     "output_type": "stream",
     "text": [
      "[Parallel(n_jobs=1)]: Done   6 out of   6 | elapsed: 12.9min remaining:    0.0s\n"
     ]
    },
    {
     "name": "stdout",
     "output_type": "stream",
     "text": [
      "[CV] n_estimators=100 ................................................\n",
      "[CV]  n_estimators=100, score=(train=-0.001, test=-0.002), total= 3.6min\n"
     ]
    },
    {
     "name": "stderr",
     "output_type": "stream",
     "text": [
      "[Parallel(n_jobs=1)]: Done   7 out of   7 | elapsed: 16.5min remaining:    0.0s\n"
     ]
    },
    {
     "name": "stdout",
     "output_type": "stream",
     "text": [
      "[CV] n_estimators=100 ................................................\n",
      "[CV]  n_estimators=100, score=(train=-0.001, test=-0.002), total= 3.6min\n"
     ]
    },
    {
     "name": "stderr",
     "output_type": "stream",
     "text": [
      "[Parallel(n_jobs=1)]: Done   8 out of   8 | elapsed: 20.2min remaining:    0.0s\n"
     ]
    },
    {
     "name": "stdout",
     "output_type": "stream",
     "text": [
      "[CV] n_estimators=100 ................................................\n",
      "[CV]  n_estimators=100, score=(train=-0.001, test=-0.002), total= 3.6min\n"
     ]
    },
    {
     "name": "stderr",
     "output_type": "stream",
     "text": [
      "[Parallel(n_jobs=1)]: Done   9 out of   9 | elapsed: 23.9min remaining:    0.0s\n"
     ]
    },
    {
     "name": "stdout",
     "output_type": "stream",
     "text": [
      "[CV] n_estimators=100 ................................................\n",
      "[CV]  n_estimators=100, score=(train=-0.001, test=-0.002), total= 3.6min\n",
      "[CV] n_estimators=150 ................................................\n",
      "[CV]  n_estimators=150, score=(train=-0.001, test=-0.002), total= 5.5min\n",
      "[CV] n_estimators=150 ................................................\n",
      "[CV]  n_estimators=150, score=(train=-0.001, test=-0.002), total= 5.4min\n",
      "[CV] n_estimators=150 ................................................\n",
      "[CV]  n_estimators=150, score=(train=-0.001, test=-0.002), total= 5.5min\n",
      "[CV] n_estimators=150 ................................................\n",
      "[CV]  n_estimators=150, score=(train=-0.001, test=-0.002), total= 5.5min\n",
      "[CV] n_estimators=150 ................................................\n",
      "[CV]  n_estimators=150, score=(train=-0.001, test=-0.002), total= 5.4min\n",
      "[CV] n_estimators=200 ................................................\n",
      "[CV]  n_estimators=200, score=(train=-0.001, test=-0.002), total= 7.3min\n",
      "[CV] n_estimators=200 ................................................\n",
      "[CV]  n_estimators=200, score=(train=-0.001, test=-0.002), total= 7.4min\n",
      "[CV] n_estimators=200 ................................................\n",
      "[CV]  n_estimators=200, score=(train=-0.001, test=-0.002), total= 7.3min\n",
      "[CV] n_estimators=200 ................................................\n",
      "[CV]  n_estimators=200, score=(train=-0.001, test=-0.002), total= 7.3min\n",
      "[CV] n_estimators=200 ................................................\n",
      "[CV]  n_estimators=200, score=(train=-0.001, test=-0.002), total= 7.1min\n",
      "[CV] n_estimators=250 ................................................\n",
      "[CV]  n_estimators=250, score=(train=-0.001, test=-0.002), total= 8.8min\n",
      "[CV] n_estimators=250 ................................................\n",
      "[CV]  n_estimators=250, score=(train=-0.001, test=-0.002), total= 8.9min\n",
      "[CV] n_estimators=250 ................................................\n",
      "[CV]  n_estimators=250, score=(train=-0.001, test=-0.002), total= 8.9min\n",
      "[CV] n_estimators=250 ................................................\n",
      "[CV]  n_estimators=250, score=(train=-0.001, test=-0.002), total= 8.8min\n",
      "[CV] n_estimators=250 ................................................\n",
      "[CV]  n_estimators=250, score=(train=-0.001, test=-0.002), total= 8.7min\n"
     ]
    },
    {
     "name": "stderr",
     "output_type": "stream",
     "text": [
      "[Parallel(n_jobs=1)]: Done  25 out of  25 | elapsed: 136.4min finished\n"
     ]
    },
    {
     "data": {
      "text/plain": [
       "{'n_estimators': 100}"
      ]
     },
     "execution_count": 14,
     "metadata": {},
     "output_type": "execute_result"
    }
   ],
   "source": [
    "model_concedes1 = XGBClassifier(learning_rate=0.1, max_depth=5, min_child_weight=1, gamma=0, subsample=0.8,\n",
    "                             colsample_bytree=0.8, scale_pos_weight=1, verbosity=1, seed=42)\n",
    "params1 = dict(n_estimators=range(50, 300, 50))\n",
    "grid_search1 = GridSearchCV(model_concedes1, params1, scoring='brier_score_loss', n_jobs=1, cv=cv, verbose=10,\n",
    "                            return_train_score=True)\n",
    "gs_results1 = grid_search1.fit(X_train, y_train)\n",
    "gs_results1.best_params_"
   ]
  },
  {
   "cell_type": "code",
   "execution_count": 15,
   "metadata": {},
   "outputs": [
    {
     "data": {
      "text/plain": [
       "{'n_estimators': 100}"
      ]
     },
     "execution_count": 15,
     "metadata": {},
     "output_type": "execute_result"
    }
   ],
   "source": [
    "gs_results1.best_params_"
   ]
  },
  {
   "cell_type": "code",
   "execution_count": 16,
   "metadata": {
    "scrolled": true
   },
   "outputs": [
    {
     "name": "stdout",
     "output_type": "stream",
     "text": [
      "Fitting 5 folds for each of 9 candidates, totalling 45 fits\n",
      "[CV] max_depth=3, min_child_weight=1 .................................\n"
     ]
    },
    {
     "name": "stderr",
     "output_type": "stream",
     "text": [
      "[Parallel(n_jobs=1)]: Using backend SequentialBackend with 1 concurrent workers.\n"
     ]
    },
    {
     "name": "stdout",
     "output_type": "stream",
     "text": [
      "[CV]  max_depth=3, min_child_weight=1, score=(train=-0.002, test=-0.002), total= 2.5min\n"
     ]
    },
    {
     "name": "stderr",
     "output_type": "stream",
     "text": [
      "[Parallel(n_jobs=1)]: Done   1 out of   1 | elapsed:  2.6min remaining:    0.0s\n"
     ]
    },
    {
     "name": "stdout",
     "output_type": "stream",
     "text": [
      "[CV] max_depth=3, min_child_weight=1 .................................\n",
      "[CV]  max_depth=3, min_child_weight=1, score=(train=-0.002, test=-0.002), total= 2.5min\n"
     ]
    },
    {
     "name": "stderr",
     "output_type": "stream",
     "text": [
      "[Parallel(n_jobs=1)]: Done   2 out of   2 | elapsed:  5.1min remaining:    0.0s\n"
     ]
    },
    {
     "name": "stdout",
     "output_type": "stream",
     "text": [
      "[CV] max_depth=3, min_child_weight=1 .................................\n",
      "[CV]  max_depth=3, min_child_weight=1, score=(train=-0.002, test=-0.002), total= 2.5min\n"
     ]
    },
    {
     "name": "stderr",
     "output_type": "stream",
     "text": [
      "[Parallel(n_jobs=1)]: Done   3 out of   3 | elapsed:  7.7min remaining:    0.0s\n"
     ]
    },
    {
     "name": "stdout",
     "output_type": "stream",
     "text": [
      "[CV] max_depth=3, min_child_weight=1 .................................\n",
      "[CV]  max_depth=3, min_child_weight=1, score=(train=-0.002, test=-0.002), total= 2.5min\n"
     ]
    },
    {
     "name": "stderr",
     "output_type": "stream",
     "text": [
      "[Parallel(n_jobs=1)]: Done   4 out of   4 | elapsed: 10.2min remaining:    0.0s\n"
     ]
    },
    {
     "name": "stdout",
     "output_type": "stream",
     "text": [
      "[CV] max_depth=3, min_child_weight=1 .................................\n",
      "[CV]  max_depth=3, min_child_weight=1, score=(train=-0.002, test=-0.002), total= 2.5min\n"
     ]
    },
    {
     "name": "stderr",
     "output_type": "stream",
     "text": [
      "[Parallel(n_jobs=1)]: Done   5 out of   5 | elapsed: 12.8min remaining:    0.0s\n"
     ]
    },
    {
     "name": "stdout",
     "output_type": "stream",
     "text": [
      "[CV] max_depth=3, min_child_weight=3 .................................\n",
      "[CV]  max_depth=3, min_child_weight=3, score=(train=-0.002, test=-0.002), total= 2.5min\n"
     ]
    },
    {
     "name": "stderr",
     "output_type": "stream",
     "text": [
      "[Parallel(n_jobs=1)]: Done   6 out of   6 | elapsed: 15.3min remaining:    0.0s\n"
     ]
    },
    {
     "name": "stdout",
     "output_type": "stream",
     "text": [
      "[CV] max_depth=3, min_child_weight=3 .................................\n",
      "[CV]  max_depth=3, min_child_weight=3, score=(train=-0.002, test=-0.002), total= 2.5min\n"
     ]
    },
    {
     "name": "stderr",
     "output_type": "stream",
     "text": [
      "[Parallel(n_jobs=1)]: Done   7 out of   7 | elapsed: 17.9min remaining:    0.0s\n"
     ]
    },
    {
     "name": "stdout",
     "output_type": "stream",
     "text": [
      "[CV] max_depth=3, min_child_weight=3 .................................\n",
      "[CV]  max_depth=3, min_child_weight=3, score=(train=-0.002, test=-0.002), total= 2.5min\n"
     ]
    },
    {
     "name": "stderr",
     "output_type": "stream",
     "text": [
      "[Parallel(n_jobs=1)]: Done   8 out of   8 | elapsed: 20.4min remaining:    0.0s\n"
     ]
    },
    {
     "name": "stdout",
     "output_type": "stream",
     "text": [
      "[CV] max_depth=3, min_child_weight=3 .................................\n",
      "[CV]  max_depth=3, min_child_weight=3, score=(train=-0.002, test=-0.002), total= 2.5min\n"
     ]
    },
    {
     "name": "stderr",
     "output_type": "stream",
     "text": [
      "[Parallel(n_jobs=1)]: Done   9 out of   9 | elapsed: 23.0min remaining:    0.0s\n"
     ]
    },
    {
     "name": "stdout",
     "output_type": "stream",
     "text": [
      "[CV] max_depth=3, min_child_weight=3 .................................\n",
      "[CV]  max_depth=3, min_child_weight=3, score=(train=-0.002, test=-0.002), total= 2.4min\n",
      "[CV] max_depth=3, min_child_weight=5 .................................\n",
      "[CV]  max_depth=3, min_child_weight=5, score=(train=-0.002, test=-0.002), total= 2.5min\n",
      "[CV] max_depth=3, min_child_weight=5 .................................\n",
      "[CV]  max_depth=3, min_child_weight=5, score=(train=-0.002, test=-0.002), total= 2.5min\n",
      "[CV] max_depth=3, min_child_weight=5 .................................\n",
      "[CV]  max_depth=3, min_child_weight=5, score=(train=-0.002, test=-0.002), total= 1.9min\n",
      "[CV] max_depth=3, min_child_weight=5 .................................\n",
      "[CV]  max_depth=3, min_child_weight=5, score=(train=-0.002, test=-0.002), total= 1.8min\n",
      "[CV] max_depth=3, min_child_weight=5 .................................\n",
      "[CV]  max_depth=3, min_child_weight=5, score=(train=-0.002, test=-0.002), total= 1.7min\n",
      "[CV] max_depth=5, min_child_weight=1 .................................\n",
      "[CV]  max_depth=5, min_child_weight=1, score=(train=-0.001, test=-0.002), total= 2.3min\n",
      "[CV] max_depth=5, min_child_weight=1 .................................\n",
      "[CV]  max_depth=5, min_child_weight=1, score=(train=-0.001, test=-0.002), total= 2.3min\n",
      "[CV] max_depth=5, min_child_weight=1 .................................\n",
      "[CV]  max_depth=5, min_child_weight=1, score=(train=-0.001, test=-0.002), total= 2.3min\n",
      "[CV] max_depth=5, min_child_weight=1 .................................\n",
      "[CV]  max_depth=5, min_child_weight=1, score=(train=-0.001, test=-0.002), total= 2.3min\n",
      "[CV] max_depth=5, min_child_weight=1 .................................\n",
      "[CV]  max_depth=5, min_child_weight=1, score=(train=-0.001, test=-0.002), total= 2.3min\n",
      "[CV] max_depth=5, min_child_weight=3 .................................\n",
      "[CV]  max_depth=5, min_child_weight=3, score=(train=-0.001, test=-0.002), total= 2.3min\n",
      "[CV] max_depth=5, min_child_weight=3 .................................\n",
      "[CV]  max_depth=5, min_child_weight=3, score=(train=-0.001, test=-0.002), total= 2.2min\n",
      "[CV] max_depth=5, min_child_weight=3 .................................\n",
      "[CV]  max_depth=5, min_child_weight=3, score=(train=-0.001, test=-0.002), total= 2.2min\n",
      "[CV] max_depth=5, min_child_weight=3 .................................\n",
      "[CV]  max_depth=5, min_child_weight=3, score=(train=-0.002, test=-0.002), total= 2.2min\n",
      "[CV] max_depth=5, min_child_weight=3 .................................\n",
      "[CV]  max_depth=5, min_child_weight=3, score=(train=-0.001, test=-0.002), total= 2.2min\n",
      "[CV] max_depth=5, min_child_weight=5 .................................\n",
      "[CV]  max_depth=5, min_child_weight=5, score=(train=-0.002, test=-0.002), total= 2.3min\n",
      "[CV] max_depth=5, min_child_weight=5 .................................\n",
      "[CV]  max_depth=5, min_child_weight=5, score=(train=-0.002, test=-0.002), total= 2.3min\n",
      "[CV] max_depth=5, min_child_weight=5 .................................\n",
      "[CV]  max_depth=5, min_child_weight=5, score=(train=-0.002, test=-0.002), total= 2.3min\n",
      "[CV] max_depth=5, min_child_weight=5 .................................\n",
      "[CV]  max_depth=5, min_child_weight=5, score=(train=-0.002, test=-0.002), total= 2.3min\n",
      "[CV] max_depth=5, min_child_weight=5 .................................\n",
      "[CV]  max_depth=5, min_child_weight=5, score=(train=-0.002, test=-0.002), total= 2.2min\n",
      "[CV] max_depth=7, min_child_weight=1 .................................\n",
      "[CV]  max_depth=7, min_child_weight=1, score=(train=-0.001, test=-0.002), total= 3.0min\n",
      "[CV] max_depth=7, min_child_weight=1 .................................\n",
      "[CV]  max_depth=7, min_child_weight=1, score=(train=-0.001, test=-0.002), total= 3.0min\n",
      "[CV] max_depth=7, min_child_weight=1 .................................\n",
      "[CV]  max_depth=7, min_child_weight=1, score=(train=-0.001, test=-0.002), total= 3.0min\n",
      "[CV] max_depth=7, min_child_weight=1 .................................\n",
      "[CV]  max_depth=7, min_child_weight=1, score=(train=-0.001, test=-0.002), total= 3.0min\n",
      "[CV] max_depth=7, min_child_weight=1 .................................\n",
      "[CV]  max_depth=7, min_child_weight=1, score=(train=-0.001, test=-0.002), total= 2.9min\n",
      "[CV] max_depth=7, min_child_weight=3 .................................\n",
      "[CV]  max_depth=7, min_child_weight=3, score=(train=-0.001, test=-0.002), total= 2.9min\n",
      "[CV] max_depth=7, min_child_weight=3 .................................\n",
      "[CV]  max_depth=7, min_child_weight=3, score=(train=-0.001, test=-0.002), total= 2.9min\n",
      "[CV] max_depth=7, min_child_weight=3 .................................\n",
      "[CV]  max_depth=7, min_child_weight=3, score=(train=-0.001, test=-0.002), total= 3.1min\n",
      "[CV] max_depth=7, min_child_weight=3 .................................\n",
      "[CV]  max_depth=7, min_child_weight=3, score=(train=-0.001, test=-0.002), total= 2.9min\n",
      "[CV] max_depth=7, min_child_weight=3 .................................\n",
      "[CV]  max_depth=7, min_child_weight=3, score=(train=-0.001, test=-0.002), total= 2.8min\n",
      "[CV] max_depth=7, min_child_weight=5 .................................\n",
      "[CV]  max_depth=7, min_child_weight=5, score=(train=-0.001, test=-0.002), total= 2.9min\n",
      "[CV] max_depth=7, min_child_weight=5 .................................\n",
      "[CV]  max_depth=7, min_child_weight=5, score=(train=-0.001, test=-0.002), total= 2.9min\n",
      "[CV] max_depth=7, min_child_weight=5 .................................\n",
      "[CV]  max_depth=7, min_child_weight=5, score=(train=-0.001, test=-0.002), total= 2.9min\n",
      "[CV] max_depth=7, min_child_weight=5 .................................\n",
      "[CV]  max_depth=7, min_child_weight=5, score=(train=-0.001, test=-0.002), total= 2.9min\n",
      "[CV] max_depth=7, min_child_weight=5 .................................\n",
      "[CV]  max_depth=7, min_child_weight=5, score=(train=-0.001, test=-0.002), total= 2.7min\n"
     ]
    },
    {
     "name": "stderr",
     "output_type": "stream",
     "text": [
      "[Parallel(n_jobs=1)]: Done  45 out of  45 | elapsed: 114.7min finished\n"
     ]
    },
    {
     "data": {
      "text/plain": [
       "{'max_depth': 5, 'min_child_weight': 5}"
      ]
     },
     "execution_count": 16,
     "metadata": {},
     "output_type": "execute_result"
    }
   ],
   "source": [
    "model_concedes2 = XGBClassifier(learning_rate=0.1, n_estimators=100, gamma=0, subsample=0.8,\n",
    "                              colsample_bytree=0.8, scale_pos_weight=1, verbosity=1, seed=42)\n",
    "params2 = dict(max_depth=range(3, 8, 2), min_child_weight=range(1, 6, 2))\n",
    "grid_search2 = GridSearchCV(model_concedes2, params2, scoring='brier_score_loss', n_jobs=1, cv=cv, verbose=10,\n",
    "                            return_train_score=True)\n",
    "gs_results2 = grid_search2.fit(X_train, y_train)\n",
    "gs_results2.best_params_"
   ]
  },
  {
   "cell_type": "code",
   "execution_count": 17,
   "metadata": {},
   "outputs": [
    {
     "data": {
      "image/png": "[encoded data removed]",
      "text/plain": [
       "<Figure size 432x288 with 1 Axes>"
      ]
     },
     "metadata": {
      "needs_background": "light"
     },
     "output_type": "display_data"
    }
   ],
   "source": [
    "fig, ax = plot_grid_search(gs_results2.cv_results_)"
   ]
  },
  {
   "cell_type": "code",
   "execution_count": 18,
   "metadata": {
    "scrolled": true
   },
   "outputs": [
    {
     "name": "stdout",
     "output_type": "stream",
     "text": [
      "Fitting 5 folds for each of 9 candidates, totalling 45 fits\n",
      "[CV] max_depth=4, min_child_weight=4 .................................\n"
     ]
    },
    {
     "name": "stderr",
     "output_type": "stream",
     "text": [
      "[Parallel(n_jobs=1)]: Using backend SequentialBackend with 1 concurrent workers.\n"
     ]
    },
    {
     "name": "stdout",
     "output_type": "stream",
     "text": [
      "[CV]  max_depth=4, min_child_weight=4, score=(train=-0.002, test=-0.002), total= 1.8min\n",
      "[CV] max_depth=4, min_child_weight=4 .................................\n"
     ]
    },
    {
     "name": "stderr",
     "output_type": "stream",
     "text": [
      "[Parallel(n_jobs=1)]: Done   1 out of   1 | elapsed:  1.8min remaining:    0.0s\n"
     ]
    },
    {
     "name": "stdout",
     "output_type": "stream",
     "text": [
      "[CV]  max_depth=4, min_child_weight=4, score=(train=-0.002, test=-0.002), total= 1.9min\n",
      "[CV] max_depth=4, min_child_weight=4 .................................\n"
     ]
    },
    {
     "name": "stderr",
     "output_type": "stream",
     "text": [
      "[Parallel(n_jobs=1)]: Done   2 out of   2 | elapsed:  3.8min remaining:    0.0s\n"
     ]
    },
    {
     "name": "stdout",
     "output_type": "stream",
     "text": [
      "[CV]  max_depth=4, min_child_weight=4, score=(train=-0.002, test=-0.002), total= 1.9min\n",
      "[CV] max_depth=4, min_child_weight=4 .................................\n"
     ]
    },
    {
     "name": "stderr",
     "output_type": "stream",
     "text": [
      "[Parallel(n_jobs=1)]: Done   3 out of   3 | elapsed:  5.7min remaining:    0.0s\n"
     ]
    },
    {
     "name": "stdout",
     "output_type": "stream",
     "text": [
      "[CV]  max_depth=4, min_child_weight=4, score=(train=-0.002, test=-0.002), total= 1.9min\n",
      "[CV] max_depth=4, min_child_weight=4 .................................\n"
     ]
    },
    {
     "name": "stderr",
     "output_type": "stream",
     "text": [
      "[Parallel(n_jobs=1)]: Done   4 out of   4 | elapsed:  7.6min remaining:    0.0s\n"
     ]
    },
    {
     "name": "stdout",
     "output_type": "stream",
     "text": [
      "[CV]  max_depth=4, min_child_weight=4, score=(train=-0.002, test=-0.002), total= 1.9min\n",
      "[CV] max_depth=4, min_child_weight=5 .................................\n"
     ]
    },
    {
     "name": "stderr",
     "output_type": "stream",
     "text": [
      "[Parallel(n_jobs=1)]: Done   5 out of   5 | elapsed:  9.5min remaining:    0.0s\n"
     ]
    },
    {
     "name": "stdout",
     "output_type": "stream",
     "text": [
      "[CV]  max_depth=4, min_child_weight=5, score=(train=-0.002, test=-0.002), total= 1.9min\n",
      "[CV] max_depth=4, min_child_weight=5 .................................\n"
     ]
    },
    {
     "name": "stderr",
     "output_type": "stream",
     "text": [
      "[Parallel(n_jobs=1)]: Done   6 out of   6 | elapsed: 11.5min remaining:    0.0s\n"
     ]
    },
    {
     "name": "stdout",
     "output_type": "stream",
     "text": [
      "[CV]  max_depth=4, min_child_weight=5, score=(train=-0.002, test=-0.002), total= 1.9min\n",
      "[CV] max_depth=4, min_child_weight=5 .................................\n"
     ]
    },
    {
     "name": "stderr",
     "output_type": "stream",
     "text": [
      "[Parallel(n_jobs=1)]: Done   7 out of   7 | elapsed: 13.5min remaining:    0.0s\n"
     ]
    },
    {
     "name": "stdout",
     "output_type": "stream",
     "text": [
      "[CV]  max_depth=4, min_child_weight=5, score=(train=-0.002, test=-0.002), total= 1.9min\n",
      "[CV] max_depth=4, min_child_weight=5 .................................\n"
     ]
    },
    {
     "name": "stderr",
     "output_type": "stream",
     "text": [
      "[Parallel(n_jobs=1)]: Done   8 out of   8 | elapsed: 15.4min remaining:    0.0s\n"
     ]
    },
    {
     "name": "stdout",
     "output_type": "stream",
     "text": [
      "[CV]  max_depth=4, min_child_weight=5, score=(train=-0.002, test=-0.002), total= 1.9min\n",
      "[CV] max_depth=4, min_child_weight=5 .................................\n"
     ]
    },
    {
     "name": "stderr",
     "output_type": "stream",
     "text": [
      "[Parallel(n_jobs=1)]: Done   9 out of   9 | elapsed: 17.3min remaining:    0.0s\n"
     ]
    },
    {
     "name": "stdout",
     "output_type": "stream",
     "text": [
      "[CV]  max_depth=4, min_child_weight=5, score=(train=-0.002, test=-0.002), total= 1.8min\n",
      "[CV] max_depth=4, min_child_weight=6 .................................\n",
      "[CV]  max_depth=4, min_child_weight=6, score=(train=-0.002, test=-0.002), total= 1.9min\n",
      "[CV] max_depth=4, min_child_weight=6 .................................\n",
      "[CV]  max_depth=4, min_child_weight=6, score=(train=-0.002, test=-0.002), total= 1.9min\n",
      "[CV] max_depth=4, min_child_weight=6 .................................\n",
      "[CV]  max_depth=4, min_child_weight=6, score=(train=-0.002, test=-0.002), total= 1.9min\n",
      "[CV] max_depth=4, min_child_weight=6 .................................\n",
      "[CV]  max_depth=4, min_child_weight=6, score=(train=-0.002, test=-0.002), total= 1.9min\n",
      "[CV] max_depth=4, min_child_weight=6 .................................\n",
      "[CV]  max_depth=4, min_child_weight=6, score=(train=-0.002, test=-0.002), total= 1.9min\n",
      "[CV] max_depth=5, min_child_weight=4 .................................\n",
      "[CV]  max_depth=5, min_child_weight=4, score=(train=-0.001, test=-0.002), total= 2.3min\n",
      "[CV] max_depth=5, min_child_weight=4 .................................\n",
      "[CV]  max_depth=5, min_child_weight=4, score=(train=-0.002, test=-0.002), total= 2.2min\n",
      "[CV] max_depth=5, min_child_weight=4 .................................\n",
      "[CV]  max_depth=5, min_child_weight=4, score=(train=-0.002, test=-0.002), total= 2.2min\n",
      "[CV] max_depth=5, min_child_weight=4 .................................\n",
      "[CV]  max_depth=5, min_child_weight=4, score=(train=-0.002, test=-0.002), total= 2.3min\n",
      "[CV] max_depth=5, min_child_weight=4 .................................\n",
      "[CV]  max_depth=5, min_child_weight=4, score=(train=-0.002, test=-0.002), total= 2.2min\n",
      "[CV] max_depth=5, min_child_weight=5 .................................\n",
      "[CV]  max_depth=5, min_child_weight=5, score=(train=-0.002, test=-0.002), total= 2.2min\n",
      "[CV] max_depth=5, min_child_weight=5 .................................\n",
      "[CV]  max_depth=5, min_child_weight=5, score=(train=-0.002, test=-0.002), total= 2.3min\n",
      "[CV] max_depth=5, min_child_weight=5 .................................\n",
      "[CV]  max_depth=5, min_child_weight=5, score=(train=-0.002, test=-0.002), total= 2.2min\n",
      "[CV] max_depth=5, min_child_weight=5 .................................\n",
      "[CV]  max_depth=5, min_child_weight=5, score=(train=-0.002, test=-0.002), total= 2.2min\n",
      "[CV] max_depth=5, min_child_weight=5 .................................\n",
      "[CV]  max_depth=5, min_child_weight=5, score=(train=-0.002, test=-0.002), total= 2.2min\n",
      "[CV] max_depth=5, min_child_weight=6 .................................\n",
      "[CV]  max_depth=5, min_child_weight=6, score=(train=-0.002, test=-0.002), total= 2.3min\n",
      "[CV] max_depth=5, min_child_weight=6 .................................\n",
      "[CV]  max_depth=5, min_child_weight=6, score=(train=-0.002, test=-0.002), total= 2.2min\n",
      "[CV] max_depth=5, min_child_weight=6 .................................\n",
      "[CV]  max_depth=5, min_child_weight=6, score=(train=-0.002, test=-0.002), total= 2.2min\n",
      "[CV] max_depth=5, min_child_weight=6 .................................\n",
      "[CV]  max_depth=5, min_child_weight=6, score=(train=-0.002, test=-0.002), total= 2.3min\n",
      "[CV] max_depth=5, min_child_weight=6 .................................\n",
      "[CV]  max_depth=5, min_child_weight=6, score=(train=-0.002, test=-0.002), total= 2.2min\n",
      "[CV] max_depth=6, min_child_weight=4 .................................\n",
      "[CV]  max_depth=6, min_child_weight=4, score=(train=-0.001, test=-0.002), total= 2.6min\n",
      "[CV] max_depth=6, min_child_weight=4 .................................\n",
      "[CV]  max_depth=6, min_child_weight=4, score=(train=-0.001, test=-0.002), total= 2.6min\n",
      "[CV] max_depth=6, min_child_weight=4 .................................\n",
      "[CV]  max_depth=6, min_child_weight=4, score=(train=-0.001, test=-0.002), total= 2.6min\n",
      "[CV] max_depth=6, min_child_weight=4 .................................\n",
      "[CV]  max_depth=6, min_child_weight=4, score=(train=-0.001, test=-0.002), total= 2.8min\n",
      "[CV] max_depth=6, min_child_weight=4 .................................\n",
      "[CV]  max_depth=6, min_child_weight=4, score=(train=-0.001, test=-0.002), total= 2.6min\n",
      "[CV] max_depth=6, min_child_weight=5 .................................\n",
      "[CV]  max_depth=6, min_child_weight=5, score=(train=-0.001, test=-0.002), total= 2.6min\n",
      "[CV] max_depth=6, min_child_weight=5 .................................\n",
      "[CV]  max_depth=6, min_child_weight=5, score=(train=-0.001, test=-0.002), total= 2.6min\n",
      "[CV] max_depth=6, min_child_weight=5 .................................\n",
      "[CV]  max_depth=6, min_child_weight=5, score=(train=-0.001, test=-0.002), total= 2.5min\n",
      "[CV] max_depth=6, min_child_weight=5 .................................\n",
      "[CV]  max_depth=6, min_child_weight=5, score=(train=-0.001, test=-0.002), total= 2.6min\n",
      "[CV] max_depth=6, min_child_weight=5 .................................\n",
      "[CV]  max_depth=6, min_child_weight=5, score=(train=-0.001, test=-0.002), total= 2.5min\n",
      "[CV] max_depth=6, min_child_weight=6 .................................\n",
      "[CV]  max_depth=6, min_child_weight=6, score=(train=-0.001, test=-0.002), total= 2.6min\n",
      "[CV] max_depth=6, min_child_weight=6 .................................\n",
      "[CV]  max_depth=6, min_child_weight=6, score=(train=-0.001, test=-0.002), total= 2.5min\n",
      "[CV] max_depth=6, min_child_weight=6 .................................\n",
      "[CV]  max_depth=6, min_child_weight=6, score=(train=-0.001, test=-0.002), total= 2.5min\n",
      "[CV] max_depth=6, min_child_weight=6 .................................\n",
      "[CV]  max_depth=6, min_child_weight=6, score=(train=-0.002, test=-0.002), total= 2.6min\n",
      "[CV] max_depth=6, min_child_weight=6 .................................\n",
      "[CV]  max_depth=6, min_child_weight=6, score=(train=-0.001, test=-0.002), total= 2.5min\n"
     ]
    },
    {
     "name": "stderr",
     "output_type": "stream",
     "text": [
      "[Parallel(n_jobs=1)]: Done  45 out of  45 | elapsed: 102.0min finished\n"
     ]
    },
    {
     "data": {
      "text/plain": [
       "{'max_depth': 4, 'min_child_weight': 6}"
      ]
     },
     "execution_count": 18,
     "metadata": {},
     "output_type": "execute_result"
    }
   ],
   "source": [
    "model_concedes3 = XGBClassifier(learning_rate=0.1, n_estimators=100, gamma=0, subsample=0.8,\n",
    "                                colsample_bytree=0.8, scale_pos_weight=1, verbosity=1, seed=42)\n",
    "params3 = dict(max_depth=[4, 5, 6], min_child_weight=[4, 5, 6])\n",
    "grid_search3 = GridSearchCV(model_concedes3, params3, scoring='brier_score_loss', n_jobs=1, cv=cv, verbose=10,\n",
    "                            return_train_score=True)\n",
    "gs_results3 = grid_search3.fit(X_train, y_train)\n",
    "gs_results3.best_params_"
   ]
  },
  {
   "cell_type": "code",
   "execution_count": 19,
   "metadata": {},
   "outputs": [
    {
     "data": {
      "image/png": "[encoded data removed]",
      "text/plain": [
       "<Figure size 432x288 with 1 Axes>"
      ]
     },
     "metadata": {
      "needs_background": "light"
     },
     "output_type": "display_data"
    }
   ],
   "source": [
    "fig, ax = plot_grid_search(gs_results3.cv_results_)"
   ]
  },
  {
   "cell_type": "code",
   "execution_count": 20,
   "metadata": {
    "scrolled": true
   },
   "outputs": [
    {
     "name": "stdout",
     "output_type": "stream",
     "text": [
      "Fitting 5 folds for each of 6 candidates, totalling 30 fits\n",
      "[CV] gamma=0 .........................................................\n"
     ]
    },
    {
     "name": "stderr",
     "output_type": "stream",
     "text": [
      "[Parallel(n_jobs=1)]: Using backend SequentialBackend with 1 concurrent workers.\n"
     ]
    },
    {
     "name": "stdout",
     "output_type": "stream",
     "text": [
      "[CV] ....... gamma=0, score=(train=-0.002, test=-0.002), total= 1.8min\n",
      "[CV] gamma=0 .........................................................\n"
     ]
    },
    {
     "name": "stderr",
     "output_type": "stream",
     "text": [
      "[Parallel(n_jobs=1)]: Done   1 out of   1 | elapsed:  1.9min remaining:    0.0s\n"
     ]
    },
    {
     "name": "stdout",
     "output_type": "stream",
     "text": [
      "[CV] ....... gamma=0, score=(train=-0.002, test=-0.002), total= 1.9min\n",
      "[CV] gamma=0 .........................................................\n"
     ]
    },
    {
     "name": "stderr",
     "output_type": "stream",
     "text": [
      "[Parallel(n_jobs=1)]: Done   2 out of   2 | elapsed:  3.8min remaining:    0.0s\n"
     ]
    },
    {
     "name": "stdout",
     "output_type": "stream",
     "text": [
      "[CV] ....... gamma=0, score=(train=-0.002, test=-0.002), total= 1.9min\n",
      "[CV] gamma=0 .........................................................\n"
     ]
    },
    {
     "name": "stderr",
     "output_type": "stream",
     "text": [
      "[Parallel(n_jobs=1)]: Done   3 out of   3 | elapsed:  5.7min remaining:    0.0s\n"
     ]
    },
    {
     "name": "stdout",
     "output_type": "stream",
     "text": [
      "[CV] ....... gamma=0, score=(train=-0.002, test=-0.002), total= 1.9min\n",
      "[CV] gamma=0 .........................................................\n"
     ]
    },
    {
     "name": "stderr",
     "output_type": "stream",
     "text": [
      "[Parallel(n_jobs=1)]: Done   4 out of   4 | elapsed:  7.6min remaining:    0.0s\n"
     ]
    },
    {
     "name": "stdout",
     "output_type": "stream",
     "text": [
      "[CV] ....... gamma=0, score=(train=-0.002, test=-0.002), total= 1.9min\n",
      "[CV] gamma=0.1 .......................................................\n"
     ]
    },
    {
     "name": "stderr",
     "output_type": "stream",
     "text": [
      "[Parallel(n_jobs=1)]: Done   5 out of   5 | elapsed:  9.5min remaining:    0.0s\n"
     ]
    },
    {
     "name": "stdout",
     "output_type": "stream",
     "text": [
      "[CV] ..... gamma=0.1, score=(train=-0.002, test=-0.002), total= 1.9min\n",
      "[CV] gamma=0.1 .......................................................\n"
     ]
    },
    {
     "name": "stderr",
     "output_type": "stream",
     "text": [
      "[Parallel(n_jobs=1)]: Done   6 out of   6 | elapsed: 11.5min remaining:    0.0s\n"
     ]
    },
    {
     "name": "stdout",
     "output_type": "stream",
     "text": [
      "[CV] ..... gamma=0.1, score=(train=-0.002, test=-0.002), total= 1.9min\n",
      "[CV] gamma=0.1 .......................................................\n"
     ]
    },
    {
     "name": "stderr",
     "output_type": "stream",
     "text": [
      "[Parallel(n_jobs=1)]: Done   7 out of   7 | elapsed: 13.4min remaining:    0.0s\n"
     ]
    },
    {
     "name": "stdout",
     "output_type": "stream",
     "text": [
      "[CV] ..... gamma=0.1, score=(train=-0.002, test=-0.002), total= 1.9min\n",
      "[CV] gamma=0.1 .......................................................\n"
     ]
    },
    {
     "name": "stderr",
     "output_type": "stream",
     "text": [
      "[Parallel(n_jobs=1)]: Done   8 out of   8 | elapsed: 15.3min remaining:    0.0s\n"
     ]
    },
    {
     "name": "stdout",
     "output_type": "stream",
     "text": [
      "[CV] ..... gamma=0.1, score=(train=-0.002, test=-0.002), total= 1.9min\n",
      "[CV] gamma=0.1 .......................................................\n"
     ]
    },
    {
     "name": "stderr",
     "output_type": "stream",
     "text": [
      "[Parallel(n_jobs=1)]: Done   9 out of   9 | elapsed: 17.2min remaining:    0.0s\n"
     ]
    },
    {
     "name": "stdout",
     "output_type": "stream",
     "text": [
      "[CV] ..... gamma=0.1, score=(train=-0.002, test=-0.002), total= 1.8min\n",
      "[CV] gamma=0.2 .......................................................\n",
      "[CV] ..... gamma=0.2, score=(train=-0.002, test=-0.002), total= 1.9min\n",
      "[CV] gamma=0.2 .......................................................\n",
      "[CV] ..... gamma=0.2, score=(train=-0.002, test=-0.002), total= 1.9min\n",
      "[CV] gamma=0.2 .......................................................\n",
      "[CV] ..... gamma=0.2, score=(train=-0.002, test=-0.002), total= 1.9min\n",
      "[CV] gamma=0.2 .......................................................\n",
      "[CV] ..... gamma=0.2, score=(train=-0.002, test=-0.002), total= 1.9min\n",
      "[CV] gamma=0.2 .......................................................\n",
      "[CV] ..... gamma=0.2, score=(train=-0.002, test=-0.002), total= 1.8min\n",
      "[CV] gamma=0.3 .......................................................\n",
      "[CV] ..... gamma=0.3, score=(train=-0.002, test=-0.002), total= 1.9min\n",
      "[CV] gamma=0.3 .......................................................\n",
      "[CV] ..... gamma=0.3, score=(train=-0.002, test=-0.002), total= 1.9min\n",
      "[CV] gamma=0.3 .......................................................\n",
      "[CV] ..... gamma=0.3, score=(train=-0.002, test=-0.002), total= 1.9min\n",
      "[CV] gamma=0.3 .......................................................\n",
      "[CV] ..... gamma=0.3, score=(train=-0.002, test=-0.002), total= 1.9min\n",
      "[CV] gamma=0.3 .......................................................\n",
      "[CV] ..... gamma=0.3, score=(train=-0.002, test=-0.002), total= 1.9min\n",
      "[CV] gamma=0.4 .......................................................\n",
      "[CV] ..... gamma=0.4, score=(train=-0.002, test=-0.002), total= 1.9min\n",
      "[CV] gamma=0.4 .......................................................\n",
      "[CV] ..... gamma=0.4, score=(train=-0.002, test=-0.002), total= 1.9min\n",
      "[CV] gamma=0.4 .......................................................\n",
      "[CV] ..... gamma=0.4, score=(train=-0.002, test=-0.002), total= 1.9min\n",
      "[CV] gamma=0.4 .......................................................\n",
      "[CV] ..... gamma=0.4, score=(train=-0.002, test=-0.002), total= 1.9min\n",
      "[CV] gamma=0.4 .......................................................\n",
      "[CV] ..... gamma=0.4, score=(train=-0.002, test=-0.002), total= 1.8min\n",
      "[CV] gamma=0.5 .......................................................\n",
      "[CV] ..... gamma=0.5, score=(train=-0.002, test=-0.002), total= 1.9min\n",
      "[CV] gamma=0.5 .......................................................\n",
      "[CV] ..... gamma=0.5, score=(train=-0.002, test=-0.002), total= 1.9min\n",
      "[CV] gamma=0.5 .......................................................\n",
      "[CV] ..... gamma=0.5, score=(train=-0.002, test=-0.002), total= 1.9min\n",
      "[CV] gamma=0.5 .......................................................\n",
      "[CV] ..... gamma=0.5, score=(train=-0.002, test=-0.002), total= 1.9min\n",
      "[CV] gamma=0.5 .......................................................\n",
      "[CV] ..... gamma=0.5, score=(train=-0.002, test=-0.002), total= 1.8min\n"
     ]
    },
    {
     "name": "stderr",
     "output_type": "stream",
     "text": [
      "[Parallel(n_jobs=1)]: Done  30 out of  30 | elapsed: 57.6min finished\n"
     ]
    },
    {
     "data": {
      "text/plain": [
       "{'gamma': 0.1}"
      ]
     },
     "execution_count": 20,
     "metadata": {},
     "output_type": "execute_result"
    }
   ],
   "source": [
    "model_concedes4 = XGBClassifier(learning_rate=0.1, n_estimators=100, gamma=0, max_depth=4, min_child_weight=6, \n",
    "                                subsample=0.8, colsample_bytree=0.8, scale_pos_weight=1, verbosity=1, seed=42)\n",
    "params4 = dict(gamma=[0, 0.1, 0.2, 0.3, 0.4, 0.5])\n",
    "grid_search4 = GridSearchCV(model_concedes4, params4, scoring='brier_score_loss', n_jobs=1, cv=cv, verbose=10,\n",
    "                            return_train_score=True)\n",
    "gs_results4 = grid_search4.fit(X_train, y_train)\n",
    "gs_results4.best_params_"
   ]
  },
  {
   "cell_type": "code",
   "execution_count": 21,
   "metadata": {},
   "outputs": [
    {
     "data": {
      "image/png": "[encoded data removed]",
      "text/plain": [
       "<Figure size 432x288 with 1 Axes>"
      ]
     },
     "metadata": {
      "needs_background": "light"
     },
     "output_type": "display_data"
    }
   ],
   "source": [
    "plt.errorbar(range(1, 7),\n",
    "             gs_results4.cv_results_['mean_test_score'],\n",
    "             yerr=gs_results4.cv_results_['std_test_score'])\n",
    "_ = plt.xticks(range(1, 7), [0, 0.1, 0.2, 0.3, 0.4, 0.5])"
   ]
  },
  {
   "cell_type": "code",
   "execution_count": 22,
   "metadata": {
    "scrolled": true
   },
   "outputs": [
    {
     "name": "stdout",
     "output_type": "stream",
     "text": [
      "Fitting 5 folds for each of 16 candidates, totalling 80 fits\n",
      "[CV] colsample_by_tree=0.4, subsample=0.4 ............................\n"
     ]
    },
    {
     "name": "stderr",
     "output_type": "stream",
     "text": [
      "[Parallel(n_jobs=1)]: Using backend SequentialBackend with 1 concurrent workers.\n"
     ]
    },
    {
     "name": "stdout",
     "output_type": "stream",
     "text": [
      "[CV]  colsample_by_tree=0.4, subsample=0.4, score=(train=-0.002, test=-0.002), total= 1.7min\n",
      "[CV] colsample_by_tree=0.4, subsample=0.4 ............................\n"
     ]
    },
    {
     "name": "stderr",
     "output_type": "stream",
     "text": [
      "[Parallel(n_jobs=1)]: Done   1 out of   1 | elapsed:  1.8min remaining:    0.0s\n"
     ]
    },
    {
     "name": "stdout",
     "output_type": "stream",
     "text": [
      "[CV]  colsample_by_tree=0.4, subsample=0.4, score=(train=-0.002, test=-0.002), total= 1.8min\n",
      "[CV] colsample_by_tree=0.4, subsample=0.4 ............................\n"
     ]
    },
    {
     "name": "stderr",
     "output_type": "stream",
     "text": [
      "[Parallel(n_jobs=1)]: Done   2 out of   2 | elapsed:  3.6min remaining:    0.0s\n"
     ]
    },
    {
     "name": "stdout",
     "output_type": "stream",
     "text": [
      "[CV]  colsample_by_tree=0.4, subsample=0.4, score=(train=-0.002, test=-0.002), total= 1.8min\n",
      "[CV] colsample_by_tree=0.4, subsample=0.4 ............................\n"
     ]
    },
    {
     "name": "stderr",
     "output_type": "stream",
     "text": [
      "[Parallel(n_jobs=1)]: Done   3 out of   3 | elapsed:  5.4min remaining:    0.0s\n"
     ]
    },
    {
     "name": "stdout",
     "output_type": "stream",
     "text": [
      "[CV]  colsample_by_tree=0.4, subsample=0.4, score=(train=-0.002, test=-0.002), total= 1.8min\n",
      "[CV] colsample_by_tree=0.4, subsample=0.4 ............................\n"
     ]
    },
    {
     "name": "stderr",
     "output_type": "stream",
     "text": [
      "[Parallel(n_jobs=1)]: Done   4 out of   4 | elapsed:  7.3min remaining:    0.0s\n"
     ]
    },
    {
     "name": "stdout",
     "output_type": "stream",
     "text": [
      "[CV]  colsample_by_tree=0.4, subsample=0.4, score=(train=-0.002, test=-0.002), total= 1.8min\n",
      "[CV] colsample_by_tree=0.4, subsample=0.6 ............................\n"
     ]
    },
    {
     "name": "stderr",
     "output_type": "stream",
     "text": [
      "[Parallel(n_jobs=1)]: Done   5 out of   5 | elapsed:  9.1min remaining:    0.0s\n"
     ]
    },
    {
     "name": "stdout",
     "output_type": "stream",
     "text": [
      "[CV]  colsample_by_tree=0.4, subsample=0.6, score=(train=-0.002, test=-0.002), total= 2.1min\n",
      "[CV] colsample_by_tree=0.4, subsample=0.6 ............................\n"
     ]
    },
    {
     "name": "stderr",
     "output_type": "stream",
     "text": [
      "[Parallel(n_jobs=1)]: Done   6 out of   6 | elapsed: 11.2min remaining:    0.0s\n"
     ]
    },
    {
     "name": "stdout",
     "output_type": "stream",
     "text": [
      "[CV]  colsample_by_tree=0.4, subsample=0.6, score=(train=-0.002, test=-0.002), total= 2.2min\n",
      "[CV] colsample_by_tree=0.4, subsample=0.6 ............................\n"
     ]
    },
    {
     "name": "stderr",
     "output_type": "stream",
     "text": [
      "[Parallel(n_jobs=1)]: Done   7 out of   7 | elapsed: 13.4min remaining:    0.0s\n"
     ]
    },
    {
     "name": "stdout",
     "output_type": "stream",
     "text": [
      "[CV]  colsample_by_tree=0.4, subsample=0.6, score=(train=-0.002, test=-0.002), total= 2.2min\n",
      "[CV] colsample_by_tree=0.4, subsample=0.6 ............................\n"
     ]
    },
    {
     "name": "stderr",
     "output_type": "stream",
     "text": [
      "[Parallel(n_jobs=1)]: Done   8 out of   8 | elapsed: 15.7min remaining:    0.0s\n"
     ]
    },
    {
     "name": "stdout",
     "output_type": "stream",
     "text": [
      "[CV]  colsample_by_tree=0.4, subsample=0.6, score=(train=-0.002, test=-0.002), total= 2.1min\n",
      "[CV] colsample_by_tree=0.4, subsample=0.6 ............................\n"
     ]
    },
    {
     "name": "stderr",
     "output_type": "stream",
     "text": [
      "[Parallel(n_jobs=1)]: Done   9 out of   9 | elapsed: 17.8min remaining:    0.0s\n"
     ]
    },
    {
     "name": "stdout",
     "output_type": "stream",
     "text": [
      "[CV]  colsample_by_tree=0.4, subsample=0.6, score=(train=-0.002, test=-0.002), total= 2.0min\n",
      "[CV] colsample_by_tree=0.4, subsample=0.8 ............................\n",
      "[CV]  colsample_by_tree=0.4, subsample=0.8, score=(train=-0.002, test=-0.002), total= 2.2min\n",
      "[CV] colsample_by_tree=0.4, subsample=0.8 ............................\n",
      "[CV]  colsample_by_tree=0.4, subsample=0.8, score=(train=-0.002, test=-0.002), total= 2.2min\n",
      "[CV] colsample_by_tree=0.4, subsample=0.8 ............................\n",
      "[CV]  colsample_by_tree=0.4, subsample=0.8, score=(train=-0.002, test=-0.002), total= 2.2min\n",
      "[CV] colsample_by_tree=0.4, subsample=0.8 ............................\n",
      "[CV]  colsample_by_tree=0.4, subsample=0.8, score=(train=-0.002, test=-0.002), total= 2.2min\n",
      "[CV] colsample_by_tree=0.4, subsample=0.8 ............................\n",
      "[CV]  colsample_by_tree=0.4, subsample=0.8, score=(train=-0.002, test=-0.002), total= 2.1min\n",
      "[CV] colsample_by_tree=0.4, subsample=1 ..............................\n",
      "[CV]  colsample_by_tree=0.4, subsample=1, score=(train=-0.002, test=-0.002), total= 2.2min\n",
      "[CV] colsample_by_tree=0.4, subsample=1 ..............................\n",
      "[CV]  colsample_by_tree=0.4, subsample=1, score=(train=-0.002, test=-0.002), total= 2.2min\n",
      "[CV] colsample_by_tree=0.4, subsample=1 ..............................\n",
      "[CV]  colsample_by_tree=0.4, subsample=1, score=(train=-0.002, test=-0.002), total= 2.2min\n",
      "[CV] colsample_by_tree=0.4, subsample=1 ..............................\n",
      "[CV]  colsample_by_tree=0.4, subsample=1, score=(train=-0.002, test=-0.002), total= 2.2min\n",
      "[CV] colsample_by_tree=0.4, subsample=1 ..............................\n",
      "[CV]  colsample_by_tree=0.4, subsample=1, score=(train=-0.002, test=-0.002), total= 2.1min\n",
      "[CV] colsample_by_tree=0.6, subsample=0.4 ............................\n",
      "[CV]  colsample_by_tree=0.6, subsample=0.4, score=(train=-0.002, test=-0.002), total= 1.8min\n",
      "[CV] colsample_by_tree=0.6, subsample=0.4 ............................\n",
      "[CV]  colsample_by_tree=0.6, subsample=0.4, score=(train=-0.002, test=-0.002), total= 1.8min\n",
      "[CV] colsample_by_tree=0.6, subsample=0.4 ............................\n",
      "[CV]  colsample_by_tree=0.6, subsample=0.4, score=(train=-0.002, test=-0.002), total= 1.9min\n",
      "[CV] colsample_by_tree=0.6, subsample=0.4 ............................\n",
      "[CV]  colsample_by_tree=0.6, subsample=0.4, score=(train=-0.002, test=-0.002), total= 1.8min\n",
      "[CV] colsample_by_tree=0.6, subsample=0.4 ............................\n",
      "[CV]  colsample_by_tree=0.6, subsample=0.4, score=(train=-0.002, test=-0.002), total= 1.8min\n",
      "[CV] colsample_by_tree=0.6, subsample=0.6 ............................\n",
      "[CV]  colsample_by_tree=0.6, subsample=0.6, score=(train=-0.002, test=-0.002), total= 2.1min\n",
      "[CV] colsample_by_tree=0.6, subsample=0.6 ............................\n",
      "[CV]  colsample_by_tree=0.6, subsample=0.6, score=(train=-0.002, test=-0.002), total= 2.1min\n",
      "[CV] colsample_by_tree=0.6, subsample=0.6 ............................\n",
      "[CV]  colsample_by_tree=0.6, subsample=0.6, score=(train=-0.002, test=-0.002), total= 2.1min\n",
      "[CV] colsample_by_tree=0.6, subsample=0.6 ............................\n",
      "[CV]  colsample_by_tree=0.6, subsample=0.6, score=(train=-0.002, test=-0.002), total= 2.1min\n",
      "[CV] colsample_by_tree=0.6, subsample=0.6 ............................\n",
      "[CV]  colsample_by_tree=0.6, subsample=0.6, score=(train=-0.002, test=-0.002), total= 2.0min\n",
      "[CV] colsample_by_tree=0.6, subsample=0.8 ............................\n",
      "[CV]  colsample_by_tree=0.6, subsample=0.8, score=(train=-0.002, test=-0.002), total= 2.2min\n",
      "[CV] colsample_by_tree=0.6, subsample=0.8 ............................\n",
      "[CV]  colsample_by_tree=0.6, subsample=0.8, score=(train=-0.002, test=-0.002), total= 2.2min\n",
      "[CV] colsample_by_tree=0.6, subsample=0.8 ............................\n",
      "[CV]  colsample_by_tree=0.6, subsample=0.8, score=(train=-0.002, test=-0.002), total= 2.2min\n",
      "[CV] colsample_by_tree=0.6, subsample=0.8 ............................\n",
      "[CV]  colsample_by_tree=0.6, subsample=0.8, score=(train=-0.002, test=-0.002), total= 2.2min\n",
      "[CV] colsample_by_tree=0.6, subsample=0.8 ............................\n",
      "[CV]  colsample_by_tree=0.6, subsample=0.8, score=(train=-0.002, test=-0.002), total= 2.1min\n",
      "[CV] colsample_by_tree=0.6, subsample=1 ..............................\n",
      "[CV]  colsample_by_tree=0.6, subsample=1, score=(train=-0.002, test=-0.002), total= 2.2min\n",
      "[CV] colsample_by_tree=0.6, subsample=1 ..............................\n",
      "[CV]  colsample_by_tree=0.6, subsample=1, score=(train=-0.002, test=-0.002), total= 2.2min\n",
      "[CV] colsample_by_tree=0.6, subsample=1 ..............................\n",
      "[CV]  colsample_by_tree=0.6, subsample=1, score=(train=-0.002, test=-0.002), total= 2.2min\n",
      "[CV] colsample_by_tree=0.6, subsample=1 ..............................\n",
      "[CV]  colsample_by_tree=0.6, subsample=1, score=(train=-0.002, test=-0.002), total= 2.2min\n",
      "[CV] colsample_by_tree=0.6, subsample=1 ..............................\n",
      "[CV]  colsample_by_tree=0.6, subsample=1, score=(train=-0.002, test=-0.002), total= 2.1min\n",
      "[CV] colsample_by_tree=0.8, subsample=0.4 ............................\n",
      "[CV]  colsample_by_tree=0.8, subsample=0.4, score=(train=-0.002, test=-0.002), total= 1.8min\n",
      "[CV] colsample_by_tree=0.8, subsample=0.4 ............................\n",
      "[CV]  colsample_by_tree=0.8, subsample=0.4, score=(train=-0.002, test=-0.002), total= 1.8min\n",
      "[CV] colsample_by_tree=0.8, subsample=0.4 ............................\n",
      "[CV]  colsample_by_tree=0.8, subsample=0.4, score=(train=-0.002, test=-0.002), total= 1.8min\n",
      "[CV] colsample_by_tree=0.8, subsample=0.4 ............................\n",
      "[CV]  colsample_by_tree=0.8, subsample=0.4, score=(train=-0.002, test=-0.002), total= 1.8min\n",
      "[CV] colsample_by_tree=0.8, subsample=0.4 ............................\n",
      "[CV]  colsample_by_tree=0.8, subsample=0.4, score=(train=-0.002, test=-0.002), total= 1.8min\n",
      "[CV] colsample_by_tree=0.8, subsample=0.6 ............................\n",
      "[CV]  colsample_by_tree=0.8, subsample=0.6, score=(train=-0.002, test=-0.002), total= 2.1min\n",
      "[CV] colsample_by_tree=0.8, subsample=0.6 ............................\n",
      "[CV]  colsample_by_tree=0.8, subsample=0.6, score=(train=-0.002, test=-0.002), total= 2.1min\n",
      "[CV] colsample_by_tree=0.8, subsample=0.6 ............................\n",
      "[CV]  colsample_by_tree=0.8, subsample=0.6, score=(train=-0.002, test=-0.002), total= 2.1min\n",
      "[CV] colsample_by_tree=0.8, subsample=0.6 ............................\n",
      "[CV]  colsample_by_tree=0.8, subsample=0.6, score=(train=-0.002, test=-0.002), total= 2.1min\n",
      "[CV] colsample_by_tree=0.8, subsample=0.6 ............................\n",
      "[CV]  colsample_by_tree=0.8, subsample=0.6, score=(train=-0.002, test=-0.002), total= 2.0min\n",
      "[CV] colsample_by_tree=0.8, subsample=0.8 ............................\n",
      "[CV]  colsample_by_tree=0.8, subsample=0.8, score=(train=-0.002, test=-0.002), total= 2.2min\n",
      "[CV] colsample_by_tree=0.8, subsample=0.8 ............................\n",
      "[CV]  colsample_by_tree=0.8, subsample=0.8, score=(train=-0.002, test=-0.002), total= 2.2min\n",
      "[CV] colsample_by_tree=0.8, subsample=0.8 ............................\n",
      "[CV]  colsample_by_tree=0.8, subsample=0.8, score=(train=-0.002, test=-0.002), total= 2.2min\n",
      "[CV] colsample_by_tree=0.8, subsample=0.8 ............................\n",
      "[CV]  colsample_by_tree=0.8, subsample=0.8, score=(train=-0.002, test=-0.002), total= 2.2min\n",
      "[CV] colsample_by_tree=0.8, subsample=0.8 ............................\n",
      "[CV]  colsample_by_tree=0.8, subsample=0.8, score=(train=-0.002, test=-0.002), total= 2.1min\n",
      "[CV] colsample_by_tree=0.8, subsample=1 ..............................\n",
      "[CV]  colsample_by_tree=0.8, subsample=1, score=(train=-0.002, test=-0.002), total= 2.2min\n",
      "[CV] colsample_by_tree=0.8, subsample=1 ..............................\n",
      "[CV]  colsample_by_tree=0.8, subsample=1, score=(train=-0.002, test=-0.002), total= 2.2min\n",
      "[CV] colsample_by_tree=0.8, subsample=1 ..............................\n",
      "[CV]  colsample_by_tree=0.8, subsample=1, score=(train=-0.002, test=-0.002), total= 2.2min\n",
      "[CV] colsample_by_tree=0.8, subsample=1 ..............................\n",
      "[CV]  colsample_by_tree=0.8, subsample=1, score=(train=-0.002, test=-0.002), total= 2.3min\n",
      "[CV] colsample_by_tree=0.8, subsample=1 ..............................\n",
      "[CV]  colsample_by_tree=0.8, subsample=1, score=(train=-0.002, test=-0.002), total= 2.2min\n",
      "[CV] colsample_by_tree=1, subsample=0.4 ..............................\n",
      "[CV]  colsample_by_tree=1, subsample=0.4, score=(train=-0.002, test=-0.002), total= 1.8min\n",
      "[CV] colsample_by_tree=1, subsample=0.4 ..............................\n",
      "[CV]  colsample_by_tree=1, subsample=0.4, score=(train=-0.002, test=-0.002), total= 1.8min\n",
      "[CV] colsample_by_tree=1, subsample=0.4 ..............................\n",
      "[CV]  colsample_by_tree=1, subsample=0.4, score=(train=-0.002, test=-0.002), total= 1.8min\n",
      "[CV] colsample_by_tree=1, subsample=0.4 ..............................\n",
      "[CV]  colsample_by_tree=1, subsample=0.4, score=(train=-0.002, test=-0.002), total= 1.8min\n",
      "[CV] colsample_by_tree=1, subsample=0.4 ..............................\n",
      "[CV]  colsample_by_tree=1, subsample=0.4, score=(train=-0.002, test=-0.002), total= 1.8min\n",
      "[CV] colsample_by_tree=1, subsample=0.6 ..............................\n",
      "[CV]  colsample_by_tree=1, subsample=0.6, score=(train=-0.002, test=-0.002), total= 2.1min\n",
      "[CV] colsample_by_tree=1, subsample=0.6 ..............................\n",
      "[CV]  colsample_by_tree=1, subsample=0.6, score=(train=-0.002, test=-0.002), total= 2.1min\n",
      "[CV] colsample_by_tree=1, subsample=0.6 ..............................\n",
      "[CV]  colsample_by_tree=1, subsample=0.6, score=(train=-0.002, test=-0.002), total= 2.1min\n",
      "[CV] colsample_by_tree=1, subsample=0.6 ..............................\n",
      "[CV]  colsample_by_tree=1, subsample=0.6, score=(train=-0.002, test=-0.002), total= 2.1min\n",
      "[CV] colsample_by_tree=1, subsample=0.6 ..............................\n",
      "[CV]  colsample_by_tree=1, subsample=0.6, score=(train=-0.002, test=-0.002), total= 2.0min\n",
      "[CV] colsample_by_tree=1, subsample=0.8 ..............................\n",
      "[CV]  colsample_by_tree=1, subsample=0.8, score=(train=-0.002, test=-0.002), total= 2.2min\n",
      "[CV] colsample_by_tree=1, subsample=0.8 ..............................\n",
      "[CV]  colsample_by_tree=1, subsample=0.8, score=(train=-0.002, test=-0.002), total= 2.2min\n",
      "[CV] colsample_by_tree=1, subsample=0.8 ..............................\n",
      "[CV]  colsample_by_tree=1, subsample=0.8, score=(train=-0.002, test=-0.002), total= 2.2min\n",
      "[CV] colsample_by_tree=1, subsample=0.8 ..............................\n",
      "[CV]  colsample_by_tree=1, subsample=0.8, score=(train=-0.002, test=-0.002), total= 2.2min\n",
      "[CV] colsample_by_tree=1, subsample=0.8 ..............................\n",
      "[CV]  colsample_by_tree=1, subsample=0.8, score=(train=-0.002, test=-0.002), total= 2.1min\n",
      "[CV] colsample_by_tree=1, subsample=1 ................................\n",
      "[CV]  colsample_by_tree=1, subsample=1, score=(train=-0.002, test=-0.002), total= 2.2min\n",
      "[CV] colsample_by_tree=1, subsample=1 ................................\n",
      "[CV]  colsample_by_tree=1, subsample=1, score=(train=-0.002, test=-0.002), total= 2.2min\n",
      "[CV] colsample_by_tree=1, subsample=1 ................................\n",
      "[CV]  colsample_by_tree=1, subsample=1, score=(train=-0.002, test=-0.002), total= 2.2min\n",
      "[CV] colsample_by_tree=1, subsample=1 ................................\n",
      "[CV]  colsample_by_tree=1, subsample=1, score=(train=-0.002, test=-0.002), total= 2.2min\n",
      "[CV] colsample_by_tree=1, subsample=1 ................................\n",
      "[CV]  colsample_by_tree=1, subsample=1, score=(train=-0.002, test=-0.002), total= 2.1min\n"
     ]
    },
    {
     "name": "stderr",
     "output_type": "stream",
     "text": [
      "[Parallel(n_jobs=1)]: Done  80 out of  80 | elapsed: 167.5min finished\n"
     ]
    },
    {
     "data": {
      "text/plain": [
       "{'colsample_by_tree': 0.4, 'subsample': 1}"
      ]
     },
     "execution_count": 22,
     "metadata": {},
     "output_type": "execute_result"
    }
   ],
   "source": [
    "model_concedes5 = XGBClassifier(learning_rate=0.1, n_estimators=100, max_depth=4, min_child_weight=6, gamma=0.1,\n",
    "                                scale_pos_weight=1, verbosity=1, seed=42)\n",
    "params5 = dict(subsample = [0.4, 0.6, 0.8, 1], colsample_by_tree=[0.4, 0.6, 0.8, 1])\n",
    "grid_search5 = GridSearchCV(model_concedes5, params5, scoring='brier_score_loss', n_jobs=1, cv=cv, verbose=10,\n",
    "                            return_train_score=True)\n",
    "gs_results5 = grid_search5.fit(X_train, y_train)\n",
    "gs_results5.best_params_"
   ]
  },
  {
   "cell_type": "code",
   "execution_count": 37,
   "metadata": {},
   "outputs": [
    {
     "data": {
      "image/png": "[encoded data removed]",
      "text/plain": [
       "<Figure size 432x288 with 1 Axes>"
      ]
     },
     "metadata": {
      "needs_background": "light"
     },
     "output_type": "display_data"
    }
   ],
   "source": [
    "fig, ax = plot_grid_search(gs_results5.cv_results_)"
   ]
  },
  {
   "cell_type": "code",
   "execution_count": 23,
   "metadata": {
    "scrolled": true
   },
   "outputs": [
    {
     "name": "stdout",
     "output_type": "stream",
     "text": [
      "Fitting 5 folds for each of 36 candidates, totalling 180 fits\n",
      "[CV] reg_alpha=0, reg_lambda=0 .......................................\n"
     ]
    },
    {
     "name": "stderr",
     "output_type": "stream",
     "text": [
      "[Parallel(n_jobs=1)]: Using backend SequentialBackend with 1 concurrent workers.\n"
     ]
    },
    {
     "name": "stdout",
     "output_type": "stream",
     "text": [
      "[CV]  reg_alpha=0, reg_lambda=0, score=(train=-0.002, test=-0.002), total= 1.3min\n",
      "[CV] reg_alpha=0, reg_lambda=0 .......................................\n"
     ]
    },
    {
     "name": "stderr",
     "output_type": "stream",
     "text": [
      "[Parallel(n_jobs=1)]: Done   1 out of   1 | elapsed:  1.3min remaining:    0.0s\n"
     ]
    },
    {
     "name": "stdout",
     "output_type": "stream",
     "text": [
      "[CV]  reg_alpha=0, reg_lambda=0, score=(train=-0.002, test=-0.002), total= 1.3min\n",
      "[CV] reg_alpha=0, reg_lambda=0 .......................................\n"
     ]
    },
    {
     "name": "stderr",
     "output_type": "stream",
     "text": [
      "[Parallel(n_jobs=1)]: Done   2 out of   2 | elapsed:  2.7min remaining:    0.0s\n"
     ]
    },
    {
     "name": "stdout",
     "output_type": "stream",
     "text": [
      "[CV]  reg_alpha=0, reg_lambda=0, score=(train=-0.002, test=-0.002), total= 1.3min\n",
      "[CV] reg_alpha=0, reg_lambda=0 .......................................\n"
     ]
    },
    {
     "name": "stderr",
     "output_type": "stream",
     "text": [
      "[Parallel(n_jobs=1)]: Done   3 out of   3 | elapsed:  4.0min remaining:    0.0s\n"
     ]
    },
    {
     "name": "stdout",
     "output_type": "stream",
     "text": [
      "[CV]  reg_alpha=0, reg_lambda=0, score=(train=-0.002, test=-0.002), total= 1.3min\n",
      "[CV] reg_alpha=0, reg_lambda=0 .......................................\n"
     ]
    },
    {
     "name": "stderr",
     "output_type": "stream",
     "text": [
      "[Parallel(n_jobs=1)]: Done   4 out of   4 | elapsed:  5.4min remaining:    0.0s\n"
     ]
    },
    {
     "name": "stdout",
     "output_type": "stream",
     "text": [
      "[CV]  reg_alpha=0, reg_lambda=0, score=(train=-0.002, test=-0.002), total= 1.2min\n",
      "[CV] reg_alpha=0, reg_lambda=0.01 ....................................\n"
     ]
    },
    {
     "name": "stderr",
     "output_type": "stream",
     "text": [
      "[Parallel(n_jobs=1)]: Done   5 out of   5 | elapsed:  6.6min remaining:    0.0s\n"
     ]
    },
    {
     "name": "stdout",
     "output_type": "stream",
     "text": [
      "[CV]  reg_alpha=0, reg_lambda=0.01, score=(train=-0.002, test=-0.002), total= 1.3min\n",
      "[CV] reg_alpha=0, reg_lambda=0.01 ....................................\n"
     ]
    },
    {
     "name": "stderr",
     "output_type": "stream",
     "text": [
      "[Parallel(n_jobs=1)]: Done   6 out of   6 | elapsed:  8.0min remaining:    0.0s\n"
     ]
    },
    {
     "name": "stdout",
     "output_type": "stream",
     "text": [
      "[CV]  reg_alpha=0, reg_lambda=0.01, score=(train=-0.002, test=-0.002), total= 1.3min\n",
      "[CV] reg_alpha=0, reg_lambda=0.01 ....................................\n"
     ]
    },
    {
     "name": "stderr",
     "output_type": "stream",
     "text": [
      "[Parallel(n_jobs=1)]: Done   7 out of   7 | elapsed:  9.3min remaining:    0.0s\n"
     ]
    },
    {
     "name": "stdout",
     "output_type": "stream",
     "text": [
      "[CV]  reg_alpha=0, reg_lambda=0.01, score=(train=-0.002, test=-0.002), total= 1.3min\n",
      "[CV] reg_alpha=0, reg_lambda=0.01 ....................................\n"
     ]
    },
    {
     "name": "stderr",
     "output_type": "stream",
     "text": [
      "[Parallel(n_jobs=1)]: Done   8 out of   8 | elapsed: 10.7min remaining:    0.0s\n"
     ]
    },
    {
     "name": "stdout",
     "output_type": "stream",
     "text": [
      "[CV]  reg_alpha=0, reg_lambda=0.01, score=(train=-0.002, test=-0.002), total= 1.3min\n",
      "[CV] reg_alpha=0, reg_lambda=0.01 ....................................\n"
     ]
    },
    {
     "name": "stderr",
     "output_type": "stream",
     "text": [
      "[Parallel(n_jobs=1)]: Done   9 out of   9 | elapsed: 12.0min remaining:    0.0s\n"
     ]
    },
    {
     "name": "stdout",
     "output_type": "stream",
     "text": [
      "[CV]  reg_alpha=0, reg_lambda=0.01, score=(train=-0.002, test=-0.002), total= 1.2min\n",
      "[CV] reg_alpha=0, reg_lambda=0.1 .....................................\n",
      "[CV]  reg_alpha=0, reg_lambda=0.1, score=(train=-0.002, test=-0.002), total= 1.3min\n",
      "[CV] reg_alpha=0, reg_lambda=0.1 .....................................\n",
      "[CV]  reg_alpha=0, reg_lambda=0.1, score=(train=-0.002, test=-0.002), total= 1.3min\n",
      "[CV] reg_alpha=0, reg_lambda=0.1 .....................................\n",
      "[CV]  reg_alpha=0, reg_lambda=0.1, score=(train=-0.002, test=-0.002), total= 1.3min\n",
      "[CV] reg_alpha=0, reg_lambda=0.1 .....................................\n",
      "[CV]  reg_alpha=0, reg_lambda=0.1, score=(train=-0.002, test=-0.002), total= 1.3min\n",
      "[CV] reg_alpha=0, reg_lambda=0.1 .....................................\n",
      "[CV]  reg_alpha=0, reg_lambda=0.1, score=(train=-0.002, test=-0.002), total= 1.2min\n",
      "[CV] reg_alpha=0, reg_lambda=1 .......................................\n",
      "[CV]  reg_alpha=0, reg_lambda=1, score=(train=-0.002, test=-0.002), total= 1.3min\n",
      "[CV] reg_alpha=0, reg_lambda=1 .......................................\n",
      "[CV]  reg_alpha=0, reg_lambda=1, score=(train=-0.002, test=-0.002), total= 1.3min\n",
      "[CV] reg_alpha=0, reg_lambda=1 .......................................\n",
      "[CV]  reg_alpha=0, reg_lambda=1, score=(train=-0.002, test=-0.002), total= 1.3min\n",
      "[CV] reg_alpha=0, reg_lambda=1 .......................................\n",
      "[CV]  reg_alpha=0, reg_lambda=1, score=(train=-0.002, test=-0.002), total= 1.3min\n",
      "[CV] reg_alpha=0, reg_lambda=1 .......................................\n",
      "[CV]  reg_alpha=0, reg_lambda=1, score=(train=-0.002, test=-0.002), total= 1.2min\n",
      "[CV] reg_alpha=0, reg_lambda=10 ......................................\n",
      "[CV]  reg_alpha=0, reg_lambda=10, score=(train=-0.002, test=-0.002), total= 1.2min\n",
      "[CV] reg_alpha=0, reg_lambda=10 ......................................\n",
      "[CV]  reg_alpha=0, reg_lambda=10, score=(train=-0.002, test=-0.002), total= 1.2min\n",
      "[CV] reg_alpha=0, reg_lambda=10 ......................................\n",
      "[CV]  reg_alpha=0, reg_lambda=10, score=(train=-0.002, test=-0.002), total= 1.2min\n",
      "[CV] reg_alpha=0, reg_lambda=10 ......................................\n",
      "[CV]  reg_alpha=0, reg_lambda=10, score=(train=-0.002, test=-0.002), total= 1.2min\n",
      "[CV] reg_alpha=0, reg_lambda=10 ......................................\n",
      "[CV]  reg_alpha=0, reg_lambda=10, score=(train=-0.002, test=-0.002), total= 1.1min\n",
      "[CV] reg_alpha=0, reg_lambda=100.0 ...................................\n",
      "[CV]  reg_alpha=0, reg_lambda=100.0, score=(train=-0.002, test=-0.002), total= 1.1min\n",
      "[CV] reg_alpha=0, reg_lambda=100.0 ...................................\n",
      "[CV]  reg_alpha=0, reg_lambda=100.0, score=(train=-0.002, test=-0.002), total= 1.1min\n",
      "[CV] reg_alpha=0, reg_lambda=100.0 ...................................\n",
      "[CV]  reg_alpha=0, reg_lambda=100.0, score=(train=-0.002, test=-0.002), total= 1.1min\n",
      "[CV] reg_alpha=0, reg_lambda=100.0 ...................................\n",
      "[CV]  reg_alpha=0, reg_lambda=100.0, score=(train=-0.002, test=-0.002), total= 1.2min\n",
      "[CV] reg_alpha=0, reg_lambda=100.0 ...................................\n",
      "[CV]  reg_alpha=0, reg_lambda=100.0, score=(train=-0.002, test=-0.002), total= 1.1min\n",
      "[CV] reg_alpha=0.01, reg_lambda=0 ....................................\n",
      "[CV]  reg_alpha=0.01, reg_lambda=0, score=(train=-0.002, test=-0.002), total= 1.3min\n",
      "[CV] reg_alpha=0.01, reg_lambda=0 ....................................\n",
      "[CV]  reg_alpha=0.01, reg_lambda=0, score=(train=-0.002, test=-0.002), total= 1.4min\n",
      "[CV] reg_alpha=0.01, reg_lambda=0 ....................................\n",
      "[CV]  reg_alpha=0.01, reg_lambda=0, score=(train=-0.002, test=-0.002), total= 1.4min\n",
      "[CV] reg_alpha=0.01, reg_lambda=0 ....................................\n",
      "[CV]  reg_alpha=0.01, reg_lambda=0, score=(train=-0.002, test=-0.002), total= 1.4min\n",
      "[CV] reg_alpha=0.01, reg_lambda=0 ....................................\n",
      "[CV]  reg_alpha=0.01, reg_lambda=0, score=(train=-0.002, test=-0.002), total= 1.2min\n",
      "[CV] reg_alpha=0.01, reg_lambda=0.01 .................................\n",
      "[CV]  reg_alpha=0.01, reg_lambda=0.01, score=(train=-0.002, test=-0.002), total= 1.3min\n",
      "[CV] reg_alpha=0.01, reg_lambda=0.01 .................................\n",
      "[CV]  reg_alpha=0.01, reg_lambda=0.01, score=(train=-0.002, test=-0.002), total= 1.3min\n",
      "[CV] reg_alpha=0.01, reg_lambda=0.01 .................................\n",
      "[CV]  reg_alpha=0.01, reg_lambda=0.01, score=(train=-0.002, test=-0.002), total= 1.3min\n",
      "[CV] reg_alpha=0.01, reg_lambda=0.01 .................................\n",
      "[CV]  reg_alpha=0.01, reg_lambda=0.01, score=(train=-0.002, test=-0.002), total= 1.3min\n",
      "[CV] reg_alpha=0.01, reg_lambda=0.01 .................................\n",
      "[CV]  reg_alpha=0.01, reg_lambda=0.01, score=(train=-0.002, test=-0.002), total= 1.2min\n",
      "[CV] reg_alpha=0.01, reg_lambda=0.1 ..................................\n",
      "[CV]  reg_alpha=0.01, reg_lambda=0.1, score=(train=-0.002, test=-0.002), total= 1.3min\n",
      "[CV] reg_alpha=0.01, reg_lambda=0.1 ..................................\n",
      "[CV]  reg_alpha=0.01, reg_lambda=0.1, score=(train=-0.002, test=-0.002), total= 1.3min\n",
      "[CV] reg_alpha=0.01, reg_lambda=0.1 ..................................\n",
      "[CV]  reg_alpha=0.01, reg_lambda=0.1, score=(train=-0.002, test=-0.002), total= 1.3min\n",
      "[CV] reg_alpha=0.01, reg_lambda=0.1 ..................................\n",
      "[CV]  reg_alpha=0.01, reg_lambda=0.1, score=(train=-0.002, test=-0.002), total= 1.3min\n",
      "[CV] reg_alpha=0.01, reg_lambda=0.1 ..................................\n",
      "[CV]  reg_alpha=0.01, reg_lambda=0.1, score=(train=-0.002, test=-0.002), total= 1.2min\n",
      "[CV] reg_alpha=0.01, reg_lambda=1 ....................................\n",
      "[CV]  reg_alpha=0.01, reg_lambda=1, score=(train=-0.002, test=-0.002), total= 1.3min\n",
      "[CV] reg_alpha=0.01, reg_lambda=1 ....................................\n",
      "[CV]  reg_alpha=0.01, reg_lambda=1, score=(train=-0.002, test=-0.002), total= 1.3min\n",
      "[CV] reg_alpha=0.01, reg_lambda=1 ....................................\n",
      "[CV]  reg_alpha=0.01, reg_lambda=1, score=(train=-0.002, test=-0.002), total= 1.3min\n",
      "[CV] reg_alpha=0.01, reg_lambda=1 ....................................\n",
      "[CV]  reg_alpha=0.01, reg_lambda=1, score=(train=-0.002, test=-0.002), total= 1.3min\n",
      "[CV] reg_alpha=0.01, reg_lambda=1 ....................................\n",
      "[CV]  reg_alpha=0.01, reg_lambda=1, score=(train=-0.002, test=-0.002), total= 1.2min\n",
      "[CV] reg_alpha=0.01, reg_lambda=10 ...................................\n",
      "[CV]  reg_alpha=0.01, reg_lambda=10, score=(train=-0.002, test=-0.002), total= 1.2min\n",
      "[CV] reg_alpha=0.01, reg_lambda=10 ...................................\n",
      "[CV]  reg_alpha=0.01, reg_lambda=10, score=(train=-0.002, test=-0.002), total= 1.2min\n",
      "[CV] reg_alpha=0.01, reg_lambda=10 ...................................\n",
      "[CV]  reg_alpha=0.01, reg_lambda=10, score=(train=-0.002, test=-0.002), total= 1.2min\n",
      "[CV] reg_alpha=0.01, reg_lambda=10 ...................................\n",
      "[CV]  reg_alpha=0.01, reg_lambda=10, score=(train=-0.002, test=-0.002), total= 1.2min\n",
      "[CV] reg_alpha=0.01, reg_lambda=10 ...................................\n",
      "[CV]  reg_alpha=0.01, reg_lambda=10, score=(train=-0.002, test=-0.002), total= 1.1min\n",
      "[CV] reg_alpha=0.01, reg_lambda=100.0 ................................\n",
      "[CV]  reg_alpha=0.01, reg_lambda=100.0, score=(train=-0.002, test=-0.002), total= 1.2min\n",
      "[CV] reg_alpha=0.01, reg_lambda=100.0 ................................\n",
      "[CV]  reg_alpha=0.01, reg_lambda=100.0, score=(train=-0.002, test=-0.002), total= 1.1min\n",
      "[CV] reg_alpha=0.01, reg_lambda=100.0 ................................\n",
      "[CV]  reg_alpha=0.01, reg_lambda=100.0, score=(train=-0.002, test=-0.002), total= 1.1min\n",
      "[CV] reg_alpha=0.01, reg_lambda=100.0 ................................\n",
      "[CV]  reg_alpha=0.01, reg_lambda=100.0, score=(train=-0.002, test=-0.002), total= 1.1min\n",
      "[CV] reg_alpha=0.01, reg_lambda=100.0 ................................\n",
      "[CV]  reg_alpha=0.01, reg_lambda=100.0, score=(train=-0.002, test=-0.002), total= 1.1min\n",
      "[CV] reg_alpha=0.1, reg_lambda=0 .....................................\n",
      "[CV]  reg_alpha=0.1, reg_lambda=0, score=(train=-0.002, test=-0.002), total= 1.3min\n",
      "[CV] reg_alpha=0.1, reg_lambda=0 .....................................\n",
      "[CV]  reg_alpha=0.1, reg_lambda=0, score=(train=-0.002, test=-0.002), total= 1.3min\n",
      "[CV] reg_alpha=0.1, reg_lambda=0 .....................................\n",
      "[CV]  reg_alpha=0.1, reg_lambda=0, score=(train=-0.002, test=-0.002), total= 1.3min\n",
      "[CV] reg_alpha=0.1, reg_lambda=0 .....................................\n",
      "[CV]  reg_alpha=0.1, reg_lambda=0, score=(train=-0.002, test=-0.002), total= 1.3min\n",
      "[CV] reg_alpha=0.1, reg_lambda=0 .....................................\n",
      "[CV]  reg_alpha=0.1, reg_lambda=0, score=(train=-0.002, test=-0.002), total= 1.2min\n",
      "[CV] reg_alpha=0.1, reg_lambda=0.01 ..................................\n",
      "[CV]  reg_alpha=0.1, reg_lambda=0.01, score=(train=-0.002, test=-0.002), total= 1.3min\n",
      "[CV] reg_alpha=0.1, reg_lambda=0.01 ..................................\n",
      "[CV]  reg_alpha=0.1, reg_lambda=0.01, score=(train=-0.002, test=-0.002), total= 1.3min\n",
      "[CV] reg_alpha=0.1, reg_lambda=0.01 ..................................\n",
      "[CV]  reg_alpha=0.1, reg_lambda=0.01, score=(train=-0.002, test=-0.002), total= 1.3min\n",
      "[CV] reg_alpha=0.1, reg_lambda=0.01 ..................................\n",
      "[CV]  reg_alpha=0.1, reg_lambda=0.01, score=(train=-0.002, test=-0.002), total= 1.3min\n",
      "[CV] reg_alpha=0.1, reg_lambda=0.01 ..................................\n",
      "[CV]  reg_alpha=0.1, reg_lambda=0.01, score=(train=-0.002, test=-0.002), total= 1.2min\n",
      "[CV] reg_alpha=0.1, reg_lambda=0.1 ...................................\n",
      "[CV]  reg_alpha=0.1, reg_lambda=0.1, score=(train=-0.002, test=-0.002), total= 1.3min\n",
      "[CV] reg_alpha=0.1, reg_lambda=0.1 ...................................\n",
      "[CV]  reg_alpha=0.1, reg_lambda=0.1, score=(train=-0.002, test=-0.002), total= 1.3min\n",
      "[CV] reg_alpha=0.1, reg_lambda=0.1 ...................................\n",
      "[CV]  reg_alpha=0.1, reg_lambda=0.1, score=(train=-0.002, test=-0.002), total= 1.3min\n",
      "[CV] reg_alpha=0.1, reg_lambda=0.1 ...................................\n",
      "[CV]  reg_alpha=0.1, reg_lambda=0.1, score=(train=-0.002, test=-0.002), total= 1.3min\n",
      "[CV] reg_alpha=0.1, reg_lambda=0.1 ...................................\n",
      "[CV]  reg_alpha=0.1, reg_lambda=0.1, score=(train=-0.002, test=-0.002), total= 1.2min\n",
      "[CV] reg_alpha=0.1, reg_lambda=1 .....................................\n",
      "[CV]  reg_alpha=0.1, reg_lambda=1, score=(train=-0.002, test=-0.002), total= 1.3min\n",
      "[CV] reg_alpha=0.1, reg_lambda=1 .....................................\n",
      "[CV]  reg_alpha=0.1, reg_lambda=1, score=(train=-0.002, test=-0.002), total= 1.3min\n",
      "[CV] reg_alpha=0.1, reg_lambda=1 .....................................\n",
      "[CV]  reg_alpha=0.1, reg_lambda=1, score=(train=-0.002, test=-0.002), total= 1.3min\n",
      "[CV] reg_alpha=0.1, reg_lambda=1 .....................................\n",
      "[CV]  reg_alpha=0.1, reg_lambda=1, score=(train=-0.002, test=-0.002), total= 1.3min\n",
      "[CV] reg_alpha=0.1, reg_lambda=1 .....................................\n",
      "[CV]  reg_alpha=0.1, reg_lambda=1, score=(train=-0.002, test=-0.002), total= 1.4min\n",
      "[CV] reg_alpha=0.1, reg_lambda=10 ....................................\n",
      "[CV]  reg_alpha=0.1, reg_lambda=10, score=(train=-0.002, test=-0.002), total= 1.3min\n",
      "[CV] reg_alpha=0.1, reg_lambda=10 ....................................\n",
      "[CV]  reg_alpha=0.1, reg_lambda=10, score=(train=-0.002, test=-0.002), total= 1.2min\n",
      "[CV] reg_alpha=0.1, reg_lambda=10 ....................................\n",
      "[CV]  reg_alpha=0.1, reg_lambda=10, score=(train=-0.002, test=-0.002), total= 1.2min\n",
      "[CV] reg_alpha=0.1, reg_lambda=10 ....................................\n",
      "[CV]  reg_alpha=0.1, reg_lambda=10, score=(train=-0.002, test=-0.002), total= 1.2min\n",
      "[CV] reg_alpha=0.1, reg_lambda=10 ....................................\n",
      "[CV]  reg_alpha=0.1, reg_lambda=10, score=(train=-0.002, test=-0.002), total= 1.1min\n",
      "[CV] reg_alpha=0.1, reg_lambda=100.0 .................................\n",
      "[CV]  reg_alpha=0.1, reg_lambda=100.0, score=(train=-0.002, test=-0.002), total= 1.2min\n",
      "[CV] reg_alpha=0.1, reg_lambda=100.0 .................................\n",
      "[CV]  reg_alpha=0.1, reg_lambda=100.0, score=(train=-0.002, test=-0.002), total= 1.1min\n",
      "[CV] reg_alpha=0.1, reg_lambda=100.0 .................................\n",
      "[CV]  reg_alpha=0.1, reg_lambda=100.0, score=(train=-0.002, test=-0.002), total= 1.1min\n",
      "[CV] reg_alpha=0.1, reg_lambda=100.0 .................................\n",
      "[CV]  reg_alpha=0.1, reg_lambda=100.0, score=(train=-0.002, test=-0.002), total= 1.2min\n",
      "[CV] reg_alpha=0.1, reg_lambda=100.0 .................................\n",
      "[CV]  reg_alpha=0.1, reg_lambda=100.0, score=(train=-0.002, test=-0.002), total= 1.1min\n",
      "[CV] reg_alpha=1, reg_lambda=0 .......................................\n",
      "[CV]  reg_alpha=1, reg_lambda=0, score=(train=-0.002, test=-0.002), total= 1.3min\n",
      "[CV] reg_alpha=1, reg_lambda=0 .......................................\n",
      "[CV]  reg_alpha=1, reg_lambda=0, score=(train=-0.002, test=-0.002), total= 1.3min\n",
      "[CV] reg_alpha=1, reg_lambda=0 .......................................\n",
      "[CV]  reg_alpha=1, reg_lambda=0, score=(train=-0.002, test=-0.002), total= 1.3min\n",
      "[CV] reg_alpha=1, reg_lambda=0 .......................................\n",
      "[CV]  reg_alpha=1, reg_lambda=0, score=(train=-0.002, test=-0.002), total= 1.3min\n",
      "[CV] reg_alpha=1, reg_lambda=0 .......................................\n",
      "[CV]  reg_alpha=1, reg_lambda=0, score=(train=-0.002, test=-0.002), total= 1.2min\n",
      "[CV] reg_alpha=1, reg_lambda=0.01 ....................................\n",
      "[CV]  reg_alpha=1, reg_lambda=0.01, score=(train=-0.002, test=-0.002), total= 1.3min\n",
      "[CV] reg_alpha=1, reg_lambda=0.01 ....................................\n",
      "[CV]  reg_alpha=1, reg_lambda=0.01, score=(train=-0.002, test=-0.002), total= 1.3min\n",
      "[CV] reg_alpha=1, reg_lambda=0.01 ....................................\n",
      "[CV]  reg_alpha=1, reg_lambda=0.01, score=(train=-0.002, test=-0.002), total= 1.3min\n",
      "[CV] reg_alpha=1, reg_lambda=0.01 ....................................\n",
      "[CV]  reg_alpha=1, reg_lambda=0.01, score=(train=-0.002, test=-0.002), total= 1.3min\n",
      "[CV] reg_alpha=1, reg_lambda=0.01 ....................................\n",
      "[CV]  reg_alpha=1, reg_lambda=0.01, score=(train=-0.002, test=-0.002), total= 1.2min\n",
      "[CV] reg_alpha=1, reg_lambda=0.1 .....................................\n",
      "[CV]  reg_alpha=1, reg_lambda=0.1, score=(train=-0.002, test=-0.002), total= 1.3min\n",
      "[CV] reg_alpha=1, reg_lambda=0.1 .....................................\n",
      "[CV]  reg_alpha=1, reg_lambda=0.1, score=(train=-0.002, test=-0.002), total= 1.3min\n",
      "[CV] reg_alpha=1, reg_lambda=0.1 .....................................\n",
      "[CV]  reg_alpha=1, reg_lambda=0.1, score=(train=-0.002, test=-0.002), total= 1.3min\n",
      "[CV] reg_alpha=1, reg_lambda=0.1 .....................................\n",
      "[CV]  reg_alpha=1, reg_lambda=0.1, score=(train=-0.002, test=-0.002), total= 1.3min\n",
      "[CV] reg_alpha=1, reg_lambda=0.1 .....................................\n",
      "[CV]  reg_alpha=1, reg_lambda=0.1, score=(train=-0.002, test=-0.002), total= 1.2min\n",
      "[CV] reg_alpha=1, reg_lambda=1 .......................................\n",
      "[CV]  reg_alpha=1, reg_lambda=1, score=(train=-0.002, test=-0.002), total= 1.2min\n",
      "[CV] reg_alpha=1, reg_lambda=1 .......................................\n",
      "[CV]  reg_alpha=1, reg_lambda=1, score=(train=-0.002, test=-0.002), total= 1.3min\n",
      "[CV] reg_alpha=1, reg_lambda=1 .......................................\n",
      "[CV]  reg_alpha=1, reg_lambda=1, score=(train=-0.002, test=-0.002), total= 1.2min\n",
      "[CV] reg_alpha=1, reg_lambda=1 .......................................\n",
      "[CV]  reg_alpha=1, reg_lambda=1, score=(train=-0.002, test=-0.002), total= 1.3min\n",
      "[CV] reg_alpha=1, reg_lambda=1 .......................................\n",
      "[CV]  reg_alpha=1, reg_lambda=1, score=(train=-0.002, test=-0.002), total= 1.2min\n",
      "[CV] reg_alpha=1, reg_lambda=10 ......................................\n",
      "[CV]  reg_alpha=1, reg_lambda=10, score=(train=-0.002, test=-0.002), total= 1.2min\n",
      "[CV] reg_alpha=1, reg_lambda=10 ......................................\n",
      "[CV]  reg_alpha=1, reg_lambda=10, score=(train=-0.002, test=-0.002), total= 1.2min\n",
      "[CV] reg_alpha=1, reg_lambda=10 ......................................\n",
      "[CV]  reg_alpha=1, reg_lambda=10, score=(train=-0.002, test=-0.002), total= 1.2min\n",
      "[CV] reg_alpha=1, reg_lambda=10 ......................................\n",
      "[CV]  reg_alpha=1, reg_lambda=10, score=(train=-0.002, test=-0.002), total= 1.2min\n",
      "[CV] reg_alpha=1, reg_lambda=10 ......................................\n",
      "[CV]  reg_alpha=1, reg_lambda=10, score=(train=-0.002, test=-0.002), total= 1.1min\n",
      "[CV] reg_alpha=1, reg_lambda=100.0 ...................................\n",
      "[CV]  reg_alpha=1, reg_lambda=100.0, score=(train=-0.002, test=-0.002), total= 1.2min\n",
      "[CV] reg_alpha=1, reg_lambda=100.0 ...................................\n",
      "[CV]  reg_alpha=1, reg_lambda=100.0, score=(train=-0.002, test=-0.002), total= 1.1min\n",
      "[CV] reg_alpha=1, reg_lambda=100.0 ...................................\n",
      "[CV]  reg_alpha=1, reg_lambda=100.0, score=(train=-0.002, test=-0.002), total= 1.1min\n",
      "[CV] reg_alpha=1, reg_lambda=100.0 ...................................\n",
      "[CV]  reg_alpha=1, reg_lambda=100.0, score=(train=-0.002, test=-0.002), total= 1.1min\n",
      "[CV] reg_alpha=1, reg_lambda=100.0 ...................................\n",
      "[CV]  reg_alpha=1, reg_lambda=100.0, score=(train=-0.002, test=-0.002), total= 1.1min\n",
      "[CV] reg_alpha=10, reg_lambda=0 ......................................\n",
      "[CV]  reg_alpha=10, reg_lambda=0, score=(train=-0.002, test=-0.002), total= 1.2min\n",
      "[CV] reg_alpha=10, reg_lambda=0 ......................................\n",
      "[CV]  reg_alpha=10, reg_lambda=0, score=(train=-0.002, test=-0.002), total= 1.2min\n",
      "[CV] reg_alpha=10, reg_lambda=0 ......................................\n",
      "[CV]  reg_alpha=10, reg_lambda=0, score=(train=-0.002, test=-0.002), total= 1.2min\n",
      "[CV] reg_alpha=10, reg_lambda=0 ......................................\n",
      "[CV]  reg_alpha=10, reg_lambda=0, score=(train=-0.002, test=-0.002), total= 1.2min\n",
      "[CV] reg_alpha=10, reg_lambda=0 ......................................\n",
      "[CV]  reg_alpha=10, reg_lambda=0, score=(train=-0.002, test=-0.002), total= 1.1min\n",
      "[CV] reg_alpha=10, reg_lambda=0.01 ...................................\n",
      "[CV]  reg_alpha=10, reg_lambda=0.01, score=(train=-0.002, test=-0.002), total= 1.2min\n",
      "[CV] reg_alpha=10, reg_lambda=0.01 ...................................\n",
      "[CV]  reg_alpha=10, reg_lambda=0.01, score=(train=-0.002, test=-0.002), total= 1.2min\n",
      "[CV] reg_alpha=10, reg_lambda=0.01 ...................................\n",
      "[CV]  reg_alpha=10, reg_lambda=0.01, score=(train=-0.002, test=-0.002), total= 1.2min\n",
      "[CV] reg_alpha=10, reg_lambda=0.01 ...................................\n",
      "[CV]  reg_alpha=10, reg_lambda=0.01, score=(train=-0.002, test=-0.002), total= 1.2min\n",
      "[CV] reg_alpha=10, reg_lambda=0.01 ...................................\n",
      "[CV]  reg_alpha=10, reg_lambda=0.01, score=(train=-0.002, test=-0.002), total= 1.1min\n",
      "[CV] reg_alpha=10, reg_lambda=0.1 ....................................\n",
      "[CV]  reg_alpha=10, reg_lambda=0.1, score=(train=-0.002, test=-0.002), total= 1.2min\n",
      "[CV] reg_alpha=10, reg_lambda=0.1 ....................................\n",
      "[CV]  reg_alpha=10, reg_lambda=0.1, score=(train=-0.002, test=-0.002), total= 1.2min\n",
      "[CV] reg_alpha=10, reg_lambda=0.1 ....................................\n",
      "[CV]  reg_alpha=10, reg_lambda=0.1, score=(train=-0.002, test=-0.002), total= 1.2min\n",
      "[CV] reg_alpha=10, reg_lambda=0.1 ....................................\n",
      "[CV]  reg_alpha=10, reg_lambda=0.1, score=(train=-0.002, test=-0.002), total= 1.2min\n",
      "[CV] reg_alpha=10, reg_lambda=0.1 ....................................\n",
      "[CV]  reg_alpha=10, reg_lambda=0.1, score=(train=-0.002, test=-0.002), total= 1.1min\n",
      "[CV] reg_alpha=10, reg_lambda=1 ......................................\n",
      "[CV]  reg_alpha=10, reg_lambda=1, score=(train=-0.002, test=-0.002), total= 1.2min\n",
      "[CV] reg_alpha=10, reg_lambda=1 ......................................\n",
      "[CV]  reg_alpha=10, reg_lambda=1, score=(train=-0.002, test=-0.002), total= 1.2min\n",
      "[CV] reg_alpha=10, reg_lambda=1 ......................................\n",
      "[CV]  reg_alpha=10, reg_lambda=1, score=(train=-0.002, test=-0.002), total= 1.2min\n",
      "[CV] reg_alpha=10, reg_lambda=1 ......................................\n",
      "[CV]  reg_alpha=10, reg_lambda=1, score=(train=-0.002, test=-0.002), total= 1.2min\n",
      "[CV] reg_alpha=10, reg_lambda=1 ......................................\n",
      "[CV]  reg_alpha=10, reg_lambda=1, score=(train=-0.002, test=-0.002), total= 1.1min\n",
      "[CV] reg_alpha=10, reg_lambda=10 .....................................\n",
      "[CV]  reg_alpha=10, reg_lambda=10, score=(train=-0.002, test=-0.002), total= 1.2min\n",
      "[CV] reg_alpha=10, reg_lambda=10 .....................................\n",
      "[CV]  reg_alpha=10, reg_lambda=10, score=(train=-0.002, test=-0.002), total= 1.2min\n",
      "[CV] reg_alpha=10, reg_lambda=10 .....................................\n",
      "[CV]  reg_alpha=10, reg_lambda=10, score=(train=-0.002, test=-0.002), total= 1.1min\n",
      "[CV] reg_alpha=10, reg_lambda=10 .....................................\n",
      "[CV]  reg_alpha=10, reg_lambda=10, score=(train=-0.002, test=-0.002), total= 1.2min\n",
      "[CV] reg_alpha=10, reg_lambda=10 .....................................\n",
      "[CV]  reg_alpha=10, reg_lambda=10, score=(train=-0.002, test=-0.002), total= 1.1min\n",
      "[CV] reg_alpha=10, reg_lambda=100.0 ..................................\n",
      "[CV]  reg_alpha=10, reg_lambda=100.0, score=(train=-0.002, test=-0.002), total= 1.1min\n",
      "[CV] reg_alpha=10, reg_lambda=100.0 ..................................\n",
      "[CV]  reg_alpha=10, reg_lambda=100.0, score=(train=-0.002, test=-0.002), total= 1.2min\n",
      "[CV] reg_alpha=10, reg_lambda=100.0 ..................................\n",
      "[CV]  reg_alpha=10, reg_lambda=100.0, score=(train=-0.002, test=-0.002), total= 1.1min\n",
      "[CV] reg_alpha=10, reg_lambda=100.0 ..................................\n",
      "[CV]  reg_alpha=10, reg_lambda=100.0, score=(train=-0.002, test=-0.002), total= 1.1min\n",
      "[CV] reg_alpha=10, reg_lambda=100.0 ..................................\n",
      "[CV]  reg_alpha=10, reg_lambda=100.0, score=(train=-0.002, test=-0.002), total= 1.1min\n",
      "[CV] reg_alpha=100.0, reg_lambda=0 ...................................\n",
      "[CV]  reg_alpha=100.0, reg_lambda=0, score=(train=-0.002, test=-0.002), total= 1.1min\n",
      "[CV] reg_alpha=100.0, reg_lambda=0 ...................................\n",
      "[CV]  reg_alpha=100.0, reg_lambda=0, score=(train=-0.002, test=-0.002), total= 1.1min\n",
      "[CV] reg_alpha=100.0, reg_lambda=0 ...................................\n",
      "[CV]  reg_alpha=100.0, reg_lambda=0, score=(train=-0.002, test=-0.002), total= 1.1min\n",
      "[CV] reg_alpha=100.0, reg_lambda=0 ...................................\n",
      "[CV]  reg_alpha=100.0, reg_lambda=0, score=(train=-0.002, test=-0.002), total= 1.1min\n",
      "[CV] reg_alpha=100.0, reg_lambda=0 ...................................\n",
      "[CV]  reg_alpha=100.0, reg_lambda=0, score=(train=-0.002, test=-0.002), total= 1.1min\n",
      "[CV] reg_alpha=100.0, reg_lambda=0.01 ................................\n",
      "[CV]  reg_alpha=100.0, reg_lambda=0.01, score=(train=-0.002, test=-0.002), total= 1.1min\n",
      "[CV] reg_alpha=100.0, reg_lambda=0.01 ................................\n",
      "[CV]  reg_alpha=100.0, reg_lambda=0.01, score=(train=-0.002, test=-0.002), total= 1.1min\n",
      "[CV] reg_alpha=100.0, reg_lambda=0.01 ................................\n",
      "[CV]  reg_alpha=100.0, reg_lambda=0.01, score=(train=-0.002, test=-0.002), total= 1.1min\n",
      "[CV] reg_alpha=100.0, reg_lambda=0.01 ................................\n",
      "[CV]  reg_alpha=100.0, reg_lambda=0.01, score=(train=-0.002, test=-0.002), total= 1.1min\n",
      "[CV] reg_alpha=100.0, reg_lambda=0.01 ................................\n",
      "[CV]  reg_alpha=100.0, reg_lambda=0.01, score=(train=-0.002, test=-0.002), total= 1.1min\n",
      "[CV] reg_alpha=100.0, reg_lambda=0.1 .................................\n",
      "[CV]  reg_alpha=100.0, reg_lambda=0.1, score=(train=-0.002, test=-0.002), total= 1.1min\n",
      "[CV] reg_alpha=100.0, reg_lambda=0.1 .................................\n",
      "[CV]  reg_alpha=100.0, reg_lambda=0.1, score=(train=-0.002, test=-0.002), total= 1.1min\n",
      "[CV] reg_alpha=100.0, reg_lambda=0.1 .................................\n",
      "[CV]  reg_alpha=100.0, reg_lambda=0.1, score=(train=-0.002, test=-0.002), total= 1.1min\n",
      "[CV] reg_alpha=100.0, reg_lambda=0.1 .................................\n",
      "[CV]  reg_alpha=100.0, reg_lambda=0.1, score=(train=-0.002, test=-0.002), total= 1.1min\n",
      "[CV] reg_alpha=100.0, reg_lambda=0.1 .................................\n",
      "[CV]  reg_alpha=100.0, reg_lambda=0.1, score=(train=-0.002, test=-0.002), total= 1.1min\n",
      "[CV] reg_alpha=100.0, reg_lambda=1 ...................................\n",
      "[CV]  reg_alpha=100.0, reg_lambda=1, score=(train=-0.002, test=-0.002), total= 1.1min\n",
      "[CV] reg_alpha=100.0, reg_lambda=1 ...................................\n",
      "[CV]  reg_alpha=100.0, reg_lambda=1, score=(train=-0.002, test=-0.002), total= 1.2min\n",
      "[CV] reg_alpha=100.0, reg_lambda=1 ...................................\n",
      "[CV]  reg_alpha=100.0, reg_lambda=1, score=(train=-0.002, test=-0.002), total= 1.2min\n",
      "[CV] reg_alpha=100.0, reg_lambda=1 ...................................\n",
      "[CV]  reg_alpha=100.0, reg_lambda=1, score=(train=-0.002, test=-0.002), total= 1.2min\n",
      "[CV] reg_alpha=100.0, reg_lambda=1 ...................................\n",
      "[CV]  reg_alpha=100.0, reg_lambda=1, score=(train=-0.002, test=-0.002), total= 1.1min\n",
      "[CV] reg_alpha=100.0, reg_lambda=10 ..................................\n",
      "[CV]  reg_alpha=100.0, reg_lambda=10, score=(train=-0.002, test=-0.002), total= 1.1min\n",
      "[CV] reg_alpha=100.0, reg_lambda=10 ..................................\n",
      "[CV]  reg_alpha=100.0, reg_lambda=10, score=(train=-0.002, test=-0.002), total= 1.2min\n",
      "[CV] reg_alpha=100.0, reg_lambda=10 ..................................\n",
      "[CV]  reg_alpha=100.0, reg_lambda=10, score=(train=-0.002, test=-0.002), total= 1.1min\n",
      "[CV] reg_alpha=100.0, reg_lambda=10 ..................................\n",
      "[CV]  reg_alpha=100.0, reg_lambda=10, score=(train=-0.002, test=-0.002), total= 1.1min\n",
      "[CV] reg_alpha=100.0, reg_lambda=10 ..................................\n",
      "[CV]  reg_alpha=100.0, reg_lambda=10, score=(train=-0.002, test=-0.002), total= 1.0min\n",
      "[CV] reg_alpha=100.0, reg_lambda=100.0 ...............................\n",
      "[CV]  reg_alpha=100.0, reg_lambda=100.0, score=(train=-0.002, test=-0.002), total= 1.1min\n",
      "[CV] reg_alpha=100.0, reg_lambda=100.0 ...............................\n",
      "[CV]  reg_alpha=100.0, reg_lambda=100.0, score=(train=-0.002, test=-0.002), total= 1.1min\n",
      "[CV] reg_alpha=100.0, reg_lambda=100.0 ...............................\n",
      "[CV]  reg_alpha=100.0, reg_lambda=100.0, score=(train=-0.002, test=-0.002), total= 1.1min\n",
      "[CV] reg_alpha=100.0, reg_lambda=100.0 ...............................\n",
      "[CV]  reg_alpha=100.0, reg_lambda=100.0, score=(train=-0.002, test=-0.002), total= 1.1min\n",
      "[CV] reg_alpha=100.0, reg_lambda=100.0 ...............................\n",
      "[CV]  reg_alpha=100.0, reg_lambda=100.0, score=(train=-0.002, test=-0.002), total= 1.1min\n"
     ]
    },
    {
     "name": "stderr",
     "output_type": "stream",
     "text": [
      "[Parallel(n_jobs=1)]: Done 180 out of 180 | elapsed: 222.3min finished\n"
     ]
    },
    {
     "data": {
      "text/plain": [
       "{'reg_alpha': 0, 'reg_lambda': 0.1}"
      ]
     },
     "execution_count": 23,
     "metadata": {},
     "output_type": "execute_result"
    }
   ],
   "source": [
    "model_concedes6 = XGBClassifier(learning_rate=0.1, n_estimators=100, max_depth=4, min_child_weight=6, gamma=0.1,\n",
    "                              subsample=1, colsample_bytree=0.4, scale_pos_weight=1, verbosity=1, seed=42)\n",
    "params6 = dict(reg_alpha=[0, 1e-2, 1e-1, 1, 10, 1e2], reg_lambda=[0, 1e-2, 1e-1, 1, 10, 1e2])\n",
    "grid_search6 = GridSearchCV(model_concedes6, params6, scoring='brier_score_loss', n_jobs=1, cv=cv, verbose=10,\n",
    "                            return_train_score=True)\n",
    "gs_results6 = grid_search6.fit(X_train, y_train)\n",
    "gs_results6.best_params_"
   ]
  },
  {
   "cell_type": "code",
   "execution_count": 24,
   "metadata": {},
   "outputs": [
    {
     "data": {
      "image/png": "[encoded data removed]",
      "text/plain": [
       "<Figure size 432x288 with 1 Axes>"
      ]
     },
     "metadata": {
      "needs_background": "light"
     },
     "output_type": "display_data"
    }
   ],
   "source": [
    "fig, ax = plot_grid_search(gs_results6.cv_results_)"
   ]
  },
  {
   "cell_type": "code",
   "execution_count": 25,
   "metadata": {
    "scrolled": true
   },
   "outputs": [
    {
     "name": "stdout",
     "output_type": "stream",
     "text": [
      "Fitting 5 folds for each of 12 candidates, totalling 60 fits\n",
      "[CV] learning_rate=0.01, n_estimators=100 ............................\n"
     ]
    },
    {
     "name": "stderr",
     "output_type": "stream",
     "text": [
      "[Parallel(n_jobs=1)]: Using backend SequentialBackend with 1 concurrent workers.\n"
     ]
    },
    {
     "name": "stdout",
     "output_type": "stream",
     "text": [
      "[CV]  learning_rate=0.01, n_estimators=100, score=(train=-0.035, test=-0.035), total= 2.1min\n"
     ]
    },
    {
     "name": "stderr",
     "output_type": "stream",
     "text": [
      "[Parallel(n_jobs=1)]: Done   1 out of   1 | elapsed:  2.1min remaining:    0.0s\n"
     ]
    },
    {
     "name": "stdout",
     "output_type": "stream",
     "text": [
      "[CV] learning_rate=0.01, n_estimators=100 ............................\n",
      "[CV]  learning_rate=0.01, n_estimators=100, score=(train=-0.035, test=-0.035), total= 2.1min\n"
     ]
    },
    {
     "name": "stderr",
     "output_type": "stream",
     "text": [
      "[Parallel(n_jobs=1)]: Done   2 out of   2 | elapsed:  4.3min remaining:    0.0s\n"
     ]
    },
    {
     "name": "stdout",
     "output_type": "stream",
     "text": [
      "[CV] learning_rate=0.01, n_estimators=100 ............................\n",
      "[CV]  learning_rate=0.01, n_estimators=100, score=(train=-0.035, test=-0.035), total= 2.1min\n"
     ]
    },
    {
     "name": "stderr",
     "output_type": "stream",
     "text": [
      "[Parallel(n_jobs=1)]: Done   3 out of   3 | elapsed:  6.4min remaining:    0.0s\n"
     ]
    },
    {
     "name": "stdout",
     "output_type": "stream",
     "text": [
      "[CV] learning_rate=0.01, n_estimators=100 ............................\n",
      "[CV]  learning_rate=0.01, n_estimators=100, score=(train=-0.035, test=-0.035), total= 2.1min\n"
     ]
    },
    {
     "name": "stderr",
     "output_type": "stream",
     "text": [
      "[Parallel(n_jobs=1)]: Done   4 out of   4 | elapsed:  8.5min remaining:    0.0s\n"
     ]
    },
    {
     "name": "stdout",
     "output_type": "stream",
     "text": [
      "[CV] learning_rate=0.01, n_estimators=100 ............................\n",
      "[CV]  learning_rate=0.01, n_estimators=100, score=(train=-0.035, test=-0.035), total= 1.9min\n"
     ]
    },
    {
     "name": "stderr",
     "output_type": "stream",
     "text": [
      "[Parallel(n_jobs=1)]: Done   5 out of   5 | elapsed: 10.5min remaining:    0.0s\n"
     ]
    },
    {
     "name": "stdout",
     "output_type": "stream",
     "text": [
      "[CV] learning_rate=0.01, n_estimators=500 ............................\n",
      "[CV]  learning_rate=0.01, n_estimators=500, score=(train=-0.002, test=-0.002), total= 9.2min\n",
      "[CV] learning_rate=0.01, n_estimators=500 ............................\n"
     ]
    },
    {
     "name": "stderr",
     "output_type": "stream",
     "text": [
      "[Parallel(n_jobs=1)]: Done   6 out of   6 | elapsed: 19.8min remaining:    0.0s\n"
     ]
    },
    {
     "name": "stdout",
     "output_type": "stream",
     "text": [
      "[CV]  learning_rate=0.01, n_estimators=500, score=(train=-0.002, test=-0.002), total= 6.3min\n",
      "[CV] learning_rate=0.01, n_estimators=500 ............................\n"
     ]
    },
    {
     "name": "stderr",
     "output_type": "stream",
     "text": [
      "[Parallel(n_jobs=1)]: Done   7 out of   7 | elapsed: 26.2min remaining:    0.0s\n"
     ]
    },
    {
     "name": "stdout",
     "output_type": "stream",
     "text": [
      "[CV]  learning_rate=0.01, n_estimators=500, score=(train=-0.002, test=-0.002), total= 6.4min\n",
      "[CV] learning_rate=0.01, n_estimators=500 ............................\n"
     ]
    },
    {
     "name": "stderr",
     "output_type": "stream",
     "text": [
      "[Parallel(n_jobs=1)]: Done   8 out of   8 | elapsed: 32.6min remaining:    0.0s\n"
     ]
    },
    {
     "name": "stdout",
     "output_type": "stream",
     "text": [
      "[CV]  learning_rate=0.01, n_estimators=500, score=(train=-0.002, test=-0.002), total= 6.4min\n",
      "[CV] learning_rate=0.01, n_estimators=500 ............................\n"
     ]
    },
    {
     "name": "stderr",
     "output_type": "stream",
     "text": [
      "[Parallel(n_jobs=1)]: Done   9 out of   9 | elapsed: 39.0min remaining:    0.0s\n"
     ]
    },
    {
     "name": "stdout",
     "output_type": "stream",
     "text": [
      "[CV]  learning_rate=0.01, n_estimators=500, score=(train=-0.002, test=-0.002), total= 6.0min\n",
      "[CV] learning_rate=0.01, n_estimators=1000 ...........................\n",
      "[CV]  learning_rate=0.01, n_estimators=1000, score=(train=-0.002, test=-0.002), total=12.7min\n",
      "[CV] learning_rate=0.01, n_estimators=1000 ...........................\n",
      "[CV]  learning_rate=0.01, n_estimators=1000, score=(train=-0.002, test=-0.002), total=12.6min\n",
      "[CV] learning_rate=0.01, n_estimators=1000 ...........................\n",
      "[CV]  learning_rate=0.01, n_estimators=1000, score=(train=-0.002, test=-0.002), total=12.7min\n",
      "[CV] learning_rate=0.01, n_estimators=1000 ...........................\n",
      "[CV]  learning_rate=0.01, n_estimators=1000, score=(train=-0.002, test=-0.002), total=12.6min\n",
      "[CV] learning_rate=0.01, n_estimators=1000 ...........................\n",
      "[CV]  learning_rate=0.01, n_estimators=1000, score=(train=-0.002, test=-0.002), total=11.9min\n",
      "[CV] learning_rate=0.01, n_estimators=2500 ...........................\n",
      "[CV]  learning_rate=0.01, n_estimators=2500, score=(train=-0.001, test=-0.002), total=34.2min\n",
      "[CV] learning_rate=0.01, n_estimators=2500 ...........................\n",
      "[CV]  learning_rate=0.01, n_estimators=2500, score=(train=-0.001, test=-0.002), total=50.2min\n",
      "[CV] learning_rate=0.01, n_estimators=2500 ...........................\n",
      "[CV]  learning_rate=0.01, n_estimators=2500, score=(train=-0.001, test=-0.002), total=69.9min\n",
      "[CV] learning_rate=0.01, n_estimators=2500 ...........................\n",
      "[CV]  learning_rate=0.01, n_estimators=2500, score=(train=-0.001, test=-0.002), total=49.8min\n",
      "[CV] learning_rate=0.01, n_estimators=2500 ...........................\n",
      "[CV]  learning_rate=0.01, n_estimators=2500, score=(train=-0.001, test=-0.002), total=32.2min\n",
      "[CV] learning_rate=0.05, n_estimators=100 ............................\n",
      "[CV]  learning_rate=0.05, n_estimators=100, score=(train=-0.002, test=-0.002), total= 1.3min\n",
      "[CV] learning_rate=0.05, n_estimators=100 ............................\n",
      "[CV]  learning_rate=0.05, n_estimators=100, score=(train=-0.002, test=-0.002), total= 1.3min\n",
      "[CV] learning_rate=0.05, n_estimators=100 ............................\n",
      "[CV]  learning_rate=0.05, n_estimators=100, score=(train=-0.002, test=-0.002), total= 1.3min\n",
      "[CV] learning_rate=0.05, n_estimators=100 ............................\n",
      "[CV]  learning_rate=0.05, n_estimators=100, score=(train=-0.002, test=-0.002), total= 1.3min\n",
      "[CV] learning_rate=0.05, n_estimators=100 ............................\n",
      "[CV]  learning_rate=0.05, n_estimators=100, score=(train=-0.002, test=-0.002), total= 1.2min\n",
      "[CV] learning_rate=0.05, n_estimators=500 ............................\n",
      "[CV]  learning_rate=0.05, n_estimators=500, score=(train=-0.001, test=-0.002), total= 6.4min\n",
      "[CV] learning_rate=0.05, n_estimators=500 ............................\n",
      "[CV]  learning_rate=0.05, n_estimators=500, score=(train=-0.001, test=-0.002), total= 6.4min\n",
      "[CV] learning_rate=0.05, n_estimators=500 ............................\n",
      "[CV]  learning_rate=0.05, n_estimators=500, score=(train=-0.001, test=-0.002), total= 6.4min\n",
      "[CV] learning_rate=0.05, n_estimators=500 ............................\n",
      "[CV]  learning_rate=0.05, n_estimators=500, score=(train=-0.001, test=-0.002), total= 6.4min\n",
      "[CV] learning_rate=0.05, n_estimators=500 ............................\n",
      "[CV]  learning_rate=0.05, n_estimators=500, score=(train=-0.001, test=-0.002), total= 6.0min\n",
      "[CV] learning_rate=0.05, n_estimators=1000 ...........................\n",
      "[CV]  learning_rate=0.05, n_estimators=1000, score=(train=-0.001, test=-0.002), total=13.0min\n",
      "[CV] learning_rate=0.05, n_estimators=1000 ...........................\n",
      "[CV]  learning_rate=0.05, n_estimators=1000, score=(train=-0.001, test=-0.002), total=20.0min\n",
      "[CV] learning_rate=0.05, n_estimators=1000 ...........................\n",
      "[CV]  learning_rate=0.05, n_estimators=1000, score=(train=-0.001, test=-0.002), total=20.0min\n",
      "[CV] learning_rate=0.05, n_estimators=1000 ...........................\n",
      "[CV]  learning_rate=0.05, n_estimators=1000, score=(train=-0.001, test=-0.002), total=20.2min\n",
      "[CV] learning_rate=0.05, n_estimators=1000 ...........................\n",
      "[CV]  learning_rate=0.05, n_estimators=1000, score=(train=-0.001, test=-0.002), total=18.8min\n",
      "[CV] learning_rate=0.05, n_estimators=2500 ...........................\n",
      "[CV]  learning_rate=0.05, n_estimators=2500, score=(train=-0.001, test=-0.002), total=49.7min\n",
      "[CV] learning_rate=0.05, n_estimators=2500 ...........................\n",
      "[CV]  learning_rate=0.05, n_estimators=2500, score=(train=-0.001, test=-0.002), total=31.3min\n",
      "[CV] learning_rate=0.05, n_estimators=2500 ...........................\n",
      "[CV]  learning_rate=0.05, n_estimators=2500, score=(train=-0.001, test=-0.002), total=31.6min\n",
      "[CV] learning_rate=0.05, n_estimators=2500 ...........................\n",
      "[CV]  learning_rate=0.05, n_estimators=2500, score=(train=-0.001, test=-0.002), total=31.5min\n",
      "[CV] learning_rate=0.05, n_estimators=2500 ...........................\n",
      "[CV]  learning_rate=0.05, n_estimators=2500, score=(train=-0.001, test=-0.002), total=29.5min\n",
      "[CV] learning_rate=0.1, n_estimators=100 .............................\n",
      "[CV]  learning_rate=0.1, n_estimators=100, score=(train=-0.002, test=-0.002), total= 1.3min\n",
      "[CV] learning_rate=0.1, n_estimators=100 .............................\n",
      "[CV]  learning_rate=0.1, n_estimators=100, score=(train=-0.002, test=-0.002), total= 1.3min\n",
      "[CV] learning_rate=0.1, n_estimators=100 .............................\n",
      "[CV]  learning_rate=0.1, n_estimators=100, score=(train=-0.002, test=-0.002), total= 1.3min\n",
      "[CV] learning_rate=0.1, n_estimators=100 .............................\n",
      "[CV]  learning_rate=0.1, n_estimators=100, score=(train=-0.002, test=-0.002), total= 1.3min\n",
      "[CV] learning_rate=0.1, n_estimators=100 .............................\n",
      "[CV]  learning_rate=0.1, n_estimators=100, score=(train=-0.002, test=-0.002), total= 1.3min\n",
      "[CV] learning_rate=0.1, n_estimators=500 .............................\n",
      "[CV]  learning_rate=0.1, n_estimators=500, score=(train=-0.001, test=-0.002), total= 6.4min\n",
      "[CV] learning_rate=0.1, n_estimators=500 .............................\n",
      "[CV]  learning_rate=0.1, n_estimators=500, score=(train=-0.001, test=-0.002), total= 6.3min\n",
      "[CV] learning_rate=0.1, n_estimators=500 .............................\n",
      "[CV]  learning_rate=0.1, n_estimators=500, score=(train=-0.001, test=-0.002), total= 6.4min\n",
      "[CV] learning_rate=0.1, n_estimators=500 .............................\n",
      "[CV]  learning_rate=0.1, n_estimators=500, score=(train=-0.001, test=-0.002), total= 6.5min\n",
      "[CV] learning_rate=0.1, n_estimators=500 .............................\n",
      "[CV]  learning_rate=0.1, n_estimators=500, score=(train=-0.001, test=-0.002), total= 6.2min\n",
      "[CV] learning_rate=0.1, n_estimators=1000 ............................\n",
      "[CV]  learning_rate=0.1, n_estimators=1000, score=(train=-0.001, test=-0.002), total=12.6min\n",
      "[CV] learning_rate=0.1, n_estimators=1000 ............................\n",
      "[CV]  learning_rate=0.1, n_estimators=1000, score=(train=-0.001, test=-0.002), total=12.7min\n",
      "[CV] learning_rate=0.1, n_estimators=1000 ............................\n",
      "[CV]  learning_rate=0.1, n_estimators=1000, score=(train=-0.001, test=-0.002), total=12.6min\n",
      "[CV] learning_rate=0.1, n_estimators=1000 ............................\n",
      "[CV]  learning_rate=0.1, n_estimators=1000, score=(train=-0.001, test=-0.002), total=12.7min\n",
      "[CV] learning_rate=0.1, n_estimators=1000 ............................\n",
      "[CV]  learning_rate=0.1, n_estimators=1000, score=(train=-0.001, test=-0.002), total=11.9min\n",
      "[CV] learning_rate=0.1, n_estimators=2500 ............................\n",
      "[CV]  learning_rate=0.1, n_estimators=2500, score=(train=-0.000, test=-0.002), total=31.2min\n",
      "[CV] learning_rate=0.1, n_estimators=2500 ............................\n",
      "[CV]  learning_rate=0.1, n_estimators=2500, score=(train=-0.000, test=-0.002), total=32.1min\n",
      "[CV] learning_rate=0.1, n_estimators=2500 ............................\n",
      "[CV]  learning_rate=0.1, n_estimators=2500, score=(train=-0.000, test=-0.002), total=31.1min\n",
      "[CV] learning_rate=0.1, n_estimators=2500 ............................\n",
      "[CV]  learning_rate=0.1, n_estimators=2500, score=(train=-0.000, test=-0.002), total=31.3min\n",
      "[CV] learning_rate=0.1, n_estimators=2500 ............................\n",
      "[CV]  learning_rate=0.1, n_estimators=2500, score=(train=-0.000, test=-0.002), total=29.5min\n"
     ]
    },
    {
     "name": "stderr",
     "output_type": "stream",
     "text": [
      "[Parallel(n_jobs=1)]: Done  60 out of  60 | elapsed: 908.4min finished\n"
     ]
    },
    {
     "data": {
      "text/plain": [
       "{'learning_rate': 0.1, 'n_estimators': 100}"
      ]
     },
     "execution_count": 25,
     "metadata": {},
     "output_type": "execute_result"
    }
   ],
   "source": [
    "model_concedes7 = XGBClassifier(max_depth=4, min_child_weight=6, gamma=0.1, reg_alpha=0, reg_lambda=0.1, \n",
    "                                subsample=1, colsample_bytree=0.4, scale_pos_weight=1, verbosity=1, seed=42)\n",
    "params7 = dict(learning_rate=[0.01, 0.05, 0.1],\n",
    "                n_estimators=[100, 500, 1000, 2500])\n",
    "grid_search7 = GridSearchCV(model_concedes7, params7, scoring='brier_score_loss', n_jobs=1, cv=cv, verbose=10,\n",
    "                            return_train_score=True)\n",
    "gs_results7 = grid_search7.fit(X_train, y_train)\n",
    "gs_results7.best_params_"
   ]
  },
  {
   "cell_type": "code",
   "execution_count": 28,
   "metadata": {},
   "outputs": [
    {
     "data": {
      "image/png": "[encoded data removed]",
      "text/plain": [
       "<Figure size 432x288 with 1 Axes>"
      ]
     },
     "metadata": {
      "needs_background": "light"
     },
     "output_type": "display_data"
    }
   ],
   "source": [
    "fig, ax = plot_grid_search(gs_results7.cv_results_)"
   ]
  },
  {
   "cell_type": "code",
   "execution_count": 21,
   "metadata": {},
   "outputs": [
    {
     "name": "stdout",
     "output_type": "stream",
     "text": [
      "[0]\tvalidation_0-brier-error:0.20297\tvalidation_1-brier-error:0.20297\n",
      "Multiple eval metrics have been passed: 'validation_1-brier-error' will be used for early stopping.\n",
      "\n",
      "Will train until validation_1-brier-error hasn't improved in 50 rounds.\n",
      "[1]\tvalidation_0-brier-error:0.16515\tvalidation_1-brier-error:0.16515\n",
      "[2]\tvalidation_0-brier-error:0.13462\tvalidation_1-brier-error:0.13462\n",
      "[3]\tvalidation_0-brier-error:0.10989\tvalidation_1-brier-error:0.10990\n",
      "[4]\tvalidation_0-brier-error:0.08984\tvalidation_1-brier-error:0.08985\n",
      "[5]\tvalidation_0-brier-error:0.07356\tvalidation_1-brier-error:0.07357\n",
      "[6]\tvalidation_0-brier-error:0.06032\tvalidation_1-brier-error:0.06033\n",
      "[7]\tvalidation_0-brier-error:0.04954\tvalidation_1-brier-error:0.04955\n",
      "[8]\tvalidation_0-brier-error:0.04075\tvalidation_1-brier-error:0.04076\n",
      "[9]\tvalidation_0-brier-error:0.03358\tvalidation_1-brier-error:0.03360\n",
      "[10]\tvalidation_0-brier-error:0.02774\tvalidation_1-brier-error:0.02776\n",
      "[11]\tvalidation_0-brier-error:0.02297\tvalidation_1-brier-error:0.02298\n",
      "[12]\tvalidation_0-brier-error:0.01907\tvalidation_1-brier-error:0.01908\n",
      "[13]\tvalidation_0-brier-error:0.01589\tvalidation_1-brier-error:0.01590\n",
      "[14]\tvalidation_0-brier-error:0.01328\tvalidation_1-brier-error:0.01330\n",
      "[15]\tvalidation_0-brier-error:0.01116\tvalidation_1-brier-error:0.01118\n",
      "[16]\tvalidation_0-brier-error:0.00942\tvalidation_1-brier-error:0.00944\n",
      "[17]\tvalidation_0-brier-error:0.00800\tvalidation_1-brier-error:0.00802\n",
      "[18]\tvalidation_0-brier-error:0.00684\tvalidation_1-brier-error:0.00686\n",
      "[19]\tvalidation_0-brier-error:0.00589\tvalidation_1-brier-error:0.00591\n",
      "[20]\tvalidation_0-brier-error:0.00512\tvalidation_1-brier-error:0.00513\n",
      "[21]\tvalidation_0-brier-error:0.00448\tvalidation_1-brier-error:0.00450\n",
      "[22]\tvalidation_0-brier-error:0.00396\tvalidation_1-brier-error:0.00398\n",
      "[23]\tvalidation_0-brier-error:0.00354\tvalidation_1-brier-error:0.00355\n",
      "[24]\tvalidation_0-brier-error:0.00319\tvalidation_1-brier-error:0.00321\n",
      "[25]\tvalidation_0-brier-error:0.00291\tvalidation_1-brier-error:0.00292\n",
      "[26]\tvalidation_0-brier-error:0.00267\tvalidation_1-brier-error:0.00269\n",
      "[27]\tvalidation_0-brier-error:0.00248\tvalidation_1-brier-error:0.00250\n",
      "[28]\tvalidation_0-brier-error:0.00233\tvalidation_1-brier-error:0.00235\n",
      "[29]\tvalidation_0-brier-error:0.00220\tvalidation_1-brier-error:0.00222\n",
      "[30]\tvalidation_0-brier-error:0.00210\tvalidation_1-brier-error:0.00212\n",
      "[31]\tvalidation_0-brier-error:0.00202\tvalidation_1-brier-error:0.00204\n",
      "[32]\tvalidation_0-brier-error:0.00195\tvalidation_1-brier-error:0.00197\n",
      "[33]\tvalidation_0-brier-error:0.00189\tvalidation_1-brier-error:0.00191\n",
      "[34]\tvalidation_0-brier-error:0.00184\tvalidation_1-brier-error:0.00187\n",
      "[35]\tvalidation_0-brier-error:0.00181\tvalidation_1-brier-error:0.00183\n",
      "[36]\tvalidation_0-brier-error:0.00178\tvalidation_1-brier-error:0.00180\n",
      "[37]\tvalidation_0-brier-error:0.00175\tvalidation_1-brier-error:0.00177\n",
      "[38]\tvalidation_0-brier-error:0.00172\tvalidation_1-brier-error:0.00175\n",
      "[39]\tvalidation_0-brier-error:0.00171\tvalidation_1-brier-error:0.00173\n",
      "[40]\tvalidation_0-brier-error:0.00169\tvalidation_1-brier-error:0.00172\n",
      "[41]\tvalidation_0-brier-error:0.00168\tvalidation_1-brier-error:0.00170\n",
      "[42]\tvalidation_0-brier-error:0.00167\tvalidation_1-brier-error:0.00169\n",
      "[43]\tvalidation_0-brier-error:0.00166\tvalidation_1-brier-error:0.00169\n",
      "[44]\tvalidation_0-brier-error:0.00165\tvalidation_1-brier-error:0.00168\n",
      "[45]\tvalidation_0-brier-error:0.00165\tvalidation_1-brier-error:0.00167\n",
      "[46]\tvalidation_0-brier-error:0.00164\tvalidation_1-brier-error:0.00167\n",
      "[47]\tvalidation_0-brier-error:0.00163\tvalidation_1-brier-error:0.00166\n",
      "[48]\tvalidation_0-brier-error:0.00163\tvalidation_1-brier-error:0.00166\n",
      "[49]\tvalidation_0-brier-error:0.00163\tvalidation_1-brier-error:0.00166\n",
      "[50]\tvalidation_0-brier-error:0.00163\tvalidation_1-brier-error:0.00165\n",
      "[51]\tvalidation_0-brier-error:0.00162\tvalidation_1-brier-error:0.00165\n",
      "[52]\tvalidation_0-brier-error:0.00162\tvalidation_1-brier-error:0.00165\n",
      "[53]\tvalidation_0-brier-error:0.00162\tvalidation_1-brier-error:0.00165\n",
      "[54]\tvalidation_0-brier-error:0.00162\tvalidation_1-brier-error:0.00165\n",
      "[55]\tvalidation_0-brier-error:0.00161\tvalidation_1-brier-error:0.00165\n",
      "[56]\tvalidation_0-brier-error:0.00161\tvalidation_1-brier-error:0.00164\n",
      "[57]\tvalidation_0-brier-error:0.00161\tvalidation_1-brier-error:0.00164\n",
      "[58]\tvalidation_0-brier-error:0.00161\tvalidation_1-brier-error:0.00164\n",
      "[59]\tvalidation_0-brier-error:0.00161\tvalidation_1-brier-error:0.00164\n",
      "[60]\tvalidation_0-brier-error:0.00161\tvalidation_1-brier-error:0.00164\n",
      "[61]\tvalidation_0-brier-error:0.00161\tvalidation_1-brier-error:0.00164\n",
      "[62]\tvalidation_0-brier-error:0.00161\tvalidation_1-brier-error:0.00164\n",
      "[63]\tvalidation_0-brier-error:0.00161\tvalidation_1-brier-error:0.00164\n",
      "[64]\tvalidation_0-brier-error:0.00161\tvalidation_1-brier-error:0.00164\n",
      "[65]\tvalidation_0-brier-error:0.00160\tvalidation_1-brier-error:0.00164\n",
      "[66]\tvalidation_0-brier-error:0.00160\tvalidation_1-brier-error:0.00164\n",
      "[67]\tvalidation_0-brier-error:0.00160\tvalidation_1-brier-error:0.00164\n",
      "[68]\tvalidation_0-brier-error:0.00160\tvalidation_1-brier-error:0.00164\n",
      "[69]\tvalidation_0-brier-error:0.00160\tvalidation_1-brier-error:0.00164\n",
      "[70]\tvalidation_0-brier-error:0.00160\tvalidation_1-brier-error:0.00164\n",
      "[71]\tvalidation_0-brier-error:0.00160\tvalidation_1-brier-error:0.00164\n",
      "[72]\tvalidation_0-brier-error:0.00160\tvalidation_1-brier-error:0.00164\n",
      "[73]\tvalidation_0-brier-error:0.00160\tvalidation_1-brier-error:0.00164\n",
      "[74]\tvalidation_0-brier-error:0.00160\tvalidation_1-brier-error:0.00164\n",
      "[75]\tvalidation_0-brier-error:0.00160\tvalidation_1-brier-error:0.00164\n",
      "[76]\tvalidation_0-brier-error:0.00160\tvalidation_1-brier-error:0.00164\n",
      "[77]\tvalidation_0-brier-error:0.00160\tvalidation_1-brier-error:0.00164\n",
      "[78]\tvalidation_0-brier-error:0.00160\tvalidation_1-brier-error:0.00164\n",
      "[79]\tvalidation_0-brier-error:0.00160\tvalidation_1-brier-error:0.00164\n",
      "[80]\tvalidation_0-brier-error:0.00160\tvalidation_1-brier-error:0.00164\n",
      "[81]\tvalidation_0-brier-error:0.00159\tvalidation_1-brier-error:0.00164\n",
      "[82]\tvalidation_0-brier-error:0.00159\tvalidation_1-brier-error:0.00164\n",
      "[83]\tvalidation_0-brier-error:0.00159\tvalidation_1-brier-error:0.00164\n",
      "[84]\tvalidation_0-brier-error:0.00159\tvalidation_1-brier-error:0.00164\n",
      "[85]\tvalidation_0-brier-error:0.00159\tvalidation_1-brier-error:0.00164\n",
      "[86]\tvalidation_0-brier-error:0.00159\tvalidation_1-brier-error:0.00164\n",
      "[87]\tvalidation_0-brier-error:0.00159\tvalidation_1-brier-error:0.00164\n",
      "[88]\tvalidation_0-brier-error:0.00159\tvalidation_1-brier-error:0.00164\n",
      "[89]\tvalidation_0-brier-error:0.00159\tvalidation_1-brier-error:0.00164\n",
      "[90]\tvalidation_0-brier-error:0.00159\tvalidation_1-brier-error:0.00164\n",
      "[91]\tvalidation_0-brier-error:0.00159\tvalidation_1-brier-error:0.00164\n",
      "[92]\tvalidation_0-brier-error:0.00159\tvalidation_1-brier-error:0.00164\n",
      "[93]\tvalidation_0-brier-error:0.00159\tvalidation_1-brier-error:0.00164\n",
      "[94]\tvalidation_0-brier-error:0.00159\tvalidation_1-brier-error:0.00164\n",
      "[95]\tvalidation_0-brier-error:0.00159\tvalidation_1-brier-error:0.00164\n",
      "[96]\tvalidation_0-brier-error:0.00159\tvalidation_1-brier-error:0.00164\n",
      "[97]\tvalidation_0-brier-error:0.00159\tvalidation_1-brier-error:0.00164\n",
      "[98]\tvalidation_0-brier-error:0.00158\tvalidation_1-brier-error:0.00164\n",
      "[99]\tvalidation_0-brier-error:0.00158\tvalidation_1-brier-error:0.00164\n"
     ]
    },
    {
     "data": {
      "text/plain": [
       "XGBClassifier(base_score=0.5, booster=None, colsample_bylevel=1,\n",
       "              colsample_bynode=1, colsample_bytree=0.4,\n",
       "              disable_default_eval_metric=1, gamma=0.1, gpu_id=-1,\n",
       "              importance_type='gain', interaction_constraints=None,\n",
       "              learning_rate=0.1, max_delta_step=0, max_depth=4,\n",
       "              min_child_weight=6, missing=nan, monotone_constraints=None,\n",
       "              n_estimators=100, n_jobs=0, num_parallel_tree=1,\n",
       "              obj=<function brier_obj_sklearn at 0x7f15ed547b00>,\n",
       "              objective='binary:logistic', random_state=42, reg_alpha=0,\n",
       "              reg_lambda=0.1, scale_pos_weight=1, seed=42, subsample=1,\n",
       "              tree_method=None, validate_parameters=False, verbosity=1)"
      ]
     },
     "execution_count": 21,
     "metadata": {},
     "output_type": "execute_result"
    }
   ],
   "source": [
    "model_concedes_final = XGBClassifier(obj=brier_obj_sklearn,\n",
    "                                   learning_rate=0.1, n_estimators=100, max_depth=4, min_child_weight=6,\n",
    "                                   gamma=0.1, reg_lambda=0.1, reg_alpha=0, subsample=1, colsample_bytree=0.4,\n",
    "                                   scale_pos_weight=1, verbosity=1, seed=42, disable_default_eval_metric=1)\n",
    "model_concedes_final.fit(X_train, y_train,\n",
    "                       eval_metric=brier_score_sklearn,\n",
    "                       eval_set=[(X_train, y_train), (X_test, y_test)],\n",
    "                       verbose=True,\n",
    "                       early_stopping_rounds=50)"
   ]
  },
  {
   "cell_type": "code",
   "execution_count": 22,
   "metadata": {
    "scrolled": true
   },
   "outputs": [
    {
     "name": "stdout",
     "output_type": "stream",
     "text": [
      "  Brier score: 0.001637\n",
      "  ROC AUC: 0.8565\n"
     ]
    }
   ],
   "source": [
    "Y_pred['concedes'] = model_concedes_final.predict_proba(X_test)[:, 1]\n",
    "print(f\"  Brier score: %.6f\" % brier_score_loss(y_test, Y_pred['concedes']))\n",
    "print(f\"  ROC AUC: %.4f\" % roc_auc_score(y_test, Y_pred['concedes']))"
   ]
  },
  {
   "cell_type": "code",
   "execution_count": 23,
   "metadata": {},
   "outputs": [
    {
     "name": "stderr",
     "output_type": "stream",
     "text": [
      "/home/kuba/anaconda3/envs/the-value-of-line-breaking-pass/lib/python3.7/site-packages/ipykernel_launcher.py:8: UserWarning: Matplotlib is currently using module://ipykernel.pylab.backend_inline, which is a non-GUI backend, so cannot show the figure.\n",
      "  \n"
     ]
    },
    {
     "data": {
      "image/png": "[encoded data removed]",
      "text/plain": [
       "<Figure size 432x288 with 1 Axes>"
      ]
     },
     "metadata": {
      "needs_background": "light"
     },
     "output_type": "display_data"
    }
   ],
   "source": [
    "results = model_concedes_final.evals_result()\n",
    "epochs = len(results['validation_0']['brier-error'])\n",
    "fig, ax = plt.subplots()\n",
    "ax.plot(range(0, epochs), results['validation_0']['brier-error'], label='Train score')\n",
    "ax.plot(range(0, epochs), results['validation_1']['brier-error'], label='Test score')\n",
    "ax.set_ylim(0.0014, 0.0020)\n",
    "ax.legend()\n",
    "fig.show()"
   ]
  },
  {
   "cell_type": "code",
   "execution_count": 25,
   "metadata": {},
   "outputs": [],
   "source": [
    "pickle.dump(model_concedes_final, open('model_concedes.pkl', 'wb'))"
   ]
  }
 ],
 "metadata": {
  "kernelspec": {
   "display_name": "Python 3",
   "language": "python",
   "name": "python3"
  },
  "language_info": {
   "codemirror_mode": {
    "name": "ipython",
    "version": 3
   },
   "file_extension": ".py",
   "mimetype": "text/x-python",
   "name": "python",
   "nbconvert_exporter": "python",
   "pygments_lexer": "ipython3",
   "version": "3.8.3"
  }
 },
 "nbformat": 4,
 "nbformat_minor": 4
}
