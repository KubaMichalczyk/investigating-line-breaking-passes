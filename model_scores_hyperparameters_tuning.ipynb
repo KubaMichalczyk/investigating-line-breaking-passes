{
 "cells": [
  {
   "cell_type": "code",
   "execution_count": 1,
   "metadata": {},
   "outputs": [],
   "source": [
    "from compute_epv import *\n",
    "from xgboost import plot_importance"
   ]
  },
  {
   "cell_type": "code",
   "execution_count": 2,
   "metadata": {},
   "outputs": [],
   "source": [
    "X = pd.read_parquet('X_epv.parquet')\n",
    "Y = pd.read_parquet('Y_epv.parquet')\n",
    "Y_pred = pd.DataFrame()\n",
    "\n",
    "X_train, X_test, Y_train, Y_test = train_test_split(X, Y, test_size=0.2, stratify=Y, random_state=42)\n",
    "cv = StratifiedKFold(n_splits=5, shuffle=True, random_state=42)"
   ]
  },
  {
   "cell_type": "code",
   "execution_count": 4,
   "metadata": {},
   "outputs": [
    {
     "data": {
      "text/plain": [
       "0.009907811995778714"
      ]
     },
     "execution_count": 4,
     "metadata": {},
     "output_type": "execute_result"
    }
   ],
   "source": [
    "brier_score_loss(Y_test['scores'], [0] * len(Y_test['scores']))"
   ]
  },
  {
   "cell_type": "code",
   "execution_count": 5,
   "metadata": {},
   "outputs": [
    {
     "name": "stdout",
     "output_type": "stream",
     "text": [
      "[0]\tvalidation_0-brier-error:0.13002\tvalidation_1-brier-error:0.13006\n",
      "[1]\tvalidation_0-brier-error:0.07228\tvalidation_1-brier-error:0.07234\n",
      "[2]\tvalidation_0-brier-error:0.04266\tvalidation_1-brier-error:0.04274\n",
      "[3]\tvalidation_0-brier-error:0.02706\tvalidation_1-brier-error:0.02716\n",
      "[4]\tvalidation_0-brier-error:0.01873\tvalidation_1-brier-error:0.01884\n",
      "[5]\tvalidation_0-brier-error:0.01425\tvalidation_1-brier-error:0.01438\n",
      "[6]\tvalidation_0-brier-error:0.01182\tvalidation_1-brier-error:0.01197\n",
      "[7]\tvalidation_0-brier-error:0.01050\tvalidation_1-brier-error:0.01065\n",
      "[8]\tvalidation_0-brier-error:0.00978\tvalidation_1-brier-error:0.00994\n",
      "[9]\tvalidation_0-brier-error:0.00939\tvalidation_1-brier-error:0.00955\n",
      "[10]\tvalidation_0-brier-error:0.00918\tvalidation_1-brier-error:0.00934\n",
      "[11]\tvalidation_0-brier-error:0.00905\tvalidation_1-brier-error:0.00922\n",
      "[12]\tvalidation_0-brier-error:0.00897\tvalidation_1-brier-error:0.00915\n",
      "[13]\tvalidation_0-brier-error:0.00893\tvalidation_1-brier-error:0.00911\n",
      "[14]\tvalidation_0-brier-error:0.00891\tvalidation_1-brier-error:0.00909\n",
      "[15]\tvalidation_0-brier-error:0.00889\tvalidation_1-brier-error:0.00907\n",
      "[16]\tvalidation_0-brier-error:0.00887\tvalidation_1-brier-error:0.00907\n",
      "[17]\tvalidation_0-brier-error:0.00885\tvalidation_1-brier-error:0.00906\n",
      "[18]\tvalidation_0-brier-error:0.00884\tvalidation_1-brier-error:0.00906\n",
      "[19]\tvalidation_0-brier-error:0.00883\tvalidation_1-brier-error:0.00906\n",
      "[20]\tvalidation_0-brier-error:0.00881\tvalidation_1-brier-error:0.00905\n",
      "[21]\tvalidation_0-brier-error:0.00880\tvalidation_1-brier-error:0.00906\n",
      "[22]\tvalidation_0-brier-error:0.00879\tvalidation_1-brier-error:0.00906\n",
      "[23]\tvalidation_0-brier-error:0.00879\tvalidation_1-brier-error:0.00905\n",
      "[24]\tvalidation_0-brier-error:0.00877\tvalidation_1-brier-error:0.00905\n",
      "[25]\tvalidation_0-brier-error:0.00874\tvalidation_1-brier-error:0.00905\n",
      "[26]\tvalidation_0-brier-error:0.00873\tvalidation_1-brier-error:0.00905\n",
      "[27]\tvalidation_0-brier-error:0.00871\tvalidation_1-brier-error:0.00905\n",
      "[28]\tvalidation_0-brier-error:0.00868\tvalidation_1-brier-error:0.00905\n",
      "[29]\tvalidation_0-brier-error:0.00867\tvalidation_1-brier-error:0.00906\n",
      "[30]\tvalidation_0-brier-error:0.00865\tvalidation_1-brier-error:0.00905\n",
      "[31]\tvalidation_0-brier-error:0.00863\tvalidation_1-brier-error:0.00906\n",
      "[32]\tvalidation_0-brier-error:0.00861\tvalidation_1-brier-error:0.00906\n",
      "[33]\tvalidation_0-brier-error:0.00860\tvalidation_1-brier-error:0.00906\n",
      "[34]\tvalidation_0-brier-error:0.00858\tvalidation_1-brier-error:0.00905\n",
      "[35]\tvalidation_0-brier-error:0.00856\tvalidation_1-brier-error:0.00906\n",
      "[36]\tvalidation_0-brier-error:0.00854\tvalidation_1-brier-error:0.00906\n",
      "[37]\tvalidation_0-brier-error:0.00853\tvalidation_1-brier-error:0.00906\n",
      "[38]\tvalidation_0-brier-error:0.00852\tvalidation_1-brier-error:0.00906\n",
      "[39]\tvalidation_0-brier-error:0.00849\tvalidation_1-brier-error:0.00906\n",
      "[40]\tvalidation_0-brier-error:0.00846\tvalidation_1-brier-error:0.00906\n",
      "[41]\tvalidation_0-brier-error:0.00846\tvalidation_1-brier-error:0.00906\n",
      "[42]\tvalidation_0-brier-error:0.00844\tvalidation_1-brier-error:0.00906\n",
      "[43]\tvalidation_0-brier-error:0.00842\tvalidation_1-brier-error:0.00906\n",
      "[44]\tvalidation_0-brier-error:0.00839\tvalidation_1-brier-error:0.00907\n",
      "[45]\tvalidation_0-brier-error:0.00837\tvalidation_1-brier-error:0.00906\n",
      "[46]\tvalidation_0-brier-error:0.00836\tvalidation_1-brier-error:0.00907\n",
      "[47]\tvalidation_0-brier-error:0.00833\tvalidation_1-brier-error:0.00907\n",
      "[48]\tvalidation_0-brier-error:0.00832\tvalidation_1-brier-error:0.00907\n",
      "[49]\tvalidation_0-brier-error:0.00830\tvalidation_1-brier-error:0.00907\n",
      "[50]\tvalidation_0-brier-error:0.00828\tvalidation_1-brier-error:0.00907\n",
      "[51]\tvalidation_0-brier-error:0.00826\tvalidation_1-brier-error:0.00907\n",
      "[52]\tvalidation_0-brier-error:0.00825\tvalidation_1-brier-error:0.00907\n",
      "[53]\tvalidation_0-brier-error:0.00825\tvalidation_1-brier-error:0.00907\n",
      "[54]\tvalidation_0-brier-error:0.00823\tvalidation_1-brier-error:0.00907\n",
      "[55]\tvalidation_0-brier-error:0.00822\tvalidation_1-brier-error:0.00907\n",
      "[56]\tvalidation_0-brier-error:0.00821\tvalidation_1-brier-error:0.00907\n",
      "[57]\tvalidation_0-brier-error:0.00819\tvalidation_1-brier-error:0.00907\n",
      "[58]\tvalidation_0-brier-error:0.00818\tvalidation_1-brier-error:0.00907\n",
      "[59]\tvalidation_0-brier-error:0.00816\tvalidation_1-brier-error:0.00907\n",
      "[60]\tvalidation_0-brier-error:0.00812\tvalidation_1-brier-error:0.00907\n",
      "[61]\tvalidation_0-brier-error:0.00810\tvalidation_1-brier-error:0.00907\n",
      "[62]\tvalidation_0-brier-error:0.00808\tvalidation_1-brier-error:0.00907\n",
      "[63]\tvalidation_0-brier-error:0.00805\tvalidation_1-brier-error:0.00907\n",
      "[64]\tvalidation_0-brier-error:0.00803\tvalidation_1-brier-error:0.00907\n",
      "[65]\tvalidation_0-brier-error:0.00801\tvalidation_1-brier-error:0.00907\n",
      "[66]\tvalidation_0-brier-error:0.00798\tvalidation_1-brier-error:0.00907\n",
      "[67]\tvalidation_0-brier-error:0.00797\tvalidation_1-brier-error:0.00907\n",
      "[68]\tvalidation_0-brier-error:0.00795\tvalidation_1-brier-error:0.00907\n",
      "[69]\tvalidation_0-brier-error:0.00792\tvalidation_1-brier-error:0.00908\n",
      "[70]\tvalidation_0-brier-error:0.00791\tvalidation_1-brier-error:0.00908\n",
      "[71]\tvalidation_0-brier-error:0.00790\tvalidation_1-brier-error:0.00908\n",
      "[72]\tvalidation_0-brier-error:0.00788\tvalidation_1-brier-error:0.00908\n",
      "[73]\tvalidation_0-brier-error:0.00788\tvalidation_1-brier-error:0.00908\n",
      "[74]\tvalidation_0-brier-error:0.00786\tvalidation_1-brier-error:0.00908\n",
      "[75]\tvalidation_0-brier-error:0.00783\tvalidation_1-brier-error:0.00908\n",
      "[76]\tvalidation_0-brier-error:0.00782\tvalidation_1-brier-error:0.00908\n",
      "[77]\tvalidation_0-brier-error:0.00781\tvalidation_1-brier-error:0.00908\n",
      "[78]\tvalidation_0-brier-error:0.00780\tvalidation_1-brier-error:0.00909\n",
      "[79]\tvalidation_0-brier-error:0.00776\tvalidation_1-brier-error:0.00909\n",
      "[80]\tvalidation_0-brier-error:0.00773\tvalidation_1-brier-error:0.00909\n",
      "[81]\tvalidation_0-brier-error:0.00770\tvalidation_1-brier-error:0.00909\n",
      "[82]\tvalidation_0-brier-error:0.00768\tvalidation_1-brier-error:0.00909\n",
      "[83]\tvalidation_0-brier-error:0.00765\tvalidation_1-brier-error:0.00910\n",
      "[84]\tvalidation_0-brier-error:0.00763\tvalidation_1-brier-error:0.00911\n",
      "[85]\tvalidation_0-brier-error:0.00760\tvalidation_1-brier-error:0.00911\n",
      "[86]\tvalidation_0-brier-error:0.00759\tvalidation_1-brier-error:0.00911\n",
      "[87]\tvalidation_0-brier-error:0.00758\tvalidation_1-brier-error:0.00911\n",
      "[88]\tvalidation_0-brier-error:0.00756\tvalidation_1-brier-error:0.00911\n",
      "[89]\tvalidation_0-brier-error:0.00755\tvalidation_1-brier-error:0.00911\n",
      "[90]\tvalidation_0-brier-error:0.00754\tvalidation_1-brier-error:0.00911\n",
      "[91]\tvalidation_0-brier-error:0.00752\tvalidation_1-brier-error:0.00911\n",
      "[92]\tvalidation_0-brier-error:0.00750\tvalidation_1-brier-error:0.00911\n",
      "[93]\tvalidation_0-brier-error:0.00748\tvalidation_1-brier-error:0.00911\n",
      "[94]\tvalidation_0-brier-error:0.00746\tvalidation_1-brier-error:0.00911\n",
      "[95]\tvalidation_0-brier-error:0.00745\tvalidation_1-brier-error:0.00911\n",
      "[96]\tvalidation_0-brier-error:0.00743\tvalidation_1-brier-error:0.00911\n",
      "[97]\tvalidation_0-brier-error:0.00743\tvalidation_1-brier-error:0.00911\n",
      "[98]\tvalidation_0-brier-error:0.00741\tvalidation_1-brier-error:0.00911\n",
      "[99]\tvalidation_0-brier-error:0.00740\tvalidation_1-brier-error:0.00911\n"
     ]
    },
    {
     "data": {
      "text/plain": [
       "XGBClassifier(base_score=0.5, booster=None, colsample_bylevel=1,\n",
       "              colsample_bynode=1, colsample_bytree=1,\n",
       "              disable_default_eval_metric=1, gamma=0, gpu_id=-1,\n",
       "              importance_type='gain', interaction_constraints=None,\n",
       "              learning_rate=0.300000012, max_delta_step=0, max_depth=6,\n",
       "              min_child_weight=1, missing=nan, monotone_constraints=None,\n",
       "              n_estimators=100, n_jobs=0, num_parallel_tree=1,\n",
       "              obj=<function brier_obj_sklearn at 0x7f18b3860560>,\n",
       "              objective='binary:logistic', random_state=0, reg_alpha=0,\n",
       "              reg_lambda=1, scale_pos_weight=1, subsample=1, tree_method=None,\n",
       "              validate_parameters=False, verbosity=1)"
      ]
     },
     "execution_count": 5,
     "metadata": {},
     "output_type": "execute_result"
    }
   ],
   "source": [
    "model_scores = XGBClassifier(obj=brier_obj_sklearn, verbosity=1, disable_default_eval_metric=1)\n",
    "model_scores.fit(X_train, Y_train['scores'],\n",
    "                 eval_metric=brier_score_sklearn,\n",
    "                 eval_set=[(X_train, Y_train['scores']), (X_test, Y_test['scores'])],\n",
    "                 verbose=True)"
   ]
  },
  {
   "cell_type": "code",
   "execution_count": 6,
   "metadata": {},
   "outputs": [
    {
     "name": "stderr",
     "output_type": "stream",
     "text": [
      "/home/kuba/anaconda3/envs/the-value-of-line-breaking-pass/lib/python3.7/site-packages/ipykernel_launcher.py:8: UserWarning: Matplotlib is currently using module://ipykernel.pylab.backend_inline, which is a non-GUI backend, so cannot show the figure.\n",
      "  \n"
     ]
    },
    {
     "data": {
      "image/png": "[encoded data removed]",
      "text/plain": [
       "<Figure size 432x288 with 1 Axes>"
      ]
     },
     "metadata": {
      "needs_background": "light"
     },
     "output_type": "display_data"
    }
   ],
   "source": [
    "results = model_scores.evals_result()\n",
    "epochs = len(results['validation_0']['brier-error'])\n",
    "fig, ax = plt.subplots()\n",
    "ax.plot(range(0, epochs), results['validation_0']['brier-error'], label='Train score')\n",
    "ax.plot(range(0, epochs), results['validation_1']['brier-error'], label='Test score')\n",
    "ax.set_ylim([0.0075, 0.0125])\n",
    "ax.legend()\n",
    "fig.show()"
   ]
  },
  {
   "cell_type": "code",
   "execution_count": 7,
   "metadata": {},
   "outputs": [
    {
     "name": "stdout",
     "output_type": "stream",
     "text": [
      "  Brier score: 0.009115\n",
      "  ROC AUC: 0.8137\n"
     ]
    }
   ],
   "source": [
    "Y_pred['scores'] = model_scores.predict_proba(X_test)[:, 1]\n",
    "print(f\"  Brier score: %.6f\" % brier_score_loss(Y_test['scores'], Y_pred['scores']))\n",
    "print(f\"  ROC AUC: %.4f\" % roc_auc_score(Y_test['scores'], Y_pred['scores']))"
   ]
  },
  {
   "cell_type": "code",
   "execution_count": 10,
   "metadata": {
    "scrolled": true
   },
   "outputs": [
    {
     "name": "stdout",
     "output_type": "stream",
     "text": [
      "Fitting 5 folds for each of 5 candidates, totalling 25 fits\n",
      "[CV] n_estimators=50 .................................................\n"
     ]
    },
    {
     "name": "stderr",
     "output_type": "stream",
     "text": [
      "[Parallel(n_jobs=1)]: Using backend SequentialBackend with 1 concurrent workers.\n"
     ]
    },
    {
     "name": "stdout",
     "output_type": "stream",
     "text": [
      "[CV]  n_estimators=50, score=(train=-0.009, test=-0.009), total=  25.8s\n",
      "[CV] n_estimators=50 .................................................\n"
     ]
    },
    {
     "name": "stderr",
     "output_type": "stream",
     "text": [
      "[Parallel(n_jobs=1)]: Done   1 out of   1 | elapsed:   26.9s remaining:    0.0s\n"
     ]
    },
    {
     "name": "stdout",
     "output_type": "stream",
     "text": [
      "[CV]  n_estimators=50, score=(train=-0.009, test=-0.009), total=  26.7s\n",
      "[CV] n_estimators=50 .................................................\n"
     ]
    },
    {
     "name": "stderr",
     "output_type": "stream",
     "text": [
      "[Parallel(n_jobs=1)]: Done   2 out of   2 | elapsed:   55.0s remaining:    0.0s\n"
     ]
    },
    {
     "name": "stdout",
     "output_type": "stream",
     "text": [
      "[CV]  n_estimators=50, score=(train=-0.009, test=-0.009), total=  27.2s\n",
      "[CV] n_estimators=50 .................................................\n"
     ]
    },
    {
     "name": "stderr",
     "output_type": "stream",
     "text": [
      "[Parallel(n_jobs=1)]: Done   3 out of   3 | elapsed:  1.4min remaining:    0.0s\n"
     ]
    },
    {
     "name": "stdout",
     "output_type": "stream",
     "text": [
      "[CV]  n_estimators=50, score=(train=-0.009, test=-0.009), total=  27.0s\n",
      "[CV] n_estimators=50 .................................................\n"
     ]
    },
    {
     "name": "stderr",
     "output_type": "stream",
     "text": [
      "[Parallel(n_jobs=1)]: Done   4 out of   4 | elapsed:  1.9min remaining:    0.0s\n"
     ]
    },
    {
     "name": "stdout",
     "output_type": "stream",
     "text": [
      "[CV]  n_estimators=50, score=(train=-0.009, test=-0.009), total=  27.3s\n",
      "[CV] n_estimators=100 ................................................\n"
     ]
    },
    {
     "name": "stderr",
     "output_type": "stream",
     "text": [
      "[Parallel(n_jobs=1)]: Done   5 out of   5 | elapsed:  2.3min remaining:    0.0s\n"
     ]
    },
    {
     "name": "stdout",
     "output_type": "stream",
     "text": [
      "[CV]  n_estimators=100, score=(train=-0.009, test=-0.009), total= 1.1min\n",
      "[CV] n_estimators=100 ................................................\n"
     ]
    },
    {
     "name": "stderr",
     "output_type": "stream",
     "text": [
      "[Parallel(n_jobs=1)]: Done   6 out of   6 | elapsed:  3.4min remaining:    0.0s\n"
     ]
    },
    {
     "name": "stdout",
     "output_type": "stream",
     "text": [
      "[CV]  n_estimators=100, score=(train=-0.009, test=-0.009), total= 1.4min\n",
      "[CV] n_estimators=100 ................................................\n"
     ]
    },
    {
     "name": "stderr",
     "output_type": "stream",
     "text": [
      "[Parallel(n_jobs=1)]: Done   7 out of   7 | elapsed:  4.8min remaining:    0.0s\n"
     ]
    },
    {
     "name": "stdout",
     "output_type": "stream",
     "text": [
      "[CV]  n_estimators=100, score=(train=-0.009, test=-0.009), total= 1.0min\n",
      "[CV] n_estimators=100 ................................................\n"
     ]
    },
    {
     "name": "stderr",
     "output_type": "stream",
     "text": [
      "[Parallel(n_jobs=1)]: Done   8 out of   8 | elapsed:  5.9min remaining:    0.0s\n"
     ]
    },
    {
     "name": "stdout",
     "output_type": "stream",
     "text": [
      "[CV]  n_estimators=100, score=(train=-0.009, test=-0.009), total= 1.6min\n",
      "[CV] n_estimators=100 ................................................\n"
     ]
    },
    {
     "name": "stderr",
     "output_type": "stream",
     "text": [
      "[Parallel(n_jobs=1)]: Done   9 out of   9 | elapsed:  7.6min remaining:    0.0s\n"
     ]
    },
    {
     "name": "stdout",
     "output_type": "stream",
     "text": [
      "[CV]  n_estimators=100, score=(train=-0.009, test=-0.009), total= 1.6min\n",
      "[CV] n_estimators=150 ................................................\n",
      "[CV]  n_estimators=150, score=(train=-0.009, test=-0.009), total= 2.3min\n",
      "[CV] n_estimators=150 ................................................\n",
      "[CV]  n_estimators=150, score=(train=-0.009, test=-0.009), total= 2.2min\n",
      "[CV] n_estimators=150 ................................................\n",
      "[CV]  n_estimators=150, score=(train=-0.009, test=-0.009), total= 2.4min\n",
      "[CV] n_estimators=150 ................................................\n",
      "[CV]  n_estimators=150, score=(train=-0.009, test=-0.009), total= 2.2min\n",
      "[CV] n_estimators=150 ................................................\n",
      "[CV]  n_estimators=150, score=(train=-0.009, test=-0.009), total= 2.3min\n",
      "[CV] n_estimators=200 ................................................\n",
      "[CV]  n_estimators=200, score=(train=-0.008, test=-0.009), total= 2.9min\n",
      "[CV] n_estimators=200 ................................................\n",
      "[CV]  n_estimators=200, score=(train=-0.008, test=-0.009), total= 1.8min\n",
      "[CV] n_estimators=200 ................................................\n",
      "[CV]  n_estimators=200, score=(train=-0.008, test=-0.009), total= 1.5min\n",
      "[CV] n_estimators=200 ................................................\n",
      "[CV]  n_estimators=200, score=(train=-0.008, test=-0.009), total= 1.5min\n",
      "[CV] n_estimators=200 ................................................\n",
      "[CV]  n_estimators=200, score=(train=-0.008, test=-0.009), total= 1.5min\n",
      "[CV] n_estimators=250 ................................................\n",
      "[CV]  n_estimators=250, score=(train=-0.008, test=-0.009), total= 1.9min\n",
      "[CV] n_estimators=250 ................................................\n",
      "[CV]  n_estimators=250, score=(train=-0.008, test=-0.009), total= 1.8min\n",
      "[CV] n_estimators=250 ................................................\n",
      "[CV]  n_estimators=250, score=(train=-0.008, test=-0.009), total= 1.9min\n",
      "[CV] n_estimators=250 ................................................\n",
      "[CV]  n_estimators=250, score=(train=-0.008, test=-0.009), total= 1.9min\n",
      "[CV] n_estimators=250 ................................................\n",
      "[CV]  n_estimators=250, score=(train=-0.008, test=-0.009), total= 1.9min\n"
     ]
    },
    {
     "name": "stderr",
     "output_type": "stream",
     "text": [
      "[Parallel(n_jobs=1)]: Done  25 out of  25 | elapsed: 39.6min finished\n"
     ]
    },
    {
     "data": {
      "text/plain": [
       "{'n_estimators': 200}"
      ]
     },
     "execution_count": 10,
     "metadata": {},
     "output_type": "execute_result"
    }
   ],
   "source": [
    "model_scores1 = XGBClassifier(learning_rate=0.1, max_depth=5, min_child_weight=1, gamma=0, subsample=0.8,\n",
    "                             colsample_bytree=0.8, scale_pos_weight=1, verbosity=1, seed=42)\n",
    "params1 = dict(n_estimators=range(50, 300, 50))\n",
    "grid_search1 = GridSearchCV(model_scores1, params1, scoring='brier_score_loss', n_jobs=1, cv=cv, verbose=10,\n",
    "                            return_train_score=True)\n",
    "gs_results1 = grid_search1.fit(X_train, Y_train['scores'])\n",
    "gs_results1.best_params_"
   ]
  },
  {
   "cell_type": "code",
   "execution_count": 11,
   "metadata": {},
   "outputs": [
    {
     "data": {
      "text/plain": [
       "<ErrorbarContainer object of 3 artists>"
      ]
     },
     "execution_count": 11,
     "metadata": {},
     "output_type": "execute_result"
    },
    {
     "data": {
      "image/png": "[encoded data removed]",
      "text/plain": [
       "<Figure size 432x288 with 1 Axes>"
      ]
     },
     "metadata": {
      "needs_background": "light"
     },
     "output_type": "display_data"
    }
   ],
   "source": [
    "plt.errorbar(range(50, 300, 50), gs_results1.cv_results_['mean_test_score'], yerr=gs_results1.cv_results_['std_test_score'])"
   ]
  },
  {
   "cell_type": "code",
   "execution_count": 12,
   "metadata": {},
   "outputs": [
    {
     "name": "stdout",
     "output_type": "stream",
     "text": [
      "Fitting 5 folds for each of 9 candidates, totalling 45 fits\n",
      "[CV] max_depth=3, min_child_weight=1 .................................\n"
     ]
    },
    {
     "name": "stderr",
     "output_type": "stream",
     "text": [
      "[Parallel(n_jobs=1)]: Using backend SequentialBackend with 1 concurrent workers.\n"
     ]
    },
    {
     "name": "stdout",
     "output_type": "stream",
     "text": [
      "[CV]  max_depth=3, min_child_weight=1, score=(train=-0.009, test=-0.009), total= 1.6min\n",
      "[CV] max_depth=3, min_child_weight=1 .................................\n"
     ]
    },
    {
     "name": "stderr",
     "output_type": "stream",
     "text": [
      "[Parallel(n_jobs=1)]: Done   1 out of   1 | elapsed:  1.6min remaining:    0.0s\n"
     ]
    },
    {
     "name": "stdout",
     "output_type": "stream",
     "text": [
      "[CV]  max_depth=3, min_child_weight=1, score=(train=-0.009, test=-0.009), total= 1.6min\n",
      "[CV] max_depth=3, min_child_weight=1 .................................\n"
     ]
    },
    {
     "name": "stderr",
     "output_type": "stream",
     "text": [
      "[Parallel(n_jobs=1)]: Done   2 out of   2 | elapsed:  3.3min remaining:    0.0s\n"
     ]
    },
    {
     "name": "stdout",
     "output_type": "stream",
     "text": [
      "[CV]  max_depth=3, min_child_weight=1, score=(train=-0.009, test=-0.009), total= 1.7min\n",
      "[CV] max_depth=3, min_child_weight=1 .................................\n"
     ]
    },
    {
     "name": "stderr",
     "output_type": "stream",
     "text": [
      "[Parallel(n_jobs=1)]: Done   3 out of   3 | elapsed:  5.0min remaining:    0.0s\n"
     ]
    },
    {
     "name": "stdout",
     "output_type": "stream",
     "text": [
      "[CV]  max_depth=3, min_child_weight=1, score=(train=-0.009, test=-0.009), total= 1.7min\n",
      "[CV] max_depth=3, min_child_weight=1 .................................\n"
     ]
    },
    {
     "name": "stderr",
     "output_type": "stream",
     "text": [
      "[Parallel(n_jobs=1)]: Done   4 out of   4 | elapsed:  6.8min remaining:    0.0s\n"
     ]
    },
    {
     "name": "stdout",
     "output_type": "stream",
     "text": [
      "[CV]  max_depth=3, min_child_weight=1, score=(train=-0.009, test=-0.009), total= 1.7min\n",
      "[CV] max_depth=3, min_child_weight=3 .................................\n"
     ]
    },
    {
     "name": "stderr",
     "output_type": "stream",
     "text": [
      "[Parallel(n_jobs=1)]: Done   5 out of   5 | elapsed:  8.5min remaining:    0.0s\n"
     ]
    },
    {
     "name": "stdout",
     "output_type": "stream",
     "text": [
      "[CV]  max_depth=3, min_child_weight=3, score=(train=-0.009, test=-0.009), total= 1.7min\n",
      "[CV] max_depth=3, min_child_weight=3 .................................\n"
     ]
    },
    {
     "name": "stderr",
     "output_type": "stream",
     "text": [
      "[Parallel(n_jobs=1)]: Done   6 out of   6 | elapsed: 10.2min remaining:    0.0s\n"
     ]
    },
    {
     "name": "stdout",
     "output_type": "stream",
     "text": [
      "[CV]  max_depth=3, min_child_weight=3, score=(train=-0.009, test=-0.009), total= 1.6min\n",
      "[CV] max_depth=3, min_child_weight=3 .................................\n"
     ]
    },
    {
     "name": "stderr",
     "output_type": "stream",
     "text": [
      "[Parallel(n_jobs=1)]: Done   7 out of   7 | elapsed: 11.9min remaining:    0.0s\n"
     ]
    },
    {
     "name": "stdout",
     "output_type": "stream",
     "text": [
      "[CV]  max_depth=3, min_child_weight=3, score=(train=-0.009, test=-0.009), total= 1.7min\n",
      "[CV] max_depth=3, min_child_weight=3 .................................\n"
     ]
    },
    {
     "name": "stderr",
     "output_type": "stream",
     "text": [
      "[Parallel(n_jobs=1)]: Done   8 out of   8 | elapsed: 13.6min remaining:    0.0s\n"
     ]
    },
    {
     "name": "stdout",
     "output_type": "stream",
     "text": [
      "[CV]  max_depth=3, min_child_weight=3, score=(train=-0.009, test=-0.009), total= 1.7min\n",
      "[CV] max_depth=3, min_child_weight=3 .................................\n"
     ]
    },
    {
     "name": "stderr",
     "output_type": "stream",
     "text": [
      "[Parallel(n_jobs=1)]: Done   9 out of   9 | elapsed: 15.3min remaining:    0.0s\n"
     ]
    },
    {
     "name": "stdout",
     "output_type": "stream",
     "text": [
      "[CV]  max_depth=3, min_child_weight=3, score=(train=-0.009, test=-0.009), total= 1.7min\n",
      "[CV] max_depth=3, min_child_weight=5 .................................\n",
      "[CV]  max_depth=3, min_child_weight=5, score=(train=-0.009, test=-0.009), total= 1.7min\n",
      "[CV] max_depth=3, min_child_weight=5 .................................\n",
      "[CV]  max_depth=3, min_child_weight=5, score=(train=-0.009, test=-0.009), total= 1.6min\n",
      "[CV] max_depth=3, min_child_weight=5 .................................\n",
      "[CV]  max_depth=3, min_child_weight=5, score=(train=-0.009, test=-0.009), total= 1.7min\n",
      "[CV] max_depth=3, min_child_weight=5 .................................\n",
      "[CV]  max_depth=3, min_child_weight=5, score=(train=-0.009, test=-0.009), total= 1.7min\n",
      "[CV] max_depth=3, min_child_weight=5 .................................\n",
      "[CV]  max_depth=3, min_child_weight=5, score=(train=-0.009, test=-0.009), total= 1.7min\n",
      "[CV] max_depth=5, min_child_weight=1 .................................\n",
      "[CV]  max_depth=5, min_child_weight=1, score=(train=-0.008, test=-0.009), total= 2.8min\n",
      "[CV] max_depth=5, min_child_weight=1 .................................\n",
      "[CV]  max_depth=5, min_child_weight=1, score=(train=-0.008, test=-0.009), total= 2.7min\n",
      "[CV] max_depth=5, min_child_weight=1 .................................\n",
      "[CV]  max_depth=5, min_child_weight=1, score=(train=-0.008, test=-0.009), total= 2.8min\n",
      "[CV] max_depth=5, min_child_weight=1 .................................\n",
      "[CV]  max_depth=5, min_child_weight=1, score=(train=-0.008, test=-0.009), total= 2.8min\n",
      "[CV] max_depth=5, min_child_weight=1 .................................\n",
      "[CV]  max_depth=5, min_child_weight=1, score=(train=-0.008, test=-0.009), total= 2.8min\n",
      "[CV] max_depth=5, min_child_weight=3 .................................\n",
      "[CV]  max_depth=5, min_child_weight=3, score=(train=-0.008, test=-0.009), total= 2.2min\n",
      "[CV] max_depth=5, min_child_weight=3 .................................\n",
      "[CV]  max_depth=5, min_child_weight=3, score=(train=-0.008, test=-0.009), total= 1.4min\n",
      "[CV] max_depth=5, min_child_weight=3 .................................\n",
      "[CV]  max_depth=5, min_child_weight=3, score=(train=-0.009, test=-0.009), total= 1.5min\n",
      "[CV] max_depth=5, min_child_weight=3 .................................\n",
      "[CV]  max_depth=5, min_child_weight=3, score=(train=-0.008, test=-0.009), total= 1.5min\n",
      "[CV] max_depth=5, min_child_weight=3 .................................\n",
      "[CV]  max_depth=5, min_child_weight=3, score=(train=-0.009, test=-0.009), total= 1.5min\n",
      "[CV] max_depth=5, min_child_weight=5 .................................\n",
      "[CV]  max_depth=5, min_child_weight=5, score=(train=-0.009, test=-0.009), total= 1.5min\n",
      "[CV] max_depth=5, min_child_weight=5 .................................\n",
      "[CV]  max_depth=5, min_child_weight=5, score=(train=-0.009, test=-0.009), total= 1.4min\n",
      "[CV] max_depth=5, min_child_weight=5 .................................\n",
      "[CV]  max_depth=5, min_child_weight=5, score=(train=-0.009, test=-0.009), total= 1.5min\n",
      "[CV] max_depth=5, min_child_weight=5 .................................\n",
      "[CV]  max_depth=5, min_child_weight=5, score=(train=-0.009, test=-0.009), total= 1.5min\n",
      "[CV] max_depth=5, min_child_weight=5 .................................\n",
      "[CV]  max_depth=5, min_child_weight=5, score=(train=-0.009, test=-0.009), total= 1.5min\n",
      "[CV] max_depth=7, min_child_weight=1 .................................\n",
      "[CV]  max_depth=7, min_child_weight=1, score=(train=-0.007, test=-0.009), total= 2.1min\n",
      "[CV] max_depth=7, min_child_weight=1 .................................\n",
      "[CV]  max_depth=7, min_child_weight=1, score=(train=-0.007, test=-0.009), total= 2.1min\n",
      "[CV] max_depth=7, min_child_weight=1 .................................\n",
      "[CV]  max_depth=7, min_child_weight=1, score=(train=-0.007, test=-0.009), total= 2.3min\n",
      "[CV] max_depth=7, min_child_weight=1 .................................\n",
      "[CV]  max_depth=7, min_child_weight=1, score=(train=-0.007, test=-0.009), total= 2.4min\n",
      "[CV] max_depth=7, min_child_weight=1 .................................\n",
      "[CV]  max_depth=7, min_child_weight=1, score=(train=-0.007, test=-0.009), total= 2.4min\n",
      "[CV] max_depth=7, min_child_weight=3 .................................\n",
      "[CV]  max_depth=7, min_child_weight=3, score=(train=-0.008, test=-0.009), total= 2.3min\n",
      "[CV] max_depth=7, min_child_weight=3 .................................\n",
      "[CV]  max_depth=7, min_child_weight=3, score=(train=-0.008, test=-0.009), total= 2.2min\n",
      "[CV] max_depth=7, min_child_weight=3 .................................\n",
      "[CV]  max_depth=7, min_child_weight=3, score=(train=-0.008, test=-0.009), total= 2.7min\n",
      "[CV] max_depth=7, min_child_weight=3 .................................\n",
      "[CV]  max_depth=7, min_child_weight=3, score=(train=-0.007, test=-0.009), total= 4.2min\n",
      "[CV] max_depth=7, min_child_weight=3 .................................\n",
      "[CV]  max_depth=7, min_child_weight=3, score=(train=-0.008, test=-0.009), total= 4.2min\n",
      "[CV] max_depth=7, min_child_weight=5 .................................\n",
      "[CV]  max_depth=7, min_child_weight=5, score=(train=-0.008, test=-0.009), total= 4.3min\n",
      "[CV] max_depth=7, min_child_weight=5 .................................\n",
      "[CV]  max_depth=7, min_child_weight=5, score=(train=-0.008, test=-0.009), total= 4.2min\n",
      "[CV] max_depth=7, min_child_weight=5 .................................\n",
      "[CV]  max_depth=7, min_child_weight=5, score=(train=-0.008, test=-0.009), total= 3.9min\n",
      "[CV] max_depth=7, min_child_weight=5 .................................\n",
      "[CV]  max_depth=7, min_child_weight=5, score=(train=-0.008, test=-0.009), total= 2.7min\n",
      "[CV] max_depth=7, min_child_weight=5 .................................\n",
      "[CV]  max_depth=7, min_child_weight=5, score=(train=-0.008, test=-0.009), total= 4.2min\n"
     ]
    },
    {
     "name": "stderr",
     "output_type": "stream",
     "text": [
      "[Parallel(n_jobs=1)]: Done  45 out of  45 | elapsed: 102.2min finished\n"
     ]
    },
    {
     "data": {
      "text/plain": [
       "{'max_depth': 5, 'min_child_weight': 5}"
      ]
     },
     "execution_count": 12,
     "metadata": {},
     "output_type": "execute_result"
    }
   ],
   "source": [
    "model_scores2 = XGBClassifier(learning_rate=0.1, n_estimators=200, gamma=0, subsample=0.8,\n",
    "                              colsample_bytree=0.8, scale_pos_weight=1, verbosity=1, seed=42)\n",
    "params2 = dict(max_depth=range(3, 8, 2), min_child_weight=range(1, 6, 2))\n",
    "grid_search2 = GridSearchCV(model_scores2, params2, scoring='brier_score_loss', n_jobs=1, cv=cv, verbose=10,\n",
    "                            return_train_score=True)\n",
    "gs_results2 = grid_search2.fit(X_train, Y_train['scores'])\n",
    "gs_results2.best_params_"
   ]
  },
  {
   "cell_type": "code",
   "execution_count": 13,
   "metadata": {},
   "outputs": [
    {
     "data": {
      "image/png": "[encoded data removed]",
      "text/plain": [
       "<Figure size 432x288 with 1 Axes>"
      ]
     },
     "metadata": {
      "needs_background": "light"
     },
     "output_type": "display_data"
    }
   ],
   "source": [
    "fig, ax = plot_grid_search(gs_results2.cv_results_)"
   ]
  },
  {
   "cell_type": "code",
   "execution_count": 20,
   "metadata": {
    "scrolled": true
   },
   "outputs": [
    {
     "name": "stdout",
     "output_type": "stream",
     "text": [
      "Fitting 5 folds for each of 9 candidates, totalling 45 fits\n",
      "[CV] max_depth=4, min_child_weight=4 .................................\n"
     ]
    },
    {
     "name": "stderr",
     "output_type": "stream",
     "text": [
      "[Parallel(n_jobs=1)]: Using backend SequentialBackend with 1 concurrent workers.\n"
     ]
    },
    {
     "name": "stdout",
     "output_type": "stream",
     "text": [
      "[CV]  max_depth=4, min_child_weight=4, score=(train=-0.009, test=-0.009), total= 1.5min\n",
      "[CV] max_depth=4, min_child_weight=4 .................................\n"
     ]
    },
    {
     "name": "stderr",
     "output_type": "stream",
     "text": [
      "[Parallel(n_jobs=1)]: Done   1 out of   1 | elapsed:  1.5min remaining:    0.0s\n"
     ]
    },
    {
     "name": "stdout",
     "output_type": "stream",
     "text": [
      "[CV]  max_depth=4, min_child_weight=4, score=(train=-0.009, test=-0.009), total= 1.2min\n",
      "[CV] max_depth=4, min_child_weight=4 .................................\n"
     ]
    },
    {
     "name": "stderr",
     "output_type": "stream",
     "text": [
      "[Parallel(n_jobs=1)]: Done   2 out of   2 | elapsed:  2.8min remaining:    0.0s\n"
     ]
    },
    {
     "name": "stdout",
     "output_type": "stream",
     "text": [
      "[CV]  max_depth=4, min_child_weight=4, score=(train=-0.009, test=-0.009), total= 1.2min\n",
      "[CV] max_depth=4, min_child_weight=4 .................................\n"
     ]
    },
    {
     "name": "stderr",
     "output_type": "stream",
     "text": [
      "[Parallel(n_jobs=1)]: Done   3 out of   3 | elapsed:  4.0min remaining:    0.0s\n"
     ]
    },
    {
     "name": "stdout",
     "output_type": "stream",
     "text": [
      "[CV]  max_depth=4, min_child_weight=4, score=(train=-0.009, test=-0.009), total= 1.2min\n",
      "[CV] max_depth=4, min_child_weight=4 .................................\n"
     ]
    },
    {
     "name": "stderr",
     "output_type": "stream",
     "text": [
      "[Parallel(n_jobs=1)]: Done   4 out of   4 | elapsed:  5.3min remaining:    0.0s\n"
     ]
    },
    {
     "name": "stdout",
     "output_type": "stream",
     "text": [
      "[CV]  max_depth=4, min_child_weight=4, score=(train=-0.009, test=-0.009), total= 1.2min\n",
      "[CV] max_depth=4, min_child_weight=5 .................................\n"
     ]
    },
    {
     "name": "stderr",
     "output_type": "stream",
     "text": [
      "[Parallel(n_jobs=1)]: Done   5 out of   5 | elapsed:  6.5min remaining:    0.0s\n"
     ]
    },
    {
     "name": "stdout",
     "output_type": "stream",
     "text": [
      "[CV]  max_depth=4, min_child_weight=5, score=(train=-0.009, test=-0.009), total= 1.2min\n",
      "[CV] max_depth=4, min_child_weight=5 .................................\n"
     ]
    },
    {
     "name": "stderr",
     "output_type": "stream",
     "text": [
      "[Parallel(n_jobs=1)]: Done   6 out of   6 | elapsed:  7.8min remaining:    0.0s\n"
     ]
    },
    {
     "name": "stdout",
     "output_type": "stream",
     "text": [
      "[CV]  max_depth=4, min_child_weight=5, score=(train=-0.009, test=-0.009), total= 1.2min\n",
      "[CV] max_depth=4, min_child_weight=5 .................................\n"
     ]
    },
    {
     "name": "stderr",
     "output_type": "stream",
     "text": [
      "[Parallel(n_jobs=1)]: Done   7 out of   7 | elapsed:  9.0min remaining:    0.0s\n"
     ]
    },
    {
     "name": "stdout",
     "output_type": "stream",
     "text": [
      "[CV]  max_depth=4, min_child_weight=5, score=(train=-0.009, test=-0.009), total= 1.2min\n",
      "[CV] max_depth=4, min_child_weight=5 .................................\n"
     ]
    },
    {
     "name": "stderr",
     "output_type": "stream",
     "text": [
      "[Parallel(n_jobs=1)]: Done   8 out of   8 | elapsed: 10.3min remaining:    0.0s\n"
     ]
    },
    {
     "name": "stdout",
     "output_type": "stream",
     "text": [
      "[CV]  max_depth=4, min_child_weight=5, score=(train=-0.009, test=-0.009), total= 1.2min\n",
      "[CV] max_depth=4, min_child_weight=5 .................................\n"
     ]
    },
    {
     "name": "stderr",
     "output_type": "stream",
     "text": [
      "[Parallel(n_jobs=1)]: Done   9 out of   9 | elapsed: 11.5min remaining:    0.0s\n"
     ]
    },
    {
     "name": "stdout",
     "output_type": "stream",
     "text": [
      "[CV]  max_depth=4, min_child_weight=5, score=(train=-0.009, test=-0.009), total= 1.2min\n",
      "[CV] max_depth=4, min_child_weight=6 .................................\n",
      "[CV]  max_depth=4, min_child_weight=6, score=(train=-0.009, test=-0.009), total= 1.2min\n",
      "[CV] max_depth=4, min_child_weight=6 .................................\n",
      "[CV]  max_depth=4, min_child_weight=6, score=(train=-0.009, test=-0.009), total= 1.2min\n",
      "[CV] max_depth=4, min_child_weight=6 .................................\n",
      "[CV]  max_depth=4, min_child_weight=6, score=(train=-0.009, test=-0.009), total= 1.2min\n",
      "[CV] max_depth=4, min_child_weight=6 .................................\n",
      "[CV]  max_depth=4, min_child_weight=6, score=(train=-0.009, test=-0.009), total= 1.2min\n",
      "[CV] max_depth=4, min_child_weight=6 .................................\n",
      "[CV]  max_depth=4, min_child_weight=6, score=(train=-0.009, test=-0.009), total= 1.2min\n",
      "[CV] max_depth=5, min_child_weight=4 .................................\n",
      "[CV]  max_depth=5, min_child_weight=4, score=(train=-0.009, test=-0.009), total= 1.5min\n",
      "[CV] max_depth=5, min_child_weight=4 .................................\n",
      "[CV]  max_depth=5, min_child_weight=4, score=(train=-0.009, test=-0.009), total= 1.5min\n",
      "[CV] max_depth=5, min_child_weight=4 .................................\n",
      "[CV]  max_depth=5, min_child_weight=4, score=(train=-0.009, test=-0.009), total= 1.5min\n",
      "[CV] max_depth=5, min_child_weight=4 .................................\n",
      "[CV]  max_depth=5, min_child_weight=4, score=(train=-0.009, test=-0.009), total= 1.5min\n",
      "[CV] max_depth=5, min_child_weight=4 .................................\n",
      "[CV]  max_depth=5, min_child_weight=4, score=(train=-0.009, test=-0.009), total= 1.5min\n",
      "[CV] max_depth=5, min_child_weight=5 .................................\n",
      "[CV]  max_depth=5, min_child_weight=5, score=(train=-0.009, test=-0.009), total= 1.5min\n",
      "[CV] max_depth=5, min_child_weight=5 .................................\n",
      "[CV]  max_depth=5, min_child_weight=5, score=(train=-0.009, test=-0.009), total= 1.4min\n",
      "[CV] max_depth=5, min_child_weight=5 .................................\n",
      "[CV]  max_depth=5, min_child_weight=5, score=(train=-0.009, test=-0.009), total= 1.5min\n",
      "[CV] max_depth=5, min_child_weight=5 .................................\n",
      "[CV]  max_depth=5, min_child_weight=5, score=(train=-0.009, test=-0.009), total= 1.5min\n",
      "[CV] max_depth=5, min_child_weight=5 .................................\n",
      "[CV]  max_depth=5, min_child_weight=5, score=(train=-0.009, test=-0.009), total= 1.5min\n",
      "[CV] max_depth=5, min_child_weight=6 .................................\n",
      "[CV]  max_depth=5, min_child_weight=6, score=(train=-0.009, test=-0.009), total= 1.5min\n",
      "[CV] max_depth=5, min_child_weight=6 .................................\n",
      "[CV]  max_depth=5, min_child_weight=6, score=(train=-0.009, test=-0.009), total= 1.4min\n",
      "[CV] max_depth=5, min_child_weight=6 .................................\n",
      "[CV]  max_depth=5, min_child_weight=6, score=(train=-0.009, test=-0.009), total= 1.5min\n",
      "[CV] max_depth=5, min_child_weight=6 .................................\n",
      "[CV]  max_depth=5, min_child_weight=6, score=(train=-0.009, test=-0.009), total= 1.5min\n",
      "[CV] max_depth=5, min_child_weight=6 .................................\n",
      "[CV]  max_depth=5, min_child_weight=6, score=(train=-0.009, test=-0.009), total= 1.5min\n",
      "[CV] max_depth=6, min_child_weight=4 .................................\n",
      "[CV]  max_depth=6, min_child_weight=4, score=(train=-0.008, test=-0.009), total= 1.8min\n",
      "[CV] max_depth=6, min_child_weight=4 .................................\n",
      "[CV]  max_depth=6, min_child_weight=4, score=(train=-0.008, test=-0.009), total= 1.7min\n",
      "[CV] max_depth=6, min_child_weight=4 .................................\n",
      "[CV]  max_depth=6, min_child_weight=4, score=(train=-0.008, test=-0.009), total= 1.8min\n",
      "[CV] max_depth=6, min_child_weight=4 .................................\n",
      "[CV]  max_depth=6, min_child_weight=4, score=(train=-0.008, test=-0.009), total= 1.8min\n",
      "[CV] max_depth=6, min_child_weight=4 .................................\n",
      "[CV]  max_depth=6, min_child_weight=4, score=(train=-0.008, test=-0.009), total= 1.8min\n",
      "[CV] max_depth=6, min_child_weight=5 .................................\n",
      "[CV]  max_depth=6, min_child_weight=5, score=(train=-0.008, test=-0.009), total= 1.8min\n",
      "[CV] max_depth=6, min_child_weight=5 .................................\n",
      "[CV]  max_depth=6, min_child_weight=5, score=(train=-0.008, test=-0.009), total= 1.7min\n",
      "[CV] max_depth=6, min_child_weight=5 .................................\n",
      "[CV]  max_depth=6, min_child_weight=5, score=(train=-0.008, test=-0.009), total= 1.8min\n",
      "[CV] max_depth=6, min_child_weight=5 .................................\n",
      "[CV]  max_depth=6, min_child_weight=5, score=(train=-0.008, test=-0.009), total= 1.8min\n",
      "[CV] max_depth=6, min_child_weight=5 .................................\n",
      "[CV]  max_depth=6, min_child_weight=5, score=(train=-0.008, test=-0.009), total= 1.8min\n",
      "[CV] max_depth=6, min_child_weight=6 .................................\n",
      "[CV]  max_depth=6, min_child_weight=6, score=(train=-0.008, test=-0.009), total= 1.8min\n",
      "[CV] max_depth=6, min_child_weight=6 .................................\n",
      "[CV]  max_depth=6, min_child_weight=6, score=(train=-0.008, test=-0.009), total= 1.7min\n",
      "[CV] max_depth=6, min_child_weight=6 .................................\n",
      "[CV]  max_depth=6, min_child_weight=6, score=(train=-0.008, test=-0.009), total= 1.8min\n",
      "[CV] max_depth=6, min_child_weight=6 .................................\n",
      "[CV]  max_depth=6, min_child_weight=6, score=(train=-0.008, test=-0.009), total= 1.8min\n",
      "[CV] max_depth=6, min_child_weight=6 .................................\n",
      "[CV]  max_depth=6, min_child_weight=6, score=(train=-0.008, test=-0.009), total= 1.8min\n"
     ]
    },
    {
     "name": "stderr",
     "output_type": "stream",
     "text": [
      "[Parallel(n_jobs=1)]: Done  45 out of  45 | elapsed: 68.5min finished\n"
     ]
    },
    {
     "data": {
      "text/plain": [
       "{'max_depth': 6, 'min_child_weight': 6}"
      ]
     },
     "execution_count": 20,
     "metadata": {},
     "output_type": "execute_result"
    }
   ],
   "source": [
    "model_scores3 = XGBClassifier(learning_rate=0.1, n_estimators=200, gamma=0, subsample=0.8,\n",
    "                              colsample_bytree=0.8, scale_pos_weight=1, verbosity=1, seed=42)\n",
    "params3 = dict(max_depth=[4, 5, 6], min_child_weight=[4, 5, 6])\n",
    "grid_search3 = GridSearchCV(model_scores3, params3, scoring='brier_score_loss', n_jobs=1, cv=cv, verbose=10,\n",
    "                            return_train_score=True)\n",
    "gs_results3 = grid_search3.fit(X_train, Y_train['scores'])\n",
    "gs_results3.best_params_"
   ]
  },
  {
   "cell_type": "code",
   "execution_count": 21,
   "metadata": {},
   "outputs": [
    {
     "data": {
      "image/png": "[encoded data removed]",
      "text/plain": [
       "<Figure size 432x288 with 1 Axes>"
      ]
     },
     "metadata": {
      "needs_background": "light"
     },
     "output_type": "display_data"
    }
   ],
   "source": [
    "fig, ax = plot_grid_search(gs_results3.cv_results_)"
   ]
  },
  {
   "cell_type": "code",
   "execution_count": 28,
   "metadata": {
    "scrolled": true
   },
   "outputs": [
    {
     "name": "stdout",
     "output_type": "stream",
     "text": [
      "Fitting 5 folds for each of 6 candidates, totalling 30 fits\n",
      "[CV] gamma=0 .........................................................\n"
     ]
    },
    {
     "name": "stderr",
     "output_type": "stream",
     "text": [
      "[Parallel(n_jobs=1)]: Using backend SequentialBackend with 1 concurrent workers.\n"
     ]
    },
    {
     "name": "stdout",
     "output_type": "stream",
     "text": [
      "[CV] ....... gamma=0, score=(train=-0.008, test=-0.009), total= 2.6min\n",
      "[CV] gamma=0 .........................................................\n"
     ]
    },
    {
     "name": "stderr",
     "output_type": "stream",
     "text": [
      "[Parallel(n_jobs=1)]: Done   1 out of   1 | elapsed:  2.7min remaining:    0.0s\n"
     ]
    },
    {
     "name": "stdout",
     "output_type": "stream",
     "text": [
      "[CV] ....... gamma=0, score=(train=-0.008, test=-0.009), total= 2.6min\n",
      "[CV] gamma=0 .........................................................\n"
     ]
    },
    {
     "name": "stderr",
     "output_type": "stream",
     "text": [
      "[Parallel(n_jobs=1)]: Done   2 out of   2 | elapsed:  5.3min remaining:    0.0s\n"
     ]
    },
    {
     "name": "stdout",
     "output_type": "stream",
     "text": [
      "[CV] ....... gamma=0, score=(train=-0.008, test=-0.009), total= 2.6min\n",
      "[CV] gamma=0 .........................................................\n"
     ]
    },
    {
     "name": "stderr",
     "output_type": "stream",
     "text": [
      "[Parallel(n_jobs=1)]: Done   3 out of   3 | elapsed:  7.9min remaining:    0.0s\n"
     ]
    },
    {
     "name": "stdout",
     "output_type": "stream",
     "text": [
      "[CV] ....... gamma=0, score=(train=-0.008, test=-0.009), total= 2.9min\n",
      "[CV] gamma=0 .........................................................\n"
     ]
    },
    {
     "name": "stderr",
     "output_type": "stream",
     "text": [
      "[Parallel(n_jobs=1)]: Done   4 out of   4 | elapsed: 10.8min remaining:    0.0s\n"
     ]
    },
    {
     "name": "stdout",
     "output_type": "stream",
     "text": [
      "[CV] ....... gamma=0, score=(train=-0.008, test=-0.009), total= 2.8min\n",
      "[CV] gamma=0.1 .......................................................\n"
     ]
    },
    {
     "name": "stderr",
     "output_type": "stream",
     "text": [
      "[Parallel(n_jobs=1)]: Done   5 out of   5 | elapsed: 13.7min remaining:    0.0s\n"
     ]
    },
    {
     "name": "stdout",
     "output_type": "stream",
     "text": [
      "[CV] ..... gamma=0.1, score=(train=-0.008, test=-0.009), total= 2.7min\n",
      "[CV] gamma=0.1 .......................................................\n"
     ]
    },
    {
     "name": "stderr",
     "output_type": "stream",
     "text": [
      "[Parallel(n_jobs=1)]: Done   6 out of   6 | elapsed: 16.4min remaining:    0.0s\n"
     ]
    },
    {
     "name": "stdout",
     "output_type": "stream",
     "text": [
      "[CV] ..... gamma=0.1, score=(train=-0.008, test=-0.009), total= 2.8min\n",
      "[CV] gamma=0.1 .......................................................\n"
     ]
    },
    {
     "name": "stderr",
     "output_type": "stream",
     "text": [
      "[Parallel(n_jobs=1)]: Done   7 out of   7 | elapsed: 19.3min remaining:    0.0s\n"
     ]
    },
    {
     "name": "stdout",
     "output_type": "stream",
     "text": [
      "[CV] ..... gamma=0.1, score=(train=-0.008, test=-0.009), total= 2.7min\n",
      "[CV] gamma=0.1 .......................................................\n"
     ]
    },
    {
     "name": "stderr",
     "output_type": "stream",
     "text": [
      "[Parallel(n_jobs=1)]: Done   8 out of   8 | elapsed: 22.1min remaining:    0.0s\n"
     ]
    },
    {
     "name": "stdout",
     "output_type": "stream",
     "text": [
      "[CV] ..... gamma=0.1, score=(train=-0.008, test=-0.009), total= 2.7min\n",
      "[CV] gamma=0.1 .......................................................\n"
     ]
    },
    {
     "name": "stderr",
     "output_type": "stream",
     "text": [
      "[Parallel(n_jobs=1)]: Done   9 out of   9 | elapsed: 24.8min remaining:    0.0s\n"
     ]
    },
    {
     "name": "stdout",
     "output_type": "stream",
     "text": [
      "[CV] ..... gamma=0.1, score=(train=-0.008, test=-0.009), total= 2.0min\n",
      "[CV] gamma=0.2 .......................................................\n",
      "[CV] ..... gamma=0.2, score=(train=-0.008, test=-0.009), total= 1.8min\n",
      "[CV] gamma=0.2 .......................................................\n",
      "[CV] ..... gamma=0.2, score=(train=-0.008, test=-0.009), total= 1.7min\n",
      "[CV] gamma=0.2 .......................................................\n",
      "[CV] ..... gamma=0.2, score=(train=-0.008, test=-0.009), total= 1.8min\n",
      "[CV] gamma=0.2 .......................................................\n",
      "[CV] ..... gamma=0.2, score=(train=-0.008, test=-0.009), total= 1.8min\n",
      "[CV] gamma=0.2 .......................................................\n",
      "[CV] ..... gamma=0.2, score=(train=-0.008, test=-0.009), total= 1.8min\n",
      "[CV] gamma=0.3 .......................................................\n",
      "[CV] ..... gamma=0.3, score=(train=-0.008, test=-0.009), total= 1.8min\n",
      "[CV] gamma=0.3 .......................................................\n",
      "[CV] ..... gamma=0.3, score=(train=-0.008, test=-0.009), total= 1.7min\n",
      "[CV] gamma=0.3 .......................................................\n",
      "[CV] ..... gamma=0.3, score=(train=-0.008, test=-0.009), total= 1.8min\n",
      "[CV] gamma=0.3 .......................................................\n",
      "[CV] ..... gamma=0.3, score=(train=-0.008, test=-0.009), total= 1.8min\n",
      "[CV] gamma=0.3 .......................................................\n",
      "[CV] ..... gamma=0.3, score=(train=-0.008, test=-0.009), total= 1.8min\n",
      "[CV] gamma=0.4 .......................................................\n",
      "[CV] ..... gamma=0.4, score=(train=-0.008, test=-0.009), total= 1.9min\n",
      "[CV] gamma=0.4 .......................................................\n",
      "[CV] ..... gamma=0.4, score=(train=-0.008, test=-0.009), total= 1.7min\n",
      "[CV] gamma=0.4 .......................................................\n",
      "[CV] ..... gamma=0.4, score=(train=-0.008, test=-0.009), total= 1.8min\n",
      "[CV] gamma=0.4 .......................................................\n",
      "[CV] ..... gamma=0.4, score=(train=-0.008, test=-0.009), total= 1.8min\n",
      "[CV] gamma=0.4 .......................................................\n",
      "[CV] ..... gamma=0.4, score=(train=-0.008, test=-0.009), total= 1.8min\n",
      "[CV] gamma=0.5 .......................................................\n",
      "[CV] ..... gamma=0.5, score=(train=-0.008, test=-0.009), total= 1.8min\n",
      "[CV] gamma=0.5 .......................................................\n",
      "[CV] ..... gamma=0.5, score=(train=-0.008, test=-0.009), total= 1.7min\n",
      "[CV] gamma=0.5 .......................................................\n",
      "[CV] ..... gamma=0.5, score=(train=-0.008, test=-0.009), total= 1.8min\n",
      "[CV] gamma=0.5 .......................................................\n",
      "[CV] ..... gamma=0.5, score=(train=-0.008, test=-0.009), total= 1.8min\n",
      "[CV] gamma=0.5 .......................................................\n",
      "[CV] ..... gamma=0.5, score=(train=-0.008, test=-0.009), total= 1.8min\n"
     ]
    },
    {
     "name": "stderr",
     "output_type": "stream",
     "text": [
      "[Parallel(n_jobs=1)]: Done  30 out of  30 | elapsed: 62.7min finished\n"
     ]
    },
    {
     "data": {
      "text/plain": [
       "{'gamma': 0}"
      ]
     },
     "execution_count": 28,
     "metadata": {},
     "output_type": "execute_result"
    }
   ],
   "source": [
    "model_scores4 = XGBClassifier(learning_rate=0.1, n_estimators=200, max_depth=6, min_child_weight=6,\n",
    "                              subsample=0.8, colsample_bytree=0.8, scale_pos_weight=1, verbosity=1, seed=42)\n",
    "params4 = dict(gamma=[0, 0.1, 0.2, 0.3, 0.4, 0.5])\n",
    "grid_search4 = GridSearchCV(model_scores4, params4, scoring='brier_score_loss', n_jobs=1, cv=cv, verbose=10,\n",
    "                            return_train_score=True)\n",
    "gs_results4 = grid_search4.fit(X_train, Y_train['scores'])\n",
    "gs_results4.best_params_"
   ]
  },
  {
   "cell_type": "code",
   "execution_count": 29,
   "metadata": {},
   "outputs": [
    {
     "data": {
      "text/plain": [
       "<ErrorbarContainer object of 3 artists>"
      ]
     },
     "execution_count": 29,
     "metadata": {},
     "output_type": "execute_result"
    },
    {
     "data": {
      "image/png": "[encoded data removed]",
      "text/plain": [
       "<Figure size 432x288 with 1 Axes>"
      ]
     },
     "metadata": {
      "needs_background": "light"
     },
     "output_type": "display_data"
    }
   ],
   "source": [
    "plt.errorbar(range(1, 7),\n",
    "             gs_results4.cv_results_['mean_test_score'],\n",
    "             yerr=gs_results4.cv_results_['std_test_score'])"
   ]
  },
  {
   "cell_type": "code",
   "execution_count": 31,
   "metadata": {
    "scrolled": true
   },
   "outputs": [
    {
     "name": "stdout",
     "output_type": "stream",
     "text": [
      "Fitting 5 folds for each of 16 candidates, totalling 80 fits\n",
      "[CV] colsample_by_tree=0.4, subsample=0.4 ............................\n"
     ]
    },
    {
     "name": "stderr",
     "output_type": "stream",
     "text": [
      "[Parallel(n_jobs=1)]: Using backend SequentialBackend with 1 concurrent workers.\n"
     ]
    },
    {
     "name": "stdout",
     "output_type": "stream",
     "text": [
      "[CV]  colsample_by_tree=0.4, subsample=0.4, score=(train=-0.008, test=-0.009), total= 2.7min\n",
      "[CV] colsample_by_tree=0.4, subsample=0.4 ............................\n"
     ]
    },
    {
     "name": "stderr",
     "output_type": "stream",
     "text": [
      "[Parallel(n_jobs=1)]: Done   1 out of   1 | elapsed:  2.7min remaining:    0.0s\n"
     ]
    },
    {
     "name": "stdout",
     "output_type": "stream",
     "text": [
      "[CV]  colsample_by_tree=0.4, subsample=0.4, score=(train=-0.008, test=-0.009), total= 2.6min\n",
      "[CV] colsample_by_tree=0.4, subsample=0.4 ............................\n"
     ]
    },
    {
     "name": "stderr",
     "output_type": "stream",
     "text": [
      "[Parallel(n_jobs=1)]: Done   2 out of   2 | elapsed:  5.4min remaining:    0.0s\n"
     ]
    },
    {
     "name": "stdout",
     "output_type": "stream",
     "text": [
      "[CV]  colsample_by_tree=0.4, subsample=0.4, score=(train=-0.008, test=-0.009), total= 2.6min\n",
      "[CV] colsample_by_tree=0.4, subsample=0.4 ............................\n"
     ]
    },
    {
     "name": "stderr",
     "output_type": "stream",
     "text": [
      "[Parallel(n_jobs=1)]: Done   3 out of   3 | elapsed:  8.0min remaining:    0.0s\n"
     ]
    },
    {
     "name": "stdout",
     "output_type": "stream",
     "text": [
      "[CV]  colsample_by_tree=0.4, subsample=0.4, score=(train=-0.008, test=-0.009), total= 2.6min\n",
      "[CV] colsample_by_tree=0.4, subsample=0.4 ............................\n"
     ]
    },
    {
     "name": "stderr",
     "output_type": "stream",
     "text": [
      "[Parallel(n_jobs=1)]: Done   4 out of   4 | elapsed: 10.6min remaining:    0.0s\n"
     ]
    },
    {
     "name": "stdout",
     "output_type": "stream",
     "text": [
      "[CV]  colsample_by_tree=0.4, subsample=0.4, score=(train=-0.008, test=-0.009), total= 2.6min\n",
      "[CV] colsample_by_tree=0.4, subsample=0.6 ............................\n"
     ]
    },
    {
     "name": "stderr",
     "output_type": "stream",
     "text": [
      "[Parallel(n_jobs=1)]: Done   5 out of   5 | elapsed: 13.3min remaining:    0.0s\n"
     ]
    },
    {
     "name": "stdout",
     "output_type": "stream",
     "text": [
      "[CV]  colsample_by_tree=0.4, subsample=0.6, score=(train=-0.008, test=-0.009), total= 3.0min\n",
      "[CV] colsample_by_tree=0.4, subsample=0.6 ............................\n"
     ]
    },
    {
     "name": "stderr",
     "output_type": "stream",
     "text": [
      "[Parallel(n_jobs=1)]: Done   6 out of   6 | elapsed: 16.3min remaining:    0.0s\n"
     ]
    },
    {
     "name": "stdout",
     "output_type": "stream",
     "text": [
      "[CV]  colsample_by_tree=0.4, subsample=0.6, score=(train=-0.008, test=-0.009), total= 2.9min\n",
      "[CV] colsample_by_tree=0.4, subsample=0.6 ............................\n"
     ]
    },
    {
     "name": "stderr",
     "output_type": "stream",
     "text": [
      "[Parallel(n_jobs=1)]: Done   7 out of   7 | elapsed: 19.2min remaining:    0.0s\n"
     ]
    },
    {
     "name": "stdout",
     "output_type": "stream",
     "text": [
      "[CV]  colsample_by_tree=0.4, subsample=0.6, score=(train=-0.008, test=-0.009), total=18.0min\n",
      "[CV] colsample_by_tree=0.4, subsample=0.6 ............................\n"
     ]
    },
    {
     "name": "stderr",
     "output_type": "stream",
     "text": [
      "[Parallel(n_jobs=1)]: Done   8 out of   8 | elapsed: 37.3min remaining:    0.0s\n"
     ]
    },
    {
     "name": "stdout",
     "output_type": "stream",
     "text": [
      "[CV]  colsample_by_tree=0.4, subsample=0.6, score=(train=-0.008, test=-0.009), total= 3.2min\n",
      "[CV] colsample_by_tree=0.4, subsample=0.6 ............................\n"
     ]
    },
    {
     "name": "stderr",
     "output_type": "stream",
     "text": [
      "[Parallel(n_jobs=1)]: Done   9 out of   9 | elapsed: 40.6min remaining:    0.0s\n"
     ]
    },
    {
     "name": "stdout",
     "output_type": "stream",
     "text": [
      "[CV]  colsample_by_tree=0.4, subsample=0.6, score=(train=-0.008, test=-0.009), total= 3.7min\n",
      "[CV] colsample_by_tree=0.4, subsample=0.8 ............................\n",
      "[CV]  colsample_by_tree=0.4, subsample=0.8, score=(train=-0.008, test=-0.009), total= 3.3min\n",
      "[CV] colsample_by_tree=0.4, subsample=0.8 ............................\n",
      "[CV]  colsample_by_tree=0.4, subsample=0.8, score=(train=-0.008, test=-0.009), total= 3.1min\n",
      "[CV] colsample_by_tree=0.4, subsample=0.8 ............................\n",
      "[CV]  colsample_by_tree=0.4, subsample=0.8, score=(train=-0.008, test=-0.009), total= 3.1min\n",
      "[CV] colsample_by_tree=0.4, subsample=0.8 ............................\n",
      "[CV]  colsample_by_tree=0.4, subsample=0.8, score=(train=-0.008, test=-0.009), total= 3.1min\n",
      "[CV] colsample_by_tree=0.4, subsample=0.8 ............................\n",
      "[CV]  colsample_by_tree=0.4, subsample=0.8, score=(train=-0.008, test=-0.009), total= 3.1min\n",
      "[CV] colsample_by_tree=0.4, subsample=1 ..............................\n",
      "[CV]  colsample_by_tree=0.4, subsample=1, score=(train=-0.008, test=-0.009), total= 3.0min\n",
      "[CV] colsample_by_tree=0.4, subsample=1 ..............................\n",
      "[CV]  colsample_by_tree=0.4, subsample=1, score=(train=-0.008, test=-0.009), total= 3.2min\n",
      "[CV] colsample_by_tree=0.4, subsample=1 ..............................\n",
      "[CV]  colsample_by_tree=0.4, subsample=1, score=(train=-0.008, test=-0.009), total= 3.9min\n",
      "[CV] colsample_by_tree=0.4, subsample=1 ..............................\n",
      "[CV]  colsample_by_tree=0.4, subsample=1, score=(train=-0.008, test=-0.009), total= 3.9min\n",
      "[CV] colsample_by_tree=0.4, subsample=1 ..............................\n",
      "[CV]  colsample_by_tree=0.4, subsample=1, score=(train=-0.008, test=-0.009), total= 3.9min\n",
      "[CV] colsample_by_tree=0.6, subsample=0.4 ............................\n",
      "[CV]  colsample_by_tree=0.6, subsample=0.4, score=(train=-0.008, test=-0.009), total=47.3min\n",
      "[CV] colsample_by_tree=0.6, subsample=0.4 ............................\n",
      "[CV]  colsample_by_tree=0.6, subsample=0.4, score=(train=-0.008, test=-0.009), total= 1.8min\n",
      "[CV] colsample_by_tree=0.6, subsample=0.4 ............................\n",
      "[CV]  colsample_by_tree=0.6, subsample=0.4, score=(train=-0.008, test=-0.009), total= 1.8min\n",
      "[CV] colsample_by_tree=0.6, subsample=0.4 ............................\n",
      "[CV]  colsample_by_tree=0.6, subsample=0.4, score=(train=-0.008, test=-0.009), total= 1.8min\n",
      "[CV] colsample_by_tree=0.6, subsample=0.4 ............................\n",
      "[CV]  colsample_by_tree=0.6, subsample=0.4, score=(train=-0.008, test=-0.009), total= 1.8min\n",
      "[CV] colsample_by_tree=0.6, subsample=0.6 ............................\n",
      "[CV]  colsample_by_tree=0.6, subsample=0.6, score=(train=-0.008, test=-0.009), total= 2.1min\n",
      "[CV] colsample_by_tree=0.6, subsample=0.6 ............................\n",
      "[CV]  colsample_by_tree=0.6, subsample=0.6, score=(train=-0.008, test=-0.009), total= 2.0min\n",
      "[CV] colsample_by_tree=0.6, subsample=0.6 ............................\n",
      "[CV]  colsample_by_tree=0.6, subsample=0.6, score=(train=-0.008, test=-0.009), total= 2.1min\n",
      "[CV] colsample_by_tree=0.6, subsample=0.6 ............................\n",
      "[CV]  colsample_by_tree=0.6, subsample=0.6, score=(train=-0.008, test=-0.009), total= 2.1min\n",
      "[CV] colsample_by_tree=0.6, subsample=0.6 ............................\n",
      "[CV]  colsample_by_tree=0.6, subsample=0.6, score=(train=-0.008, test=-0.009), total= 2.1min\n",
      "[CV] colsample_by_tree=0.6, subsample=0.8 ............................\n",
      "[CV]  colsample_by_tree=0.6, subsample=0.8, score=(train=-0.008, test=-0.009), total= 2.1min\n",
      "[CV] colsample_by_tree=0.6, subsample=0.8 ............................\n",
      "[CV]  colsample_by_tree=0.6, subsample=0.8, score=(train=-0.008, test=-0.009), total= 2.0min\n",
      "[CV] colsample_by_tree=0.6, subsample=0.8 ............................\n",
      "[CV]  colsample_by_tree=0.6, subsample=0.8, score=(train=-0.008, test=-0.009), total= 2.1min\n",
      "[CV] colsample_by_tree=0.6, subsample=0.8 ............................\n",
      "[CV]  colsample_by_tree=0.6, subsample=0.8, score=(train=-0.008, test=-0.009), total= 2.1min\n",
      "[CV] colsample_by_tree=0.6, subsample=0.8 ............................\n",
      "[CV]  colsample_by_tree=0.6, subsample=0.8, score=(train=-0.008, test=-0.009), total= 2.1min\n",
      "[CV] colsample_by_tree=0.6, subsample=1 ..............................\n",
      "[CV]  colsample_by_tree=0.6, subsample=1, score=(train=-0.008, test=-0.009), total= 2.3min\n",
      "[CV] colsample_by_tree=0.6, subsample=1 ..............................\n",
      "[CV]  colsample_by_tree=0.6, subsample=1, score=(train=-0.008, test=-0.009), total= 2.2min\n",
      "[CV] colsample_by_tree=0.6, subsample=1 ..............................\n",
      "[CV]  colsample_by_tree=0.6, subsample=1, score=(train=-0.008, test=-0.009), total= 2.4min\n",
      "[CV] colsample_by_tree=0.6, subsample=1 ..............................\n",
      "[CV]  colsample_by_tree=0.6, subsample=1, score=(train=-0.008, test=-0.009), total= 2.2min\n",
      "[CV] colsample_by_tree=0.6, subsample=1 ..............................\n",
      "[CV]  colsample_by_tree=0.6, subsample=1, score=(train=-0.008, test=-0.009), total= 2.3min\n",
      "[CV] colsample_by_tree=0.8, subsample=0.4 ............................\n",
      "[CV]  colsample_by_tree=0.8, subsample=0.4, score=(train=-0.008, test=-0.009), total= 2.1min\n",
      "[CV] colsample_by_tree=0.8, subsample=0.4 ............................\n",
      "[CV]  colsample_by_tree=0.8, subsample=0.4, score=(train=-0.008, test=-0.009), total= 2.0min\n",
      "[CV] colsample_by_tree=0.8, subsample=0.4 ............................\n",
      "[CV]  colsample_by_tree=0.8, subsample=0.4, score=(train=-0.008, test=-0.009), total= 1.9min\n",
      "[CV] colsample_by_tree=0.8, subsample=0.4 ............................\n",
      "[CV]  colsample_by_tree=0.8, subsample=0.4, score=(train=-0.008, test=-0.009), total= 1.8min\n",
      "[CV] colsample_by_tree=0.8, subsample=0.4 ............................\n",
      "[CV]  colsample_by_tree=0.8, subsample=0.4, score=(train=-0.008, test=-0.009), total= 1.8min\n",
      "[CV] colsample_by_tree=0.8, subsample=0.6 ............................\n",
      "[CV]  colsample_by_tree=0.8, subsample=0.6, score=(train=-0.008, test=-0.009), total= 2.3min\n",
      "[CV] colsample_by_tree=0.8, subsample=0.6 ............................\n",
      "[CV]  colsample_by_tree=0.8, subsample=0.6, score=(train=-0.008, test=-0.009), total= 2.4min\n",
      "[CV] colsample_by_tree=0.8, subsample=0.6 ............................\n",
      "[CV]  colsample_by_tree=0.8, subsample=0.6, score=(train=-0.008, test=-0.009), total= 2.1min\n",
      "[CV] colsample_by_tree=0.8, subsample=0.6 ............................\n",
      "[CV]  colsample_by_tree=0.8, subsample=0.6, score=(train=-0.008, test=-0.009), total= 2.1min\n",
      "[CV] colsample_by_tree=0.8, subsample=0.6 ............................\n",
      "[CV]  colsample_by_tree=0.8, subsample=0.6, score=(train=-0.008, test=-0.009), total= 2.2min\n",
      "[CV] colsample_by_tree=0.8, subsample=0.8 ............................\n",
      "[CV]  colsample_by_tree=0.8, subsample=0.8, score=(train=-0.008, test=-0.009), total= 2.1min\n",
      "[CV] colsample_by_tree=0.8, subsample=0.8 ............................\n",
      "[CV]  colsample_by_tree=0.8, subsample=0.8, score=(train=-0.008, test=-0.009), total= 2.1min\n",
      "[CV] colsample_by_tree=0.8, subsample=0.8 ............................\n",
      "[CV]  colsample_by_tree=0.8, subsample=0.8, score=(train=-0.008, test=-0.009), total= 2.3min\n",
      "[CV] colsample_by_tree=0.8, subsample=0.8 ............................\n",
      "[CV]  colsample_by_tree=0.8, subsample=0.8, score=(train=-0.008, test=-0.009), total= 2.2min\n",
      "[CV] colsample_by_tree=0.8, subsample=0.8 ............................\n",
      "[CV]  colsample_by_tree=0.8, subsample=0.8, score=(train=-0.008, test=-0.009), total= 2.2min\n",
      "[CV] colsample_by_tree=0.8, subsample=1 ..............................\n",
      "[CV]  colsample_by_tree=0.8, subsample=1, score=(train=-0.008, test=-0.009), total= 2.2min\n",
      "[CV] colsample_by_tree=0.8, subsample=1 ..............................\n",
      "[CV]  colsample_by_tree=0.8, subsample=1, score=(train=-0.008, test=-0.009), total= 2.2min\n",
      "[CV] colsample_by_tree=0.8, subsample=1 ..............................\n",
      "[CV]  colsample_by_tree=0.8, subsample=1, score=(train=-0.008, test=-0.009), total= 2.2min\n",
      "[CV] colsample_by_tree=0.8, subsample=1 ..............................\n",
      "[CV]  colsample_by_tree=0.8, subsample=1, score=(train=-0.008, test=-0.009), total= 2.2min\n",
      "[CV] colsample_by_tree=0.8, subsample=1 ..............................\n",
      "[CV]  colsample_by_tree=0.8, subsample=1, score=(train=-0.008, test=-0.009), total= 2.2min\n",
      "[CV] colsample_by_tree=1, subsample=0.4 ..............................\n",
      "[CV]  colsample_by_tree=1, subsample=0.4, score=(train=-0.008, test=-0.009), total= 2.0min\n",
      "[CV] colsample_by_tree=1, subsample=0.4 ..............................\n",
      "[CV]  colsample_by_tree=1, subsample=0.4, score=(train=-0.008, test=-0.009), total= 1.8min\n",
      "[CV] colsample_by_tree=1, subsample=0.4 ..............................\n",
      "[CV]  colsample_by_tree=1, subsample=0.4, score=(train=-0.008, test=-0.009), total= 2.0min\n",
      "[CV] colsample_by_tree=1, subsample=0.4 ..............................\n",
      "[CV]  colsample_by_tree=1, subsample=0.4, score=(train=-0.008, test=-0.009), total= 2.0min\n",
      "[CV] colsample_by_tree=1, subsample=0.4 ..............................\n",
      "[CV]  colsample_by_tree=1, subsample=0.4, score=(train=-0.008, test=-0.009), total= 2.0min\n",
      "[CV] colsample_by_tree=1, subsample=0.6 ..............................\n",
      "[CV]  colsample_by_tree=1, subsample=0.6, score=(train=-0.008, test=-0.009), total= 2.3min\n",
      "[CV] colsample_by_tree=1, subsample=0.6 ..............................\n",
      "[CV]  colsample_by_tree=1, subsample=0.6, score=(train=-0.008, test=-0.009), total= 2.3min\n",
      "[CV] colsample_by_tree=1, subsample=0.6 ..............................\n",
      "[CV]  colsample_by_tree=1, subsample=0.6, score=(train=-0.008, test=-0.009), total= 2.3min\n",
      "[CV] colsample_by_tree=1, subsample=0.6 ..............................\n",
      "[CV]  colsample_by_tree=1, subsample=0.6, score=(train=-0.008, test=-0.009), total= 2.1min\n",
      "[CV] colsample_by_tree=1, subsample=0.6 ..............................\n",
      "[CV]  colsample_by_tree=1, subsample=0.6, score=(train=-0.008, test=-0.009), total= 2.3min\n",
      "[CV] colsample_by_tree=1, subsample=0.8 ..............................\n",
      "[CV]  colsample_by_tree=1, subsample=0.8, score=(train=-0.008, test=-0.009), total= 2.3min\n",
      "[CV] colsample_by_tree=1, subsample=0.8 ..............................\n",
      "[CV]  colsample_by_tree=1, subsample=0.8, score=(train=-0.008, test=-0.009), total= 2.1min\n",
      "[CV] colsample_by_tree=1, subsample=0.8 ..............................\n",
      "[CV]  colsample_by_tree=1, subsample=0.8, score=(train=-0.008, test=-0.009), total= 2.1min\n",
      "[CV] colsample_by_tree=1, subsample=0.8 ..............................\n",
      "[CV]  colsample_by_tree=1, subsample=0.8, score=(train=-0.008, test=-0.009), total= 2.1min\n",
      "[CV] colsample_by_tree=1, subsample=0.8 ..............................\n",
      "[CV]  colsample_by_tree=1, subsample=0.8, score=(train=-0.008, test=-0.009), total= 2.1min\n",
      "[CV] colsample_by_tree=1, subsample=1 ................................\n",
      "[CV]  colsample_by_tree=1, subsample=1, score=(train=-0.008, test=-0.009), total= 2.1min\n",
      "[CV] colsample_by_tree=1, subsample=1 ................................\n",
      "[CV]  colsample_by_tree=1, subsample=1, score=(train=-0.008, test=-0.009), total= 2.0min\n",
      "[CV] colsample_by_tree=1, subsample=1 ................................\n",
      "[CV]  colsample_by_tree=1, subsample=1, score=(train=-0.008, test=-0.009), total= 2.1min\n",
      "[CV] colsample_by_tree=1, subsample=1 ................................\n",
      "[CV]  colsample_by_tree=1, subsample=1, score=(train=-0.008, test=-0.009), total= 2.1min\n",
      "[CV] colsample_by_tree=1, subsample=1 ................................\n",
      "[CV]  colsample_by_tree=1, subsample=1, score=(train=-0.008, test=-0.009), total= 2.1min\n"
     ]
    },
    {
     "name": "stderr",
     "output_type": "stream",
     "text": [
      "[Parallel(n_jobs=1)]: Done  80 out of  80 | elapsed: 251.7min finished\n"
     ]
    },
    {
     "data": {
      "text/plain": [
       "{'colsample_by_tree': 0.4, 'subsample': 1}"
      ]
     },
     "execution_count": 31,
     "metadata": {},
     "output_type": "execute_result"
    }
   ],
   "source": [
    "model_scores5 = XGBClassifier(learning_rate=0.1, n_estimators=200, max_depth=6, min_child_weight=6, gamma=0,\n",
    "                              scale_pos_weight=1, verbosity=1, seed=42)\n",
    "params5 = dict(subsample = [0.4, 0.6, 0.8, 1], colsample_by_tree=[0.4, 0.6, 0.8, 1])\n",
    "grid_search5 = GridSearchCV(model_scores5, params5, scoring='brier_score_loss', n_jobs=1, cv=cv, verbose=10,\n",
    "                            return_train_score=True)\n",
    "gs_results5 = grid_search5.fit(X_train, Y_train['scores'])\n",
    "gs_results5.best_params_"
   ]
  },
  {
   "cell_type": "code",
   "execution_count": 32,
   "metadata": {},
   "outputs": [
    {
     "data": {
      "text/plain": [
       "(<Figure size 432x288 with 1 Axes>,\n",
       " <matplotlib.axes._subplots.AxesSubplot at 0x7f18a58f0490>)"
      ]
     },
     "execution_count": 32,
     "metadata": {},
     "output_type": "execute_result"
    },
    {
     "data": {
      "image/png": "[encoded data removed]",
      "text/plain": [
       "<Figure size 432x288 with 1 Axes>"
      ]
     },
     "metadata": {
      "needs_background": "light"
     },
     "output_type": "display_data"
    }
   ],
   "source": [
    "plot_grid_search(gs_results5.cv_results_)"
   ]
  },
  {
   "cell_type": "code",
   "execution_count": 34,
   "metadata": {
    "scrolled": true
   },
   "outputs": [
    {
     "name": "stdout",
     "output_type": "stream",
     "text": [
      "Fitting 5 folds for each of 25 candidates, totalling 125 fits\n",
      "[CV] reg_alpha=0, reg_lambda=0 .......................................\n"
     ]
    },
    {
     "name": "stderr",
     "output_type": "stream",
     "text": [
      "[Parallel(n_jobs=1)]: Using backend SequentialBackend with 1 concurrent workers.\n"
     ]
    },
    {
     "name": "stdout",
     "output_type": "stream",
     "text": [
      "[CV]  reg_alpha=0, reg_lambda=0, score=(train=-0.008, test=-0.009), total= 1.1min\n",
      "[CV] reg_alpha=0, reg_lambda=0 .......................................\n"
     ]
    },
    {
     "name": "stderr",
     "output_type": "stream",
     "text": [
      "[Parallel(n_jobs=1)]: Done   1 out of   1 | elapsed:  1.2min remaining:    0.0s\n"
     ]
    },
    {
     "name": "stdout",
     "output_type": "stream",
     "text": [
      "[CV]  reg_alpha=0, reg_lambda=0, score=(train=-0.008, test=-0.009), total= 1.1min\n",
      "[CV] reg_alpha=0, reg_lambda=0 .......................................\n"
     ]
    },
    {
     "name": "stderr",
     "output_type": "stream",
     "text": [
      "[Parallel(n_jobs=1)]: Done   2 out of   2 | elapsed:  2.3min remaining:    0.0s\n"
     ]
    },
    {
     "name": "stdout",
     "output_type": "stream",
     "text": [
      "[CV]  reg_alpha=0, reg_lambda=0, score=(train=-0.008, test=-0.009), total= 1.1min\n",
      "[CV] reg_alpha=0, reg_lambda=0 .......................................\n"
     ]
    },
    {
     "name": "stderr",
     "output_type": "stream",
     "text": [
      "[Parallel(n_jobs=1)]: Done   3 out of   3 | elapsed:  3.4min remaining:    0.0s\n"
     ]
    },
    {
     "name": "stdout",
     "output_type": "stream",
     "text": [
      "[CV]  reg_alpha=0, reg_lambda=0, score=(train=-0.008, test=-0.009), total= 1.1min\n",
      "[CV] reg_alpha=0, reg_lambda=0 .......................................\n"
     ]
    },
    {
     "name": "stderr",
     "output_type": "stream",
     "text": [
      "[Parallel(n_jobs=1)]: Done   4 out of   4 | elapsed:  4.6min remaining:    0.0s\n"
     ]
    },
    {
     "name": "stdout",
     "output_type": "stream",
     "text": [
      "[CV]  reg_alpha=0, reg_lambda=0, score=(train=-0.008, test=-0.009), total= 1.5min\n",
      "[CV] reg_alpha=0, reg_lambda=0.01 ....................................\n"
     ]
    },
    {
     "name": "stderr",
     "output_type": "stream",
     "text": [
      "[Parallel(n_jobs=1)]: Done   5 out of   5 | elapsed:  6.1min remaining:    0.0s\n"
     ]
    },
    {
     "name": "stdout",
     "output_type": "stream",
     "text": [
      "[CV]  reg_alpha=0, reg_lambda=0.01, score=(train=-0.008, test=-0.009), total= 1.9min\n",
      "[CV] reg_alpha=0, reg_lambda=0.01 ....................................\n"
     ]
    },
    {
     "name": "stderr",
     "output_type": "stream",
     "text": [
      "[Parallel(n_jobs=1)]: Done   6 out of   6 | elapsed:  8.0min remaining:    0.0s\n"
     ]
    },
    {
     "name": "stdout",
     "output_type": "stream",
     "text": [
      "[CV]  reg_alpha=0, reg_lambda=0.01, score=(train=-0.008, test=-0.009), total= 1.5min\n",
      "[CV] reg_alpha=0, reg_lambda=0.01 ....................................\n"
     ]
    },
    {
     "name": "stderr",
     "output_type": "stream",
     "text": [
      "[Parallel(n_jobs=1)]: Done   7 out of   7 | elapsed:  9.6min remaining:    0.0s\n"
     ]
    },
    {
     "name": "stdout",
     "output_type": "stream",
     "text": [
      "[CV]  reg_alpha=0, reg_lambda=0.01, score=(train=-0.008, test=-0.009), total= 1.8min\n",
      "[CV] reg_alpha=0, reg_lambda=0.01 ....................................\n"
     ]
    },
    {
     "name": "stderr",
     "output_type": "stream",
     "text": [
      "[Parallel(n_jobs=1)]: Done   8 out of   8 | elapsed: 11.4min remaining:    0.0s\n"
     ]
    },
    {
     "name": "stdout",
     "output_type": "stream",
     "text": [
      "[CV]  reg_alpha=0, reg_lambda=0.01, score=(train=-0.008, test=-0.009), total= 1.7min\n",
      "[CV] reg_alpha=0, reg_lambda=0.01 ....................................\n"
     ]
    },
    {
     "name": "stderr",
     "output_type": "stream",
     "text": [
      "[Parallel(n_jobs=1)]: Done   9 out of   9 | elapsed: 13.1min remaining:    0.0s\n"
     ]
    },
    {
     "name": "stdout",
     "output_type": "stream",
     "text": [
      "[CV]  reg_alpha=0, reg_lambda=0.01, score=(train=-0.008, test=-0.009), total= 1.7min\n",
      "[CV] reg_alpha=0, reg_lambda=0.1 .....................................\n",
      "[CV]  reg_alpha=0, reg_lambda=0.1, score=(train=-0.008, test=-0.009), total= 1.7min\n",
      "[CV] reg_alpha=0, reg_lambda=0.1 .....................................\n",
      "[CV]  reg_alpha=0, reg_lambda=0.1, score=(train=-0.008, test=-0.009), total= 1.7min\n",
      "[CV] reg_alpha=0, reg_lambda=0.1 .....................................\n",
      "[CV]  reg_alpha=0, reg_lambda=0.1, score=(train=-0.008, test=-0.009), total= 1.8min\n",
      "[CV] reg_alpha=0, reg_lambda=0.1 .....................................\n",
      "[CV]  reg_alpha=0, reg_lambda=0.1, score=(train=-0.008, test=-0.009), total= 1.9min\n",
      "[CV] reg_alpha=0, reg_lambda=0.1 .....................................\n",
      "[CV]  reg_alpha=0, reg_lambda=0.1, score=(train=-0.008, test=-0.009), total= 2.0min\n",
      "[CV] reg_alpha=0, reg_lambda=1 .......................................\n",
      "[CV]  reg_alpha=0, reg_lambda=1, score=(train=-0.008, test=-0.009), total= 1.9min\n",
      "[CV] reg_alpha=0, reg_lambda=1 .......................................\n",
      "[CV]  reg_alpha=0, reg_lambda=1, score=(train=-0.008, test=-0.009), total= 1.8min\n",
      "[CV] reg_alpha=0, reg_lambda=1 .......................................\n",
      "[CV]  reg_alpha=0, reg_lambda=1, score=(train=-0.008, test=-0.009), total= 1.9min\n",
      "[CV] reg_alpha=0, reg_lambda=1 .......................................\n",
      "[CV]  reg_alpha=0, reg_lambda=1, score=(train=-0.008, test=-0.009), total= 1.9min\n",
      "[CV] reg_alpha=0, reg_lambda=1 .......................................\n",
      "[CV]  reg_alpha=0, reg_lambda=1, score=(train=-0.008, test=-0.009), total= 1.9min\n",
      "[CV] reg_alpha=0, reg_lambda=10 ......................................\n",
      "[CV]  reg_alpha=0, reg_lambda=10, score=(train=-0.009, test=-0.009), total= 1.9min\n",
      "[CV] reg_alpha=0, reg_lambda=10 ......................................\n",
      "[CV]  reg_alpha=0, reg_lambda=10, score=(train=-0.009, test=-0.009), total= 1.6min\n",
      "[CV] reg_alpha=0, reg_lambda=10 ......................................\n",
      "[CV]  reg_alpha=0, reg_lambda=10, score=(train=-0.009, test=-0.009), total= 1.9min\n",
      "[CV] reg_alpha=0, reg_lambda=10 ......................................\n",
      "[CV]  reg_alpha=0, reg_lambda=10, score=(train=-0.008, test=-0.009), total= 1.7min\n",
      "[CV] reg_alpha=0, reg_lambda=10 ......................................\n",
      "[CV]  reg_alpha=0, reg_lambda=10, score=(train=-0.009, test=-0.009), total= 1.6min\n",
      "[CV] reg_alpha=0.01, reg_lambda=0 ....................................\n",
      "[CV]  reg_alpha=0.01, reg_lambda=0, score=(train=-0.008, test=-0.009), total= 2.0min\n",
      "[CV] reg_alpha=0.01, reg_lambda=0 ....................................\n",
      "[CV]  reg_alpha=0.01, reg_lambda=0, score=(train=-0.008, test=-0.009), total= 1.8min\n",
      "[CV] reg_alpha=0.01, reg_lambda=0 ....................................\n",
      "[CV]  reg_alpha=0.01, reg_lambda=0, score=(train=-0.008, test=-0.009), total= 2.1min\n",
      "[CV] reg_alpha=0.01, reg_lambda=0 ....................................\n",
      "[CV]  reg_alpha=0.01, reg_lambda=0, score=(train=-0.008, test=-0.009), total= 3.6min\n",
      "[CV] reg_alpha=0.01, reg_lambda=0 ....................................\n",
      "[CV]  reg_alpha=0.01, reg_lambda=0, score=(train=-0.008, test=-0.009), total= 3.6min\n",
      "[CV] reg_alpha=0.01, reg_lambda=0.01 .................................\n",
      "[CV]  reg_alpha=0.01, reg_lambda=0.01, score=(train=-0.008, test=-0.009), total= 2.3min\n",
      "[CV] reg_alpha=0.01, reg_lambda=0.01 .................................\n",
      "[CV]  reg_alpha=0.01, reg_lambda=0.01, score=(train=-0.008, test=-0.009), total= 2.3min\n",
      "[CV] reg_alpha=0.01, reg_lambda=0.01 .................................\n",
      "[CV]  reg_alpha=0.01, reg_lambda=0.01, score=(train=-0.008, test=-0.009), total= 1.5min\n",
      "[CV] reg_alpha=0.01, reg_lambda=0.01 .................................\n",
      "[CV]  reg_alpha=0.01, reg_lambda=0.01, score=(train=-0.008, test=-0.009), total= 1.5min\n",
      "[CV] reg_alpha=0.01, reg_lambda=0.01 .................................\n",
      "[CV]  reg_alpha=0.01, reg_lambda=0.01, score=(train=-0.008, test=-0.009), total= 1.3min\n",
      "[CV] reg_alpha=0.01, reg_lambda=0.1 ..................................\n",
      "[CV]  reg_alpha=0.01, reg_lambda=0.1, score=(train=-0.008, test=-0.009), total= 1.2min\n",
      "[CV] reg_alpha=0.01, reg_lambda=0.1 ..................................\n",
      "[CV]  reg_alpha=0.01, reg_lambda=0.1, score=(train=-0.008, test=-0.009), total= 1.0min\n",
      "[CV] reg_alpha=0.01, reg_lambda=0.1 ..................................\n",
      "[CV]  reg_alpha=0.01, reg_lambda=0.1, score=(train=-0.008, test=-0.009), total= 1.1min\n",
      "[CV] reg_alpha=0.01, reg_lambda=0.1 ..................................\n",
      "[CV]  reg_alpha=0.01, reg_lambda=0.1, score=(train=-0.008, test=-0.009), total= 1.1min\n",
      "[CV] reg_alpha=0.01, reg_lambda=0.1 ..................................\n",
      "[CV]  reg_alpha=0.01, reg_lambda=0.1, score=(train=-0.008, test=-0.009), total= 1.2min\n",
      "[CV] reg_alpha=0.01, reg_lambda=1 ....................................\n",
      "[CV]  reg_alpha=0.01, reg_lambda=1, score=(train=-0.008, test=-0.009), total= 1.2min\n",
      "[CV] reg_alpha=0.01, reg_lambda=1 ....................................\n",
      "[CV]  reg_alpha=0.01, reg_lambda=1, score=(train=-0.008, test=-0.009), total= 1.1min\n",
      "[CV] reg_alpha=0.01, reg_lambda=1 ....................................\n",
      "[CV]  reg_alpha=0.01, reg_lambda=1, score=(train=-0.008, test=-0.009), total= 1.1min\n",
      "[CV] reg_alpha=0.01, reg_lambda=1 ....................................\n",
      "[CV]  reg_alpha=0.01, reg_lambda=1, score=(train=-0.008, test=-0.009), total= 1.1min\n",
      "[CV] reg_alpha=0.01, reg_lambda=1 ....................................\n",
      "[CV]  reg_alpha=0.01, reg_lambda=1, score=(train=-0.008, test=-0.009), total= 1.3min\n",
      "[CV] reg_alpha=0.01, reg_lambda=10 ...................................\n",
      "[CV]  reg_alpha=0.01, reg_lambda=10, score=(train=-0.008, test=-0.009), total= 1.2min\n",
      "[CV] reg_alpha=0.01, reg_lambda=10 ...................................\n",
      "[CV]  reg_alpha=0.01, reg_lambda=10, score=(train=-0.009, test=-0.009), total= 1.2min\n",
      "[CV] reg_alpha=0.01, reg_lambda=10 ...................................\n",
      "[CV]  reg_alpha=0.01, reg_lambda=10, score=(train=-0.009, test=-0.009), total= 1.3min\n",
      "[CV] reg_alpha=0.01, reg_lambda=10 ...................................\n",
      "[CV]  reg_alpha=0.01, reg_lambda=10, score=(train=-0.008, test=-0.009), total= 1.3min\n",
      "[CV] reg_alpha=0.01, reg_lambda=10 ...................................\n",
      "[CV]  reg_alpha=0.01, reg_lambda=10, score=(train=-0.009, test=-0.009), total= 1.3min\n",
      "[CV] reg_alpha=0.1, reg_lambda=0 .....................................\n",
      "[CV]  reg_alpha=0.1, reg_lambda=0, score=(train=-0.008, test=-0.009), total= 1.3min\n",
      "[CV] reg_alpha=0.1, reg_lambda=0 .....................................\n",
      "[CV]  reg_alpha=0.1, reg_lambda=0, score=(train=-0.008, test=-0.009), total= 1.2min\n",
      "[CV] reg_alpha=0.1, reg_lambda=0 .....................................\n",
      "[CV]  reg_alpha=0.1, reg_lambda=0, score=(train=-0.008, test=-0.009), total= 1.2min\n",
      "[CV] reg_alpha=0.1, reg_lambda=0 .....................................\n",
      "[CV]  reg_alpha=0.1, reg_lambda=0, score=(train=-0.008, test=-0.009), total= 1.2min\n",
      "[CV] reg_alpha=0.1, reg_lambda=0 .....................................\n",
      "[CV]  reg_alpha=0.1, reg_lambda=0, score=(train=-0.008, test=-0.009), total= 1.2min\n",
      "[CV] reg_alpha=0.1, reg_lambda=0.01 ..................................\n",
      "[CV]  reg_alpha=0.1, reg_lambda=0.01, score=(train=-0.008, test=-0.009), total= 1.2min\n",
      "[CV] reg_alpha=0.1, reg_lambda=0.01 ..................................\n",
      "[CV]  reg_alpha=0.1, reg_lambda=0.01, score=(train=-0.008, test=-0.009), total= 1.2min\n",
      "[CV] reg_alpha=0.1, reg_lambda=0.01 ..................................\n",
      "[CV]  reg_alpha=0.1, reg_lambda=0.01, score=(train=-0.008, test=-0.009), total= 1.3min\n",
      "[CV] reg_alpha=0.1, reg_lambda=0.01 ..................................\n",
      "[CV]  reg_alpha=0.1, reg_lambda=0.01, score=(train=-0.008, test=-0.009), total= 1.3min\n",
      "[CV] reg_alpha=0.1, reg_lambda=0.01 ..................................\n",
      "[CV]  reg_alpha=0.1, reg_lambda=0.01, score=(train=-0.008, test=-0.009), total= 1.2min\n",
      "[CV] reg_alpha=0.1, reg_lambda=0.1 ...................................\n",
      "[CV]  reg_alpha=0.1, reg_lambda=0.1, score=(train=-0.008, test=-0.009), total= 1.1min\n",
      "[CV] reg_alpha=0.1, reg_lambda=0.1 ...................................\n",
      "[CV]  reg_alpha=0.1, reg_lambda=0.1, score=(train=-0.008, test=-0.009), total= 1.1min\n",
      "[CV] reg_alpha=0.1, reg_lambda=0.1 ...................................\n",
      "[CV]  reg_alpha=0.1, reg_lambda=0.1, score=(train=-0.008, test=-0.009), total= 1.2min\n",
      "[CV] reg_alpha=0.1, reg_lambda=0.1 ...................................\n",
      "[CV]  reg_alpha=0.1, reg_lambda=0.1, score=(train=-0.008, test=-0.009), total= 1.1min\n",
      "[CV] reg_alpha=0.1, reg_lambda=0.1 ...................................\n",
      "[CV]  reg_alpha=0.1, reg_lambda=0.1, score=(train=-0.008, test=-0.009), total= 1.1min\n",
      "[CV] reg_alpha=0.1, reg_lambda=1 .....................................\n",
      "[CV]  reg_alpha=0.1, reg_lambda=1, score=(train=-0.008, test=-0.009), total= 1.1min\n",
      "[CV] reg_alpha=0.1, reg_lambda=1 .....................................\n",
      "[CV]  reg_alpha=0.1, reg_lambda=1, score=(train=-0.008, test=-0.009), total= 1.1min\n",
      "[CV] reg_alpha=0.1, reg_lambda=1 .....................................\n",
      "[CV]  reg_alpha=0.1, reg_lambda=1, score=(train=-0.008, test=-0.009), total= 1.1min\n",
      "[CV] reg_alpha=0.1, reg_lambda=1 .....................................\n",
      "[CV]  reg_alpha=0.1, reg_lambda=1, score=(train=-0.008, test=-0.009), total= 1.2min\n",
      "[CV] reg_alpha=0.1, reg_lambda=1 .....................................\n",
      "[CV]  reg_alpha=0.1, reg_lambda=1, score=(train=-0.008, test=-0.009), total= 1.4min\n",
      "[CV] reg_alpha=0.1, reg_lambda=10 ....................................\n",
      "[CV]  reg_alpha=0.1, reg_lambda=10, score=(train=-0.008, test=-0.009), total= 1.2min\n",
      "[CV] reg_alpha=0.1, reg_lambda=10 ....................................\n",
      "[CV]  reg_alpha=0.1, reg_lambda=10, score=(train=-0.009, test=-0.009), total= 1.1min\n",
      "[CV] reg_alpha=0.1, reg_lambda=10 ....................................\n",
      "[CV]  reg_alpha=0.1, reg_lambda=10, score=(train=-0.009, test=-0.009), total= 1.2min\n",
      "[CV] reg_alpha=0.1, reg_lambda=10 ....................................\n",
      "[CV]  reg_alpha=0.1, reg_lambda=10, score=(train=-0.008, test=-0.009), total= 1.2min\n",
      "[CV] reg_alpha=0.1, reg_lambda=10 ....................................\n",
      "[CV]  reg_alpha=0.1, reg_lambda=10, score=(train=-0.009, test=-0.009), total= 1.1min\n",
      "[CV] reg_alpha=1, reg_lambda=0 .......................................\n",
      "[CV]  reg_alpha=1, reg_lambda=0, score=(train=-0.008, test=-0.009), total= 1.1min\n",
      "[CV] reg_alpha=1, reg_lambda=0 .......................................\n",
      "[CV]  reg_alpha=1, reg_lambda=0, score=(train=-0.008, test=-0.009), total=  59.3s\n",
      "[CV] reg_alpha=1, reg_lambda=0 .......................................\n",
      "[CV]  reg_alpha=1, reg_lambda=0, score=(train=-0.008, test=-0.009), total= 1.1min\n",
      "[CV] reg_alpha=1, reg_lambda=0 .......................................\n",
      "[CV]  reg_alpha=1, reg_lambda=0, score=(train=-0.008, test=-0.009), total= 1.1min\n",
      "[CV] reg_alpha=1, reg_lambda=0 .......................................\n",
      "[CV]  reg_alpha=1, reg_lambda=0, score=(train=-0.008, test=-0.009), total= 1.1min\n",
      "[CV] reg_alpha=1, reg_lambda=0.01 ....................................\n",
      "[CV]  reg_alpha=1, reg_lambda=0.01, score=(train=-0.008, test=-0.009), total= 1.1min\n",
      "[CV] reg_alpha=1, reg_lambda=0.01 ....................................\n",
      "[CV]  reg_alpha=1, reg_lambda=0.01, score=(train=-0.008, test=-0.009), total=  59.6s\n",
      "[CV] reg_alpha=1, reg_lambda=0.01 ....................................\n",
      "[CV]  reg_alpha=1, reg_lambda=0.01, score=(train=-0.008, test=-0.009), total= 1.1min\n",
      "[CV] reg_alpha=1, reg_lambda=0.01 ....................................\n",
      "[CV]  reg_alpha=1, reg_lambda=0.01, score=(train=-0.008, test=-0.009), total= 1.1min\n",
      "[CV] reg_alpha=1, reg_lambda=0.01 ....................................\n",
      "[CV]  reg_alpha=1, reg_lambda=0.01, score=(train=-0.008, test=-0.009), total= 1.1min\n",
      "[CV] reg_alpha=1, reg_lambda=0.1 .....................................\n",
      "[CV]  reg_alpha=1, reg_lambda=0.1, score=(train=-0.008, test=-0.009), total= 1.1min\n",
      "[CV] reg_alpha=1, reg_lambda=0.1 .....................................\n",
      "[CV]  reg_alpha=1, reg_lambda=0.1, score=(train=-0.008, test=-0.009), total=  59.4s\n",
      "[CV] reg_alpha=1, reg_lambda=0.1 .....................................\n",
      "[CV]  reg_alpha=1, reg_lambda=0.1, score=(train=-0.008, test=-0.009), total= 1.1min\n",
      "[CV] reg_alpha=1, reg_lambda=0.1 .....................................\n",
      "[CV]  reg_alpha=1, reg_lambda=0.1, score=(train=-0.008, test=-0.009), total= 1.1min\n",
      "[CV] reg_alpha=1, reg_lambda=0.1 .....................................\n",
      "[CV]  reg_alpha=1, reg_lambda=0.1, score=(train=-0.008, test=-0.009), total= 1.1min\n",
      "[CV] reg_alpha=1, reg_lambda=1 .......................................\n",
      "[CV]  reg_alpha=1, reg_lambda=1, score=(train=-0.008, test=-0.009), total= 1.1min\n",
      "[CV] reg_alpha=1, reg_lambda=1 .......................................\n",
      "[CV]  reg_alpha=1, reg_lambda=1, score=(train=-0.008, test=-0.009), total= 1.1min\n",
      "[CV] reg_alpha=1, reg_lambda=1 .......................................\n",
      "[CV]  reg_alpha=1, reg_lambda=1, score=(train=-0.008, test=-0.009), total= 1.1min\n",
      "[CV] reg_alpha=1, reg_lambda=1 .......................................\n",
      "[CV]  reg_alpha=1, reg_lambda=1, score=(train=-0.008, test=-0.009), total= 1.1min\n",
      "[CV] reg_alpha=1, reg_lambda=1 .......................................\n",
      "[CV]  reg_alpha=1, reg_lambda=1, score=(train=-0.008, test=-0.009), total= 1.1min\n",
      "[CV] reg_alpha=1, reg_lambda=10 ......................................\n",
      "[CV]  reg_alpha=1, reg_lambda=10, score=(train=-0.008, test=-0.009), total= 1.1min\n",
      "[CV] reg_alpha=1, reg_lambda=10 ......................................\n",
      "[CV]  reg_alpha=1, reg_lambda=10, score=(train=-0.009, test=-0.009), total= 1.1min\n",
      "[CV] reg_alpha=1, reg_lambda=10 ......................................\n",
      "[CV]  reg_alpha=1, reg_lambda=10, score=(train=-0.009, test=-0.009), total= 1.2min\n",
      "[CV] reg_alpha=1, reg_lambda=10 ......................................\n",
      "[CV]  reg_alpha=1, reg_lambda=10, score=(train=-0.009, test=-0.009), total= 1.2min\n",
      "[CV] reg_alpha=1, reg_lambda=10 ......................................\n",
      "[CV]  reg_alpha=1, reg_lambda=10, score=(train=-0.009, test=-0.009), total= 1.2min\n",
      "[CV] reg_alpha=10, reg_lambda=0 ......................................\n",
      "[CV]  reg_alpha=10, reg_lambda=0, score=(train=-0.009, test=-0.009), total= 1.2min\n",
      "[CV] reg_alpha=10, reg_lambda=0 ......................................\n",
      "[CV]  reg_alpha=10, reg_lambda=0, score=(train=-0.009, test=-0.009), total= 1.2min\n",
      "[CV] reg_alpha=10, reg_lambda=0 ......................................\n",
      "[CV]  reg_alpha=10, reg_lambda=0, score=(train=-0.009, test=-0.009), total= 1.3min\n",
      "[CV] reg_alpha=10, reg_lambda=0 ......................................\n",
      "[CV]  reg_alpha=10, reg_lambda=0, score=(train=-0.008, test=-0.009), total= 1.2min\n",
      "[CV] reg_alpha=10, reg_lambda=0 ......................................\n",
      "[CV]  reg_alpha=10, reg_lambda=0, score=(train=-0.009, test=-0.009), total= 1.2min\n",
      "[CV] reg_alpha=10, reg_lambda=0.01 ...................................\n",
      "[CV]  reg_alpha=10, reg_lambda=0.01, score=(train=-0.009, test=-0.009), total= 1.1min\n",
      "[CV] reg_alpha=10, reg_lambda=0.01 ...................................\n",
      "[CV]  reg_alpha=10, reg_lambda=0.01, score=(train=-0.009, test=-0.009), total= 1.0min\n",
      "[CV] reg_alpha=10, reg_lambda=0.01 ...................................\n",
      "[CV]  reg_alpha=10, reg_lambda=0.01, score=(train=-0.009, test=-0.009), total= 1.1min\n",
      "[CV] reg_alpha=10, reg_lambda=0.01 ...................................\n",
      "[CV]  reg_alpha=10, reg_lambda=0.01, score=(train=-0.008, test=-0.009), total= 1.1min\n",
      "[CV] reg_alpha=10, reg_lambda=0.01 ...................................\n",
      "[CV]  reg_alpha=10, reg_lambda=0.01, score=(train=-0.009, test=-0.009), total= 1.1min\n",
      "[CV] reg_alpha=10, reg_lambda=0.1 ....................................\n",
      "[CV]  reg_alpha=10, reg_lambda=0.1, score=(train=-0.008, test=-0.009), total= 1.1min\n",
      "[CV] reg_alpha=10, reg_lambda=0.1 ....................................\n",
      "[CV]  reg_alpha=10, reg_lambda=0.1, score=(train=-0.009, test=-0.009), total= 1.0min\n",
      "[CV] reg_alpha=10, reg_lambda=0.1 ....................................\n",
      "[CV]  reg_alpha=10, reg_lambda=0.1, score=(train=-0.009, test=-0.009), total= 1.1min\n",
      "[CV] reg_alpha=10, reg_lambda=0.1 ....................................\n",
      "[CV]  reg_alpha=10, reg_lambda=0.1, score=(train=-0.008, test=-0.009), total= 1.1min\n",
      "[CV] reg_alpha=10, reg_lambda=0.1 ....................................\n",
      "[CV]  reg_alpha=10, reg_lambda=0.1, score=(train=-0.009, test=-0.009), total= 1.1min\n",
      "[CV] reg_alpha=10, reg_lambda=1 ......................................\n",
      "[CV]  reg_alpha=10, reg_lambda=1, score=(train=-0.009, test=-0.009), total= 1.7min\n",
      "[CV] reg_alpha=10, reg_lambda=1 ......................................\n",
      "[CV]  reg_alpha=10, reg_lambda=1, score=(train=-0.009, test=-0.009), total= 1.4min\n",
      "[CV] reg_alpha=10, reg_lambda=1 ......................................\n",
      "[CV]  reg_alpha=10, reg_lambda=1, score=(train=-0.009, test=-0.009), total= 1.1min\n",
      "[CV] reg_alpha=10, reg_lambda=1 ......................................\n",
      "[CV]  reg_alpha=10, reg_lambda=1, score=(train=-0.009, test=-0.009), total= 1.1min\n",
      "[CV] reg_alpha=10, reg_lambda=1 ......................................\n",
      "[CV]  reg_alpha=10, reg_lambda=1, score=(train=-0.009, test=-0.009), total= 1.1min\n",
      "[CV] reg_alpha=10, reg_lambda=10 .....................................\n",
      "[CV]  reg_alpha=10, reg_lambda=10, score=(train=-0.009, test=-0.009), total= 1.1min\n",
      "[CV] reg_alpha=10, reg_lambda=10 .....................................\n",
      "[CV]  reg_alpha=10, reg_lambda=10, score=(train=-0.009, test=-0.009), total= 1.0min\n",
      "[CV] reg_alpha=10, reg_lambda=10 .....................................\n",
      "[CV]  reg_alpha=10, reg_lambda=10, score=(train=-0.009, test=-0.009), total= 1.1min\n",
      "[CV] reg_alpha=10, reg_lambda=10 .....................................\n",
      "[CV]  reg_alpha=10, reg_lambda=10, score=(train=-0.009, test=-0.009), total= 1.1min\n",
      "[CV] reg_alpha=10, reg_lambda=10 .....................................\n",
      "[CV]  reg_alpha=10, reg_lambda=10, score=(train=-0.009, test=-0.009), total= 1.1min\n"
     ]
    },
    {
     "name": "stderr",
     "output_type": "stream",
     "text": [
      "[Parallel(n_jobs=1)]: Done 125 out of 125 | elapsed: 170.8min finished\n"
     ]
    },
    {
     "data": {
      "text/plain": [
       "{'reg_alpha': 0, 'reg_lambda': 1}"
      ]
     },
     "execution_count": 34,
     "metadata": {},
     "output_type": "execute_result"
    }
   ],
   "source": [
    "model_scores6 = XGBClassifier(learning_rate=0.1, n_estimators=200, max_depth=6, min_child_weight=6, gamma=0,\n",
    "                              subsample=1, colsample_bytree=0.4, scale_pos_weight=1, verbosity=1, seed=42)\n",
    "params6 = dict(reg_lambda=[0, 1e-2, 1e-1, 1, 10], reg_alpha=[0, 1e-2, 1e-1, 1, 10])\n",
    "grid_search6 = GridSearchCV(model_scores6, params6, scoring='brier_score_loss', n_jobs=1, cv=cv, verbose=10,\n",
    "                            return_train_score=True)\n",
    "gs_results6 = grid_search6.fit(X_train, Y_train['scores'])\n",
    "gs_results6.best_params_"
   ]
  },
  {
   "cell_type": "code",
   "execution_count": 35,
   "metadata": {},
   "outputs": [
    {
     "data": {
      "text/plain": [
       "(<Figure size 432x288 with 1 Axes>,\n",
       " <matplotlib.axes._subplots.AxesSubplot at 0x7f18e88271d0>)"
      ]
     },
     "execution_count": 35,
     "metadata": {},
     "output_type": "execute_result"
    },
    {
     "data": {
      "image/png": "[encoded data removed]",
      "text/plain": [
       "<Figure size 432x288 with 1 Axes>"
      ]
     },
     "metadata": {
      "needs_background": "light"
     },
     "output_type": "display_data"
    }
   ],
   "source": [
    "plot_grid_search(gs_results6.cv_results_)"
   ]
  },
  {
   "cell_type": "code",
   "execution_count": 37,
   "metadata": {
    "scrolled": true
   },
   "outputs": [
    {
     "name": "stdout",
     "output_type": "stream",
     "text": [
      "Fitting 5 folds for each of 12 candidates, totalling 60 fits\n",
      "[CV] learning_rate=0.01, n_estimators=200 ............................\n"
     ]
    },
    {
     "name": "stderr",
     "output_type": "stream",
     "text": [
      "[Parallel(n_jobs=1)]: Using backend SequentialBackend with 1 concurrent workers.\n"
     ]
    },
    {
     "name": "stdout",
     "output_type": "stream",
     "text": [
      "[CV]  learning_rate=0.01, n_estimators=200, score=(train=-0.013, test=-0.014), total= 1.0min\n",
      "[CV] learning_rate=0.01, n_estimators=200 ............................\n"
     ]
    },
    {
     "name": "stderr",
     "output_type": "stream",
     "text": [
      "[Parallel(n_jobs=1)]: Done   1 out of   1 | elapsed:  1.1min remaining:    0.0s\n"
     ]
    },
    {
     "name": "stdout",
     "output_type": "stream",
     "text": [
      "[CV]  learning_rate=0.01, n_estimators=200, score=(train=-0.013, test=-0.014), total=  57.2s\n",
      "[CV] learning_rate=0.01, n_estimators=200 ............................\n"
     ]
    },
    {
     "name": "stderr",
     "output_type": "stream",
     "text": [
      "[Parallel(n_jobs=1)]: Done   2 out of   2 | elapsed:  2.0min remaining:    0.0s\n"
     ]
    },
    {
     "name": "stdout",
     "output_type": "stream",
     "text": [
      "[CV]  learning_rate=0.01, n_estimators=200, score=(train=-0.013, test=-0.014), total= 1.0min\n",
      "[CV] learning_rate=0.01, n_estimators=200 ............................\n"
     ]
    },
    {
     "name": "stderr",
     "output_type": "stream",
     "text": [
      "[Parallel(n_jobs=1)]: Done   3 out of   3 | elapsed:  3.1min remaining:    0.0s\n"
     ]
    },
    {
     "name": "stdout",
     "output_type": "stream",
     "text": [
      "[CV]  learning_rate=0.01, n_estimators=200, score=(train=-0.013, test=-0.014), total=  59.9s\n",
      "[CV] learning_rate=0.01, n_estimators=200 ............................\n"
     ]
    },
    {
     "name": "stderr",
     "output_type": "stream",
     "text": [
      "[Parallel(n_jobs=1)]: Done   4 out of   4 | elapsed:  4.1min remaining:    0.0s\n"
     ]
    },
    {
     "name": "stdout",
     "output_type": "stream",
     "text": [
      "[CV]  learning_rate=0.01, n_estimators=200, score=(train=-0.013, test=-0.014), total= 1.0min\n",
      "[CV] learning_rate=0.01, n_estimators=500 ............................\n"
     ]
    },
    {
     "name": "stderr",
     "output_type": "stream",
     "text": [
      "[Parallel(n_jobs=1)]: Done   5 out of   5 | elapsed:  5.2min remaining:    0.0s\n"
     ]
    },
    {
     "name": "stdout",
     "output_type": "stream",
     "text": [
      "[CV]  learning_rate=0.01, n_estimators=500, score=(train=-0.009, test=-0.009), total= 2.6min\n",
      "[CV] learning_rate=0.01, n_estimators=500 ............................\n"
     ]
    },
    {
     "name": "stderr",
     "output_type": "stream",
     "text": [
      "[Parallel(n_jobs=1)]: Done   6 out of   6 | elapsed:  7.8min remaining:    0.0s\n"
     ]
    },
    {
     "name": "stdout",
     "output_type": "stream",
     "text": [
      "[CV]  learning_rate=0.01, n_estimators=500, score=(train=-0.009, test=-0.009), total= 2.4min\n",
      "[CV] learning_rate=0.01, n_estimators=500 ............................\n"
     ]
    },
    {
     "name": "stderr",
     "output_type": "stream",
     "text": [
      "[Parallel(n_jobs=1)]: Done   7 out of   7 | elapsed: 10.2min remaining:    0.0s\n"
     ]
    },
    {
     "name": "stdout",
     "output_type": "stream",
     "text": [
      "[CV]  learning_rate=0.01, n_estimators=500, score=(train=-0.009, test=-0.009), total= 2.6min\n",
      "[CV] learning_rate=0.01, n_estimators=500 ............................\n"
     ]
    },
    {
     "name": "stderr",
     "output_type": "stream",
     "text": [
      "[Parallel(n_jobs=1)]: Done   8 out of   8 | elapsed: 12.9min remaining:    0.0s\n"
     ]
    },
    {
     "name": "stdout",
     "output_type": "stream",
     "text": [
      "[CV]  learning_rate=0.01, n_estimators=500, score=(train=-0.009, test=-0.009), total= 2.6min\n",
      "[CV] learning_rate=0.01, n_estimators=500 ............................\n"
     ]
    },
    {
     "name": "stderr",
     "output_type": "stream",
     "text": [
      "[Parallel(n_jobs=1)]: Done   9 out of   9 | elapsed: 15.5min remaining:    0.0s\n"
     ]
    },
    {
     "name": "stdout",
     "output_type": "stream",
     "text": [
      "[CV]  learning_rate=0.01, n_estimators=500, score=(train=-0.009, test=-0.009), total= 2.6min\n",
      "[CV] learning_rate=0.01, n_estimators=1000 ...........................\n",
      "[CV]  learning_rate=0.01, n_estimators=1000, score=(train=-0.009, test=-0.009), total= 5.1min\n",
      "[CV] learning_rate=0.01, n_estimators=1000 ...........................\n",
      "[CV]  learning_rate=0.01, n_estimators=1000, score=(train=-0.009, test=-0.009), total= 4.8min\n",
      "[CV] learning_rate=0.01, n_estimators=1000 ...........................\n",
      "[CV]  learning_rate=0.01, n_estimators=1000, score=(train=-0.009, test=-0.009), total= 5.1min\n",
      "[CV] learning_rate=0.01, n_estimators=1000 ...........................\n",
      "[CV]  learning_rate=0.01, n_estimators=1000, score=(train=-0.009, test=-0.009), total= 7.6min\n",
      "[CV] learning_rate=0.01, n_estimators=1000 ...........................\n",
      "[CV]  learning_rate=0.01, n_estimators=1000, score=(train=-0.009, test=-0.009), total= 8.1min\n",
      "[CV] learning_rate=0.01, n_estimators=2500 ...........................\n",
      "[CV]  learning_rate=0.01, n_estimators=2500, score=(train=-0.008, test=-0.009), total=19.7min\n",
      "[CV] learning_rate=0.01, n_estimators=2500 ...........................\n",
      "[CV]  learning_rate=0.01, n_estimators=2500, score=(train=-0.008, test=-0.009), total=20.7min\n",
      "[CV] learning_rate=0.01, n_estimators=2500 ...........................\n",
      "[CV]  learning_rate=0.01, n_estimators=2500, score=(train=-0.008, test=-0.009), total=16.8min\n",
      "[CV] learning_rate=0.01, n_estimators=2500 ...........................\n",
      "[CV]  learning_rate=0.01, n_estimators=2500, score=(train=-0.008, test=-0.009), total=13.9min\n",
      "[CV] learning_rate=0.01, n_estimators=2500 ...........................\n",
      "[CV]  learning_rate=0.01, n_estimators=2500, score=(train=-0.008, test=-0.009), total=14.8min\n",
      "[CV] learning_rate=0.05, n_estimators=200 ............................\n",
      "[CV]  learning_rate=0.05, n_estimators=200, score=(train=-0.009, test=-0.009), total= 1.3min\n",
      "[CV] learning_rate=0.05, n_estimators=200 ............................\n",
      "[CV]  learning_rate=0.05, n_estimators=200, score=(train=-0.009, test=-0.009), total= 1.2min\n",
      "[CV] learning_rate=0.05, n_estimators=200 ............................\n",
      "[CV]  learning_rate=0.05, n_estimators=200, score=(train=-0.009, test=-0.009), total= 1.3min\n",
      "[CV] learning_rate=0.05, n_estimators=200 ............................\n",
      "[CV]  learning_rate=0.05, n_estimators=200, score=(train=-0.009, test=-0.009), total= 1.3min\n",
      "[CV] learning_rate=0.05, n_estimators=200 ............................\n",
      "[CV]  learning_rate=0.05, n_estimators=200, score=(train=-0.009, test=-0.009), total= 1.1min\n",
      "[CV] learning_rate=0.05, n_estimators=500 ............................\n",
      "[CV]  learning_rate=0.05, n_estimators=500, score=(train=-0.008, test=-0.009), total= 2.6min\n",
      "[CV] learning_rate=0.05, n_estimators=500 ............................\n",
      "[CV]  learning_rate=0.05, n_estimators=500, score=(train=-0.008, test=-0.009), total= 2.4min\n",
      "[CV] learning_rate=0.05, n_estimators=500 ............................\n",
      "[CV]  learning_rate=0.05, n_estimators=500, score=(train=-0.008, test=-0.009), total= 2.6min\n",
      "[CV] learning_rate=0.05, n_estimators=500 ............................\n",
      "[CV]  learning_rate=0.05, n_estimators=500, score=(train=-0.008, test=-0.009), total= 2.6min\n",
      "[CV] learning_rate=0.05, n_estimators=500 ............................\n",
      "[CV]  learning_rate=0.05, n_estimators=500, score=(train=-0.008, test=-0.009), total= 2.6min\n",
      "[CV] learning_rate=0.05, n_estimators=1000 ...........................\n",
      "[CV]  learning_rate=0.05, n_estimators=1000, score=(train=-0.007, test=-0.009), total= 5.1min\n",
      "[CV] learning_rate=0.05, n_estimators=1000 ...........................\n",
      "[CV]  learning_rate=0.05, n_estimators=1000, score=(train=-0.007, test=-0.009), total= 4.7min\n",
      "[CV] learning_rate=0.05, n_estimators=1000 ...........................\n",
      "[CV]  learning_rate=0.05, n_estimators=1000, score=(train=-0.007, test=-0.009), total= 5.1min\n",
      "[CV] learning_rate=0.05, n_estimators=1000 ...........................\n",
      "[CV]  learning_rate=0.05, n_estimators=1000, score=(train=-0.007, test=-0.009), total= 5.1min\n",
      "[CV] learning_rate=0.05, n_estimators=1000 ...........................\n",
      "[CV]  learning_rate=0.05, n_estimators=1000, score=(train=-0.007, test=-0.009), total= 5.1min\n",
      "[CV] learning_rate=0.05, n_estimators=2500 ...........................\n",
      "[CV]  learning_rate=0.05, n_estimators=2500, score=(train=-0.004, test=-0.009), total=13.4min\n",
      "[CV] learning_rate=0.05, n_estimators=2500 ...........................\n",
      "[CV]  learning_rate=0.05, n_estimators=2500, score=(train=-0.004, test=-0.009), total=12.0min\n",
      "[CV] learning_rate=0.05, n_estimators=2500 ...........................\n",
      "[CV]  learning_rate=0.05, n_estimators=2500, score=(train=-0.004, test=-0.009), total=12.7min\n",
      "[CV] learning_rate=0.05, n_estimators=2500 ...........................\n",
      "[CV]  learning_rate=0.05, n_estimators=2500, score=(train=-0.004, test=-0.009), total=12.8min\n",
      "[CV] learning_rate=0.05, n_estimators=2500 ...........................\n",
      "[CV]  learning_rate=0.05, n_estimators=2500, score=(train=-0.004, test=-0.009), total=12.7min\n",
      "[CV] learning_rate=0.1, n_estimators=200 .............................\n",
      "[CV]  learning_rate=0.1, n_estimators=200, score=(train=-0.008, test=-0.009), total= 1.3min\n",
      "[CV] learning_rate=0.1, n_estimators=200 .............................\n",
      "[CV]  learning_rate=0.1, n_estimators=200, score=(train=-0.008, test=-0.009), total= 1.4min\n",
      "[CV] learning_rate=0.1, n_estimators=200 .............................\n",
      "[CV]  learning_rate=0.1, n_estimators=200, score=(train=-0.008, test=-0.009), total= 1.5min\n",
      "[CV] learning_rate=0.1, n_estimators=200 .............................\n",
      "[CV]  learning_rate=0.1, n_estimators=200, score=(train=-0.008, test=-0.009), total= 1.6min\n",
      "[CV] learning_rate=0.1, n_estimators=200 .............................\n",
      "[CV]  learning_rate=0.1, n_estimators=200, score=(train=-0.008, test=-0.009), total= 1.5min\n",
      "[CV] learning_rate=0.1, n_estimators=500 .............................\n",
      "[CV]  learning_rate=0.1, n_estimators=500, score=(train=-0.007, test=-0.009), total= 3.7min\n",
      "[CV] learning_rate=0.1, n_estimators=500 .............................\n",
      "[CV]  learning_rate=0.1, n_estimators=500, score=(train=-0.007, test=-0.009), total= 3.5min\n",
      "[CV] learning_rate=0.1, n_estimators=500 .............................\n",
      "[CV]  learning_rate=0.1, n_estimators=500, score=(train=-0.007, test=-0.009), total= 3.8min\n",
      "[CV] learning_rate=0.1, n_estimators=500 .............................\n",
      "[CV]  learning_rate=0.1, n_estimators=500, score=(train=-0.007, test=-0.009), total= 3.9min\n",
      "[CV] learning_rate=0.1, n_estimators=500 .............................\n",
      "[CV]  learning_rate=0.1, n_estimators=500, score=(train=-0.007, test=-0.009), total= 3.8min\n",
      "[CV] learning_rate=0.1, n_estimators=1000 ............................\n",
      "[CV]  learning_rate=0.1, n_estimators=1000, score=(train=-0.005, test=-0.009), total= 6.9min\n",
      "[CV] learning_rate=0.1, n_estimators=1000 ............................\n",
      "[CV]  learning_rate=0.1, n_estimators=1000, score=(train=-0.005, test=-0.009), total= 4.8min\n",
      "[CV] learning_rate=0.1, n_estimators=1000 ............................\n",
      "[CV]  learning_rate=0.1, n_estimators=1000, score=(train=-0.005, test=-0.009), total= 5.1min\n",
      "[CV] learning_rate=0.1, n_estimators=1000 ............................\n",
      "[CV]  learning_rate=0.1, n_estimators=1000, score=(train=-0.005, test=-0.009), total= 5.1min\n",
      "[CV] learning_rate=0.1, n_estimators=1000 ............................\n",
      "[CV]  learning_rate=0.1, n_estimators=1000, score=(train=-0.005, test=-0.009), total= 5.1min\n",
      "[CV] learning_rate=0.1, n_estimators=2500 ............................\n",
      "[CV]  learning_rate=0.1, n_estimators=2500, score=(train=-0.001, test=-0.009), total=12.7min\n",
      "[CV] learning_rate=0.1, n_estimators=2500 ............................\n",
      "[CV]  learning_rate=0.1, n_estimators=2500, score=(train=-0.001, test=-0.009), total=11.8min\n",
      "[CV] learning_rate=0.1, n_estimators=2500 ............................\n",
      "[CV]  learning_rate=0.1, n_estimators=2500, score=(train=-0.001, test=-0.009), total=12.7min\n",
      "[CV] learning_rate=0.1, n_estimators=2500 ............................\n",
      "[CV]  learning_rate=0.1, n_estimators=2500, score=(train=-0.001, test=-0.009), total=12.7min\n",
      "[CV] learning_rate=0.1, n_estimators=2500 ............................\n",
      "[CV]  learning_rate=0.1, n_estimators=2500, score=(train=-0.001, test=-0.009), total=12.7min\n"
     ]
    },
    {
     "name": "stderr",
     "output_type": "stream",
     "text": [
      "[Parallel(n_jobs=1)]: Done  60 out of  60 | elapsed: 362.7min finished\n"
     ]
    },
    {
     "data": {
      "text/plain": [
       "{'learning_rate': 0.01, 'n_estimators': 2500}"
      ]
     },
     "execution_count": 37,
     "metadata": {},
     "output_type": "execute_result"
    }
   ],
   "source": [
    "model_scores7 = XGBClassifier(max_depth=6, min_child_weight=6, gamma=0, reg_lambda=1, reg_alpha=0,\n",
    "                              subsample=1, colsample_bytree=0.4, scale_pos_weight=1, verbosity=1, seed=42)\n",
    "params7 = dict(learning_rate=[0.01, 0.05, 0.1],\n",
    "                n_estimators=[200, 500, 1000, 2500])\n",
    "grid_search7 = GridSearchCV(model_scores7, params7, scoring='brier_score_loss', n_jobs=1, cv=cv, verbose=10,\n",
    "                             return_train_score=True)\n",
    "gs_results7 = grid_search7.fit(X_train, Y_train['scores'])\n",
    "gs_results7.best_params_"
   ]
  },
  {
   "cell_type": "code",
   "execution_count": 39,
   "metadata": {},
   "outputs": [
    {
     "data": {
      "text/plain": [
       "(<Figure size 432x288 with 1 Axes>,\n",
       " <matplotlib.axes._subplots.AxesSubplot at 0x7f174030ce10>)"
      ]
     },
     "execution_count": 39,
     "metadata": {},
     "output_type": "execute_result"
    },
    {
     "data": {
      "image/png": "[encoded data removed]",
      "text/plain": [
       "<Figure size 432x288 with 1 Axes>"
      ]
     },
     "metadata": {
      "needs_background": "light"
     },
     "output_type": "display_data"
    }
   ],
   "source": [
    "plot_grid_search(gs_results7.cv_results_)"
   ]
  },
  {
   "cell_type": "code",
   "execution_count": 40,
   "metadata": {
    "collapsed": true,
    "jupyter": {
     "outputs_hidden": true
    }
   },
   "outputs": [
    {
     "name": "stdout",
     "output_type": "stream",
     "text": [
      "[0]\tvalidation_0-brier-error:0.24521\tvalidation_1-brier-error:0.24521\n",
      "Multiple eval metrics have been passed: 'validation_1-brier-error' will be used for early stopping.\n",
      "\n",
      "Will train until validation_1-brier-error hasn't improved in 100 rounds.\n",
      "[1]\tvalidation_0-brier-error:0.24052\tvalidation_1-brier-error:0.24052\n",
      "[2]\tvalidation_0-brier-error:0.23592\tvalidation_1-brier-error:0.23592\n",
      "[3]\tvalidation_0-brier-error:0.23141\tvalidation_1-brier-error:0.23141\n",
      "[4]\tvalidation_0-brier-error:0.22700\tvalidation_1-brier-error:0.22699\n",
      "[5]\tvalidation_0-brier-error:0.22267\tvalidation_1-brier-error:0.22266\n",
      "[6]\tvalidation_0-brier-error:0.21843\tvalidation_1-brier-error:0.21842\n",
      "[7]\tvalidation_0-brier-error:0.21427\tvalidation_1-brier-error:0.21426\n",
      "[8]\tvalidation_0-brier-error:0.21019\tvalidation_1-brier-error:0.21019\n",
      "[9]\tvalidation_0-brier-error:0.20620\tvalidation_1-brier-error:0.20619\n",
      "[10]\tvalidation_0-brier-error:0.20228\tvalidation_1-brier-error:0.20227\n",
      "[11]\tvalidation_0-brier-error:0.19844\tvalidation_1-brier-error:0.19843\n",
      "[12]\tvalidation_0-brier-error:0.19468\tvalidation_1-brier-error:0.19467\n",
      "[13]\tvalidation_0-brier-error:0.19100\tvalidation_1-brier-error:0.19099\n",
      "[14]\tvalidation_0-brier-error:0.18738\tvalidation_1-brier-error:0.18738\n",
      "[15]\tvalidation_0-brier-error:0.18385\tvalidation_1-brier-error:0.18384\n",
      "[16]\tvalidation_0-brier-error:0.18038\tvalidation_1-brier-error:0.18037\n",
      "[17]\tvalidation_0-brier-error:0.17698\tvalidation_1-brier-error:0.17697\n",
      "[18]\tvalidation_0-brier-error:0.17364\tvalidation_1-brier-error:0.17364\n",
      "[19]\tvalidation_0-brier-error:0.17037\tvalidation_1-brier-error:0.17037\n",
      "[20]\tvalidation_0-brier-error:0.16717\tvalidation_1-brier-error:0.16717\n",
      "[21]\tvalidation_0-brier-error:0.16404\tvalidation_1-brier-error:0.16403\n",
      "[22]\tvalidation_0-brier-error:0.16096\tvalidation_1-brier-error:0.16096\n",
      "[23]\tvalidation_0-brier-error:0.15795\tvalidation_1-brier-error:0.15794\n",
      "[24]\tvalidation_0-brier-error:0.15500\tvalidation_1-brier-error:0.15499\n",
      "[25]\tvalidation_0-brier-error:0.15210\tvalidation_1-brier-error:0.15210\n",
      "[26]\tvalidation_0-brier-error:0.14927\tvalidation_1-brier-error:0.14926\n",
      "[27]\tvalidation_0-brier-error:0.14649\tvalidation_1-brier-error:0.14648\n",
      "[28]\tvalidation_0-brier-error:0.14376\tvalidation_1-brier-error:0.14375\n",
      "[29]\tvalidation_0-brier-error:0.14109\tvalidation_1-brier-error:0.14108\n",
      "[30]\tvalidation_0-brier-error:0.13847\tvalidation_1-brier-error:0.13846\n",
      "[31]\tvalidation_0-brier-error:0.13590\tvalidation_1-brier-error:0.13590\n",
      "[32]\tvalidation_0-brier-error:0.13339\tvalidation_1-brier-error:0.13338\n",
      "[33]\tvalidation_0-brier-error:0.13093\tvalidation_1-brier-error:0.13092\n",
      "[34]\tvalidation_0-brier-error:0.12851\tvalidation_1-brier-error:0.12850\n",
      "[35]\tvalidation_0-brier-error:0.12614\tvalidation_1-brier-error:0.12614\n",
      "[36]\tvalidation_0-brier-error:0.12382\tvalidation_1-brier-error:0.12381\n",
      "[37]\tvalidation_0-brier-error:0.12155\tvalidation_1-brier-error:0.12154\n",
      "[38]\tvalidation_0-brier-error:0.11932\tvalidation_1-brier-error:0.11931\n",
      "[39]\tvalidation_0-brier-error:0.11713\tvalidation_1-brier-error:0.11712\n",
      "[40]\tvalidation_0-brier-error:0.11499\tvalidation_1-brier-error:0.11498\n",
      "[41]\tvalidation_0-brier-error:0.11289\tvalidation_1-brier-error:0.11288\n",
      "[42]\tvalidation_0-brier-error:0.11083\tvalidation_1-brier-error:0.11082\n",
      "[43]\tvalidation_0-brier-error:0.10881\tvalidation_1-brier-error:0.10881\n",
      "[44]\tvalidation_0-brier-error:0.10684\tvalidation_1-brier-error:0.10683\n",
      "[45]\tvalidation_0-brier-error:0.10490\tvalidation_1-brier-error:0.10490\n",
      "[46]\tvalidation_0-brier-error:0.10300\tvalidation_1-brier-error:0.10300\n",
      "[47]\tvalidation_0-brier-error:0.10114\tvalidation_1-brier-error:0.10114\n",
      "[48]\tvalidation_0-brier-error:0.09932\tvalidation_1-brier-error:0.09931\n",
      "[49]\tvalidation_0-brier-error:0.09753\tvalidation_1-brier-error:0.09752\n",
      "[50]\tvalidation_0-brier-error:0.09577\tvalidation_1-brier-error:0.09577\n",
      "[51]\tvalidation_0-brier-error:0.09406\tvalidation_1-brier-error:0.09406\n",
      "[52]\tvalidation_0-brier-error:0.09237\tvalidation_1-brier-error:0.09237\n",
      "[53]\tvalidation_0-brier-error:0.09072\tvalidation_1-brier-error:0.09072\n",
      "[54]\tvalidation_0-brier-error:0.08911\tvalidation_1-brier-error:0.08911\n",
      "[55]\tvalidation_0-brier-error:0.08752\tvalidation_1-brier-error:0.08752\n",
      "[56]\tvalidation_0-brier-error:0.08596\tvalidation_1-brier-error:0.08596\n",
      "[57]\tvalidation_0-brier-error:0.08444\tvalidation_1-brier-error:0.08444\n",
      "[58]\tvalidation_0-brier-error:0.08295\tvalidation_1-brier-error:0.08295\n",
      "[59]\tvalidation_0-brier-error:0.08149\tvalidation_1-brier-error:0.08149\n",
      "[60]\tvalidation_0-brier-error:0.08005\tvalidation_1-brier-error:0.08005\n",
      "[61]\tvalidation_0-brier-error:0.07864\tvalidation_1-brier-error:0.07865\n",
      "[62]\tvalidation_0-brier-error:0.07727\tvalidation_1-brier-error:0.07727\n",
      "[63]\tvalidation_0-brier-error:0.07592\tvalidation_1-brier-error:0.07592\n",
      "[64]\tvalidation_0-brier-error:0.07459\tvalidation_1-brier-error:0.07460\n",
      "[65]\tvalidation_0-brier-error:0.07330\tvalidation_1-brier-error:0.07330\n",
      "[66]\tvalidation_0-brier-error:0.07203\tvalidation_1-brier-error:0.07203\n",
      "[67]\tvalidation_0-brier-error:0.07078\tvalidation_1-brier-error:0.07078\n",
      "[68]\tvalidation_0-brier-error:0.06956\tvalidation_1-brier-error:0.06956\n",
      "[69]\tvalidation_0-brier-error:0.06836\tvalidation_1-brier-error:0.06836\n",
      "[70]\tvalidation_0-brier-error:0.06719\tvalidation_1-brier-error:0.06719\n",
      "[71]\tvalidation_0-brier-error:0.06604\tvalidation_1-brier-error:0.06604\n",
      "[72]\tvalidation_0-brier-error:0.06491\tvalidation_1-brier-error:0.06491\n",
      "[73]\tvalidation_0-brier-error:0.06381\tvalidation_1-brier-error:0.06381\n",
      "[74]\tvalidation_0-brier-error:0.06272\tvalidation_1-brier-error:0.06273\n",
      "[75]\tvalidation_0-brier-error:0.06166\tvalidation_1-brier-error:0.06167\n",
      "[76]\tvalidation_0-brier-error:0.06062\tvalidation_1-brier-error:0.06062\n",
      "[77]\tvalidation_0-brier-error:0.05960\tvalidation_1-brier-error:0.05960\n",
      "[78]\tvalidation_0-brier-error:0.05860\tvalidation_1-brier-error:0.05860\n",
      "[79]\tvalidation_0-brier-error:0.05762\tvalidation_1-brier-error:0.05763\n",
      "[80]\tvalidation_0-brier-error:0.05666\tvalidation_1-brier-error:0.05667\n",
      "[81]\tvalidation_0-brier-error:0.05572\tvalidation_1-brier-error:0.05572\n",
      "[82]\tvalidation_0-brier-error:0.05480\tvalidation_1-brier-error:0.05480\n",
      "[83]\tvalidation_0-brier-error:0.05389\tvalidation_1-brier-error:0.05390\n",
      "[84]\tvalidation_0-brier-error:0.05300\tvalidation_1-brier-error:0.05301\n",
      "[85]\tvalidation_0-brier-error:0.05214\tvalidation_1-brier-error:0.05214\n",
      "[86]\tvalidation_0-brier-error:0.05128\tvalidation_1-brier-error:0.05129\n",
      "[87]\tvalidation_0-brier-error:0.05045\tvalidation_1-brier-error:0.05046\n",
      "[88]\tvalidation_0-brier-error:0.04963\tvalidation_1-brier-error:0.04964\n",
      "[89]\tvalidation_0-brier-error:0.04883\tvalidation_1-brier-error:0.04884\n",
      "[90]\tvalidation_0-brier-error:0.04804\tvalidation_1-brier-error:0.04805\n",
      "[91]\tvalidation_0-brier-error:0.04727\tvalidation_1-brier-error:0.04728\n",
      "[92]\tvalidation_0-brier-error:0.04651\tvalidation_1-brier-error:0.04652\n",
      "[93]\tvalidation_0-brier-error:0.04577\tvalidation_1-brier-error:0.04578\n",
      "[94]\tvalidation_0-brier-error:0.04505\tvalidation_1-brier-error:0.04506\n",
      "[95]\tvalidation_0-brier-error:0.04434\tvalidation_1-brier-error:0.04435\n",
      "[96]\tvalidation_0-brier-error:0.04364\tvalidation_1-brier-error:0.04365\n",
      "[97]\tvalidation_0-brier-error:0.04296\tvalidation_1-brier-error:0.04297\n",
      "[98]\tvalidation_0-brier-error:0.04229\tvalidation_1-brier-error:0.04230\n",
      "[99]\tvalidation_0-brier-error:0.04163\tvalidation_1-brier-error:0.04164\n",
      "[100]\tvalidation_0-brier-error:0.04099\tvalidation_1-brier-error:0.04100\n",
      "[101]\tvalidation_0-brier-error:0.04035\tvalidation_1-brier-error:0.04037\n",
      "[102]\tvalidation_0-brier-error:0.03974\tvalidation_1-brier-error:0.03975\n",
      "[103]\tvalidation_0-brier-error:0.03913\tvalidation_1-brier-error:0.03914\n",
      "[104]\tvalidation_0-brier-error:0.03854\tvalidation_1-brier-error:0.03855\n",
      "[105]\tvalidation_0-brier-error:0.03795\tvalidation_1-brier-error:0.03797\n",
      "[106]\tvalidation_0-brier-error:0.03738\tvalidation_1-brier-error:0.03739\n",
      "[107]\tvalidation_0-brier-error:0.03682\tvalidation_1-brier-error:0.03683\n",
      "[108]\tvalidation_0-brier-error:0.03627\tvalidation_1-brier-error:0.03629\n",
      "[109]\tvalidation_0-brier-error:0.03573\tvalidation_1-brier-error:0.03575\n",
      "[110]\tvalidation_0-brier-error:0.03521\tvalidation_1-brier-error:0.03522\n",
      "[111]\tvalidation_0-brier-error:0.03469\tvalidation_1-brier-error:0.03471\n",
      "[112]\tvalidation_0-brier-error:0.03419\tvalidation_1-brier-error:0.03420\n",
      "[113]\tvalidation_0-brier-error:0.03369\tvalidation_1-brier-error:0.03371\n",
      "[114]\tvalidation_0-brier-error:0.03320\tvalidation_1-brier-error:0.03322\n",
      "[115]\tvalidation_0-brier-error:0.03272\tvalidation_1-brier-error:0.03274\n",
      "[116]\tvalidation_0-brier-error:0.03226\tvalidation_1-brier-error:0.03227\n",
      "[117]\tvalidation_0-brier-error:0.03180\tvalidation_1-brier-error:0.03182\n",
      "[118]\tvalidation_0-brier-error:0.03135\tvalidation_1-brier-error:0.03137\n",
      "[119]\tvalidation_0-brier-error:0.03091\tvalidation_1-brier-error:0.03093\n",
      "[120]\tvalidation_0-brier-error:0.03048\tvalidation_1-brier-error:0.03050\n",
      "[121]\tvalidation_0-brier-error:0.03006\tvalidation_1-brier-error:0.03008\n",
      "[122]\tvalidation_0-brier-error:0.02964\tvalidation_1-brier-error:0.02966\n",
      "[123]\tvalidation_0-brier-error:0.02924\tvalidation_1-brier-error:0.02925\n",
      "[124]\tvalidation_0-brier-error:0.02884\tvalidation_1-brier-error:0.02886\n",
      "[125]\tvalidation_0-brier-error:0.02845\tvalidation_1-brier-error:0.02847\n",
      "[126]\tvalidation_0-brier-error:0.02806\tvalidation_1-brier-error:0.02808\n",
      "[127]\tvalidation_0-brier-error:0.02769\tvalidation_1-brier-error:0.02771\n",
      "[128]\tvalidation_0-brier-error:0.02732\tvalidation_1-brier-error:0.02734\n",
      "[129]\tvalidation_0-brier-error:0.02696\tvalidation_1-brier-error:0.02698\n",
      "[130]\tvalidation_0-brier-error:0.02661\tvalidation_1-brier-error:0.02663\n",
      "[131]\tvalidation_0-brier-error:0.02626\tvalidation_1-brier-error:0.02628\n",
      "[132]\tvalidation_0-brier-error:0.02592\tvalidation_1-brier-error:0.02594\n",
      "[133]\tvalidation_0-brier-error:0.02559\tvalidation_1-brier-error:0.02561\n",
      "[134]\tvalidation_0-brier-error:0.02526\tvalidation_1-brier-error:0.02528\n",
      "[135]\tvalidation_0-brier-error:0.02494\tvalidation_1-brier-error:0.02497\n",
      "[136]\tvalidation_0-brier-error:0.02463\tvalidation_1-brier-error:0.02465\n",
      "[137]\tvalidation_0-brier-error:0.02432\tvalidation_1-brier-error:0.02434\n",
      "[138]\tvalidation_0-brier-error:0.02402\tvalidation_1-brier-error:0.02404\n",
      "[139]\tvalidation_0-brier-error:0.02373\tvalidation_1-brier-error:0.02375\n",
      "[140]\tvalidation_0-brier-error:0.02344\tvalidation_1-brier-error:0.02346\n",
      "[141]\tvalidation_0-brier-error:0.02315\tvalidation_1-brier-error:0.02318\n",
      "[142]\tvalidation_0-brier-error:0.02287\tvalidation_1-brier-error:0.02290\n",
      "[143]\tvalidation_0-brier-error:0.02260\tvalidation_1-brier-error:0.02263\n",
      "[144]\tvalidation_0-brier-error:0.02234\tvalidation_1-brier-error:0.02236\n",
      "[145]\tvalidation_0-brier-error:0.02207\tvalidation_1-brier-error:0.02210\n",
      "[146]\tvalidation_0-brier-error:0.02182\tvalidation_1-brier-error:0.02184\n",
      "[147]\tvalidation_0-brier-error:0.02157\tvalidation_1-brier-error:0.02159\n",
      "[148]\tvalidation_0-brier-error:0.02132\tvalidation_1-brier-error:0.02134\n",
      "[149]\tvalidation_0-brier-error:0.02108\tvalidation_1-brier-error:0.02110\n",
      "[150]\tvalidation_0-brier-error:0.02084\tvalidation_1-brier-error:0.02087\n",
      "[151]\tvalidation_0-brier-error:0.02061\tvalidation_1-brier-error:0.02063\n",
      "[152]\tvalidation_0-brier-error:0.02038\tvalidation_1-brier-error:0.02040\n",
      "[153]\tvalidation_0-brier-error:0.02016\tvalidation_1-brier-error:0.02018\n",
      "[154]\tvalidation_0-brier-error:0.01994\tvalidation_1-brier-error:0.01996\n",
      "[155]\tvalidation_0-brier-error:0.01972\tvalidation_1-brier-error:0.01975\n",
      "[156]\tvalidation_0-brier-error:0.01951\tvalidation_1-brier-error:0.01954\n",
      "[157]\tvalidation_0-brier-error:0.01931\tvalidation_1-brier-error:0.01933\n",
      "[158]\tvalidation_0-brier-error:0.01910\tvalidation_1-brier-error:0.01913\n",
      "[159]\tvalidation_0-brier-error:0.01891\tvalidation_1-brier-error:0.01893\n",
      "[160]\tvalidation_0-brier-error:0.01871\tvalidation_1-brier-error:0.01874\n",
      "[161]\tvalidation_0-brier-error:0.01852\tvalidation_1-brier-error:0.01855\n",
      "[162]\tvalidation_0-brier-error:0.01833\tvalidation_1-brier-error:0.01836\n",
      "[163]\tvalidation_0-brier-error:0.01815\tvalidation_1-brier-error:0.01818\n",
      "[164]\tvalidation_0-brier-error:0.01797\tvalidation_1-brier-error:0.01800\n",
      "[165]\tvalidation_0-brier-error:0.01780\tvalidation_1-brier-error:0.01783\n",
      "[166]\tvalidation_0-brier-error:0.01762\tvalidation_1-brier-error:0.01766\n",
      "[167]\tvalidation_0-brier-error:0.01745\tvalidation_1-brier-error:0.01749\n",
      "[168]\tvalidation_0-brier-error:0.01729\tvalidation_1-brier-error:0.01732\n",
      "[169]\tvalidation_0-brier-error:0.01713\tvalidation_1-brier-error:0.01716\n",
      "[170]\tvalidation_0-brier-error:0.01697\tvalidation_1-brier-error:0.01700\n",
      "[171]\tvalidation_0-brier-error:0.01681\tvalidation_1-brier-error:0.01684\n",
      "[172]\tvalidation_0-brier-error:0.01666\tvalidation_1-brier-error:0.01669\n",
      "[173]\tvalidation_0-brier-error:0.01651\tvalidation_1-brier-error:0.01654\n",
      "[174]\tvalidation_0-brier-error:0.01636\tvalidation_1-brier-error:0.01639\n",
      "[175]\tvalidation_0-brier-error:0.01622\tvalidation_1-brier-error:0.01625\n",
      "[176]\tvalidation_0-brier-error:0.01607\tvalidation_1-brier-error:0.01611\n",
      "[177]\tvalidation_0-brier-error:0.01594\tvalidation_1-brier-error:0.01597\n",
      "[178]\tvalidation_0-brier-error:0.01580\tvalidation_1-brier-error:0.01583\n",
      "[179]\tvalidation_0-brier-error:0.01567\tvalidation_1-brier-error:0.01570\n",
      "[180]\tvalidation_0-brier-error:0.01554\tvalidation_1-brier-error:0.01557\n",
      "[181]\tvalidation_0-brier-error:0.01541\tvalidation_1-brier-error:0.01545\n",
      "[182]\tvalidation_0-brier-error:0.01528\tvalidation_1-brier-error:0.01532\n",
      "[183]\tvalidation_0-brier-error:0.01516\tvalidation_1-brier-error:0.01520\n",
      "[184]\tvalidation_0-brier-error:0.01504\tvalidation_1-brier-error:0.01508\n",
      "[185]\tvalidation_0-brier-error:0.01492\tvalidation_1-brier-error:0.01496\n",
      "[186]\tvalidation_0-brier-error:0.01481\tvalidation_1-brier-error:0.01484\n",
      "[187]\tvalidation_0-brier-error:0.01469\tvalidation_1-brier-error:0.01473\n",
      "[188]\tvalidation_0-brier-error:0.01458\tvalidation_1-brier-error:0.01462\n",
      "[189]\tvalidation_0-brier-error:0.01447\tvalidation_1-brier-error:0.01451\n",
      "[190]\tvalidation_0-brier-error:0.01436\tvalidation_1-brier-error:0.01440\n",
      "[191]\tvalidation_0-brier-error:0.01426\tvalidation_1-brier-error:0.01430\n",
      "[192]\tvalidation_0-brier-error:0.01416\tvalidation_1-brier-error:0.01420\n",
      "[193]\tvalidation_0-brier-error:0.01406\tvalidation_1-brier-error:0.01410\n",
      "[194]\tvalidation_0-brier-error:0.01396\tvalidation_1-brier-error:0.01400\n",
      "[195]\tvalidation_0-brier-error:0.01386\tvalidation_1-brier-error:0.01390\n",
      "[196]\tvalidation_0-brier-error:0.01377\tvalidation_1-brier-error:0.01381\n",
      "[197]\tvalidation_0-brier-error:0.01367\tvalidation_1-brier-error:0.01371\n",
      "[198]\tvalidation_0-brier-error:0.01358\tvalidation_1-brier-error:0.01362\n",
      "[199]\tvalidation_0-brier-error:0.01349\tvalidation_1-brier-error:0.01353\n",
      "[200]\tvalidation_0-brier-error:0.01341\tvalidation_1-brier-error:0.01345\n",
      "[201]\tvalidation_0-brier-error:0.01332\tvalidation_1-brier-error:0.01336\n",
      "[202]\tvalidation_0-brier-error:0.01324\tvalidation_1-brier-error:0.01328\n",
      "[203]\tvalidation_0-brier-error:0.01315\tvalidation_1-brier-error:0.01319\n",
      "[204]\tvalidation_0-brier-error:0.01307\tvalidation_1-brier-error:0.01311\n",
      "[205]\tvalidation_0-brier-error:0.01299\tvalidation_1-brier-error:0.01303\n",
      "[206]\tvalidation_0-brier-error:0.01291\tvalidation_1-brier-error:0.01296\n",
      "[207]\tvalidation_0-brier-error:0.01284\tvalidation_1-brier-error:0.01288\n",
      "[208]\tvalidation_0-brier-error:0.01276\tvalidation_1-brier-error:0.01281\n",
      "[209]\tvalidation_0-brier-error:0.01269\tvalidation_1-brier-error:0.01273\n",
      "[210]\tvalidation_0-brier-error:0.01262\tvalidation_1-brier-error:0.01266\n",
      "[211]\tvalidation_0-brier-error:0.01255\tvalidation_1-brier-error:0.01259\n",
      "[212]\tvalidation_0-brier-error:0.01248\tvalidation_1-brier-error:0.01252\n",
      "[213]\tvalidation_0-brier-error:0.01241\tvalidation_1-brier-error:0.01246\n",
      "[214]\tvalidation_0-brier-error:0.01235\tvalidation_1-brier-error:0.01239\n",
      "[215]\tvalidation_0-brier-error:0.01228\tvalidation_1-brier-error:0.01233\n",
      "[216]\tvalidation_0-brier-error:0.01222\tvalidation_1-brier-error:0.01226\n",
      "[217]\tvalidation_0-brier-error:0.01215\tvalidation_1-brier-error:0.01220\n",
      "[218]\tvalidation_0-brier-error:0.01209\tvalidation_1-brier-error:0.01214\n",
      "[219]\tvalidation_0-brier-error:0.01203\tvalidation_1-brier-error:0.01208\n",
      "[220]\tvalidation_0-brier-error:0.01197\tvalidation_1-brier-error:0.01202\n",
      "[221]\tvalidation_0-brier-error:0.01192\tvalidation_1-brier-error:0.01196\n",
      "[222]\tvalidation_0-brier-error:0.01186\tvalidation_1-brier-error:0.01191\n",
      "[223]\tvalidation_0-brier-error:0.01180\tvalidation_1-brier-error:0.01185\n",
      "[224]\tvalidation_0-brier-error:0.01175\tvalidation_1-brier-error:0.01180\n",
      "[225]\tvalidation_0-brier-error:0.01169\tvalidation_1-brier-error:0.01174\n",
      "[226]\tvalidation_0-brier-error:0.01164\tvalidation_1-brier-error:0.01169\n",
      "[227]\tvalidation_0-brier-error:0.01159\tvalidation_1-brier-error:0.01164\n",
      "[228]\tvalidation_0-brier-error:0.01154\tvalidation_1-brier-error:0.01159\n",
      "[229]\tvalidation_0-brier-error:0.01149\tvalidation_1-brier-error:0.01154\n",
      "[230]\tvalidation_0-brier-error:0.01144\tvalidation_1-brier-error:0.01149\n",
      "[231]\tvalidation_0-brier-error:0.01139\tvalidation_1-brier-error:0.01144\n",
      "[232]\tvalidation_0-brier-error:0.01135\tvalidation_1-brier-error:0.01140\n",
      "[233]\tvalidation_0-brier-error:0.01130\tvalidation_1-brier-error:0.01135\n",
      "[234]\tvalidation_0-brier-error:0.01126\tvalidation_1-brier-error:0.01131\n",
      "[235]\tvalidation_0-brier-error:0.01121\tvalidation_1-brier-error:0.01126\n",
      "[236]\tvalidation_0-brier-error:0.01117\tvalidation_1-brier-error:0.01122\n",
      "[237]\tvalidation_0-brier-error:0.01113\tvalidation_1-brier-error:0.01118\n",
      "[238]\tvalidation_0-brier-error:0.01109\tvalidation_1-brier-error:0.01114\n",
      "[239]\tvalidation_0-brier-error:0.01105\tvalidation_1-brier-error:0.01110\n",
      "[240]\tvalidation_0-brier-error:0.01101\tvalidation_1-brier-error:0.01106\n",
      "[241]\tvalidation_0-brier-error:0.01097\tvalidation_1-brier-error:0.01102\n",
      "[242]\tvalidation_0-brier-error:0.01093\tvalidation_1-brier-error:0.01098\n",
      "[243]\tvalidation_0-brier-error:0.01089\tvalidation_1-brier-error:0.01094\n",
      "[244]\tvalidation_0-brier-error:0.01085\tvalidation_1-brier-error:0.01091\n",
      "[245]\tvalidation_0-brier-error:0.01082\tvalidation_1-brier-error:0.01087\n",
      "[246]\tvalidation_0-brier-error:0.01078\tvalidation_1-brier-error:0.01084\n",
      "[247]\tvalidation_0-brier-error:0.01075\tvalidation_1-brier-error:0.01080\n",
      "[248]\tvalidation_0-brier-error:0.01071\tvalidation_1-brier-error:0.01077\n",
      "[249]\tvalidation_0-brier-error:0.01068\tvalidation_1-brier-error:0.01074\n",
      "[250]\tvalidation_0-brier-error:0.01065\tvalidation_1-brier-error:0.01070\n",
      "[251]\tvalidation_0-brier-error:0.01062\tvalidation_1-brier-error:0.01067\n",
      "[252]\tvalidation_0-brier-error:0.01059\tvalidation_1-brier-error:0.01064\n",
      "[253]\tvalidation_0-brier-error:0.01056\tvalidation_1-brier-error:0.01061\n",
      "[254]\tvalidation_0-brier-error:0.01053\tvalidation_1-brier-error:0.01058\n",
      "[255]\tvalidation_0-brier-error:0.01050\tvalidation_1-brier-error:0.01055\n",
      "[256]\tvalidation_0-brier-error:0.01047\tvalidation_1-brier-error:0.01052\n",
      "[257]\tvalidation_0-brier-error:0.01044\tvalidation_1-brier-error:0.01050\n",
      "[258]\tvalidation_0-brier-error:0.01041\tvalidation_1-brier-error:0.01047\n",
      "[259]\tvalidation_0-brier-error:0.01038\tvalidation_1-brier-error:0.01044\n",
      "[260]\tvalidation_0-brier-error:0.01036\tvalidation_1-brier-error:0.01041\n",
      "[261]\tvalidation_0-brier-error:0.01033\tvalidation_1-brier-error:0.01039\n",
      "[262]\tvalidation_0-brier-error:0.01030\tvalidation_1-brier-error:0.01036\n",
      "[263]\tvalidation_0-brier-error:0.01028\tvalidation_1-brier-error:0.01034\n",
      "[264]\tvalidation_0-brier-error:0.01025\tvalidation_1-brier-error:0.01031\n",
      "[265]\tvalidation_0-brier-error:0.01023\tvalidation_1-brier-error:0.01029\n",
      "[266]\tvalidation_0-brier-error:0.01021\tvalidation_1-brier-error:0.01026\n",
      "[267]\tvalidation_0-brier-error:0.01018\tvalidation_1-brier-error:0.01024\n",
      "[268]\tvalidation_0-brier-error:0.01016\tvalidation_1-brier-error:0.01022\n",
      "[269]\tvalidation_0-brier-error:0.01014\tvalidation_1-brier-error:0.01020\n",
      "[270]\tvalidation_0-brier-error:0.01012\tvalidation_1-brier-error:0.01018\n",
      "[271]\tvalidation_0-brier-error:0.01009\tvalidation_1-brier-error:0.01015\n",
      "[272]\tvalidation_0-brier-error:0.01007\tvalidation_1-brier-error:0.01013\n",
      "[273]\tvalidation_0-brier-error:0.01005\tvalidation_1-brier-error:0.01011\n",
      "[274]\tvalidation_0-brier-error:0.01003\tvalidation_1-brier-error:0.01009\n",
      "[275]\tvalidation_0-brier-error:0.01001\tvalidation_1-brier-error:0.01007\n",
      "[276]\tvalidation_0-brier-error:0.00999\tvalidation_1-brier-error:0.01005\n",
      "[277]\tvalidation_0-brier-error:0.00997\tvalidation_1-brier-error:0.01003\n",
      "[278]\tvalidation_0-brier-error:0.00995\tvalidation_1-brier-error:0.01001\n",
      "[279]\tvalidation_0-brier-error:0.00994\tvalidation_1-brier-error:0.01000\n",
      "[280]\tvalidation_0-brier-error:0.00992\tvalidation_1-brier-error:0.00998\n",
      "[281]\tvalidation_0-brier-error:0.00990\tvalidation_1-brier-error:0.00996\n",
      "[282]\tvalidation_0-brier-error:0.00988\tvalidation_1-brier-error:0.00994\n",
      "[283]\tvalidation_0-brier-error:0.00987\tvalidation_1-brier-error:0.00993\n",
      "[284]\tvalidation_0-brier-error:0.00985\tvalidation_1-brier-error:0.00991\n",
      "[285]\tvalidation_0-brier-error:0.00983\tvalidation_1-brier-error:0.00989\n",
      "[286]\tvalidation_0-brier-error:0.00982\tvalidation_1-brier-error:0.00988\n",
      "[287]\tvalidation_0-brier-error:0.00980\tvalidation_1-brier-error:0.00986\n",
      "[288]\tvalidation_0-brier-error:0.00978\tvalidation_1-brier-error:0.00985\n",
      "[289]\tvalidation_0-brier-error:0.00977\tvalidation_1-brier-error:0.00983\n",
      "[290]\tvalidation_0-brier-error:0.00975\tvalidation_1-brier-error:0.00982\n",
      "[291]\tvalidation_0-brier-error:0.00974\tvalidation_1-brier-error:0.00980\n",
      "[292]\tvalidation_0-brier-error:0.00972\tvalidation_1-brier-error:0.00979\n",
      "[293]\tvalidation_0-brier-error:0.00971\tvalidation_1-brier-error:0.00978\n",
      "[294]\tvalidation_0-brier-error:0.00970\tvalidation_1-brier-error:0.00976\n",
      "[295]\tvalidation_0-brier-error:0.00968\tvalidation_1-brier-error:0.00975\n",
      "[296]\tvalidation_0-brier-error:0.00967\tvalidation_1-brier-error:0.00973\n",
      "[297]\tvalidation_0-brier-error:0.00966\tvalidation_1-brier-error:0.00972\n",
      "[298]\tvalidation_0-brier-error:0.00964\tvalidation_1-brier-error:0.00971\n",
      "[299]\tvalidation_0-brier-error:0.00963\tvalidation_1-brier-error:0.00970\n",
      "[300]\tvalidation_0-brier-error:0.00962\tvalidation_1-brier-error:0.00968\n",
      "[301]\tvalidation_0-brier-error:0.00960\tvalidation_1-brier-error:0.00967\n",
      "[302]\tvalidation_0-brier-error:0.00959\tvalidation_1-brier-error:0.00966\n",
      "[303]\tvalidation_0-brier-error:0.00958\tvalidation_1-brier-error:0.00965\n",
      "[304]\tvalidation_0-brier-error:0.00957\tvalidation_1-brier-error:0.00964\n",
      "[305]\tvalidation_0-brier-error:0.00956\tvalidation_1-brier-error:0.00963\n",
      "[306]\tvalidation_0-brier-error:0.00955\tvalidation_1-brier-error:0.00962\n",
      "[307]\tvalidation_0-brier-error:0.00954\tvalidation_1-brier-error:0.00961\n",
      "[308]\tvalidation_0-brier-error:0.00953\tvalidation_1-brier-error:0.00959\n",
      "[309]\tvalidation_0-brier-error:0.00952\tvalidation_1-brier-error:0.00958\n",
      "[310]\tvalidation_0-brier-error:0.00951\tvalidation_1-brier-error:0.00958\n",
      "[311]\tvalidation_0-brier-error:0.00950\tvalidation_1-brier-error:0.00957\n",
      "[312]\tvalidation_0-brier-error:0.00949\tvalidation_1-brier-error:0.00956\n",
      "[313]\tvalidation_0-brier-error:0.00948\tvalidation_1-brier-error:0.00955\n",
      "[314]\tvalidation_0-brier-error:0.00947\tvalidation_1-brier-error:0.00954\n",
      "[315]\tvalidation_0-brier-error:0.00946\tvalidation_1-brier-error:0.00953\n",
      "[316]\tvalidation_0-brier-error:0.00945\tvalidation_1-brier-error:0.00952\n",
      "[317]\tvalidation_0-brier-error:0.00944\tvalidation_1-brier-error:0.00951\n",
      "[318]\tvalidation_0-brier-error:0.00943\tvalidation_1-brier-error:0.00950\n",
      "[319]\tvalidation_0-brier-error:0.00942\tvalidation_1-brier-error:0.00949\n",
      "[320]\tvalidation_0-brier-error:0.00941\tvalidation_1-brier-error:0.00949\n",
      "[321]\tvalidation_0-brier-error:0.00940\tvalidation_1-brier-error:0.00948\n",
      "[322]\tvalidation_0-brier-error:0.00940\tvalidation_1-brier-error:0.00947\n",
      "[323]\tvalidation_0-brier-error:0.00939\tvalidation_1-brier-error:0.00946\n",
      "[324]\tvalidation_0-brier-error:0.00938\tvalidation_1-brier-error:0.00945\n",
      "[325]\tvalidation_0-brier-error:0.00937\tvalidation_1-brier-error:0.00945\n",
      "[326]\tvalidation_0-brier-error:0.00936\tvalidation_1-brier-error:0.00944\n",
      "[327]\tvalidation_0-brier-error:0.00936\tvalidation_1-brier-error:0.00943\n",
      "[328]\tvalidation_0-brier-error:0.00935\tvalidation_1-brier-error:0.00942\n",
      "[329]\tvalidation_0-brier-error:0.00934\tvalidation_1-brier-error:0.00942\n",
      "[330]\tvalidation_0-brier-error:0.00933\tvalidation_1-brier-error:0.00941\n",
      "[331]\tvalidation_0-brier-error:0.00933\tvalidation_1-brier-error:0.00940\n",
      "[332]\tvalidation_0-brier-error:0.00932\tvalidation_1-brier-error:0.00940\n",
      "[333]\tvalidation_0-brier-error:0.00931\tvalidation_1-brier-error:0.00939\n",
      "[334]\tvalidation_0-brier-error:0.00931\tvalidation_1-brier-error:0.00938\n",
      "[335]\tvalidation_0-brier-error:0.00930\tvalidation_1-brier-error:0.00938\n",
      "[336]\tvalidation_0-brier-error:0.00929\tvalidation_1-brier-error:0.00937\n",
      "[337]\tvalidation_0-brier-error:0.00929\tvalidation_1-brier-error:0.00937\n",
      "[338]\tvalidation_0-brier-error:0.00928\tvalidation_1-brier-error:0.00936\n",
      "[339]\tvalidation_0-brier-error:0.00928\tvalidation_1-brier-error:0.00936\n",
      "[340]\tvalidation_0-brier-error:0.00927\tvalidation_1-brier-error:0.00935\n",
      "[341]\tvalidation_0-brier-error:0.00927\tvalidation_1-brier-error:0.00934\n",
      "[342]\tvalidation_0-brier-error:0.00926\tvalidation_1-brier-error:0.00934\n",
      "[343]\tvalidation_0-brier-error:0.00925\tvalidation_1-brier-error:0.00933\n",
      "[344]\tvalidation_0-brier-error:0.00925\tvalidation_1-brier-error:0.00933\n",
      "[345]\tvalidation_0-brier-error:0.00924\tvalidation_1-brier-error:0.00932\n",
      "[346]\tvalidation_0-brier-error:0.00924\tvalidation_1-brier-error:0.00932\n",
      "[347]\tvalidation_0-brier-error:0.00923\tvalidation_1-brier-error:0.00931\n",
      "[348]\tvalidation_0-brier-error:0.00923\tvalidation_1-brier-error:0.00931\n",
      "[349]\tvalidation_0-brier-error:0.00922\tvalidation_1-brier-error:0.00931\n",
      "[350]\tvalidation_0-brier-error:0.00922\tvalidation_1-brier-error:0.00930\n",
      "[351]\tvalidation_0-brier-error:0.00921\tvalidation_1-brier-error:0.00930\n",
      "[352]\tvalidation_0-brier-error:0.00921\tvalidation_1-brier-error:0.00929\n",
      "[353]\tvalidation_0-brier-error:0.00921\tvalidation_1-brier-error:0.00929\n",
      "[354]\tvalidation_0-brier-error:0.00920\tvalidation_1-brier-error:0.00928\n",
      "[355]\tvalidation_0-brier-error:0.00920\tvalidation_1-brier-error:0.00928\n",
      "[356]\tvalidation_0-brier-error:0.00919\tvalidation_1-brier-error:0.00928\n",
      "[357]\tvalidation_0-brier-error:0.00919\tvalidation_1-brier-error:0.00927\n",
      "[358]\tvalidation_0-brier-error:0.00919\tvalidation_1-brier-error:0.00927\n",
      "[359]\tvalidation_0-brier-error:0.00918\tvalidation_1-brier-error:0.00926\n",
      "[360]\tvalidation_0-brier-error:0.00918\tvalidation_1-brier-error:0.00926\n",
      "[361]\tvalidation_0-brier-error:0.00917\tvalidation_1-brier-error:0.00925\n",
      "[362]\tvalidation_0-brier-error:0.00917\tvalidation_1-brier-error:0.00925\n",
      "[363]\tvalidation_0-brier-error:0.00916\tvalidation_1-brier-error:0.00925\n",
      "[364]\tvalidation_0-brier-error:0.00916\tvalidation_1-brier-error:0.00924\n",
      "[365]\tvalidation_0-brier-error:0.00916\tvalidation_1-brier-error:0.00924\n",
      "[366]\tvalidation_0-brier-error:0.00915\tvalidation_1-brier-error:0.00924\n",
      "[367]\tvalidation_0-brier-error:0.00915\tvalidation_1-brier-error:0.00923\n",
      "[368]\tvalidation_0-brier-error:0.00915\tvalidation_1-brier-error:0.00923\n",
      "[369]\tvalidation_0-brier-error:0.00914\tvalidation_1-brier-error:0.00923\n",
      "[370]\tvalidation_0-brier-error:0.00914\tvalidation_1-brier-error:0.00923\n",
      "[371]\tvalidation_0-brier-error:0.00914\tvalidation_1-brier-error:0.00922\n",
      "[372]\tvalidation_0-brier-error:0.00913\tvalidation_1-brier-error:0.00922\n",
      "[373]\tvalidation_0-brier-error:0.00913\tvalidation_1-brier-error:0.00921\n",
      "[374]\tvalidation_0-brier-error:0.00913\tvalidation_1-brier-error:0.00921\n",
      "[375]\tvalidation_0-brier-error:0.00912\tvalidation_1-brier-error:0.00921\n",
      "[376]\tvalidation_0-brier-error:0.00912\tvalidation_1-brier-error:0.00921\n",
      "[377]\tvalidation_0-brier-error:0.00912\tvalidation_1-brier-error:0.00920\n",
      "[378]\tvalidation_0-brier-error:0.00911\tvalidation_1-brier-error:0.00920\n",
      "[379]\tvalidation_0-brier-error:0.00911\tvalidation_1-brier-error:0.00920\n",
      "[380]\tvalidation_0-brier-error:0.00911\tvalidation_1-brier-error:0.00920\n",
      "[381]\tvalidation_0-brier-error:0.00911\tvalidation_1-brier-error:0.00919\n",
      "[382]\tvalidation_0-brier-error:0.00911\tvalidation_1-brier-error:0.00919\n",
      "[383]\tvalidation_0-brier-error:0.00910\tvalidation_1-brier-error:0.00919\n",
      "[384]\tvalidation_0-brier-error:0.00910\tvalidation_1-brier-error:0.00919\n",
      "[385]\tvalidation_0-brier-error:0.00910\tvalidation_1-brier-error:0.00918\n",
      "[386]\tvalidation_0-brier-error:0.00910\tvalidation_1-brier-error:0.00918\n",
      "[387]\tvalidation_0-brier-error:0.00909\tvalidation_1-brier-error:0.00918\n",
      "[388]\tvalidation_0-brier-error:0.00909\tvalidation_1-brier-error:0.00918\n",
      "[389]\tvalidation_0-brier-error:0.00909\tvalidation_1-brier-error:0.00918\n",
      "[390]\tvalidation_0-brier-error:0.00908\tvalidation_1-brier-error:0.00917\n",
      "[391]\tvalidation_0-brier-error:0.00908\tvalidation_1-brier-error:0.00917\n",
      "[392]\tvalidation_0-brier-error:0.00908\tvalidation_1-brier-error:0.00917\n",
      "[393]\tvalidation_0-brier-error:0.00908\tvalidation_1-brier-error:0.00917\n",
      "[394]\tvalidation_0-brier-error:0.00908\tvalidation_1-brier-error:0.00916\n",
      "[395]\tvalidation_0-brier-error:0.00907\tvalidation_1-brier-error:0.00916\n",
      "[396]\tvalidation_0-brier-error:0.00907\tvalidation_1-brier-error:0.00916\n",
      "[397]\tvalidation_0-brier-error:0.00907\tvalidation_1-brier-error:0.00916\n",
      "[398]\tvalidation_0-brier-error:0.00907\tvalidation_1-brier-error:0.00916\n",
      "[399]\tvalidation_0-brier-error:0.00907\tvalidation_1-brier-error:0.00915\n",
      "[400]\tvalidation_0-brier-error:0.00906\tvalidation_1-brier-error:0.00915\n",
      "[401]\tvalidation_0-brier-error:0.00906\tvalidation_1-brier-error:0.00915\n",
      "[402]\tvalidation_0-brier-error:0.00906\tvalidation_1-brier-error:0.00915\n",
      "[403]\tvalidation_0-brier-error:0.00906\tvalidation_1-brier-error:0.00915\n",
      "[404]\tvalidation_0-brier-error:0.00906\tvalidation_1-brier-error:0.00915\n",
      "[405]\tvalidation_0-brier-error:0.00905\tvalidation_1-brier-error:0.00914\n",
      "[406]\tvalidation_0-brier-error:0.00905\tvalidation_1-brier-error:0.00914\n",
      "[407]\tvalidation_0-brier-error:0.00905\tvalidation_1-brier-error:0.00914\n",
      "[408]\tvalidation_0-brier-error:0.00905\tvalidation_1-brier-error:0.00914\n",
      "[409]\tvalidation_0-brier-error:0.00905\tvalidation_1-brier-error:0.00914\n",
      "[410]\tvalidation_0-brier-error:0.00905\tvalidation_1-brier-error:0.00914\n",
      "[411]\tvalidation_0-brier-error:0.00904\tvalidation_1-brier-error:0.00914\n",
      "[412]\tvalidation_0-brier-error:0.00904\tvalidation_1-brier-error:0.00913\n",
      "[413]\tvalidation_0-brier-error:0.00904\tvalidation_1-brier-error:0.00913\n",
      "[414]\tvalidation_0-brier-error:0.00904\tvalidation_1-brier-error:0.00913\n",
      "[415]\tvalidation_0-brier-error:0.00904\tvalidation_1-brier-error:0.00913\n",
      "[416]\tvalidation_0-brier-error:0.00904\tvalidation_1-brier-error:0.00913\n",
      "[417]\tvalidation_0-brier-error:0.00903\tvalidation_1-brier-error:0.00913\n",
      "[418]\tvalidation_0-brier-error:0.00903\tvalidation_1-brier-error:0.00913\n",
      "[419]\tvalidation_0-brier-error:0.00903\tvalidation_1-brier-error:0.00912\n",
      "[420]\tvalidation_0-brier-error:0.00903\tvalidation_1-brier-error:0.00912\n",
      "[421]\tvalidation_0-brier-error:0.00903\tvalidation_1-brier-error:0.00912\n",
      "[422]\tvalidation_0-brier-error:0.00903\tvalidation_1-brier-error:0.00912\n",
      "[423]\tvalidation_0-brier-error:0.00903\tvalidation_1-brier-error:0.00912\n",
      "[424]\tvalidation_0-brier-error:0.00903\tvalidation_1-brier-error:0.00912\n",
      "[425]\tvalidation_0-brier-error:0.00902\tvalidation_1-brier-error:0.00912\n",
      "[426]\tvalidation_0-brier-error:0.00902\tvalidation_1-brier-error:0.00912\n",
      "[427]\tvalidation_0-brier-error:0.00902\tvalidation_1-brier-error:0.00911\n",
      "[428]\tvalidation_0-brier-error:0.00902\tvalidation_1-brier-error:0.00911\n",
      "[429]\tvalidation_0-brier-error:0.00902\tvalidation_1-brier-error:0.00911\n",
      "[430]\tvalidation_0-brier-error:0.00902\tvalidation_1-brier-error:0.00911\n",
      "[431]\tvalidation_0-brier-error:0.00902\tvalidation_1-brier-error:0.00911\n",
      "[432]\tvalidation_0-brier-error:0.00902\tvalidation_1-brier-error:0.00911\n",
      "[433]\tvalidation_0-brier-error:0.00902\tvalidation_1-brier-error:0.00911\n",
      "[434]\tvalidation_0-brier-error:0.00901\tvalidation_1-brier-error:0.00911\n",
      "[435]\tvalidation_0-brier-error:0.00901\tvalidation_1-brier-error:0.00911\n",
      "[436]\tvalidation_0-brier-error:0.00901\tvalidation_1-brier-error:0.00911\n",
      "[437]\tvalidation_0-brier-error:0.00901\tvalidation_1-brier-error:0.00910\n",
      "[438]\tvalidation_0-brier-error:0.00901\tvalidation_1-brier-error:0.00910\n",
      "[439]\tvalidation_0-brier-error:0.00901\tvalidation_1-brier-error:0.00910\n",
      "[440]\tvalidation_0-brier-error:0.00901\tvalidation_1-brier-error:0.00910\n",
      "[441]\tvalidation_0-brier-error:0.00901\tvalidation_1-brier-error:0.00910\n",
      "[442]\tvalidation_0-brier-error:0.00901\tvalidation_1-brier-error:0.00910\n",
      "[443]\tvalidation_0-brier-error:0.00900\tvalidation_1-brier-error:0.00910\n",
      "[444]\tvalidation_0-brier-error:0.00900\tvalidation_1-brier-error:0.00910\n",
      "[445]\tvalidation_0-brier-error:0.00900\tvalidation_1-brier-error:0.00910\n",
      "[446]\tvalidation_0-brier-error:0.00900\tvalidation_1-brier-error:0.00910\n",
      "[447]\tvalidation_0-brier-error:0.00900\tvalidation_1-brier-error:0.00910\n",
      "[448]\tvalidation_0-brier-error:0.00900\tvalidation_1-brier-error:0.00910\n",
      "[449]\tvalidation_0-brier-error:0.00900\tvalidation_1-brier-error:0.00909\n",
      "[450]\tvalidation_0-brier-error:0.00900\tvalidation_1-brier-error:0.00909\n",
      "[451]\tvalidation_0-brier-error:0.00900\tvalidation_1-brier-error:0.00909\n",
      "[452]\tvalidation_0-brier-error:0.00900\tvalidation_1-brier-error:0.00909\n",
      "[453]\tvalidation_0-brier-error:0.00899\tvalidation_1-brier-error:0.00909\n",
      "[454]\tvalidation_0-brier-error:0.00899\tvalidation_1-brier-error:0.00909\n",
      "[455]\tvalidation_0-brier-error:0.00899\tvalidation_1-brier-error:0.00909\n",
      "[456]\tvalidation_0-brier-error:0.00899\tvalidation_1-brier-error:0.00909\n",
      "[457]\tvalidation_0-brier-error:0.00899\tvalidation_1-brier-error:0.00909\n",
      "[458]\tvalidation_0-brier-error:0.00899\tvalidation_1-brier-error:0.00909\n",
      "[459]\tvalidation_0-brier-error:0.00899\tvalidation_1-brier-error:0.00909\n",
      "[460]\tvalidation_0-brier-error:0.00899\tvalidation_1-brier-error:0.00909\n",
      "[461]\tvalidation_0-brier-error:0.00899\tvalidation_1-brier-error:0.00909\n",
      "[462]\tvalidation_0-brier-error:0.00899\tvalidation_1-brier-error:0.00909\n",
      "[463]\tvalidation_0-brier-error:0.00899\tvalidation_1-brier-error:0.00908\n",
      "[464]\tvalidation_0-brier-error:0.00899\tvalidation_1-brier-error:0.00908\n",
      "[465]\tvalidation_0-brier-error:0.00898\tvalidation_1-brier-error:0.00908\n",
      "[466]\tvalidation_0-brier-error:0.00898\tvalidation_1-brier-error:0.00908\n",
      "[467]\tvalidation_0-brier-error:0.00898\tvalidation_1-brier-error:0.00908\n",
      "[468]\tvalidation_0-brier-error:0.00898\tvalidation_1-brier-error:0.00908\n",
      "[469]\tvalidation_0-brier-error:0.00898\tvalidation_1-brier-error:0.00908\n",
      "[470]\tvalidation_0-brier-error:0.00898\tvalidation_1-brier-error:0.00908\n",
      "[471]\tvalidation_0-brier-error:0.00898\tvalidation_1-brier-error:0.00908\n",
      "[472]\tvalidation_0-brier-error:0.00898\tvalidation_1-brier-error:0.00908\n",
      "[473]\tvalidation_0-brier-error:0.00898\tvalidation_1-brier-error:0.00908\n",
      "[474]\tvalidation_0-brier-error:0.00898\tvalidation_1-brier-error:0.00908\n",
      "[475]\tvalidation_0-brier-error:0.00898\tvalidation_1-brier-error:0.00908\n",
      "[476]\tvalidation_0-brier-error:0.00898\tvalidation_1-brier-error:0.00908\n",
      "[477]\tvalidation_0-brier-error:0.00898\tvalidation_1-brier-error:0.00908\n",
      "[478]\tvalidation_0-brier-error:0.00898\tvalidation_1-brier-error:0.00908\n",
      "[479]\tvalidation_0-brier-error:0.00898\tvalidation_1-brier-error:0.00908\n",
      "[480]\tvalidation_0-brier-error:0.00898\tvalidation_1-brier-error:0.00908\n",
      "[481]\tvalidation_0-brier-error:0.00897\tvalidation_1-brier-error:0.00908\n",
      "[482]\tvalidation_0-brier-error:0.00897\tvalidation_1-brier-error:0.00907\n",
      "[483]\tvalidation_0-brier-error:0.00897\tvalidation_1-brier-error:0.00907\n",
      "[484]\tvalidation_0-brier-error:0.00897\tvalidation_1-brier-error:0.00907\n",
      "[485]\tvalidation_0-brier-error:0.00897\tvalidation_1-brier-error:0.00907\n",
      "[486]\tvalidation_0-brier-error:0.00897\tvalidation_1-brier-error:0.00907\n",
      "[487]\tvalidation_0-brier-error:0.00897\tvalidation_1-brier-error:0.00907\n",
      "[488]\tvalidation_0-brier-error:0.00897\tvalidation_1-brier-error:0.00907\n",
      "[489]\tvalidation_0-brier-error:0.00897\tvalidation_1-brier-error:0.00907\n",
      "[490]\tvalidation_0-brier-error:0.00897\tvalidation_1-brier-error:0.00907\n",
      "[491]\tvalidation_0-brier-error:0.00897\tvalidation_1-brier-error:0.00907\n",
      "[492]\tvalidation_0-brier-error:0.00897\tvalidation_1-brier-error:0.00907\n",
      "[493]\tvalidation_0-brier-error:0.00897\tvalidation_1-brier-error:0.00907\n",
      "[494]\tvalidation_0-brier-error:0.00897\tvalidation_1-brier-error:0.00907\n",
      "[495]\tvalidation_0-brier-error:0.00897\tvalidation_1-brier-error:0.00907\n",
      "[496]\tvalidation_0-brier-error:0.00896\tvalidation_1-brier-error:0.00907\n",
      "[497]\tvalidation_0-brier-error:0.00896\tvalidation_1-brier-error:0.00907\n",
      "[498]\tvalidation_0-brier-error:0.00896\tvalidation_1-brier-error:0.00907\n",
      "[499]\tvalidation_0-brier-error:0.00896\tvalidation_1-brier-error:0.00907\n",
      "[500]\tvalidation_0-brier-error:0.00896\tvalidation_1-brier-error:0.00907\n",
      "[501]\tvalidation_0-brier-error:0.00896\tvalidation_1-brier-error:0.00907\n",
      "[502]\tvalidation_0-brier-error:0.00896\tvalidation_1-brier-error:0.00907\n",
      "[503]\tvalidation_0-brier-error:0.00896\tvalidation_1-brier-error:0.00907\n",
      "[504]\tvalidation_0-brier-error:0.00896\tvalidation_1-brier-error:0.00907\n",
      "[505]\tvalidation_0-brier-error:0.00896\tvalidation_1-brier-error:0.00907\n",
      "[506]\tvalidation_0-brier-error:0.00896\tvalidation_1-brier-error:0.00907\n",
      "[507]\tvalidation_0-brier-error:0.00896\tvalidation_1-brier-error:0.00907\n",
      "[508]\tvalidation_0-brier-error:0.00896\tvalidation_1-brier-error:0.00907\n",
      "[509]\tvalidation_0-brier-error:0.00896\tvalidation_1-brier-error:0.00907\n",
      "[510]\tvalidation_0-brier-error:0.00896\tvalidation_1-brier-error:0.00907\n",
      "[511]\tvalidation_0-brier-error:0.00896\tvalidation_1-brier-error:0.00907\n",
      "[512]\tvalidation_0-brier-error:0.00896\tvalidation_1-brier-error:0.00907\n",
      "[513]\tvalidation_0-brier-error:0.00896\tvalidation_1-brier-error:0.00907\n",
      "[514]\tvalidation_0-brier-error:0.00896\tvalidation_1-brier-error:0.00906\n",
      "[515]\tvalidation_0-brier-error:0.00896\tvalidation_1-brier-error:0.00906\n",
      "[516]\tvalidation_0-brier-error:0.00896\tvalidation_1-brier-error:0.00906\n",
      "[517]\tvalidation_0-brier-error:0.00896\tvalidation_1-brier-error:0.00906\n",
      "[518]\tvalidation_0-brier-error:0.00895\tvalidation_1-brier-error:0.00906\n",
      "[519]\tvalidation_0-brier-error:0.00895\tvalidation_1-brier-error:0.00906\n",
      "[520]\tvalidation_0-brier-error:0.00895\tvalidation_1-brier-error:0.00906\n",
      "[521]\tvalidation_0-brier-error:0.00895\tvalidation_1-brier-error:0.00906\n",
      "[522]\tvalidation_0-brier-error:0.00895\tvalidation_1-brier-error:0.00906\n",
      "[523]\tvalidation_0-brier-error:0.00895\tvalidation_1-brier-error:0.00906\n",
      "[524]\tvalidation_0-brier-error:0.00895\tvalidation_1-brier-error:0.00906\n",
      "[525]\tvalidation_0-brier-error:0.00895\tvalidation_1-brier-error:0.00906\n",
      "[526]\tvalidation_0-brier-error:0.00895\tvalidation_1-brier-error:0.00906\n",
      "[527]\tvalidation_0-brier-error:0.00895\tvalidation_1-brier-error:0.00906\n",
      "[528]\tvalidation_0-brier-error:0.00895\tvalidation_1-brier-error:0.00906\n",
      "[529]\tvalidation_0-brier-error:0.00895\tvalidation_1-brier-error:0.00906\n",
      "[530]\tvalidation_0-brier-error:0.00895\tvalidation_1-brier-error:0.00906\n",
      "[531]\tvalidation_0-brier-error:0.00895\tvalidation_1-brier-error:0.00906\n",
      "[532]\tvalidation_0-brier-error:0.00895\tvalidation_1-brier-error:0.00906\n",
      "[533]\tvalidation_0-brier-error:0.00895\tvalidation_1-brier-error:0.00906\n",
      "[534]\tvalidation_0-brier-error:0.00895\tvalidation_1-brier-error:0.00906\n",
      "[535]\tvalidation_0-brier-error:0.00895\tvalidation_1-brier-error:0.00906\n",
      "[536]\tvalidation_0-brier-error:0.00895\tvalidation_1-brier-error:0.00906\n",
      "[537]\tvalidation_0-brier-error:0.00895\tvalidation_1-brier-error:0.00906\n",
      "[538]\tvalidation_0-brier-error:0.00895\tvalidation_1-brier-error:0.00906\n",
      "[539]\tvalidation_0-brier-error:0.00895\tvalidation_1-brier-error:0.00906\n",
      "[540]\tvalidation_0-brier-error:0.00895\tvalidation_1-brier-error:0.00906\n",
      "[541]\tvalidation_0-brier-error:0.00895\tvalidation_1-brier-error:0.00906\n",
      "[542]\tvalidation_0-brier-error:0.00894\tvalidation_1-brier-error:0.00906\n",
      "[543]\tvalidation_0-brier-error:0.00894\tvalidation_1-brier-error:0.00906\n",
      "[544]\tvalidation_0-brier-error:0.00894\tvalidation_1-brier-error:0.00906\n",
      "[545]\tvalidation_0-brier-error:0.00894\tvalidation_1-brier-error:0.00906\n",
      "[546]\tvalidation_0-brier-error:0.00894\tvalidation_1-brier-error:0.00906\n",
      "[547]\tvalidation_0-brier-error:0.00894\tvalidation_1-brier-error:0.00906\n",
      "[548]\tvalidation_0-brier-error:0.00894\tvalidation_1-brier-error:0.00906\n",
      "[549]\tvalidation_0-brier-error:0.00894\tvalidation_1-brier-error:0.00906\n",
      "[550]\tvalidation_0-brier-error:0.00894\tvalidation_1-brier-error:0.00906\n",
      "[551]\tvalidation_0-brier-error:0.00894\tvalidation_1-brier-error:0.00906\n",
      "[552]\tvalidation_0-brier-error:0.00894\tvalidation_1-brier-error:0.00906\n",
      "[553]\tvalidation_0-brier-error:0.00894\tvalidation_1-brier-error:0.00906\n",
      "[554]\tvalidation_0-brier-error:0.00894\tvalidation_1-brier-error:0.00906\n",
      "[555]\tvalidation_0-brier-error:0.00894\tvalidation_1-brier-error:0.00906\n",
      "[556]\tvalidation_0-brier-error:0.00894\tvalidation_1-brier-error:0.00906\n",
      "[557]\tvalidation_0-brier-error:0.00894\tvalidation_1-brier-error:0.00906\n",
      "[558]\tvalidation_0-brier-error:0.00894\tvalidation_1-brier-error:0.00906\n",
      "[559]\tvalidation_0-brier-error:0.00894\tvalidation_1-brier-error:0.00906\n",
      "[560]\tvalidation_0-brier-error:0.00894\tvalidation_1-brier-error:0.00906\n",
      "[561]\tvalidation_0-brier-error:0.00894\tvalidation_1-brier-error:0.00906\n",
      "[562]\tvalidation_0-brier-error:0.00894\tvalidation_1-brier-error:0.00906\n",
      "[563]\tvalidation_0-brier-error:0.00894\tvalidation_1-brier-error:0.00906\n",
      "[564]\tvalidation_0-brier-error:0.00894\tvalidation_1-brier-error:0.00905\n",
      "[565]\tvalidation_0-brier-error:0.00894\tvalidation_1-brier-error:0.00905\n",
      "[566]\tvalidation_0-brier-error:0.00894\tvalidation_1-brier-error:0.00905\n",
      "[567]\tvalidation_0-brier-error:0.00894\tvalidation_1-brier-error:0.00905\n",
      "[568]\tvalidation_0-brier-error:0.00894\tvalidation_1-brier-error:0.00905\n",
      "[569]\tvalidation_0-brier-error:0.00894\tvalidation_1-brier-error:0.00905\n",
      "[570]\tvalidation_0-brier-error:0.00894\tvalidation_1-brier-error:0.00905\n",
      "[571]\tvalidation_0-brier-error:0.00894\tvalidation_1-brier-error:0.00905\n",
      "[572]\tvalidation_0-brier-error:0.00894\tvalidation_1-brier-error:0.00905\n",
      "[573]\tvalidation_0-brier-error:0.00894\tvalidation_1-brier-error:0.00905\n",
      "[574]\tvalidation_0-brier-error:0.00894\tvalidation_1-brier-error:0.00905\n",
      "[575]\tvalidation_0-brier-error:0.00894\tvalidation_1-brier-error:0.00905\n",
      "[576]\tvalidation_0-brier-error:0.00893\tvalidation_1-brier-error:0.00905\n",
      "[577]\tvalidation_0-brier-error:0.00893\tvalidation_1-brier-error:0.00905\n",
      "[578]\tvalidation_0-brier-error:0.00893\tvalidation_1-brier-error:0.00905\n",
      "[579]\tvalidation_0-brier-error:0.00893\tvalidation_1-brier-error:0.00905\n",
      "[580]\tvalidation_0-brier-error:0.00893\tvalidation_1-brier-error:0.00905\n",
      "[581]\tvalidation_0-brier-error:0.00893\tvalidation_1-brier-error:0.00905\n",
      "[582]\tvalidation_0-brier-error:0.00893\tvalidation_1-brier-error:0.00905\n",
      "[583]\tvalidation_0-brier-error:0.00893\tvalidation_1-brier-error:0.00905\n",
      "[584]\tvalidation_0-brier-error:0.00893\tvalidation_1-brier-error:0.00905\n",
      "[585]\tvalidation_0-brier-error:0.00893\tvalidation_1-brier-error:0.00905\n",
      "[586]\tvalidation_0-brier-error:0.00893\tvalidation_1-brier-error:0.00905\n",
      "[587]\tvalidation_0-brier-error:0.00893\tvalidation_1-brier-error:0.00905\n",
      "[588]\tvalidation_0-brier-error:0.00893\tvalidation_1-brier-error:0.00905\n",
      "[589]\tvalidation_0-brier-error:0.00893\tvalidation_1-brier-error:0.00905\n",
      "[590]\tvalidation_0-brier-error:0.00893\tvalidation_1-brier-error:0.00905\n",
      "[591]\tvalidation_0-brier-error:0.00893\tvalidation_1-brier-error:0.00905\n",
      "[592]\tvalidation_0-brier-error:0.00893\tvalidation_1-brier-error:0.00905\n",
      "[593]\tvalidation_0-brier-error:0.00893\tvalidation_1-brier-error:0.00905\n",
      "[594]\tvalidation_0-brier-error:0.00893\tvalidation_1-brier-error:0.00905\n",
      "[595]\tvalidation_0-brier-error:0.00893\tvalidation_1-brier-error:0.00905\n",
      "[596]\tvalidation_0-brier-error:0.00893\tvalidation_1-brier-error:0.00905\n",
      "[597]\tvalidation_0-brier-error:0.00893\tvalidation_1-brier-error:0.00905\n",
      "[598]\tvalidation_0-brier-error:0.00893\tvalidation_1-brier-error:0.00905\n",
      "[599]\tvalidation_0-brier-error:0.00893\tvalidation_1-brier-error:0.00905\n",
      "[600]\tvalidation_0-brier-error:0.00893\tvalidation_1-brier-error:0.00905\n",
      "[601]\tvalidation_0-brier-error:0.00893\tvalidation_1-brier-error:0.00905\n",
      "[602]\tvalidation_0-brier-error:0.00893\tvalidation_1-brier-error:0.00905\n",
      "[603]\tvalidation_0-brier-error:0.00893\tvalidation_1-brier-error:0.00905\n",
      "[604]\tvalidation_0-brier-error:0.00893\tvalidation_1-brier-error:0.00905\n",
      "[605]\tvalidation_0-brier-error:0.00893\tvalidation_1-brier-error:0.00905\n",
      "[606]\tvalidation_0-brier-error:0.00893\tvalidation_1-brier-error:0.00905\n",
      "[607]\tvalidation_0-brier-error:0.00893\tvalidation_1-brier-error:0.00905\n",
      "[608]\tvalidation_0-brier-error:0.00893\tvalidation_1-brier-error:0.00905\n",
      "[609]\tvalidation_0-brier-error:0.00893\tvalidation_1-brier-error:0.00905\n",
      "[610]\tvalidation_0-brier-error:0.00893\tvalidation_1-brier-error:0.00905\n",
      "[611]\tvalidation_0-brier-error:0.00892\tvalidation_1-brier-error:0.00905\n",
      "[612]\tvalidation_0-brier-error:0.00892\tvalidation_1-brier-error:0.00905\n",
      "[613]\tvalidation_0-brier-error:0.00892\tvalidation_1-brier-error:0.00905\n",
      "[614]\tvalidation_0-brier-error:0.00892\tvalidation_1-brier-error:0.00905\n",
      "[615]\tvalidation_0-brier-error:0.00892\tvalidation_1-brier-error:0.00905\n",
      "[616]\tvalidation_0-brier-error:0.00892\tvalidation_1-brier-error:0.00905\n",
      "[617]\tvalidation_0-brier-error:0.00892\tvalidation_1-brier-error:0.00905\n",
      "[618]\tvalidation_0-brier-error:0.00892\tvalidation_1-brier-error:0.00905\n",
      "[619]\tvalidation_0-brier-error:0.00892\tvalidation_1-brier-error:0.00905\n",
      "[620]\tvalidation_0-brier-error:0.00892\tvalidation_1-brier-error:0.00905\n",
      "[621]\tvalidation_0-brier-error:0.00892\tvalidation_1-brier-error:0.00905\n",
      "[622]\tvalidation_0-brier-error:0.00892\tvalidation_1-brier-error:0.00905\n",
      "[623]\tvalidation_0-brier-error:0.00892\tvalidation_1-brier-error:0.00905\n",
      "[624]\tvalidation_0-brier-error:0.00892\tvalidation_1-brier-error:0.00905\n",
      "[625]\tvalidation_0-brier-error:0.00892\tvalidation_1-brier-error:0.00905\n",
      "[626]\tvalidation_0-brier-error:0.00892\tvalidation_1-brier-error:0.00905\n",
      "[627]\tvalidation_0-brier-error:0.00892\tvalidation_1-brier-error:0.00905\n",
      "[628]\tvalidation_0-brier-error:0.00892\tvalidation_1-brier-error:0.00905\n",
      "[629]\tvalidation_0-brier-error:0.00892\tvalidation_1-brier-error:0.00905\n",
      "[630]\tvalidation_0-brier-error:0.00892\tvalidation_1-brier-error:0.00905\n",
      "[631]\tvalidation_0-brier-error:0.00892\tvalidation_1-brier-error:0.00905\n",
      "[632]\tvalidation_0-brier-error:0.00892\tvalidation_1-brier-error:0.00905\n",
      "[633]\tvalidation_0-brier-error:0.00892\tvalidation_1-brier-error:0.00905\n",
      "[634]\tvalidation_0-brier-error:0.00892\tvalidation_1-brier-error:0.00905\n",
      "[635]\tvalidation_0-brier-error:0.00892\tvalidation_1-brier-error:0.00905\n",
      "[636]\tvalidation_0-brier-error:0.00892\tvalidation_1-brier-error:0.00905\n",
      "[637]\tvalidation_0-brier-error:0.00892\tvalidation_1-brier-error:0.00905\n",
      "[638]\tvalidation_0-brier-error:0.00892\tvalidation_1-brier-error:0.00905\n",
      "[639]\tvalidation_0-brier-error:0.00892\tvalidation_1-brier-error:0.00905\n",
      "[640]\tvalidation_0-brier-error:0.00892\tvalidation_1-brier-error:0.00905\n",
      "[641]\tvalidation_0-brier-error:0.00892\tvalidation_1-brier-error:0.00905\n",
      "[642]\tvalidation_0-brier-error:0.00892\tvalidation_1-brier-error:0.00905\n",
      "[643]\tvalidation_0-brier-error:0.00892\tvalidation_1-brier-error:0.00905\n",
      "[644]\tvalidation_0-brier-error:0.00892\tvalidation_1-brier-error:0.00905\n",
      "[645]\tvalidation_0-brier-error:0.00892\tvalidation_1-brier-error:0.00905\n",
      "[646]\tvalidation_0-brier-error:0.00892\tvalidation_1-brier-error:0.00905\n",
      "[647]\tvalidation_0-brier-error:0.00892\tvalidation_1-brier-error:0.00905\n",
      "[648]\tvalidation_0-brier-error:0.00891\tvalidation_1-brier-error:0.00905\n",
      "[649]\tvalidation_0-brier-error:0.00891\tvalidation_1-brier-error:0.00905\n",
      "[650]\tvalidation_0-brier-error:0.00891\tvalidation_1-brier-error:0.00905\n",
      "[651]\tvalidation_0-brier-error:0.00891\tvalidation_1-brier-error:0.00905\n",
      "[652]\tvalidation_0-brier-error:0.00891\tvalidation_1-brier-error:0.00905\n",
      "[653]\tvalidation_0-brier-error:0.00891\tvalidation_1-brier-error:0.00905\n",
      "[654]\tvalidation_0-brier-error:0.00891\tvalidation_1-brier-error:0.00905\n",
      "[655]\tvalidation_0-brier-error:0.00891\tvalidation_1-brier-error:0.00905\n",
      "[656]\tvalidation_0-brier-error:0.00891\tvalidation_1-brier-error:0.00905\n",
      "[657]\tvalidation_0-brier-error:0.00891\tvalidation_1-brier-error:0.00905\n",
      "[658]\tvalidation_0-brier-error:0.00891\tvalidation_1-brier-error:0.00905\n",
      "[659]\tvalidation_0-brier-error:0.00891\tvalidation_1-brier-error:0.00905\n",
      "[660]\tvalidation_0-brier-error:0.00891\tvalidation_1-brier-error:0.00905\n",
      "[661]\tvalidation_0-brier-error:0.00891\tvalidation_1-brier-error:0.00905\n",
      "[662]\tvalidation_0-brier-error:0.00891\tvalidation_1-brier-error:0.00904\n",
      "[663]\tvalidation_0-brier-error:0.00891\tvalidation_1-brier-error:0.00904\n",
      "[664]\tvalidation_0-brier-error:0.00891\tvalidation_1-brier-error:0.00904\n",
      "[665]\tvalidation_0-brier-error:0.00891\tvalidation_1-brier-error:0.00904\n",
      "[666]\tvalidation_0-brier-error:0.00891\tvalidation_1-brier-error:0.00904\n",
      "[667]\tvalidation_0-brier-error:0.00891\tvalidation_1-brier-error:0.00904\n",
      "[668]\tvalidation_0-brier-error:0.00891\tvalidation_1-brier-error:0.00904\n",
      "[669]\tvalidation_0-brier-error:0.00891\tvalidation_1-brier-error:0.00904\n",
      "[670]\tvalidation_0-brier-error:0.00891\tvalidation_1-brier-error:0.00904\n",
      "[671]\tvalidation_0-brier-error:0.00891\tvalidation_1-brier-error:0.00904\n",
      "[672]\tvalidation_0-brier-error:0.00891\tvalidation_1-brier-error:0.00904\n",
      "[673]\tvalidation_0-brier-error:0.00891\tvalidation_1-brier-error:0.00904\n",
      "[674]\tvalidation_0-brier-error:0.00891\tvalidation_1-brier-error:0.00904\n",
      "[675]\tvalidation_0-brier-error:0.00891\tvalidation_1-brier-error:0.00904\n",
      "[676]\tvalidation_0-brier-error:0.00891\tvalidation_1-brier-error:0.00904\n",
      "[677]\tvalidation_0-brier-error:0.00891\tvalidation_1-brier-error:0.00904\n",
      "[678]\tvalidation_0-brier-error:0.00891\tvalidation_1-brier-error:0.00904\n",
      "[679]\tvalidation_0-brier-error:0.00891\tvalidation_1-brier-error:0.00904\n",
      "[680]\tvalidation_0-brier-error:0.00891\tvalidation_1-brier-error:0.00904\n",
      "[681]\tvalidation_0-brier-error:0.00891\tvalidation_1-brier-error:0.00904\n",
      "[682]\tvalidation_0-brier-error:0.00891\tvalidation_1-brier-error:0.00904\n",
      "[683]\tvalidation_0-brier-error:0.00891\tvalidation_1-brier-error:0.00904\n",
      "[684]\tvalidation_0-brier-error:0.00891\tvalidation_1-brier-error:0.00904\n",
      "[685]\tvalidation_0-brier-error:0.00891\tvalidation_1-brier-error:0.00904\n",
      "[686]\tvalidation_0-brier-error:0.00890\tvalidation_1-brier-error:0.00904\n",
      "[687]\tvalidation_0-brier-error:0.00890\tvalidation_1-brier-error:0.00904\n",
      "[688]\tvalidation_0-brier-error:0.00890\tvalidation_1-brier-error:0.00904\n",
      "[689]\tvalidation_0-brier-error:0.00890\tvalidation_1-brier-error:0.00904\n",
      "[690]\tvalidation_0-brier-error:0.00890\tvalidation_1-brier-error:0.00904\n",
      "[691]\tvalidation_0-brier-error:0.00890\tvalidation_1-brier-error:0.00904\n",
      "[692]\tvalidation_0-brier-error:0.00890\tvalidation_1-brier-error:0.00904\n",
      "[693]\tvalidation_0-brier-error:0.00890\tvalidation_1-brier-error:0.00904\n",
      "[694]\tvalidation_0-brier-error:0.00890\tvalidation_1-brier-error:0.00904\n",
      "[695]\tvalidation_0-brier-error:0.00890\tvalidation_1-brier-error:0.00904\n",
      "[696]\tvalidation_0-brier-error:0.00890\tvalidation_1-brier-error:0.00904\n",
      "[697]\tvalidation_0-brier-error:0.00890\tvalidation_1-brier-error:0.00904\n",
      "[698]\tvalidation_0-brier-error:0.00890\tvalidation_1-brier-error:0.00904\n",
      "[699]\tvalidation_0-brier-error:0.00890\tvalidation_1-brier-error:0.00904\n",
      "[700]\tvalidation_0-brier-error:0.00890\tvalidation_1-brier-error:0.00904\n",
      "[701]\tvalidation_0-brier-error:0.00890\tvalidation_1-brier-error:0.00904\n",
      "[702]\tvalidation_0-brier-error:0.00890\tvalidation_1-brier-error:0.00904\n",
      "[703]\tvalidation_0-brier-error:0.00890\tvalidation_1-brier-error:0.00904\n",
      "[704]\tvalidation_0-brier-error:0.00890\tvalidation_1-brier-error:0.00904\n",
      "[705]\tvalidation_0-brier-error:0.00890\tvalidation_1-brier-error:0.00904\n",
      "[706]\tvalidation_0-brier-error:0.00890\tvalidation_1-brier-error:0.00904\n",
      "[707]\tvalidation_0-brier-error:0.00890\tvalidation_1-brier-error:0.00904\n",
      "[708]\tvalidation_0-brier-error:0.00890\tvalidation_1-brier-error:0.00904\n",
      "[709]\tvalidation_0-brier-error:0.00890\tvalidation_1-brier-error:0.00904\n",
      "[710]\tvalidation_0-brier-error:0.00890\tvalidation_1-brier-error:0.00904\n",
      "[711]\tvalidation_0-brier-error:0.00890\tvalidation_1-brier-error:0.00904\n",
      "[712]\tvalidation_0-brier-error:0.00890\tvalidation_1-brier-error:0.00904\n",
      "[713]\tvalidation_0-brier-error:0.00890\tvalidation_1-brier-error:0.00904\n",
      "[714]\tvalidation_0-brier-error:0.00890\tvalidation_1-brier-error:0.00904\n",
      "[715]\tvalidation_0-brier-error:0.00890\tvalidation_1-brier-error:0.00904\n",
      "[716]\tvalidation_0-brier-error:0.00890\tvalidation_1-brier-error:0.00904\n",
      "[717]\tvalidation_0-brier-error:0.00890\tvalidation_1-brier-error:0.00904\n",
      "[718]\tvalidation_0-brier-error:0.00890\tvalidation_1-brier-error:0.00904\n",
      "[719]\tvalidation_0-brier-error:0.00890\tvalidation_1-brier-error:0.00904\n",
      "[720]\tvalidation_0-brier-error:0.00890\tvalidation_1-brier-error:0.00904\n",
      "[721]\tvalidation_0-brier-error:0.00890\tvalidation_1-brier-error:0.00904\n",
      "[722]\tvalidation_0-brier-error:0.00890\tvalidation_1-brier-error:0.00904\n",
      "[723]\tvalidation_0-brier-error:0.00889\tvalidation_1-brier-error:0.00904\n",
      "[724]\tvalidation_0-brier-error:0.00889\tvalidation_1-brier-error:0.00904\n",
      "[725]\tvalidation_0-brier-error:0.00889\tvalidation_1-brier-error:0.00904\n",
      "[726]\tvalidation_0-brier-error:0.00889\tvalidation_1-brier-error:0.00904\n",
      "[727]\tvalidation_0-brier-error:0.00889\tvalidation_1-brier-error:0.00904\n",
      "[728]\tvalidation_0-brier-error:0.00889\tvalidation_1-brier-error:0.00904\n",
      "[729]\tvalidation_0-brier-error:0.00889\tvalidation_1-brier-error:0.00904\n",
      "[730]\tvalidation_0-brier-error:0.00889\tvalidation_1-brier-error:0.00904\n",
      "[731]\tvalidation_0-brier-error:0.00889\tvalidation_1-brier-error:0.00904\n",
      "[732]\tvalidation_0-brier-error:0.00889\tvalidation_1-brier-error:0.00904\n",
      "[733]\tvalidation_0-brier-error:0.00889\tvalidation_1-brier-error:0.00904\n",
      "[734]\tvalidation_0-brier-error:0.00889\tvalidation_1-brier-error:0.00904\n",
      "[735]\tvalidation_0-brier-error:0.00889\tvalidation_1-brier-error:0.00904\n",
      "[736]\tvalidation_0-brier-error:0.00889\tvalidation_1-brier-error:0.00904\n",
      "[737]\tvalidation_0-brier-error:0.00889\tvalidation_1-brier-error:0.00904\n",
      "[738]\tvalidation_0-brier-error:0.00889\tvalidation_1-brier-error:0.00904\n",
      "[739]\tvalidation_0-brier-error:0.00889\tvalidation_1-brier-error:0.00904\n",
      "[740]\tvalidation_0-brier-error:0.00889\tvalidation_1-brier-error:0.00904\n",
      "[741]\tvalidation_0-brier-error:0.00889\tvalidation_1-brier-error:0.00904\n",
      "[742]\tvalidation_0-brier-error:0.00889\tvalidation_1-brier-error:0.00904\n",
      "[743]\tvalidation_0-brier-error:0.00889\tvalidation_1-brier-error:0.00904\n",
      "[744]\tvalidation_0-brier-error:0.00889\tvalidation_1-brier-error:0.00904\n",
      "[745]\tvalidation_0-brier-error:0.00889\tvalidation_1-brier-error:0.00904\n",
      "[746]\tvalidation_0-brier-error:0.00889\tvalidation_1-brier-error:0.00904\n",
      "[747]\tvalidation_0-brier-error:0.00889\tvalidation_1-brier-error:0.00904\n",
      "[748]\tvalidation_0-brier-error:0.00889\tvalidation_1-brier-error:0.00904\n",
      "[749]\tvalidation_0-brier-error:0.00889\tvalidation_1-brier-error:0.00904\n",
      "[750]\tvalidation_0-brier-error:0.00889\tvalidation_1-brier-error:0.00904\n",
      "[751]\tvalidation_0-brier-error:0.00889\tvalidation_1-brier-error:0.00904\n",
      "[752]\tvalidation_0-brier-error:0.00888\tvalidation_1-brier-error:0.00904\n",
      "[753]\tvalidation_0-brier-error:0.00888\tvalidation_1-brier-error:0.00904\n",
      "[754]\tvalidation_0-brier-error:0.00888\tvalidation_1-brier-error:0.00904\n",
      "[755]\tvalidation_0-brier-error:0.00888\tvalidation_1-brier-error:0.00904\n",
      "[756]\tvalidation_0-brier-error:0.00888\tvalidation_1-brier-error:0.00904\n",
      "[757]\tvalidation_0-brier-error:0.00888\tvalidation_1-brier-error:0.00904\n",
      "[758]\tvalidation_0-brier-error:0.00888\tvalidation_1-brier-error:0.00904\n",
      "[759]\tvalidation_0-brier-error:0.00888\tvalidation_1-brier-error:0.00904\n",
      "[760]\tvalidation_0-brier-error:0.00888\tvalidation_1-brier-error:0.00903\n",
      "[761]\tvalidation_0-brier-error:0.00888\tvalidation_1-brier-error:0.00903\n",
      "[762]\tvalidation_0-brier-error:0.00888\tvalidation_1-brier-error:0.00903\n",
      "[763]\tvalidation_0-brier-error:0.00888\tvalidation_1-brier-error:0.00903\n",
      "[764]\tvalidation_0-brier-error:0.00888\tvalidation_1-brier-error:0.00903\n",
      "[765]\tvalidation_0-brier-error:0.00888\tvalidation_1-brier-error:0.00903\n",
      "[766]\tvalidation_0-brier-error:0.00888\tvalidation_1-brier-error:0.00903\n",
      "[767]\tvalidation_0-brier-error:0.00888\tvalidation_1-brier-error:0.00903\n",
      "[768]\tvalidation_0-brier-error:0.00888\tvalidation_1-brier-error:0.00903\n",
      "[769]\tvalidation_0-brier-error:0.00888\tvalidation_1-brier-error:0.00903\n",
      "[770]\tvalidation_0-brier-error:0.00888\tvalidation_1-brier-error:0.00903\n",
      "[771]\tvalidation_0-brier-error:0.00888\tvalidation_1-brier-error:0.00903\n",
      "[772]\tvalidation_0-brier-error:0.00888\tvalidation_1-brier-error:0.00903\n",
      "[773]\tvalidation_0-brier-error:0.00888\tvalidation_1-brier-error:0.00903\n",
      "[774]\tvalidation_0-brier-error:0.00888\tvalidation_1-brier-error:0.00903\n",
      "[775]\tvalidation_0-brier-error:0.00888\tvalidation_1-brier-error:0.00903\n",
      "[776]\tvalidation_0-brier-error:0.00888\tvalidation_1-brier-error:0.00903\n",
      "[777]\tvalidation_0-brier-error:0.00888\tvalidation_1-brier-error:0.00903\n",
      "[778]\tvalidation_0-brier-error:0.00888\tvalidation_1-brier-error:0.00903\n",
      "[779]\tvalidation_0-brier-error:0.00888\tvalidation_1-brier-error:0.00903\n",
      "[780]\tvalidation_0-brier-error:0.00888\tvalidation_1-brier-error:0.00903\n",
      "[781]\tvalidation_0-brier-error:0.00888\tvalidation_1-brier-error:0.00903\n",
      "[782]\tvalidation_0-brier-error:0.00888\tvalidation_1-brier-error:0.00903\n",
      "[783]\tvalidation_0-brier-error:0.00888\tvalidation_1-brier-error:0.00903\n",
      "[784]\tvalidation_0-brier-error:0.00888\tvalidation_1-brier-error:0.00903\n",
      "[785]\tvalidation_0-brier-error:0.00888\tvalidation_1-brier-error:0.00903\n",
      "[786]\tvalidation_0-brier-error:0.00887\tvalidation_1-brier-error:0.00903\n",
      "[787]\tvalidation_0-brier-error:0.00887\tvalidation_1-brier-error:0.00903\n",
      "[788]\tvalidation_0-brier-error:0.00887\tvalidation_1-brier-error:0.00903\n",
      "[789]\tvalidation_0-brier-error:0.00887\tvalidation_1-brier-error:0.00903\n",
      "[790]\tvalidation_0-brier-error:0.00887\tvalidation_1-brier-error:0.00903\n",
      "[791]\tvalidation_0-brier-error:0.00887\tvalidation_1-brier-error:0.00903\n",
      "[792]\tvalidation_0-brier-error:0.00887\tvalidation_1-brier-error:0.00903\n",
      "[793]\tvalidation_0-brier-error:0.00887\tvalidation_1-brier-error:0.00903\n",
      "[794]\tvalidation_0-brier-error:0.00887\tvalidation_1-brier-error:0.00903\n",
      "[795]\tvalidation_0-brier-error:0.00887\tvalidation_1-brier-error:0.00903\n",
      "[796]\tvalidation_0-brier-error:0.00887\tvalidation_1-brier-error:0.00903\n",
      "[797]\tvalidation_0-brier-error:0.00887\tvalidation_1-brier-error:0.00903\n",
      "[798]\tvalidation_0-brier-error:0.00887\tvalidation_1-brier-error:0.00903\n",
      "[799]\tvalidation_0-brier-error:0.00887\tvalidation_1-brier-error:0.00903\n",
      "[800]\tvalidation_0-brier-error:0.00887\tvalidation_1-brier-error:0.00903\n",
      "[801]\tvalidation_0-brier-error:0.00887\tvalidation_1-brier-error:0.00903\n",
      "[802]\tvalidation_0-brier-error:0.00887\tvalidation_1-brier-error:0.00903\n",
      "[803]\tvalidation_0-brier-error:0.00887\tvalidation_1-brier-error:0.00903\n",
      "[804]\tvalidation_0-brier-error:0.00887\tvalidation_1-brier-error:0.00903\n",
      "[805]\tvalidation_0-brier-error:0.00887\tvalidation_1-brier-error:0.00903\n",
      "[806]\tvalidation_0-brier-error:0.00887\tvalidation_1-brier-error:0.00903\n",
      "[807]\tvalidation_0-brier-error:0.00887\tvalidation_1-brier-error:0.00903\n",
      "[808]\tvalidation_0-brier-error:0.00887\tvalidation_1-brier-error:0.00903\n",
      "[809]\tvalidation_0-brier-error:0.00887\tvalidation_1-brier-error:0.00903\n",
      "[810]\tvalidation_0-brier-error:0.00887\tvalidation_1-brier-error:0.00903\n",
      "[811]\tvalidation_0-brier-error:0.00887\tvalidation_1-brier-error:0.00903\n",
      "[812]\tvalidation_0-brier-error:0.00887\tvalidation_1-brier-error:0.00903\n",
      "[813]\tvalidation_0-brier-error:0.00887\tvalidation_1-brier-error:0.00903\n",
      "[814]\tvalidation_0-brier-error:0.00887\tvalidation_1-brier-error:0.00903\n",
      "[815]\tvalidation_0-brier-error:0.00887\tvalidation_1-brier-error:0.00903\n",
      "[816]\tvalidation_0-brier-error:0.00887\tvalidation_1-brier-error:0.00903\n",
      "[817]\tvalidation_0-brier-error:0.00887\tvalidation_1-brier-error:0.00903\n",
      "[818]\tvalidation_0-brier-error:0.00887\tvalidation_1-brier-error:0.00903\n",
      "[819]\tvalidation_0-brier-error:0.00887\tvalidation_1-brier-error:0.00903\n",
      "[820]\tvalidation_0-brier-error:0.00887\tvalidation_1-brier-error:0.00903\n",
      "[821]\tvalidation_0-brier-error:0.00887\tvalidation_1-brier-error:0.00903\n",
      "[822]\tvalidation_0-brier-error:0.00887\tvalidation_1-brier-error:0.00903\n",
      "[823]\tvalidation_0-brier-error:0.00887\tvalidation_1-brier-error:0.00903\n",
      "[824]\tvalidation_0-brier-error:0.00887\tvalidation_1-brier-error:0.00903\n",
      "[825]\tvalidation_0-brier-error:0.00887\tvalidation_1-brier-error:0.00903\n",
      "[826]\tvalidation_0-brier-error:0.00887\tvalidation_1-brier-error:0.00903\n",
      "[827]\tvalidation_0-brier-error:0.00887\tvalidation_1-brier-error:0.00903\n",
      "[828]\tvalidation_0-brier-error:0.00886\tvalidation_1-brier-error:0.00903\n",
      "[829]\tvalidation_0-brier-error:0.00886\tvalidation_1-brier-error:0.00903\n",
      "[830]\tvalidation_0-brier-error:0.00886\tvalidation_1-brier-error:0.00903\n",
      "[831]\tvalidation_0-brier-error:0.00886\tvalidation_1-brier-error:0.00903\n",
      "[832]\tvalidation_0-brier-error:0.00886\tvalidation_1-brier-error:0.00903\n",
      "[833]\tvalidation_0-brier-error:0.00886\tvalidation_1-brier-error:0.00903\n",
      "[834]\tvalidation_0-brier-error:0.00886\tvalidation_1-brier-error:0.00903\n",
      "[835]\tvalidation_0-brier-error:0.00886\tvalidation_1-brier-error:0.00903\n",
      "[836]\tvalidation_0-brier-error:0.00886\tvalidation_1-brier-error:0.00903\n",
      "[837]\tvalidation_0-brier-error:0.00886\tvalidation_1-brier-error:0.00903\n",
      "[838]\tvalidation_0-brier-error:0.00886\tvalidation_1-brier-error:0.00903\n",
      "[839]\tvalidation_0-brier-error:0.00886\tvalidation_1-brier-error:0.00903\n",
      "[840]\tvalidation_0-brier-error:0.00886\tvalidation_1-brier-error:0.00903\n",
      "[841]\tvalidation_0-brier-error:0.00886\tvalidation_1-brier-error:0.00903\n",
      "[842]\tvalidation_0-brier-error:0.00886\tvalidation_1-brier-error:0.00903\n",
      "[843]\tvalidation_0-brier-error:0.00886\tvalidation_1-brier-error:0.00903\n",
      "[844]\tvalidation_0-brier-error:0.00886\tvalidation_1-brier-error:0.00903\n",
      "[845]\tvalidation_0-brier-error:0.00886\tvalidation_1-brier-error:0.00903\n",
      "[846]\tvalidation_0-brier-error:0.00886\tvalidation_1-brier-error:0.00903\n",
      "[847]\tvalidation_0-brier-error:0.00886\tvalidation_1-brier-error:0.00903\n",
      "[848]\tvalidation_0-brier-error:0.00886\tvalidation_1-brier-error:0.00903\n",
      "[849]\tvalidation_0-brier-error:0.00886\tvalidation_1-brier-error:0.00903\n",
      "[850]\tvalidation_0-brier-error:0.00886\tvalidation_1-brier-error:0.00903\n",
      "[851]\tvalidation_0-brier-error:0.00886\tvalidation_1-brier-error:0.00903\n",
      "[852]\tvalidation_0-brier-error:0.00886\tvalidation_1-brier-error:0.00903\n",
      "[853]\tvalidation_0-brier-error:0.00886\tvalidation_1-brier-error:0.00903\n",
      "[854]\tvalidation_0-brier-error:0.00886\tvalidation_1-brier-error:0.00903\n",
      "[855]\tvalidation_0-brier-error:0.00886\tvalidation_1-brier-error:0.00903\n",
      "[856]\tvalidation_0-brier-error:0.00886\tvalidation_1-brier-error:0.00903\n",
      "[857]\tvalidation_0-brier-error:0.00886\tvalidation_1-brier-error:0.00903\n",
      "[858]\tvalidation_0-brier-error:0.00886\tvalidation_1-brier-error:0.00903\n",
      "[859]\tvalidation_0-brier-error:0.00886\tvalidation_1-brier-error:0.00903\n",
      "[860]\tvalidation_0-brier-error:0.00886\tvalidation_1-brier-error:0.00903\n",
      "[861]\tvalidation_0-brier-error:0.00886\tvalidation_1-brier-error:0.00903\n",
      "[862]\tvalidation_0-brier-error:0.00886\tvalidation_1-brier-error:0.00903\n",
      "[863]\tvalidation_0-brier-error:0.00886\tvalidation_1-brier-error:0.00903\n",
      "[864]\tvalidation_0-brier-error:0.00886\tvalidation_1-brier-error:0.00903\n",
      "[865]\tvalidation_0-brier-error:0.00886\tvalidation_1-brier-error:0.00903\n",
      "[866]\tvalidation_0-brier-error:0.00886\tvalidation_1-brier-error:0.00903\n",
      "[867]\tvalidation_0-brier-error:0.00886\tvalidation_1-brier-error:0.00903\n",
      "[868]\tvalidation_0-brier-error:0.00886\tvalidation_1-brier-error:0.00903\n",
      "[869]\tvalidation_0-brier-error:0.00885\tvalidation_1-brier-error:0.00903\n",
      "[870]\tvalidation_0-brier-error:0.00885\tvalidation_1-brier-error:0.00903\n",
      "[871]\tvalidation_0-brier-error:0.00885\tvalidation_1-brier-error:0.00903\n",
      "[872]\tvalidation_0-brier-error:0.00885\tvalidation_1-brier-error:0.00903\n",
      "[873]\tvalidation_0-brier-error:0.00885\tvalidation_1-brier-error:0.00903\n",
      "[874]\tvalidation_0-brier-error:0.00885\tvalidation_1-brier-error:0.00903\n",
      "[875]\tvalidation_0-brier-error:0.00885\tvalidation_1-brier-error:0.00903\n",
      "[876]\tvalidation_0-brier-error:0.00885\tvalidation_1-brier-error:0.00903\n",
      "[877]\tvalidation_0-brier-error:0.00885\tvalidation_1-brier-error:0.00903\n",
      "[878]\tvalidation_0-brier-error:0.00885\tvalidation_1-brier-error:0.00903\n",
      "[879]\tvalidation_0-brier-error:0.00885\tvalidation_1-brier-error:0.00903\n",
      "[880]\tvalidation_0-brier-error:0.00885\tvalidation_1-brier-error:0.00903\n",
      "[881]\tvalidation_0-brier-error:0.00885\tvalidation_1-brier-error:0.00903\n",
      "[882]\tvalidation_0-brier-error:0.00885\tvalidation_1-brier-error:0.00903\n",
      "[883]\tvalidation_0-brier-error:0.00885\tvalidation_1-brier-error:0.00903\n",
      "[884]\tvalidation_0-brier-error:0.00885\tvalidation_1-brier-error:0.00903\n",
      "[885]\tvalidation_0-brier-error:0.00885\tvalidation_1-brier-error:0.00903\n",
      "[886]\tvalidation_0-brier-error:0.00885\tvalidation_1-brier-error:0.00903\n",
      "[887]\tvalidation_0-brier-error:0.00885\tvalidation_1-brier-error:0.00903\n",
      "[888]\tvalidation_0-brier-error:0.00885\tvalidation_1-brier-error:0.00903\n",
      "[889]\tvalidation_0-brier-error:0.00885\tvalidation_1-brier-error:0.00903\n",
      "[890]\tvalidation_0-brier-error:0.00885\tvalidation_1-brier-error:0.00903\n",
      "[891]\tvalidation_0-brier-error:0.00885\tvalidation_1-brier-error:0.00903\n",
      "[892]\tvalidation_0-brier-error:0.00885\tvalidation_1-brier-error:0.00903\n",
      "[893]\tvalidation_0-brier-error:0.00885\tvalidation_1-brier-error:0.00903\n",
      "[894]\tvalidation_0-brier-error:0.00885\tvalidation_1-brier-error:0.00903\n",
      "[895]\tvalidation_0-brier-error:0.00885\tvalidation_1-brier-error:0.00903\n",
      "[896]\tvalidation_0-brier-error:0.00885\tvalidation_1-brier-error:0.00903\n",
      "[897]\tvalidation_0-brier-error:0.00885\tvalidation_1-brier-error:0.00903\n",
      "[898]\tvalidation_0-brier-error:0.00885\tvalidation_1-brier-error:0.00903\n",
      "[899]\tvalidation_0-brier-error:0.00885\tvalidation_1-brier-error:0.00903\n",
      "[900]\tvalidation_0-brier-error:0.00885\tvalidation_1-brier-error:0.00903\n",
      "[901]\tvalidation_0-brier-error:0.00885\tvalidation_1-brier-error:0.00903\n",
      "[902]\tvalidation_0-brier-error:0.00885\tvalidation_1-brier-error:0.00903\n",
      "[903]\tvalidation_0-brier-error:0.00885\tvalidation_1-brier-error:0.00903\n",
      "[904]\tvalidation_0-brier-error:0.00885\tvalidation_1-brier-error:0.00903\n",
      "[905]\tvalidation_0-brier-error:0.00885\tvalidation_1-brier-error:0.00903\n",
      "[906]\tvalidation_0-brier-error:0.00885\tvalidation_1-brier-error:0.00903\n",
      "[907]\tvalidation_0-brier-error:0.00885\tvalidation_1-brier-error:0.00903\n",
      "[908]\tvalidation_0-brier-error:0.00885\tvalidation_1-brier-error:0.00903\n",
      "[909]\tvalidation_0-brier-error:0.00885\tvalidation_1-brier-error:0.00903\n",
      "[910]\tvalidation_0-brier-error:0.00885\tvalidation_1-brier-error:0.00903\n",
      "[911]\tvalidation_0-brier-error:0.00885\tvalidation_1-brier-error:0.00903\n",
      "[912]\tvalidation_0-brier-error:0.00884\tvalidation_1-brier-error:0.00903\n",
      "[913]\tvalidation_0-brier-error:0.00884\tvalidation_1-brier-error:0.00903\n",
      "[914]\tvalidation_0-brier-error:0.00884\tvalidation_1-brier-error:0.00903\n",
      "[915]\tvalidation_0-brier-error:0.00884\tvalidation_1-brier-error:0.00903\n",
      "[916]\tvalidation_0-brier-error:0.00884\tvalidation_1-brier-error:0.00903\n",
      "[917]\tvalidation_0-brier-error:0.00884\tvalidation_1-brier-error:0.00903\n",
      "[918]\tvalidation_0-brier-error:0.00884\tvalidation_1-brier-error:0.00903\n",
      "[919]\tvalidation_0-brier-error:0.00884\tvalidation_1-brier-error:0.00903\n",
      "[920]\tvalidation_0-brier-error:0.00884\tvalidation_1-brier-error:0.00903\n",
      "[921]\tvalidation_0-brier-error:0.00884\tvalidation_1-brier-error:0.00903\n",
      "[922]\tvalidation_0-brier-error:0.00884\tvalidation_1-brier-error:0.00903\n",
      "[923]\tvalidation_0-brier-error:0.00884\tvalidation_1-brier-error:0.00903\n",
      "[924]\tvalidation_0-brier-error:0.00884\tvalidation_1-brier-error:0.00903\n",
      "[925]\tvalidation_0-brier-error:0.00884\tvalidation_1-brier-error:0.00903\n",
      "[926]\tvalidation_0-brier-error:0.00884\tvalidation_1-brier-error:0.00903\n",
      "[927]\tvalidation_0-brier-error:0.00884\tvalidation_1-brier-error:0.00903\n",
      "[928]\tvalidation_0-brier-error:0.00884\tvalidation_1-brier-error:0.00903\n",
      "[929]\tvalidation_0-brier-error:0.00884\tvalidation_1-brier-error:0.00903\n",
      "[930]\tvalidation_0-brier-error:0.00884\tvalidation_1-brier-error:0.00903\n",
      "[931]\tvalidation_0-brier-error:0.00884\tvalidation_1-brier-error:0.00903\n",
      "[932]\tvalidation_0-brier-error:0.00884\tvalidation_1-brier-error:0.00903\n",
      "[933]\tvalidation_0-brier-error:0.00884\tvalidation_1-brier-error:0.00903\n",
      "[934]\tvalidation_0-brier-error:0.00884\tvalidation_1-brier-error:0.00903\n",
      "[935]\tvalidation_0-brier-error:0.00884\tvalidation_1-brier-error:0.00903\n",
      "[936]\tvalidation_0-brier-error:0.00884\tvalidation_1-brier-error:0.00903\n",
      "[937]\tvalidation_0-brier-error:0.00884\tvalidation_1-brier-error:0.00903\n",
      "[938]\tvalidation_0-brier-error:0.00884\tvalidation_1-brier-error:0.00903\n",
      "[939]\tvalidation_0-brier-error:0.00884\tvalidation_1-brier-error:0.00903\n",
      "[940]\tvalidation_0-brier-error:0.00884\tvalidation_1-brier-error:0.00903\n",
      "[941]\tvalidation_0-brier-error:0.00884\tvalidation_1-brier-error:0.00902\n",
      "[942]\tvalidation_0-brier-error:0.00884\tvalidation_1-brier-error:0.00902\n",
      "[943]\tvalidation_0-brier-error:0.00884\tvalidation_1-brier-error:0.00903\n",
      "[944]\tvalidation_0-brier-error:0.00884\tvalidation_1-brier-error:0.00902\n",
      "[945]\tvalidation_0-brier-error:0.00884\tvalidation_1-brier-error:0.00902\n",
      "[946]\tvalidation_0-brier-error:0.00884\tvalidation_1-brier-error:0.00902\n",
      "[947]\tvalidation_0-brier-error:0.00884\tvalidation_1-brier-error:0.00902\n",
      "[948]\tvalidation_0-brier-error:0.00884\tvalidation_1-brier-error:0.00902\n",
      "[949]\tvalidation_0-brier-error:0.00884\tvalidation_1-brier-error:0.00902\n",
      "[950]\tvalidation_0-brier-error:0.00884\tvalidation_1-brier-error:0.00902\n",
      "[951]\tvalidation_0-brier-error:0.00884\tvalidation_1-brier-error:0.00902\n",
      "[952]\tvalidation_0-brier-error:0.00884\tvalidation_1-brier-error:0.00902\n",
      "[953]\tvalidation_0-brier-error:0.00884\tvalidation_1-brier-error:0.00902\n",
      "[954]\tvalidation_0-brier-error:0.00884\tvalidation_1-brier-error:0.00902\n",
      "[955]\tvalidation_0-brier-error:0.00884\tvalidation_1-brier-error:0.00902\n",
      "[956]\tvalidation_0-brier-error:0.00884\tvalidation_1-brier-error:0.00902\n",
      "[957]\tvalidation_0-brier-error:0.00884\tvalidation_1-brier-error:0.00902\n",
      "[958]\tvalidation_0-brier-error:0.00883\tvalidation_1-brier-error:0.00902\n",
      "[959]\tvalidation_0-brier-error:0.00883\tvalidation_1-brier-error:0.00902\n",
      "[960]\tvalidation_0-brier-error:0.00883\tvalidation_1-brier-error:0.00902\n",
      "[961]\tvalidation_0-brier-error:0.00883\tvalidation_1-brier-error:0.00902\n",
      "[962]\tvalidation_0-brier-error:0.00883\tvalidation_1-brier-error:0.00902\n",
      "[963]\tvalidation_0-brier-error:0.00883\tvalidation_1-brier-error:0.00902\n",
      "[964]\tvalidation_0-brier-error:0.00883\tvalidation_1-brier-error:0.00902\n",
      "[965]\tvalidation_0-brier-error:0.00883\tvalidation_1-brier-error:0.00902\n",
      "[966]\tvalidation_0-brier-error:0.00883\tvalidation_1-brier-error:0.00902\n",
      "[967]\tvalidation_0-brier-error:0.00883\tvalidation_1-brier-error:0.00902\n",
      "[968]\tvalidation_0-brier-error:0.00883\tvalidation_1-brier-error:0.00902\n",
      "[969]\tvalidation_0-brier-error:0.00883\tvalidation_1-brier-error:0.00902\n",
      "[970]\tvalidation_0-brier-error:0.00883\tvalidation_1-brier-error:0.00902\n",
      "[971]\tvalidation_0-brier-error:0.00883\tvalidation_1-brier-error:0.00902\n",
      "[972]\tvalidation_0-brier-error:0.00883\tvalidation_1-brier-error:0.00902\n",
      "[973]\tvalidation_0-brier-error:0.00883\tvalidation_1-brier-error:0.00902\n",
      "[974]\tvalidation_0-brier-error:0.00883\tvalidation_1-brier-error:0.00902\n",
      "[975]\tvalidation_0-brier-error:0.00883\tvalidation_1-brier-error:0.00902\n",
      "[976]\tvalidation_0-brier-error:0.00883\tvalidation_1-brier-error:0.00902\n",
      "[977]\tvalidation_0-brier-error:0.00883\tvalidation_1-brier-error:0.00902\n",
      "[978]\tvalidation_0-brier-error:0.00883\tvalidation_1-brier-error:0.00902\n",
      "[979]\tvalidation_0-brier-error:0.00883\tvalidation_1-brier-error:0.00902\n",
      "[980]\tvalidation_0-brier-error:0.00883\tvalidation_1-brier-error:0.00902\n",
      "[981]\tvalidation_0-brier-error:0.00883\tvalidation_1-brier-error:0.00902\n",
      "[982]\tvalidation_0-brier-error:0.00883\tvalidation_1-brier-error:0.00902\n",
      "[983]\tvalidation_0-brier-error:0.00883\tvalidation_1-brier-error:0.00902\n",
      "[984]\tvalidation_0-brier-error:0.00882\tvalidation_1-brier-error:0.00902\n",
      "[985]\tvalidation_0-brier-error:0.00882\tvalidation_1-brier-error:0.00902\n",
      "[986]\tvalidation_0-brier-error:0.00882\tvalidation_1-brier-error:0.00902\n",
      "[987]\tvalidation_0-brier-error:0.00882\tvalidation_1-brier-error:0.00902\n",
      "[988]\tvalidation_0-brier-error:0.00882\tvalidation_1-brier-error:0.00902\n",
      "[989]\tvalidation_0-brier-error:0.00882\tvalidation_1-brier-error:0.00902\n",
      "[990]\tvalidation_0-brier-error:0.00882\tvalidation_1-brier-error:0.00902\n",
      "[991]\tvalidation_0-brier-error:0.00882\tvalidation_1-brier-error:0.00902\n",
      "[992]\tvalidation_0-brier-error:0.00882\tvalidation_1-brier-error:0.00902\n",
      "[993]\tvalidation_0-brier-error:0.00882\tvalidation_1-brier-error:0.00902\n",
      "[994]\tvalidation_0-brier-error:0.00882\tvalidation_1-brier-error:0.00902\n",
      "[995]\tvalidation_0-brier-error:0.00882\tvalidation_1-brier-error:0.00902\n",
      "[996]\tvalidation_0-brier-error:0.00882\tvalidation_1-brier-error:0.00902\n",
      "[997]\tvalidation_0-brier-error:0.00882\tvalidation_1-brier-error:0.00902\n",
      "[998]\tvalidation_0-brier-error:0.00882\tvalidation_1-brier-error:0.00902\n",
      "[999]\tvalidation_0-brier-error:0.00882\tvalidation_1-brier-error:0.00902\n",
      "[1000]\tvalidation_0-brier-error:0.00882\tvalidation_1-brier-error:0.00902\n",
      "[1001]\tvalidation_0-brier-error:0.00882\tvalidation_1-brier-error:0.00902\n",
      "[1002]\tvalidation_0-brier-error:0.00882\tvalidation_1-brier-error:0.00902\n",
      "[1003]\tvalidation_0-brier-error:0.00882\tvalidation_1-brier-error:0.00902\n",
      "[1004]\tvalidation_0-brier-error:0.00882\tvalidation_1-brier-error:0.00902\n",
      "[1005]\tvalidation_0-brier-error:0.00882\tvalidation_1-brier-error:0.00902\n",
      "[1006]\tvalidation_0-brier-error:0.00882\tvalidation_1-brier-error:0.00902\n",
      "[1007]\tvalidation_0-brier-error:0.00882\tvalidation_1-brier-error:0.00902\n",
      "[1008]\tvalidation_0-brier-error:0.00882\tvalidation_1-brier-error:0.00902\n",
      "[1009]\tvalidation_0-brier-error:0.00882\tvalidation_1-brier-error:0.00902\n",
      "[1010]\tvalidation_0-brier-error:0.00882\tvalidation_1-brier-error:0.00902\n",
      "[1011]\tvalidation_0-brier-error:0.00882\tvalidation_1-brier-error:0.00902\n",
      "[1012]\tvalidation_0-brier-error:0.00882\tvalidation_1-brier-error:0.00902\n",
      "[1013]\tvalidation_0-brier-error:0.00882\tvalidation_1-brier-error:0.00902\n",
      "[1014]\tvalidation_0-brier-error:0.00882\tvalidation_1-brier-error:0.00902\n",
      "[1015]\tvalidation_0-brier-error:0.00882\tvalidation_1-brier-error:0.00902\n",
      "[1016]\tvalidation_0-brier-error:0.00882\tvalidation_1-brier-error:0.00902\n",
      "[1017]\tvalidation_0-brier-error:0.00882\tvalidation_1-brier-error:0.00902\n",
      "[1018]\tvalidation_0-brier-error:0.00882\tvalidation_1-brier-error:0.00902\n",
      "[1019]\tvalidation_0-brier-error:0.00881\tvalidation_1-brier-error:0.00902\n",
      "[1020]\tvalidation_0-brier-error:0.00881\tvalidation_1-brier-error:0.00902\n",
      "[1021]\tvalidation_0-brier-error:0.00881\tvalidation_1-brier-error:0.00902\n",
      "[1022]\tvalidation_0-brier-error:0.00881\tvalidation_1-brier-error:0.00902\n",
      "[1023]\tvalidation_0-brier-error:0.00881\tvalidation_1-brier-error:0.00902\n",
      "[1024]\tvalidation_0-brier-error:0.00881\tvalidation_1-brier-error:0.00902\n",
      "[1025]\tvalidation_0-brier-error:0.00881\tvalidation_1-brier-error:0.00902\n",
      "[1026]\tvalidation_0-brier-error:0.00881\tvalidation_1-brier-error:0.00902\n",
      "[1027]\tvalidation_0-brier-error:0.00881\tvalidation_1-brier-error:0.00902\n",
      "[1028]\tvalidation_0-brier-error:0.00881\tvalidation_1-brier-error:0.00902\n",
      "[1029]\tvalidation_0-brier-error:0.00881\tvalidation_1-brier-error:0.00902\n",
      "[1030]\tvalidation_0-brier-error:0.00881\tvalidation_1-brier-error:0.00902\n",
      "[1031]\tvalidation_0-brier-error:0.00881\tvalidation_1-brier-error:0.00902\n",
      "[1032]\tvalidation_0-brier-error:0.00881\tvalidation_1-brier-error:0.00902\n",
      "[1033]\tvalidation_0-brier-error:0.00881\tvalidation_1-brier-error:0.00902\n",
      "[1034]\tvalidation_0-brier-error:0.00881\tvalidation_1-brier-error:0.00902\n",
      "[1035]\tvalidation_0-brier-error:0.00881\tvalidation_1-brier-error:0.00902\n",
      "[1036]\tvalidation_0-brier-error:0.00881\tvalidation_1-brier-error:0.00902\n",
      "[1037]\tvalidation_0-brier-error:0.00881\tvalidation_1-brier-error:0.00902\n",
      "[1038]\tvalidation_0-brier-error:0.00881\tvalidation_1-brier-error:0.00902\n",
      "[1039]\tvalidation_0-brier-error:0.00881\tvalidation_1-brier-error:0.00902\n",
      "[1040]\tvalidation_0-brier-error:0.00881\tvalidation_1-brier-error:0.00902\n",
      "[1041]\tvalidation_0-brier-error:0.00881\tvalidation_1-brier-error:0.00902\n",
      "[1042]\tvalidation_0-brier-error:0.00881\tvalidation_1-brier-error:0.00902\n",
      "[1043]\tvalidation_0-brier-error:0.00881\tvalidation_1-brier-error:0.00902\n",
      "[1044]\tvalidation_0-brier-error:0.00881\tvalidation_1-brier-error:0.00902\n",
      "[1045]\tvalidation_0-brier-error:0.00881\tvalidation_1-brier-error:0.00902\n",
      "[1046]\tvalidation_0-brier-error:0.00881\tvalidation_1-brier-error:0.00902\n",
      "[1047]\tvalidation_0-brier-error:0.00881\tvalidation_1-brier-error:0.00902\n",
      "[1048]\tvalidation_0-brier-error:0.00881\tvalidation_1-brier-error:0.00902\n",
      "[1049]\tvalidation_0-brier-error:0.00881\tvalidation_1-brier-error:0.00902\n",
      "[1050]\tvalidation_0-brier-error:0.00881\tvalidation_1-brier-error:0.00902\n",
      "[1051]\tvalidation_0-brier-error:0.00880\tvalidation_1-brier-error:0.00902\n",
      "[1052]\tvalidation_0-brier-error:0.00880\tvalidation_1-brier-error:0.00902\n",
      "[1053]\tvalidation_0-brier-error:0.00880\tvalidation_1-brier-error:0.00902\n",
      "[1054]\tvalidation_0-brier-error:0.00880\tvalidation_1-brier-error:0.00902\n",
      "[1055]\tvalidation_0-brier-error:0.00880\tvalidation_1-brier-error:0.00902\n",
      "[1056]\tvalidation_0-brier-error:0.00880\tvalidation_1-brier-error:0.00902\n",
      "[1057]\tvalidation_0-brier-error:0.00880\tvalidation_1-brier-error:0.00902\n",
      "[1058]\tvalidation_0-brier-error:0.00880\tvalidation_1-brier-error:0.00902\n",
      "[1059]\tvalidation_0-brier-error:0.00880\tvalidation_1-brier-error:0.00902\n",
      "[1060]\tvalidation_0-brier-error:0.00880\tvalidation_1-brier-error:0.00902\n",
      "[1061]\tvalidation_0-brier-error:0.00880\tvalidation_1-brier-error:0.00902\n",
      "[1062]\tvalidation_0-brier-error:0.00880\tvalidation_1-brier-error:0.00902\n",
      "[1063]\tvalidation_0-brier-error:0.00880\tvalidation_1-brier-error:0.00902\n",
      "[1064]\tvalidation_0-brier-error:0.00880\tvalidation_1-brier-error:0.00902\n",
      "[1065]\tvalidation_0-brier-error:0.00880\tvalidation_1-brier-error:0.00902\n",
      "[1066]\tvalidation_0-brier-error:0.00880\tvalidation_1-brier-error:0.00902\n",
      "[1067]\tvalidation_0-brier-error:0.00880\tvalidation_1-brier-error:0.00902\n",
      "[1068]\tvalidation_0-brier-error:0.00880\tvalidation_1-brier-error:0.00902\n",
      "[1069]\tvalidation_0-brier-error:0.00880\tvalidation_1-brier-error:0.00902\n",
      "[1070]\tvalidation_0-brier-error:0.00880\tvalidation_1-brier-error:0.00902\n",
      "[1071]\tvalidation_0-brier-error:0.00880\tvalidation_1-brier-error:0.00902\n",
      "[1072]\tvalidation_0-brier-error:0.00880\tvalidation_1-brier-error:0.00902\n",
      "[1073]\tvalidation_0-brier-error:0.00880\tvalidation_1-brier-error:0.00902\n",
      "[1074]\tvalidation_0-brier-error:0.00880\tvalidation_1-brier-error:0.00902\n",
      "[1075]\tvalidation_0-brier-error:0.00880\tvalidation_1-brier-error:0.00902\n",
      "[1076]\tvalidation_0-brier-error:0.00880\tvalidation_1-brier-error:0.00902\n",
      "[1077]\tvalidation_0-brier-error:0.00880\tvalidation_1-brier-error:0.00902\n",
      "[1078]\tvalidation_0-brier-error:0.00880\tvalidation_1-brier-error:0.00902\n",
      "[1079]\tvalidation_0-brier-error:0.00880\tvalidation_1-brier-error:0.00902\n",
      "[1080]\tvalidation_0-brier-error:0.00880\tvalidation_1-brier-error:0.00902\n",
      "[1081]\tvalidation_0-brier-error:0.00880\tvalidation_1-brier-error:0.00902\n",
      "[1082]\tvalidation_0-brier-error:0.00880\tvalidation_1-brier-error:0.00902\n",
      "[1083]\tvalidation_0-brier-error:0.00880\tvalidation_1-brier-error:0.00902\n",
      "[1084]\tvalidation_0-brier-error:0.00879\tvalidation_1-brier-error:0.00902\n",
      "[1085]\tvalidation_0-brier-error:0.00879\tvalidation_1-brier-error:0.00902\n",
      "[1086]\tvalidation_0-brier-error:0.00879\tvalidation_1-brier-error:0.00902\n",
      "[1087]\tvalidation_0-brier-error:0.00879\tvalidation_1-brier-error:0.00902\n",
      "[1088]\tvalidation_0-brier-error:0.00879\tvalidation_1-brier-error:0.00902\n",
      "[1089]\tvalidation_0-brier-error:0.00879\tvalidation_1-brier-error:0.00902\n",
      "[1090]\tvalidation_0-brier-error:0.00879\tvalidation_1-brier-error:0.00902\n",
      "[1091]\tvalidation_0-brier-error:0.00879\tvalidation_1-brier-error:0.00902\n",
      "[1092]\tvalidation_0-brier-error:0.00879\tvalidation_1-brier-error:0.00902\n",
      "[1093]\tvalidation_0-brier-error:0.00879\tvalidation_1-brier-error:0.00902\n",
      "[1094]\tvalidation_0-brier-error:0.00879\tvalidation_1-brier-error:0.00902\n",
      "[1095]\tvalidation_0-brier-error:0.00879\tvalidation_1-brier-error:0.00902\n",
      "[1096]\tvalidation_0-brier-error:0.00879\tvalidation_1-brier-error:0.00902\n",
      "[1097]\tvalidation_0-brier-error:0.00879\tvalidation_1-brier-error:0.00902\n",
      "[1098]\tvalidation_0-brier-error:0.00879\tvalidation_1-brier-error:0.00902\n",
      "[1099]\tvalidation_0-brier-error:0.00879\tvalidation_1-brier-error:0.00902\n",
      "[1100]\tvalidation_0-brier-error:0.00879\tvalidation_1-brier-error:0.00902\n",
      "[1101]\tvalidation_0-brier-error:0.00879\tvalidation_1-brier-error:0.00902\n",
      "[1102]\tvalidation_0-brier-error:0.00879\tvalidation_1-brier-error:0.00902\n",
      "[1103]\tvalidation_0-brier-error:0.00879\tvalidation_1-brier-error:0.00902\n",
      "[1104]\tvalidation_0-brier-error:0.00879\tvalidation_1-brier-error:0.00902\n",
      "[1105]\tvalidation_0-brier-error:0.00879\tvalidation_1-brier-error:0.00902\n",
      "[1106]\tvalidation_0-brier-error:0.00879\tvalidation_1-brier-error:0.00902\n",
      "[1107]\tvalidation_0-brier-error:0.00879\tvalidation_1-brier-error:0.00902\n",
      "[1108]\tvalidation_0-brier-error:0.00879\tvalidation_1-brier-error:0.00902\n",
      "[1109]\tvalidation_0-brier-error:0.00879\tvalidation_1-brier-error:0.00902\n",
      "[1110]\tvalidation_0-brier-error:0.00879\tvalidation_1-brier-error:0.00902\n",
      "[1111]\tvalidation_0-brier-error:0.00879\tvalidation_1-brier-error:0.00902\n",
      "[1112]\tvalidation_0-brier-error:0.00879\tvalidation_1-brier-error:0.00902\n",
      "[1113]\tvalidation_0-brier-error:0.00879\tvalidation_1-brier-error:0.00902\n",
      "[1114]\tvalidation_0-brier-error:0.00879\tvalidation_1-brier-error:0.00902\n",
      "[1115]\tvalidation_0-brier-error:0.00879\tvalidation_1-brier-error:0.00902\n",
      "[1116]\tvalidation_0-brier-error:0.00879\tvalidation_1-brier-error:0.00902\n",
      "[1117]\tvalidation_0-brier-error:0.00879\tvalidation_1-brier-error:0.00902\n",
      "[1118]\tvalidation_0-brier-error:0.00879\tvalidation_1-brier-error:0.00901\n",
      "[1119]\tvalidation_0-brier-error:0.00878\tvalidation_1-brier-error:0.00902\n",
      "[1120]\tvalidation_0-brier-error:0.00878\tvalidation_1-brier-error:0.00901\n",
      "[1121]\tvalidation_0-brier-error:0.00878\tvalidation_1-brier-error:0.00901\n",
      "[1122]\tvalidation_0-brier-error:0.00878\tvalidation_1-brier-error:0.00901\n",
      "[1123]\tvalidation_0-brier-error:0.00878\tvalidation_1-brier-error:0.00901\n",
      "[1124]\tvalidation_0-brier-error:0.00878\tvalidation_1-brier-error:0.00901\n",
      "[1125]\tvalidation_0-brier-error:0.00878\tvalidation_1-brier-error:0.00902\n",
      "[1126]\tvalidation_0-brier-error:0.00878\tvalidation_1-brier-error:0.00901\n",
      "[1127]\tvalidation_0-brier-error:0.00878\tvalidation_1-brier-error:0.00901\n",
      "[1128]\tvalidation_0-brier-error:0.00878\tvalidation_1-brier-error:0.00901\n",
      "[1129]\tvalidation_0-brier-error:0.00878\tvalidation_1-brier-error:0.00901\n",
      "[1130]\tvalidation_0-brier-error:0.00878\tvalidation_1-brier-error:0.00901\n",
      "[1131]\tvalidation_0-brier-error:0.00878\tvalidation_1-brier-error:0.00901\n",
      "[1132]\tvalidation_0-brier-error:0.00878\tvalidation_1-brier-error:0.00901\n",
      "[1133]\tvalidation_0-brier-error:0.00878\tvalidation_1-brier-error:0.00901\n",
      "[1134]\tvalidation_0-brier-error:0.00878\tvalidation_1-brier-error:0.00901\n",
      "[1135]\tvalidation_0-brier-error:0.00878\tvalidation_1-brier-error:0.00901\n",
      "[1136]\tvalidation_0-brier-error:0.00878\tvalidation_1-brier-error:0.00901\n",
      "[1137]\tvalidation_0-brier-error:0.00878\tvalidation_1-brier-error:0.00901\n",
      "[1138]\tvalidation_0-brier-error:0.00878\tvalidation_1-brier-error:0.00901\n",
      "[1139]\tvalidation_0-brier-error:0.00878\tvalidation_1-brier-error:0.00901\n",
      "[1140]\tvalidation_0-brier-error:0.00878\tvalidation_1-brier-error:0.00901\n",
      "[1141]\tvalidation_0-brier-error:0.00878\tvalidation_1-brier-error:0.00901\n",
      "[1142]\tvalidation_0-brier-error:0.00878\tvalidation_1-brier-error:0.00901\n",
      "[1143]\tvalidation_0-brier-error:0.00878\tvalidation_1-brier-error:0.00901\n",
      "[1144]\tvalidation_0-brier-error:0.00878\tvalidation_1-brier-error:0.00901\n",
      "[1145]\tvalidation_0-brier-error:0.00877\tvalidation_1-brier-error:0.00901\n",
      "[1146]\tvalidation_0-brier-error:0.00877\tvalidation_1-brier-error:0.00901\n",
      "[1147]\tvalidation_0-brier-error:0.00877\tvalidation_1-brier-error:0.00901\n",
      "[1148]\tvalidation_0-brier-error:0.00877\tvalidation_1-brier-error:0.00901\n",
      "[1149]\tvalidation_0-brier-error:0.00877\tvalidation_1-brier-error:0.00901\n",
      "[1150]\tvalidation_0-brier-error:0.00877\tvalidation_1-brier-error:0.00901\n",
      "[1151]\tvalidation_0-brier-error:0.00877\tvalidation_1-brier-error:0.00901\n",
      "[1152]\tvalidation_0-brier-error:0.00877\tvalidation_1-brier-error:0.00901\n",
      "[1153]\tvalidation_0-brier-error:0.00877\tvalidation_1-brier-error:0.00901\n",
      "[1154]\tvalidation_0-brier-error:0.00877\tvalidation_1-brier-error:0.00901\n",
      "[1155]\tvalidation_0-brier-error:0.00877\tvalidation_1-brier-error:0.00901\n",
      "[1156]\tvalidation_0-brier-error:0.00877\tvalidation_1-brier-error:0.00901\n",
      "[1157]\tvalidation_0-brier-error:0.00877\tvalidation_1-brier-error:0.00901\n",
      "[1158]\tvalidation_0-brier-error:0.00877\tvalidation_1-brier-error:0.00901\n",
      "[1159]\tvalidation_0-brier-error:0.00877\tvalidation_1-brier-error:0.00901\n",
      "[1160]\tvalidation_0-brier-error:0.00877\tvalidation_1-brier-error:0.00901\n",
      "[1161]\tvalidation_0-brier-error:0.00877\tvalidation_1-brier-error:0.00901\n",
      "[1162]\tvalidation_0-brier-error:0.00877\tvalidation_1-brier-error:0.00901\n",
      "[1163]\tvalidation_0-brier-error:0.00877\tvalidation_1-brier-error:0.00901\n",
      "[1164]\tvalidation_0-brier-error:0.00877\tvalidation_1-brier-error:0.00901\n",
      "[1165]\tvalidation_0-brier-error:0.00877\tvalidation_1-brier-error:0.00901\n",
      "[1166]\tvalidation_0-brier-error:0.00877\tvalidation_1-brier-error:0.00901\n",
      "[1167]\tvalidation_0-brier-error:0.00877\tvalidation_1-brier-error:0.00901\n",
      "[1168]\tvalidation_0-brier-error:0.00877\tvalidation_1-brier-error:0.00901\n",
      "[1169]\tvalidation_0-brier-error:0.00877\tvalidation_1-brier-error:0.00901\n",
      "[1170]\tvalidation_0-brier-error:0.00877\tvalidation_1-brier-error:0.00901\n",
      "[1171]\tvalidation_0-brier-error:0.00877\tvalidation_1-brier-error:0.00901\n",
      "[1172]\tvalidation_0-brier-error:0.00877\tvalidation_1-brier-error:0.00901\n",
      "[1173]\tvalidation_0-brier-error:0.00877\tvalidation_1-brier-error:0.00901\n",
      "[1174]\tvalidation_0-brier-error:0.00877\tvalidation_1-brier-error:0.00901\n",
      "[1175]\tvalidation_0-brier-error:0.00877\tvalidation_1-brier-error:0.00901\n",
      "[1176]\tvalidation_0-brier-error:0.00877\tvalidation_1-brier-error:0.00901\n",
      "[1177]\tvalidation_0-brier-error:0.00877\tvalidation_1-brier-error:0.00901\n",
      "[1178]\tvalidation_0-brier-error:0.00877\tvalidation_1-brier-error:0.00901\n",
      "[1179]\tvalidation_0-brier-error:0.00877\tvalidation_1-brier-error:0.00901\n",
      "[1180]\tvalidation_0-brier-error:0.00877\tvalidation_1-brier-error:0.00901\n",
      "[1181]\tvalidation_0-brier-error:0.00877\tvalidation_1-brier-error:0.00901\n",
      "[1182]\tvalidation_0-brier-error:0.00876\tvalidation_1-brier-error:0.00901\n",
      "[1183]\tvalidation_0-brier-error:0.00876\tvalidation_1-brier-error:0.00901\n",
      "[1184]\tvalidation_0-brier-error:0.00876\tvalidation_1-brier-error:0.00901\n",
      "[1185]\tvalidation_0-brier-error:0.00876\tvalidation_1-brier-error:0.00901\n",
      "[1186]\tvalidation_0-brier-error:0.00876\tvalidation_1-brier-error:0.00901\n",
      "[1187]\tvalidation_0-brier-error:0.00876\tvalidation_1-brier-error:0.00901\n",
      "[1188]\tvalidation_0-brier-error:0.00876\tvalidation_1-brier-error:0.00901\n",
      "[1189]\tvalidation_0-brier-error:0.00876\tvalidation_1-brier-error:0.00901\n",
      "[1190]\tvalidation_0-brier-error:0.00876\tvalidation_1-brier-error:0.00901\n",
      "[1191]\tvalidation_0-brier-error:0.00876\tvalidation_1-brier-error:0.00901\n",
      "[1192]\tvalidation_0-brier-error:0.00876\tvalidation_1-brier-error:0.00901\n",
      "[1193]\tvalidation_0-brier-error:0.00876\tvalidation_1-brier-error:0.00901\n",
      "[1194]\tvalidation_0-brier-error:0.00876\tvalidation_1-brier-error:0.00901\n",
      "[1195]\tvalidation_0-brier-error:0.00876\tvalidation_1-brier-error:0.00901\n",
      "[1196]\tvalidation_0-brier-error:0.00876\tvalidation_1-brier-error:0.00901\n",
      "[1197]\tvalidation_0-brier-error:0.00876\tvalidation_1-brier-error:0.00901\n",
      "[1198]\tvalidation_0-brier-error:0.00876\tvalidation_1-brier-error:0.00901\n",
      "[1199]\tvalidation_0-brier-error:0.00876\tvalidation_1-brier-error:0.00901\n",
      "[1200]\tvalidation_0-brier-error:0.00876\tvalidation_1-brier-error:0.00901\n",
      "[1201]\tvalidation_0-brier-error:0.00876\tvalidation_1-brier-error:0.00901\n",
      "[1202]\tvalidation_0-brier-error:0.00876\tvalidation_1-brier-error:0.00901\n",
      "[1203]\tvalidation_0-brier-error:0.00876\tvalidation_1-brier-error:0.00901\n",
      "[1204]\tvalidation_0-brier-error:0.00876\tvalidation_1-brier-error:0.00901\n",
      "[1205]\tvalidation_0-brier-error:0.00876\tvalidation_1-brier-error:0.00901\n",
      "[1206]\tvalidation_0-brier-error:0.00876\tvalidation_1-brier-error:0.00901\n",
      "[1207]\tvalidation_0-brier-error:0.00876\tvalidation_1-brier-error:0.00901\n",
      "[1208]\tvalidation_0-brier-error:0.00876\tvalidation_1-brier-error:0.00901\n",
      "[1209]\tvalidation_0-brier-error:0.00876\tvalidation_1-brier-error:0.00901\n",
      "[1210]\tvalidation_0-brier-error:0.00875\tvalidation_1-brier-error:0.00901\n",
      "[1211]\tvalidation_0-brier-error:0.00875\tvalidation_1-brier-error:0.00901\n",
      "[1212]\tvalidation_0-brier-error:0.00875\tvalidation_1-brier-error:0.00901\n",
      "[1213]\tvalidation_0-brier-error:0.00875\tvalidation_1-brier-error:0.00901\n",
      "[1214]\tvalidation_0-brier-error:0.00875\tvalidation_1-brier-error:0.00901\n",
      "[1215]\tvalidation_0-brier-error:0.00875\tvalidation_1-brier-error:0.00901\n",
      "[1216]\tvalidation_0-brier-error:0.00875\tvalidation_1-brier-error:0.00901\n",
      "[1217]\tvalidation_0-brier-error:0.00875\tvalidation_1-brier-error:0.00901\n",
      "[1218]\tvalidation_0-brier-error:0.00875\tvalidation_1-brier-error:0.00901\n",
      "[1219]\tvalidation_0-brier-error:0.00875\tvalidation_1-brier-error:0.00901\n",
      "[1220]\tvalidation_0-brier-error:0.00875\tvalidation_1-brier-error:0.00901\n",
      "[1221]\tvalidation_0-brier-error:0.00875\tvalidation_1-brier-error:0.00901\n",
      "[1222]\tvalidation_0-brier-error:0.00875\tvalidation_1-brier-error:0.00901\n",
      "[1223]\tvalidation_0-brier-error:0.00875\tvalidation_1-brier-error:0.00901\n",
      "[1224]\tvalidation_0-brier-error:0.00875\tvalidation_1-brier-error:0.00901\n",
      "[1225]\tvalidation_0-brier-error:0.00875\tvalidation_1-brier-error:0.00901\n",
      "[1226]\tvalidation_0-brier-error:0.00875\tvalidation_1-brier-error:0.00901\n",
      "[1227]\tvalidation_0-brier-error:0.00875\tvalidation_1-brier-error:0.00901\n",
      "[1228]\tvalidation_0-brier-error:0.00875\tvalidation_1-brier-error:0.00901\n",
      "[1229]\tvalidation_0-brier-error:0.00875\tvalidation_1-brier-error:0.00901\n",
      "[1230]\tvalidation_0-brier-error:0.00875\tvalidation_1-brier-error:0.00901\n",
      "[1231]\tvalidation_0-brier-error:0.00875\tvalidation_1-brier-error:0.00901\n",
      "[1232]\tvalidation_0-brier-error:0.00875\tvalidation_1-brier-error:0.00901\n",
      "[1233]\tvalidation_0-brier-error:0.00875\tvalidation_1-brier-error:0.00901\n",
      "[1234]\tvalidation_0-brier-error:0.00875\tvalidation_1-brier-error:0.00901\n",
      "[1235]\tvalidation_0-brier-error:0.00875\tvalidation_1-brier-error:0.00901\n",
      "[1236]\tvalidation_0-brier-error:0.00875\tvalidation_1-brier-error:0.00901\n",
      "[1237]\tvalidation_0-brier-error:0.00875\tvalidation_1-brier-error:0.00901\n",
      "[1238]\tvalidation_0-brier-error:0.00875\tvalidation_1-brier-error:0.00901\n",
      "[1239]\tvalidation_0-brier-error:0.00875\tvalidation_1-brier-error:0.00901\n",
      "[1240]\tvalidation_0-brier-error:0.00875\tvalidation_1-brier-error:0.00901\n",
      "[1241]\tvalidation_0-brier-error:0.00874\tvalidation_1-brier-error:0.00901\n",
      "[1242]\tvalidation_0-brier-error:0.00874\tvalidation_1-brier-error:0.00901\n",
      "[1243]\tvalidation_0-brier-error:0.00874\tvalidation_1-brier-error:0.00901\n",
      "[1244]\tvalidation_0-brier-error:0.00874\tvalidation_1-brier-error:0.00901\n",
      "[1245]\tvalidation_0-brier-error:0.00874\tvalidation_1-brier-error:0.00901\n",
      "[1246]\tvalidation_0-brier-error:0.00874\tvalidation_1-brier-error:0.00901\n",
      "[1247]\tvalidation_0-brier-error:0.00874\tvalidation_1-brier-error:0.00901\n",
      "[1248]\tvalidation_0-brier-error:0.00874\tvalidation_1-brier-error:0.00901\n",
      "[1249]\tvalidation_0-brier-error:0.00874\tvalidation_1-brier-error:0.00901\n",
      "[1250]\tvalidation_0-brier-error:0.00874\tvalidation_1-brier-error:0.00901\n",
      "[1251]\tvalidation_0-brier-error:0.00874\tvalidation_1-brier-error:0.00901\n",
      "[1252]\tvalidation_0-brier-error:0.00874\tvalidation_1-brier-error:0.00901\n",
      "[1253]\tvalidation_0-brier-error:0.00874\tvalidation_1-brier-error:0.00901\n",
      "[1254]\tvalidation_0-brier-error:0.00874\tvalidation_1-brier-error:0.00901\n",
      "[1255]\tvalidation_0-brier-error:0.00874\tvalidation_1-brier-error:0.00901\n",
      "[1256]\tvalidation_0-brier-error:0.00874\tvalidation_1-brier-error:0.00901\n",
      "[1257]\tvalidation_0-brier-error:0.00874\tvalidation_1-brier-error:0.00901\n",
      "[1258]\tvalidation_0-brier-error:0.00874\tvalidation_1-brier-error:0.00901\n",
      "[1259]\tvalidation_0-brier-error:0.00874\tvalidation_1-brier-error:0.00901\n",
      "[1260]\tvalidation_0-brier-error:0.00874\tvalidation_1-brier-error:0.00901\n",
      "[1261]\tvalidation_0-brier-error:0.00874\tvalidation_1-brier-error:0.00901\n",
      "[1262]\tvalidation_0-brier-error:0.00874\tvalidation_1-brier-error:0.00901\n",
      "[1263]\tvalidation_0-brier-error:0.00874\tvalidation_1-brier-error:0.00901\n",
      "[1264]\tvalidation_0-brier-error:0.00874\tvalidation_1-brier-error:0.00901\n",
      "[1265]\tvalidation_0-brier-error:0.00874\tvalidation_1-brier-error:0.00901\n",
      "[1266]\tvalidation_0-brier-error:0.00874\tvalidation_1-brier-error:0.00901\n",
      "[1267]\tvalidation_0-brier-error:0.00874\tvalidation_1-brier-error:0.00901\n",
      "[1268]\tvalidation_0-brier-error:0.00874\tvalidation_1-brier-error:0.00901\n",
      "[1269]\tvalidation_0-brier-error:0.00874\tvalidation_1-brier-error:0.00901\n",
      "[1270]\tvalidation_0-brier-error:0.00874\tvalidation_1-brier-error:0.00901\n",
      "[1271]\tvalidation_0-brier-error:0.00874\tvalidation_1-brier-error:0.00901\n",
      "[1272]\tvalidation_0-brier-error:0.00874\tvalidation_1-brier-error:0.00901\n",
      "[1273]\tvalidation_0-brier-error:0.00874\tvalidation_1-brier-error:0.00901\n",
      "[1274]\tvalidation_0-brier-error:0.00874\tvalidation_1-brier-error:0.00901\n",
      "[1275]\tvalidation_0-brier-error:0.00873\tvalidation_1-brier-error:0.00901\n",
      "[1276]\tvalidation_0-brier-error:0.00873\tvalidation_1-brier-error:0.00901\n",
      "[1277]\tvalidation_0-brier-error:0.00873\tvalidation_1-brier-error:0.00901\n",
      "[1278]\tvalidation_0-brier-error:0.00873\tvalidation_1-brier-error:0.00901\n",
      "[1279]\tvalidation_0-brier-error:0.00873\tvalidation_1-brier-error:0.00901\n",
      "[1280]\tvalidation_0-brier-error:0.00873\tvalidation_1-brier-error:0.00901\n",
      "[1281]\tvalidation_0-brier-error:0.00873\tvalidation_1-brier-error:0.00901\n",
      "[1282]\tvalidation_0-brier-error:0.00873\tvalidation_1-brier-error:0.00901\n",
      "[1283]\tvalidation_0-brier-error:0.00873\tvalidation_1-brier-error:0.00901\n",
      "[1284]\tvalidation_0-brier-error:0.00873\tvalidation_1-brier-error:0.00901\n",
      "[1285]\tvalidation_0-brier-error:0.00873\tvalidation_1-brier-error:0.00901\n",
      "[1286]\tvalidation_0-brier-error:0.00873\tvalidation_1-brier-error:0.00901\n",
      "[1287]\tvalidation_0-brier-error:0.00873\tvalidation_1-brier-error:0.00901\n",
      "[1288]\tvalidation_0-brier-error:0.00873\tvalidation_1-brier-error:0.00901\n",
      "[1289]\tvalidation_0-brier-error:0.00873\tvalidation_1-brier-error:0.00901\n",
      "[1290]\tvalidation_0-brier-error:0.00873\tvalidation_1-brier-error:0.00901\n",
      "[1291]\tvalidation_0-brier-error:0.00873\tvalidation_1-brier-error:0.00901\n",
      "[1292]\tvalidation_0-brier-error:0.00873\tvalidation_1-brier-error:0.00901\n",
      "[1293]\tvalidation_0-brier-error:0.00873\tvalidation_1-brier-error:0.00901\n",
      "[1294]\tvalidation_0-brier-error:0.00873\tvalidation_1-brier-error:0.00901\n",
      "[1295]\tvalidation_0-brier-error:0.00873\tvalidation_1-brier-error:0.00901\n",
      "[1296]\tvalidation_0-brier-error:0.00873\tvalidation_1-brier-error:0.00901\n",
      "[1297]\tvalidation_0-brier-error:0.00873\tvalidation_1-brier-error:0.00901\n",
      "[1298]\tvalidation_0-brier-error:0.00873\tvalidation_1-brier-error:0.00901\n",
      "[1299]\tvalidation_0-brier-error:0.00873\tvalidation_1-brier-error:0.00901\n",
      "[1300]\tvalidation_0-brier-error:0.00873\tvalidation_1-brier-error:0.00901\n",
      "[1301]\tvalidation_0-brier-error:0.00873\tvalidation_1-brier-error:0.00901\n",
      "[1302]\tvalidation_0-brier-error:0.00873\tvalidation_1-brier-error:0.00901\n",
      "[1303]\tvalidation_0-brier-error:0.00873\tvalidation_1-brier-error:0.00901\n",
      "[1304]\tvalidation_0-brier-error:0.00873\tvalidation_1-brier-error:0.00901\n",
      "[1305]\tvalidation_0-brier-error:0.00873\tvalidation_1-brier-error:0.00901\n",
      "[1306]\tvalidation_0-brier-error:0.00873\tvalidation_1-brier-error:0.00901\n",
      "[1307]\tvalidation_0-brier-error:0.00873\tvalidation_1-brier-error:0.00901\n",
      "[1308]\tvalidation_0-brier-error:0.00873\tvalidation_1-brier-error:0.00901\n",
      "[1309]\tvalidation_0-brier-error:0.00873\tvalidation_1-brier-error:0.00901\n",
      "[1310]\tvalidation_0-brier-error:0.00873\tvalidation_1-brier-error:0.00901\n",
      "[1311]\tvalidation_0-brier-error:0.00873\tvalidation_1-brier-error:0.00901\n",
      "[1312]\tvalidation_0-brier-error:0.00873\tvalidation_1-brier-error:0.00901\n",
      "[1313]\tvalidation_0-brier-error:0.00873\tvalidation_1-brier-error:0.00901\n",
      "[1314]\tvalidation_0-brier-error:0.00873\tvalidation_1-brier-error:0.00901\n",
      "[1315]\tvalidation_0-brier-error:0.00873\tvalidation_1-brier-error:0.00901\n",
      "[1316]\tvalidation_0-brier-error:0.00872\tvalidation_1-brier-error:0.00901\n",
      "[1317]\tvalidation_0-brier-error:0.00872\tvalidation_1-brier-error:0.00901\n",
      "[1318]\tvalidation_0-brier-error:0.00872\tvalidation_1-brier-error:0.00901\n",
      "[1319]\tvalidation_0-brier-error:0.00872\tvalidation_1-brier-error:0.00901\n",
      "[1320]\tvalidation_0-brier-error:0.00872\tvalidation_1-brier-error:0.00901\n",
      "[1321]\tvalidation_0-brier-error:0.00872\tvalidation_1-brier-error:0.00901\n",
      "[1322]\tvalidation_0-brier-error:0.00872\tvalidation_1-brier-error:0.00901\n",
      "[1323]\tvalidation_0-brier-error:0.00872\tvalidation_1-brier-error:0.00901\n",
      "[1324]\tvalidation_0-brier-error:0.00872\tvalidation_1-brier-error:0.00901\n",
      "[1325]\tvalidation_0-brier-error:0.00872\tvalidation_1-brier-error:0.00901\n",
      "[1326]\tvalidation_0-brier-error:0.00872\tvalidation_1-brier-error:0.00901\n",
      "[1327]\tvalidation_0-brier-error:0.00872\tvalidation_1-brier-error:0.00901\n",
      "[1328]\tvalidation_0-brier-error:0.00872\tvalidation_1-brier-error:0.00901\n",
      "[1329]\tvalidation_0-brier-error:0.00872\tvalidation_1-brier-error:0.00901\n",
      "[1330]\tvalidation_0-brier-error:0.00872\tvalidation_1-brier-error:0.00901\n",
      "[1331]\tvalidation_0-brier-error:0.00872\tvalidation_1-brier-error:0.00901\n",
      "[1332]\tvalidation_0-brier-error:0.00872\tvalidation_1-brier-error:0.00901\n",
      "[1333]\tvalidation_0-brier-error:0.00872\tvalidation_1-brier-error:0.00901\n",
      "[1334]\tvalidation_0-brier-error:0.00872\tvalidation_1-brier-error:0.00901\n",
      "[1335]\tvalidation_0-brier-error:0.00872\tvalidation_1-brier-error:0.00901\n",
      "[1336]\tvalidation_0-brier-error:0.00872\tvalidation_1-brier-error:0.00901\n",
      "[1337]\tvalidation_0-brier-error:0.00872\tvalidation_1-brier-error:0.00901\n",
      "[1338]\tvalidation_0-brier-error:0.00872\tvalidation_1-brier-error:0.00901\n",
      "[1339]\tvalidation_0-brier-error:0.00872\tvalidation_1-brier-error:0.00901\n",
      "[1340]\tvalidation_0-brier-error:0.00872\tvalidation_1-brier-error:0.00901\n",
      "[1341]\tvalidation_0-brier-error:0.00871\tvalidation_1-brier-error:0.00901\n",
      "[1342]\tvalidation_0-brier-error:0.00871\tvalidation_1-brier-error:0.00901\n",
      "[1343]\tvalidation_0-brier-error:0.00871\tvalidation_1-brier-error:0.00901\n",
      "[1344]\tvalidation_0-brier-error:0.00871\tvalidation_1-brier-error:0.00901\n",
      "[1345]\tvalidation_0-brier-error:0.00871\tvalidation_1-brier-error:0.00901\n",
      "[1346]\tvalidation_0-brier-error:0.00871\tvalidation_1-brier-error:0.00901\n",
      "[1347]\tvalidation_0-brier-error:0.00871\tvalidation_1-brier-error:0.00901\n",
      "[1348]\tvalidation_0-brier-error:0.00871\tvalidation_1-brier-error:0.00901\n",
      "[1349]\tvalidation_0-brier-error:0.00871\tvalidation_1-brier-error:0.00901\n",
      "[1350]\tvalidation_0-brier-error:0.00871\tvalidation_1-brier-error:0.00901\n",
      "[1351]\tvalidation_0-brier-error:0.00871\tvalidation_1-brier-error:0.00901\n",
      "[1352]\tvalidation_0-brier-error:0.00871\tvalidation_1-brier-error:0.00901\n",
      "[1353]\tvalidation_0-brier-error:0.00871\tvalidation_1-brier-error:0.00901\n",
      "[1354]\tvalidation_0-brier-error:0.00871\tvalidation_1-brier-error:0.00901\n",
      "[1355]\tvalidation_0-brier-error:0.00871\tvalidation_1-brier-error:0.00901\n",
      "[1356]\tvalidation_0-brier-error:0.00871\tvalidation_1-brier-error:0.00901\n",
      "[1357]\tvalidation_0-brier-error:0.00871\tvalidation_1-brier-error:0.00901\n",
      "[1358]\tvalidation_0-brier-error:0.00871\tvalidation_1-brier-error:0.00901\n",
      "[1359]\tvalidation_0-brier-error:0.00871\tvalidation_1-brier-error:0.00901\n",
      "[1360]\tvalidation_0-brier-error:0.00871\tvalidation_1-brier-error:0.00901\n",
      "[1361]\tvalidation_0-brier-error:0.00871\tvalidation_1-brier-error:0.00901\n",
      "[1362]\tvalidation_0-brier-error:0.00871\tvalidation_1-brier-error:0.00901\n",
      "[1363]\tvalidation_0-brier-error:0.00871\tvalidation_1-brier-error:0.00901\n",
      "[1364]\tvalidation_0-brier-error:0.00871\tvalidation_1-brier-error:0.00901\n",
      "[1365]\tvalidation_0-brier-error:0.00871\tvalidation_1-brier-error:0.00901\n",
      "[1366]\tvalidation_0-brier-error:0.00870\tvalidation_1-brier-error:0.00901\n",
      "[1367]\tvalidation_0-brier-error:0.00870\tvalidation_1-brier-error:0.00901\n",
      "[1368]\tvalidation_0-brier-error:0.00870\tvalidation_1-brier-error:0.00901\n",
      "[1369]\tvalidation_0-brier-error:0.00870\tvalidation_1-brier-error:0.00901\n",
      "[1370]\tvalidation_0-brier-error:0.00870\tvalidation_1-brier-error:0.00901\n",
      "[1371]\tvalidation_0-brier-error:0.00870\tvalidation_1-brier-error:0.00901\n",
      "[1372]\tvalidation_0-brier-error:0.00870\tvalidation_1-brier-error:0.00901\n",
      "[1373]\tvalidation_0-brier-error:0.00870\tvalidation_1-brier-error:0.00901\n",
      "[1374]\tvalidation_0-brier-error:0.00870\tvalidation_1-brier-error:0.00901\n",
      "[1375]\tvalidation_0-brier-error:0.00870\tvalidation_1-brier-error:0.00901\n",
      "[1376]\tvalidation_0-brier-error:0.00870\tvalidation_1-brier-error:0.00901\n",
      "[1377]\tvalidation_0-brier-error:0.00870\tvalidation_1-brier-error:0.00901\n",
      "[1378]\tvalidation_0-brier-error:0.00870\tvalidation_1-brier-error:0.00901\n",
      "[1379]\tvalidation_0-brier-error:0.00870\tvalidation_1-brier-error:0.00901\n",
      "[1380]\tvalidation_0-brier-error:0.00870\tvalidation_1-brier-error:0.00901\n",
      "[1381]\tvalidation_0-brier-error:0.00870\tvalidation_1-brier-error:0.00901\n",
      "[1382]\tvalidation_0-brier-error:0.00870\tvalidation_1-brier-error:0.00901\n",
      "[1383]\tvalidation_0-brier-error:0.00870\tvalidation_1-brier-error:0.00901\n",
      "[1384]\tvalidation_0-brier-error:0.00870\tvalidation_1-brier-error:0.00901\n",
      "[1385]\tvalidation_0-brier-error:0.00870\tvalidation_1-brier-error:0.00901\n",
      "[1386]\tvalidation_0-brier-error:0.00870\tvalidation_1-brier-error:0.00901\n",
      "[1387]\tvalidation_0-brier-error:0.00870\tvalidation_1-brier-error:0.00901\n",
      "[1388]\tvalidation_0-brier-error:0.00870\tvalidation_1-brier-error:0.00901\n",
      "[1389]\tvalidation_0-brier-error:0.00870\tvalidation_1-brier-error:0.00901\n",
      "[1390]\tvalidation_0-brier-error:0.00870\tvalidation_1-brier-error:0.00901\n",
      "[1391]\tvalidation_0-brier-error:0.00870\tvalidation_1-brier-error:0.00901\n",
      "[1392]\tvalidation_0-brier-error:0.00870\tvalidation_1-brier-error:0.00901\n",
      "[1393]\tvalidation_0-brier-error:0.00870\tvalidation_1-brier-error:0.00901\n",
      "[1394]\tvalidation_0-brier-error:0.00870\tvalidation_1-brier-error:0.00901\n",
      "[1395]\tvalidation_0-brier-error:0.00870\tvalidation_1-brier-error:0.00901\n",
      "[1396]\tvalidation_0-brier-error:0.00870\tvalidation_1-brier-error:0.00901\n",
      "[1397]\tvalidation_0-brier-error:0.00870\tvalidation_1-brier-error:0.00901\n",
      "[1398]\tvalidation_0-brier-error:0.00870\tvalidation_1-brier-error:0.00901\n",
      "[1399]\tvalidation_0-brier-error:0.00870\tvalidation_1-brier-error:0.00901\n",
      "[1400]\tvalidation_0-brier-error:0.00869\tvalidation_1-brier-error:0.00901\n",
      "[1401]\tvalidation_0-brier-error:0.00869\tvalidation_1-brier-error:0.00901\n",
      "[1402]\tvalidation_0-brier-error:0.00869\tvalidation_1-brier-error:0.00901\n",
      "[1403]\tvalidation_0-brier-error:0.00869\tvalidation_1-brier-error:0.00901\n",
      "[1404]\tvalidation_0-brier-error:0.00869\tvalidation_1-brier-error:0.00901\n",
      "[1405]\tvalidation_0-brier-error:0.00869\tvalidation_1-brier-error:0.00901\n",
      "[1406]\tvalidation_0-brier-error:0.00869\tvalidation_1-brier-error:0.00901\n",
      "[1407]\tvalidation_0-brier-error:0.00869\tvalidation_1-brier-error:0.00901\n",
      "[1408]\tvalidation_0-brier-error:0.00869\tvalidation_1-brier-error:0.00901\n",
      "[1409]\tvalidation_0-brier-error:0.00869\tvalidation_1-brier-error:0.00901\n",
      "[1410]\tvalidation_0-brier-error:0.00869\tvalidation_1-brier-error:0.00901\n",
      "[1411]\tvalidation_0-brier-error:0.00869\tvalidation_1-brier-error:0.00901\n",
      "[1412]\tvalidation_0-brier-error:0.00869\tvalidation_1-brier-error:0.00901\n",
      "[1413]\tvalidation_0-brier-error:0.00869\tvalidation_1-brier-error:0.00901\n",
      "[1414]\tvalidation_0-brier-error:0.00869\tvalidation_1-brier-error:0.00901\n",
      "[1415]\tvalidation_0-brier-error:0.00869\tvalidation_1-brier-error:0.00901\n",
      "[1416]\tvalidation_0-brier-error:0.00869\tvalidation_1-brier-error:0.00901\n",
      "[1417]\tvalidation_0-brier-error:0.00869\tvalidation_1-brier-error:0.00901\n",
      "[1418]\tvalidation_0-brier-error:0.00869\tvalidation_1-brier-error:0.00901\n",
      "[1419]\tvalidation_0-brier-error:0.00869\tvalidation_1-brier-error:0.00901\n",
      "[1420]\tvalidation_0-brier-error:0.00869\tvalidation_1-brier-error:0.00901\n",
      "[1421]\tvalidation_0-brier-error:0.00869\tvalidation_1-brier-error:0.00901\n",
      "[1422]\tvalidation_0-brier-error:0.00869\tvalidation_1-brier-error:0.00901\n",
      "[1423]\tvalidation_0-brier-error:0.00869\tvalidation_1-brier-error:0.00901\n",
      "[1424]\tvalidation_0-brier-error:0.00869\tvalidation_1-brier-error:0.00901\n",
      "[1425]\tvalidation_0-brier-error:0.00869\tvalidation_1-brier-error:0.00901\n",
      "[1426]\tvalidation_0-brier-error:0.00869\tvalidation_1-brier-error:0.00901\n",
      "[1427]\tvalidation_0-brier-error:0.00869\tvalidation_1-brier-error:0.00901\n",
      "[1428]\tvalidation_0-brier-error:0.00869\tvalidation_1-brier-error:0.00901\n",
      "[1429]\tvalidation_0-brier-error:0.00869\tvalidation_1-brier-error:0.00901\n",
      "[1430]\tvalidation_0-brier-error:0.00869\tvalidation_1-brier-error:0.00901\n",
      "[1431]\tvalidation_0-brier-error:0.00868\tvalidation_1-brier-error:0.00901\n",
      "[1432]\tvalidation_0-brier-error:0.00868\tvalidation_1-brier-error:0.00901\n",
      "[1433]\tvalidation_0-brier-error:0.00868\tvalidation_1-brier-error:0.00901\n",
      "[1434]\tvalidation_0-brier-error:0.00868\tvalidation_1-brier-error:0.00901\n",
      "[1435]\tvalidation_0-brier-error:0.00868\tvalidation_1-brier-error:0.00901\n",
      "[1436]\tvalidation_0-brier-error:0.00868\tvalidation_1-brier-error:0.00901\n",
      "[1437]\tvalidation_0-brier-error:0.00868\tvalidation_1-brier-error:0.00901\n",
      "[1438]\tvalidation_0-brier-error:0.00868\tvalidation_1-brier-error:0.00901\n",
      "[1439]\tvalidation_0-brier-error:0.00868\tvalidation_1-brier-error:0.00901\n",
      "[1440]\tvalidation_0-brier-error:0.00868\tvalidation_1-brier-error:0.00901\n",
      "[1441]\tvalidation_0-brier-error:0.00868\tvalidation_1-brier-error:0.00901\n",
      "[1442]\tvalidation_0-brier-error:0.00868\tvalidation_1-brier-error:0.00901\n",
      "[1443]\tvalidation_0-brier-error:0.00868\tvalidation_1-brier-error:0.00901\n",
      "[1444]\tvalidation_0-brier-error:0.00868\tvalidation_1-brier-error:0.00901\n",
      "[1445]\tvalidation_0-brier-error:0.00868\tvalidation_1-brier-error:0.00901\n",
      "[1446]\tvalidation_0-brier-error:0.00868\tvalidation_1-brier-error:0.00901\n",
      "[1447]\tvalidation_0-brier-error:0.00868\tvalidation_1-brier-error:0.00901\n",
      "[1448]\tvalidation_0-brier-error:0.00868\tvalidation_1-brier-error:0.00900\n",
      "[1449]\tvalidation_0-brier-error:0.00868\tvalidation_1-brier-error:0.00900\n",
      "[1450]\tvalidation_0-brier-error:0.00868\tvalidation_1-brier-error:0.00900\n",
      "[1451]\tvalidation_0-brier-error:0.00868\tvalidation_1-brier-error:0.00900\n",
      "[1452]\tvalidation_0-brier-error:0.00868\tvalidation_1-brier-error:0.00900\n",
      "[1453]\tvalidation_0-brier-error:0.00868\tvalidation_1-brier-error:0.00900\n",
      "[1454]\tvalidation_0-brier-error:0.00868\tvalidation_1-brier-error:0.00900\n",
      "[1455]\tvalidation_0-brier-error:0.00868\tvalidation_1-brier-error:0.00900\n",
      "[1456]\tvalidation_0-brier-error:0.00868\tvalidation_1-brier-error:0.00900\n",
      "[1457]\tvalidation_0-brier-error:0.00868\tvalidation_1-brier-error:0.00900\n",
      "[1458]\tvalidation_0-brier-error:0.00867\tvalidation_1-brier-error:0.00900\n",
      "[1459]\tvalidation_0-brier-error:0.00867\tvalidation_1-brier-error:0.00900\n",
      "[1460]\tvalidation_0-brier-error:0.00867\tvalidation_1-brier-error:0.00900\n",
      "[1461]\tvalidation_0-brier-error:0.00867\tvalidation_1-brier-error:0.00900\n",
      "[1462]\tvalidation_0-brier-error:0.00867\tvalidation_1-brier-error:0.00900\n",
      "[1463]\tvalidation_0-brier-error:0.00867\tvalidation_1-brier-error:0.00900\n",
      "[1464]\tvalidation_0-brier-error:0.00867\tvalidation_1-brier-error:0.00900\n",
      "[1465]\tvalidation_0-brier-error:0.00867\tvalidation_1-brier-error:0.00900\n",
      "[1466]\tvalidation_0-brier-error:0.00867\tvalidation_1-brier-error:0.00900\n",
      "[1467]\tvalidation_0-brier-error:0.00867\tvalidation_1-brier-error:0.00900\n",
      "[1468]\tvalidation_0-brier-error:0.00867\tvalidation_1-brier-error:0.00900\n",
      "[1469]\tvalidation_0-brier-error:0.00867\tvalidation_1-brier-error:0.00900\n",
      "[1470]\tvalidation_0-brier-error:0.00867\tvalidation_1-brier-error:0.00900\n",
      "[1471]\tvalidation_0-brier-error:0.00867\tvalidation_1-brier-error:0.00900\n",
      "[1472]\tvalidation_0-brier-error:0.00867\tvalidation_1-brier-error:0.00900\n",
      "[1473]\tvalidation_0-brier-error:0.00867\tvalidation_1-brier-error:0.00900\n",
      "[1474]\tvalidation_0-brier-error:0.00867\tvalidation_1-brier-error:0.00900\n",
      "[1475]\tvalidation_0-brier-error:0.00867\tvalidation_1-brier-error:0.00900\n",
      "[1476]\tvalidation_0-brier-error:0.00867\tvalidation_1-brier-error:0.00900\n",
      "[1477]\tvalidation_0-brier-error:0.00867\tvalidation_1-brier-error:0.00900\n",
      "[1478]\tvalidation_0-brier-error:0.00867\tvalidation_1-brier-error:0.00900\n",
      "[1479]\tvalidation_0-brier-error:0.00867\tvalidation_1-brier-error:0.00900\n",
      "[1480]\tvalidation_0-brier-error:0.00867\tvalidation_1-brier-error:0.00900\n",
      "[1481]\tvalidation_0-brier-error:0.00867\tvalidation_1-brier-error:0.00900\n",
      "[1482]\tvalidation_0-brier-error:0.00867\tvalidation_1-brier-error:0.00900\n",
      "[1483]\tvalidation_0-brier-error:0.00867\tvalidation_1-brier-error:0.00900\n",
      "[1484]\tvalidation_0-brier-error:0.00867\tvalidation_1-brier-error:0.00900\n",
      "[1485]\tvalidation_0-brier-error:0.00867\tvalidation_1-brier-error:0.00900\n",
      "[1486]\tvalidation_0-brier-error:0.00867\tvalidation_1-brier-error:0.00900\n",
      "[1487]\tvalidation_0-brier-error:0.00866\tvalidation_1-brier-error:0.00900\n",
      "[1488]\tvalidation_0-brier-error:0.00866\tvalidation_1-brier-error:0.00900\n",
      "[1489]\tvalidation_0-brier-error:0.00866\tvalidation_1-brier-error:0.00900\n",
      "[1490]\tvalidation_0-brier-error:0.00866\tvalidation_1-brier-error:0.00900\n",
      "[1491]\tvalidation_0-brier-error:0.00866\tvalidation_1-brier-error:0.00900\n",
      "[1492]\tvalidation_0-brier-error:0.00866\tvalidation_1-brier-error:0.00900\n",
      "[1493]\tvalidation_0-brier-error:0.00866\tvalidation_1-brier-error:0.00900\n",
      "[1494]\tvalidation_0-brier-error:0.00866\tvalidation_1-brier-error:0.00900\n",
      "[1495]\tvalidation_0-brier-error:0.00866\tvalidation_1-brier-error:0.00900\n",
      "[1496]\tvalidation_0-brier-error:0.00866\tvalidation_1-brier-error:0.00900\n",
      "[1497]\tvalidation_0-brier-error:0.00866\tvalidation_1-brier-error:0.00900\n",
      "[1498]\tvalidation_0-brier-error:0.00866\tvalidation_1-brier-error:0.00900\n",
      "[1499]\tvalidation_0-brier-error:0.00866\tvalidation_1-brier-error:0.00900\n",
      "[1500]\tvalidation_0-brier-error:0.00866\tvalidation_1-brier-error:0.00900\n",
      "[1501]\tvalidation_0-brier-error:0.00866\tvalidation_1-brier-error:0.00900\n",
      "[1502]\tvalidation_0-brier-error:0.00866\tvalidation_1-brier-error:0.00900\n",
      "[1503]\tvalidation_0-brier-error:0.00866\tvalidation_1-brier-error:0.00900\n",
      "[1504]\tvalidation_0-brier-error:0.00866\tvalidation_1-brier-error:0.00900\n",
      "[1505]\tvalidation_0-brier-error:0.00866\tvalidation_1-brier-error:0.00900\n",
      "[1506]\tvalidation_0-brier-error:0.00866\tvalidation_1-brier-error:0.00900\n",
      "[1507]\tvalidation_0-brier-error:0.00866\tvalidation_1-brier-error:0.00900\n",
      "[1508]\tvalidation_0-brier-error:0.00866\tvalidation_1-brier-error:0.00900\n",
      "[1509]\tvalidation_0-brier-error:0.00866\tvalidation_1-brier-error:0.00900\n",
      "[1510]\tvalidation_0-brier-error:0.00866\tvalidation_1-brier-error:0.00900\n",
      "[1511]\tvalidation_0-brier-error:0.00866\tvalidation_1-brier-error:0.00900\n",
      "[1512]\tvalidation_0-brier-error:0.00866\tvalidation_1-brier-error:0.00900\n",
      "[1513]\tvalidation_0-brier-error:0.00866\tvalidation_1-brier-error:0.00900\n",
      "[1514]\tvalidation_0-brier-error:0.00866\tvalidation_1-brier-error:0.00900\n",
      "[1515]\tvalidation_0-brier-error:0.00866\tvalidation_1-brier-error:0.00900\n",
      "[1516]\tvalidation_0-brier-error:0.00865\tvalidation_1-brier-error:0.00900\n",
      "[1517]\tvalidation_0-brier-error:0.00865\tvalidation_1-brier-error:0.00900\n",
      "[1518]\tvalidation_0-brier-error:0.00865\tvalidation_1-brier-error:0.00900\n",
      "[1519]\tvalidation_0-brier-error:0.00865\tvalidation_1-brier-error:0.00900\n",
      "[1520]\tvalidation_0-brier-error:0.00865\tvalidation_1-brier-error:0.00900\n",
      "[1521]\tvalidation_0-brier-error:0.00865\tvalidation_1-brier-error:0.00900\n",
      "[1522]\tvalidation_0-brier-error:0.00865\tvalidation_1-brier-error:0.00900\n",
      "[1523]\tvalidation_0-brier-error:0.00865\tvalidation_1-brier-error:0.00900\n",
      "[1524]\tvalidation_0-brier-error:0.00865\tvalidation_1-brier-error:0.00900\n",
      "[1525]\tvalidation_0-brier-error:0.00865\tvalidation_1-brier-error:0.00900\n",
      "[1526]\tvalidation_0-brier-error:0.00865\tvalidation_1-brier-error:0.00900\n",
      "[1527]\tvalidation_0-brier-error:0.00865\tvalidation_1-brier-error:0.00900\n",
      "[1528]\tvalidation_0-brier-error:0.00865\tvalidation_1-brier-error:0.00900\n",
      "[1529]\tvalidation_0-brier-error:0.00865\tvalidation_1-brier-error:0.00900\n",
      "[1530]\tvalidation_0-brier-error:0.00865\tvalidation_1-brier-error:0.00900\n",
      "[1531]\tvalidation_0-brier-error:0.00865\tvalidation_1-brier-error:0.00900\n",
      "[1532]\tvalidation_0-brier-error:0.00865\tvalidation_1-brier-error:0.00900\n",
      "[1533]\tvalidation_0-brier-error:0.00865\tvalidation_1-brier-error:0.00900\n",
      "[1534]\tvalidation_0-brier-error:0.00865\tvalidation_1-brier-error:0.00900\n",
      "[1535]\tvalidation_0-brier-error:0.00865\tvalidation_1-brier-error:0.00900\n",
      "[1536]\tvalidation_0-brier-error:0.00865\tvalidation_1-brier-error:0.00900\n",
      "[1537]\tvalidation_0-brier-error:0.00865\tvalidation_1-brier-error:0.00900\n",
      "[1538]\tvalidation_0-brier-error:0.00865\tvalidation_1-brier-error:0.00900\n",
      "[1539]\tvalidation_0-brier-error:0.00865\tvalidation_1-brier-error:0.00900\n",
      "[1540]\tvalidation_0-brier-error:0.00865\tvalidation_1-brier-error:0.00900\n",
      "[1541]\tvalidation_0-brier-error:0.00865\tvalidation_1-brier-error:0.00900\n",
      "[1542]\tvalidation_0-brier-error:0.00864\tvalidation_1-brier-error:0.00900\n",
      "[1543]\tvalidation_0-brier-error:0.00864\tvalidation_1-brier-error:0.00900\n",
      "[1544]\tvalidation_0-brier-error:0.00864\tvalidation_1-brier-error:0.00900\n",
      "[1545]\tvalidation_0-brier-error:0.00864\tvalidation_1-brier-error:0.00900\n",
      "[1546]\tvalidation_0-brier-error:0.00864\tvalidation_1-brier-error:0.00900\n",
      "[1547]\tvalidation_0-brier-error:0.00864\tvalidation_1-brier-error:0.00900\n",
      "[1548]\tvalidation_0-brier-error:0.00864\tvalidation_1-brier-error:0.00900\n",
      "[1549]\tvalidation_0-brier-error:0.00864\tvalidation_1-brier-error:0.00900\n",
      "[1550]\tvalidation_0-brier-error:0.00864\tvalidation_1-brier-error:0.00900\n",
      "[1551]\tvalidation_0-brier-error:0.00864\tvalidation_1-brier-error:0.00900\n",
      "[1552]\tvalidation_0-brier-error:0.00864\tvalidation_1-brier-error:0.00900\n",
      "[1553]\tvalidation_0-brier-error:0.00864\tvalidation_1-brier-error:0.00900\n",
      "[1554]\tvalidation_0-brier-error:0.00864\tvalidation_1-brier-error:0.00900\n",
      "[1555]\tvalidation_0-brier-error:0.00864\tvalidation_1-brier-error:0.00900\n",
      "[1556]\tvalidation_0-brier-error:0.00864\tvalidation_1-brier-error:0.00900\n",
      "[1557]\tvalidation_0-brier-error:0.00864\tvalidation_1-brier-error:0.00900\n",
      "[1558]\tvalidation_0-brier-error:0.00864\tvalidation_1-brier-error:0.00900\n",
      "[1559]\tvalidation_0-brier-error:0.00864\tvalidation_1-brier-error:0.00900\n",
      "[1560]\tvalidation_0-brier-error:0.00864\tvalidation_1-brier-error:0.00900\n",
      "[1561]\tvalidation_0-brier-error:0.00864\tvalidation_1-brier-error:0.00900\n",
      "[1562]\tvalidation_0-brier-error:0.00864\tvalidation_1-brier-error:0.00900\n",
      "[1563]\tvalidation_0-brier-error:0.00864\tvalidation_1-brier-error:0.00900\n",
      "[1564]\tvalidation_0-brier-error:0.00864\tvalidation_1-brier-error:0.00900\n",
      "[1565]\tvalidation_0-brier-error:0.00864\tvalidation_1-brier-error:0.00900\n",
      "[1566]\tvalidation_0-brier-error:0.00864\tvalidation_1-brier-error:0.00900\n",
      "[1567]\tvalidation_0-brier-error:0.00864\tvalidation_1-brier-error:0.00900\n",
      "[1568]\tvalidation_0-brier-error:0.00864\tvalidation_1-brier-error:0.00900\n",
      "[1569]\tvalidation_0-brier-error:0.00864\tvalidation_1-brier-error:0.00900\n",
      "[1570]\tvalidation_0-brier-error:0.00864\tvalidation_1-brier-error:0.00900\n",
      "[1571]\tvalidation_0-brier-error:0.00864\tvalidation_1-brier-error:0.00900\n",
      "[1572]\tvalidation_0-brier-error:0.00864\tvalidation_1-brier-error:0.00900\n",
      "[1573]\tvalidation_0-brier-error:0.00864\tvalidation_1-brier-error:0.00900\n",
      "[1574]\tvalidation_0-brier-error:0.00864\tvalidation_1-brier-error:0.00900\n",
      "[1575]\tvalidation_0-brier-error:0.00864\tvalidation_1-brier-error:0.00900\n",
      "[1576]\tvalidation_0-brier-error:0.00864\tvalidation_1-brier-error:0.00900\n",
      "[1577]\tvalidation_0-brier-error:0.00863\tvalidation_1-brier-error:0.00900\n",
      "[1578]\tvalidation_0-brier-error:0.00863\tvalidation_1-brier-error:0.00900\n",
      "[1579]\tvalidation_0-brier-error:0.00863\tvalidation_1-brier-error:0.00900\n",
      "[1580]\tvalidation_0-brier-error:0.00863\tvalidation_1-brier-error:0.00900\n",
      "[1581]\tvalidation_0-brier-error:0.00863\tvalidation_1-brier-error:0.00900\n",
      "[1582]\tvalidation_0-brier-error:0.00863\tvalidation_1-brier-error:0.00900\n",
      "[1583]\tvalidation_0-brier-error:0.00863\tvalidation_1-brier-error:0.00900\n",
      "[1584]\tvalidation_0-brier-error:0.00863\tvalidation_1-brier-error:0.00900\n",
      "[1585]\tvalidation_0-brier-error:0.00863\tvalidation_1-brier-error:0.00900\n",
      "[1586]\tvalidation_0-brier-error:0.00863\tvalidation_1-brier-error:0.00900\n",
      "[1587]\tvalidation_0-brier-error:0.00863\tvalidation_1-brier-error:0.00900\n",
      "[1588]\tvalidation_0-brier-error:0.00863\tvalidation_1-brier-error:0.00900\n",
      "[1589]\tvalidation_0-brier-error:0.00863\tvalidation_1-brier-error:0.00900\n",
      "[1590]\tvalidation_0-brier-error:0.00863\tvalidation_1-brier-error:0.00900\n",
      "[1591]\tvalidation_0-brier-error:0.00863\tvalidation_1-brier-error:0.00900\n",
      "[1592]\tvalidation_0-brier-error:0.00863\tvalidation_1-brier-error:0.00900\n",
      "[1593]\tvalidation_0-brier-error:0.00863\tvalidation_1-brier-error:0.00900\n",
      "[1594]\tvalidation_0-brier-error:0.00863\tvalidation_1-brier-error:0.00900\n",
      "[1595]\tvalidation_0-brier-error:0.00863\tvalidation_1-brier-error:0.00900\n",
      "[1596]\tvalidation_0-brier-error:0.00863\tvalidation_1-brier-error:0.00900\n",
      "[1597]\tvalidation_0-brier-error:0.00863\tvalidation_1-brier-error:0.00900\n",
      "[1598]\tvalidation_0-brier-error:0.00863\tvalidation_1-brier-error:0.00900\n",
      "[1599]\tvalidation_0-brier-error:0.00863\tvalidation_1-brier-error:0.00900\n",
      "[1600]\tvalidation_0-brier-error:0.00863\tvalidation_1-brier-error:0.00900\n",
      "[1601]\tvalidation_0-brier-error:0.00863\tvalidation_1-brier-error:0.00900\n",
      "[1602]\tvalidation_0-brier-error:0.00863\tvalidation_1-brier-error:0.00900\n",
      "[1603]\tvalidation_0-brier-error:0.00863\tvalidation_1-brier-error:0.00900\n",
      "[1604]\tvalidation_0-brier-error:0.00863\tvalidation_1-brier-error:0.00900\n",
      "[1605]\tvalidation_0-brier-error:0.00863\tvalidation_1-brier-error:0.00900\n",
      "[1606]\tvalidation_0-brier-error:0.00863\tvalidation_1-brier-error:0.00900\n",
      "[1607]\tvalidation_0-brier-error:0.00863\tvalidation_1-brier-error:0.00900\n",
      "[1608]\tvalidation_0-brier-error:0.00863\tvalidation_1-brier-error:0.00900\n",
      "[1609]\tvalidation_0-brier-error:0.00863\tvalidation_1-brier-error:0.00900\n",
      "[1610]\tvalidation_0-brier-error:0.00862\tvalidation_1-brier-error:0.00900\n",
      "[1611]\tvalidation_0-brier-error:0.00862\tvalidation_1-brier-error:0.00900\n",
      "[1612]\tvalidation_0-brier-error:0.00862\tvalidation_1-brier-error:0.00900\n",
      "[1613]\tvalidation_0-brier-error:0.00862\tvalidation_1-brier-error:0.00900\n",
      "[1614]\tvalidation_0-brier-error:0.00862\tvalidation_1-brier-error:0.00900\n",
      "[1615]\tvalidation_0-brier-error:0.00862\tvalidation_1-brier-error:0.00900\n",
      "[1616]\tvalidation_0-brier-error:0.00862\tvalidation_1-brier-error:0.00900\n",
      "[1617]\tvalidation_0-brier-error:0.00862\tvalidation_1-brier-error:0.00900\n",
      "[1618]\tvalidation_0-brier-error:0.00862\tvalidation_1-brier-error:0.00900\n",
      "[1619]\tvalidation_0-brier-error:0.00862\tvalidation_1-brier-error:0.00900\n",
      "[1620]\tvalidation_0-brier-error:0.00862\tvalidation_1-brier-error:0.00900\n",
      "[1621]\tvalidation_0-brier-error:0.00862\tvalidation_1-brier-error:0.00900\n",
      "[1622]\tvalidation_0-brier-error:0.00862\tvalidation_1-brier-error:0.00900\n",
      "[1623]\tvalidation_0-brier-error:0.00862\tvalidation_1-brier-error:0.00900\n",
      "[1624]\tvalidation_0-brier-error:0.00862\tvalidation_1-brier-error:0.00900\n",
      "[1625]\tvalidation_0-brier-error:0.00862\tvalidation_1-brier-error:0.00900\n",
      "[1626]\tvalidation_0-brier-error:0.00862\tvalidation_1-brier-error:0.00900\n",
      "[1627]\tvalidation_0-brier-error:0.00862\tvalidation_1-brier-error:0.00900\n",
      "Stopping. Best iteration:\n",
      "[1527]\tvalidation_0-brier-error:0.00865\tvalidation_1-brier-error:0.00900\n",
      "\n"
     ]
    },
    {
     "data": {
      "text/plain": [
       "XGBClassifier(base_score=0.5, booster=None, colsample_bylevel=1,\n",
       "              colsample_bynode=1, colsample_bytree=0.4,\n",
       "              disable_default_eval_metric=1, gamma=0, gpu_id=-1,\n",
       "              importance_type='gain', interaction_constraints=None,\n",
       "              learning_rate=0.01, max_delta_step=0, max_depth=6,\n",
       "              min_child_weight=6, missing=nan, monotone_constraints=None,\n",
       "              n_estimators=2500, n_jobs=0, num_parallel_tree=1,\n",
       "              obj=<function brier_obj_sklearn at 0x7f18b3860560>,\n",
       "              objective='binary:logistic', random_state=42, reg_alpha=0,\n",
       "              reg_lambda=1, scale_pos_weight=1, seed=42, subsample=1,\n",
       "              tree_method=None, validate_parameters=False, verbosity=1)"
      ]
     },
     "execution_count": 40,
     "metadata": {},
     "output_type": "execute_result"
    }
   ],
   "source": [
    "model_scores_final = XGBClassifier(obj=brier_obj_sklearn,\n",
    "                                   learning_rate=0.01, n_estimators=2500, max_depth=6, min_child_weight=6,\n",
    "                                   gamma=0, reg_lambda=1, reg_alpha=0, subsample=1, colsample_bytree=0.4,\n",
    "                                   scale_pos_weight=1, verbosity=1, seed=42, disable_default_eval_metric=1)\n",
    "model_scores_final.fit(X_train, Y_train['scores'],\n",
    "                       eval_metric=brier_score_sklearn,\n",
    "                       eval_set=[(X_train, Y_train['scores']), (X_test, Y_test['scores'])],\n",
    "                       verbose=True,\n",
    "                       early_stopping_rounds=100)"
   ]
  },
  {
   "cell_type": "code",
   "execution_count": 41,
   "metadata": {},
   "outputs": [
    {
     "name": "stdout",
     "output_type": "stream",
     "text": [
      "  Brier score: 0.009001\n",
      "  ROC AUC: 0.8266\n"
     ]
    }
   ],
   "source": [
    "Y_pred['scores'] = model_scores_final.predict_proba(X_test)[:, 1]\n",
    "print(f\"  Brier score: %.6f\" % brier_score_loss(Y_test['scores'], Y_pred['scores']))\n",
    "print(f\"  ROC AUC: %.4f\" % roc_auc_score(Y_test['scores'], Y_pred['scores']))"
   ]
  },
  {
   "cell_type": "code",
   "execution_count": 44,
   "metadata": {},
   "outputs": [
    {
     "name": "stderr",
     "output_type": "stream",
     "text": [
      "/home/kuba/anaconda3/envs/the-value-of-line-breaking-pass/lib/python3.7/site-packages/ipykernel_launcher.py:8: UserWarning: Matplotlib is currently using module://ipykernel.pylab.backend_inline, which is a non-GUI backend, so cannot show the figure.\n",
      "  \n"
     ]
    },
    {
     "data": {
      "image/png": "[encoded data removed]",
      "text/plain": [
       "<Figure size 432x288 with 1 Axes>"
      ]
     },
     "metadata": {
      "needs_background": "light"
     },
     "output_type": "display_data"
    }
   ],
   "source": [
    "results = model_scores_final.evals_result()\n",
    "epochs = len(results['validation_0']['brier-error'])\n",
    "fig, ax = plt.subplots()\n",
    "ax.plot(range(0, epochs), results['validation_0']['brier-error'], label='Train score')\n",
    "ax.plot(range(0, epochs), results['validation_1']['brier-error'], label='Test score')\n",
    "ax.set_ylim(0.0075, 0.0125)\n",
    "ax.legend()\n",
    "fig.show()"
   ]
  },
  {
   "cell_type": "code",
   "execution_count": 50,
   "metadata": {},
   "outputs": [],
   "source": [
    "pickle.dump(model_scores_final, open('model_scores.pkl', 'wb'))"
   ]
  }
 ],
 "metadata": {
  "kernelspec": {
   "display_name": "Python 3",
   "language": "python",
   "name": "python3"
  },
  "language_info": {
   "codemirror_mode": {
    "name": "ipython",
    "version": 3
   },
   "file_extension": ".py",
   "mimetype": "text/x-python",
   "name": "python",
   "nbconvert_exporter": "python",
   "pygments_lexer": "ipython3",
   "version": "3.8.3"
  }
 },
 "nbformat": 4,
 "nbformat_minor": 4
}
